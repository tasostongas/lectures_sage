{
 "cells": [
  {
   "cell_type": "markdown",
   "metadata": {
    "deletable": true,
    "editable": true
   },
   "source": [
    "#  Λογισμός συναρτήσεων"
   ]
  },
  {
   "cell_type": "markdown",
   "metadata": {
    "deletable": true,
    "editable": true
   },
   "source": [
    "## Ορισμός μαθηματικών συναρτήσεων στο Sage"
   ]
  },
  {
   "cell_type": "markdown",
   "metadata": {
    "deletable": true,
    "editable": true
   },
   "source": [
    "    \n",
    "Στην Python μια συνάρτηση ορίζεται με την εντολή `def`. Χρησιμοποιώντας τον ορισμό αυτό μπορούμε να υπολογίζουμε τις τιμές της συνάρτησης σε διάφορα σημεία, καθώς επίσης και να σχεδιάζουμε την γραφική της παράσταση. Με την βοήθεια του Sage μπορούμε επιπλέον να παραγωγίσουμε, να ολοκληρώσουμε, να βρούμε όρια της συνάρτησης, να αναπτύξουμε την συνάρτηση σε σειρά Taylor γύρω από ένα σημείο, και γενικότερα να εφαρμόσουμε ένα πλήθος από μαθηματικές έννοιες για την μελέτη της, καθαρά **συμβολικά!** \n",
    "\n",
    "Επίσης, το Sage μας παρέχει έναν πιο άμεσο τρόπο ορισμού μιας συνάρτησης\n",
    " "
   ]
  },
  {
   "cell_type": "code",
   "execution_count": 1,
   "metadata": {
    "collapsed": false,
    "deletable": true,
    "editable": true
   },
   "outputs": [
    {
     "name": "stdout",
     "output_type": "stream",
     "text": [
      "(x, y) |--> cos(x - y) + sin(x + y) <type 'sage.symbolic.expression.Expression'>\n"
     ]
    }
   ],
   "source": [
    "f(x,y) = sin(x+y) + cos(x-y)\n",
    "print f, type(f)"
   ]
  },
  {
   "cell_type": "markdown",
   "metadata": {
    "deletable": true,
    "editable": true
   },
   "source": [
    "    \n",
    "Παρατηρήστε τον τρόπο που το Sage εμφανίζει την συνάρτηση, καθώς και ότι η συνάρτηση $f(x,y)$  είναι κι αυτή μια συμβολική έκφραση. Ας υπολογίσουμε μια τιμή της συνάρτησης με το Sage, κι ας ζητήσουμε μετά το αόριστο ολοκλήρωμά της\n",
    "ως προς $x$.\n",
    " "
   ]
  },
  {
   "cell_type": "code",
   "execution_count": 2,
   "metadata": {
    "collapsed": false,
    "deletable": true,
    "editable": true
   },
   "outputs": [
    {
     "name": "stdout",
     "output_type": "stream",
     "text": [
      "0\n",
      "(x, y) |--> -cos(x + y) - sin(-x + y)\n"
     ]
    }
   ],
   "source": [
    "print f(3*pi/4,pi)\n",
    "sage: print f.integrate(x)"
   ]
  },
  {
   "cell_type": "markdown",
   "metadata": {
    "deletable": true,
    "editable": true
   },
   "source": [
    "    \n",
    "Παρατηρούμε ότι το αποτέλεσμα της ολοκλήρωσης της $f(x,y)$ ως προς την μεταβλητή $x$, εμφανίζεται και πάλι με την μορφή μιας συνάρτησης.  <br>\n",
    "Ας δούμε κάποιες διαφορές μεταξύ του `Sage` και της `Python`, όσον αφορά στον ορισμό συναρτήσεων\n",
    " "
   ]
  },
  {
   "cell_type": "code",
   "execution_count": 3,
   "metadata": {
    "collapsed": false,
    "deletable": true,
    "editable": true
   },
   "outputs": [
    {
     "name": "stdout",
     "output_type": "stream",
     "text": [
      "<function g at 0x7f231f2656e0> <type 'function'>\n"
     ]
    }
   ],
   "source": [
    "def g(x,y):\n",
    "    return sin(x+y) + cos(x-y)\n",
    "print g, type(g)"
   ]
  },
  {
   "cell_type": "markdown",
   "metadata": {
    "deletable": true,
    "editable": true
   },
   "source": [
    "    \n",
    "Όμως δεν μπορούμε να ολοκληρώσουμε την g(x,y) γιατί όπως μας πληροφορεί το Sage, τo αντικείμενο `function` δεν έχει την ιδιότητα `integrate`\n",
    " "
   ]
  },
  {
   "cell_type": "code",
   "execution_count": 4,
   "metadata": {
    "collapsed": false,
    "deletable": true,
    "editable": true
   },
   "outputs": [
    {
     "ename": "AttributeError",
     "evalue": "'function' object has no attribute 'integrate'",
     "output_type": "error",
     "traceback": [
      "\u001b[0;31m---------------------------------------------------------------------------\u001b[0m",
      "\u001b[0;31mAttributeError\u001b[0m                            Traceback (most recent call last)",
      "\u001b[0;32m<ipython-input-4-55863eb54981>\u001b[0m in \u001b[0;36m<module>\u001b[0;34m()\u001b[0m\n\u001b[0;32m----> 1\u001b[0;31m \u001b[0mg\u001b[0m\u001b[0;34m.\u001b[0m\u001b[0mintegrate\u001b[0m\u001b[0;34m(\u001b[0m\u001b[0mx\u001b[0m\u001b[0;34m)\u001b[0m\u001b[0;34m\u001b[0m\u001b[0m\n\u001b[0m",
      "\u001b[0;31mAttributeError\u001b[0m: 'function' object has no attribute 'integrate'"
     ]
    }
   ],
   "source": [
    "g.integrate(x)"
   ]
  },
  {
   "cell_type": "markdown",
   "metadata": {
    "deletable": true,
    "editable": true
   },
   "source": [
    "    \n",
    "Επειδή όμως στο Sage έχουμε την δυνατότητα να ορίζουμε συναρτήσεις, και το Sage βλέπει τα πάντα συμβολικά, μπορούμε να θέσουμε την τιμή της g σε μια συμβολική μεταβλητή e\n",
    " "
   ]
  },
  {
   "cell_type": "code",
   "execution_count": 5,
   "metadata": {
    "collapsed": false,
    "deletable": true,
    "editable": true
   },
   "outputs": [
    {
     "name": "stdout",
     "output_type": "stream",
     "text": [
      "cos(x - y) + sin(x + y) <type 'sage.symbolic.expression.Expression'>\n"
     ]
    }
   ],
   "source": [
    "e = g(x,y)\n",
    "print e, type(e)"
   ]
  },
  {
   "cell_type": "markdown",
   "metadata": {
    "deletable": true,
    "editable": true
   },
   "source": [
    "    \n",
    "Τώρα μπορούμε να μετατρέψουμε την συμβολική μεταβλητή e σε μια συνάρτηση, ας την πούμε h(x,y)\n",
    " "
   ]
  },
  {
   "cell_type": "code",
   "execution_count": 6,
   "metadata": {
    "collapsed": false,
    "deletable": true,
    "editable": true
   },
   "outputs": [
    {
     "name": "stdout",
     "output_type": "stream",
     "text": [
      "(x, y) |--> cos(x - y) + sin(x + y) <type 'sage.symbolic.expression.Expression'>\n",
      "(x, y) |--> -cos(x + y) - sin(-x + y)\n"
     ]
    }
   ],
   "source": [
    "h(x,y) = e\n",
    "print h, type(h)\n",
    "print h.integrate(x)"
   ]
  },
  {
   "cell_type": "markdown",
   "metadata": {
    "deletable": true,
    "editable": true
   },
   "source": [
    "    \n",
    "απ' όπου παρατηρούμε ότι η h(x,y) είναι ορισμένη ως **συμβολική** έκφραση, και συνεπώς μπορούμε να την ολοκληρώσουμε.\n",
    " "
   ]
  },
  {
   "cell_type": "markdown",
   "metadata": {
    "deletable": true,
    "editable": true
   },
   "source": [
    "## Αλματικές συναρτήσεις"
   ]
  },
  {
   "cell_type": "markdown",
   "metadata": {
    "deletable": true,
    "editable": true
   },
   "source": [
    "    \n",
    "Η απλούστερη τμηματικά ασυνεχής συνάρτηση είναι η αλματική, δηλαδή η συνάρτηση εκείνη που η τιμή της αλλάζει από 0 σε 1, στο σημείο $x=0$. Ισοδύναμα λέμε ότι παρουσιάζει ένα άλμα ύψους μονάδας στο σημείο $x=0$. Υπάρχει άραγε η συνάρτηση αυτή στο Sage;\n",
    " "
   ]
  },
  {
   "cell_type": "code",
   "execution_count": 7,
   "metadata": {
    "collapsed": false,
    "deletable": true,
    "editable": true
   },
   "outputs": [
    {
     "name": "stdout",
     "output_type": "stream",
     "text": [
      "unit_step <class 'sage.functions.generalized.FunctionUnitStep'>\n",
      "at -3 : 0\n",
      "at 4 : 1\n"
     ]
    }
   ],
   "source": [
    "print unit_step, type(unit_step)\n",
    "print 'at -3 :', unit_step(-3)\n",
    "print 'at 4 :', unit_step(4)"
   ]
  },
  {
   "cell_type": "markdown",
   "metadata": {
    "deletable": true,
    "editable": true
   },
   "source": [
    "    \n",
    "Η συνάρτηση `unit_step()` είναι ορισμένη στο Sage στην κλάση \n",
    "`sage.functions.generalized.FunctionUnitStep`.\n",
    "\n",
    "Μπορούμε να δούμε τη βοήθεια που μας προσφέρει το Sage για την συνάρτηση αυτή με την εντολή\n",
    " "
   ]
  },
  {
   "cell_type": "code",
   "execution_count": 8,
   "metadata": {
    "collapsed": false,
    "deletable": true,
    "editable": true
   },
   "outputs": [
    {
     "name": "stdout",
     "output_type": "stream",
     "text": [
      "\n",
      "    The unit step function, `\\mathrm{u}(x)` (``unit_step(x)``).\n",
      "\n",
      "    INPUT:\n",
      "\n",
      "    -  ``x`` - a real number or a symbolic expression\n",
      "\n",
      "    DEFINITION:\n",
      "\n",
      "    The unit step function, `\\mathrm{u}(x)` is defined in Sage as:\n",
      "\n",
      "        `\\mathrm{u}(x) = 0` for `x < 0` and `\\mathrm{u}(x) = 1` for `x \\geq 0`\n",
      "\n",
      "    EXAMPLES::\n",
      "\n",
      "        sage: unit_step(-1)\n",
      "        0\n",
      "        sage: unit_step(1)\n",
      "        1\n",
      "        sage: unit_step(0)\n",
      "        1\n",
      "        sage: unit_step(x)\n",
      "        unit_step(x)\n",
      "    \n"
     ]
    }
   ],
   "source": [
    "print sage.functions.generalized.FunctionUnitStep.__doc__"
   ]
  },
  {
   "cell_type": "markdown",
   "metadata": {
    "deletable": true,
    "editable": true
   },
   "source": [
    "    \n",
    "Συνεπώς η συνάρτηση `unit_step()` στο Sage ορίζεται ως εξής \n",
    "\n",
    "   $\\begin{aligned} \\mathrm{u}(x) = \\left\\lbrace \\begin{array}{cc} 1\\,, & x \\geq 0 \\,, \\\\ 0\\,  &  x < 0\\,. \\end{array} \\right. \\end{aligned}$\n",
    " "
   ]
  },
  {
   "cell_type": "code",
   "execution_count": 9,
   "metadata": {
    "collapsed": false,
    "deletable": true,
    "editable": true
   },
   "outputs": [
    {
     "data": {
      "image/png": "[encoded data removed]",
      "text/plain": [
       "Graphics object consisting of 2 graphics primitives"
      ]
     },
     "metadata": {},
     "output_type": "display_data"
    }
   ],
   "source": [
    "p = plot(unit_step, -1, 1, exclude=[0],thickness=2)\n",
    "p.show(figsize=3)"
   ]
  },
  {
   "cell_type": "markdown",
   "metadata": {
    "deletable": true,
    "editable": true
   },
   "source": [
    "    \n",
    "Το αξιοσημείωτο είναι ότι το Sage αναγνωρίζει την αλματική συνάρτηση στην κλάση των γενικευμένων συναρτήσεων (ή αλλιώς κατανομών), οι οποίες με μια γενικευμένη έννοια, έχουν παραγώγους οποιασδήποτε τάξης! Για παράδειγμα, η πρώτη παράγωγος της \"συνάρτησης\" `unit_step()`, ή αλλιώς της κατανομής Heaviside(), είναι η κατανομή $\\delta$ του Dirac. \n",
    " "
   ]
  },
  {
   "cell_type": "code",
   "execution_count": 10,
   "metadata": {
    "collapsed": false,
    "deletable": true,
    "editable": true
   },
   "outputs": [
    {
     "name": "stdout",
     "output_type": "stream",
     "text": [
      "dirac_delta(x)\n"
     ]
    }
   ],
   "source": [
    "dudx = diff(unit_step(x),x) ; print dudx"
   ]
  },
  {
   "cell_type": "code",
   "execution_count": 11,
   "metadata": {
    "collapsed": false,
    "deletable": true,
    "editable": true
   },
   "outputs": [
    {
     "name": "stdout",
     "output_type": "stream",
     "text": [
      "<class 'sage.functions.generalized.FunctionDiracDelta'>\n"
     ]
    }
   ],
   "source": [
    "print type(dirac_delta)"
   ]
  },
  {
   "cell_type": "markdown",
   "metadata": {
    "deletable": true,
    "editable": true
   },
   "source": [
    "    \n",
    "Η \"συνάρτηση\" $\\delta$ του Dirac, στο Sage ανήκει κι αυτή στην κλάση `sage.functions.generalized.FunctionUnitStep`. Η βοήθεια που μας προσφέρει το Sage για την `dirac_delta()` είναι\n",
    " "
   ]
  },
  {
   "cell_type": "code",
   "execution_count": 12,
   "metadata": {
    "collapsed": false,
    "deletable": true,
    "editable": true
   },
   "outputs": [
    {
     "name": "stdout",
     "output_type": "stream",
     "text": [
      "\n",
      "    The Dirac delta (generalized) function, `\\delta(x)` (``dirac_delta(x)``).\n",
      "\n",
      "    INPUT:\n",
      "\n",
      "    -  ``x`` - a real number or a symbolic expression\n",
      "\n",
      "    DEFINITION:\n",
      "\n",
      "    Dirac delta function `\\delta(x)`, is defined in Sage as:\n",
      "\n",
      "        `\\delta(x) = 0` for real `x \\ne 0` and\n",
      "        `\\int_{-\\infty}^{\\infty} \\delta(x) dx = 1`\n",
      "\n",
      "    Its alternate definition with respect to an arbitrary test\n",
      "    function `f(x)` is\n",
      "\n",
      "        `\\int_{-\\infty}^{\\infty} f(x) \\delta(x-a) dx = f(a)`\n",
      "\n",
      "    EXAMPLES::\n",
      "\n",
      "        sage: dirac_delta(1)\n",
      "        0\n",
      "        sage: dirac_delta(0)\n",
      "        dirac_delta(0)\n",
      "        sage: dirac_delta(x)\n",
      "        dirac_delta(x)\n",
      "        sage: integrate(dirac_delta(x), x, -1, 1, algorithm='sympy')\n",
      "        1\n",
      "\n",
      "    REFERENCES:\n",
      "\n",
      "    -  http://en.wikipedia.org/wiki/Dirac_delta_function\n",
      "\n",
      "    \n"
     ]
    }
   ],
   "source": [
    "print sage.functions.generalized.FunctionDiracDelta.__doc__"
   ]
  },
  {
   "cell_type": "markdown",
   "metadata": {
    "deletable": true,
    "editable": true
   },
   "source": [
    "    \n",
    "Από μαθηματική σκοπιά, και οι δυο \"ορισμοί\" της \"συνάρτησης\" $\\delta$ του Dirac, στο Sage, είναι τουλάχιστον τραγικοί. \n",
    "\n",
    "Ο πρώτος λέει ότι η `dirac_delta(x)` είναι παντού μηδέν στο $\\mathbb{R}$ εκτός από το σημείο x=0, και έχει ολοκλήρωμα στο $\\mathbb{R}$ ίσο με ένα! Πράγμα αδύνατον, αφού σύμφωνα με τα βασικά στοιχεία ολοκλήρωσης κατά Riemann (ή ακόμα και κατά Lebesgue), δυο συναρτήσεις που είναι ταυτόσημες παντού εκτός από ένα πεπερασμένο πλήθος σημείων, έχουν ακριβώς το ίδιο  ολοκλήρωμα! Οπότε το ολοκλήρωμά της είναι μηδέν κι όχι 1. \n",
    "\n",
    "Ο δεύτερος εναλλακτικός ορισμός πάει λίγο πιο βαθιά και μιλά για ελεγκτικές συναρτήσεις (test functions). Όμως, ο προγραμματιστής του Sage που υλοποίησε την διαβολική \"συνάρτηση\" $\\delta$, θα όφειλε να γνωρίζει ότι ούτε αυτό ισχύει, ακόμα με την έννοια των γενικευμένων συναρτήσεων, αφού η \"συνάρτηση\" $\\delta$ του Dirac δεν μπορεί να παραχθεί από καμία τοπικά ολοκληρώσιμη συνάρτηση. Η αναφορά ιδίως στην wikipedia με αφήνει άφωνο!\n",
    " "
   ]
  },
  {
   "cell_type": "markdown",
   "metadata": {
    "deletable": true,
    "editable": true
   },
   "source": [
    "    \n",
    "Από την εμπειρία μου σε διάφορα ΣΣΥ που έχω χρησιμοποιήσει κατά καιρούς, η υλοποίηση των γενικευμένων συναρτήσεων **είναι αρκετά προβληματική**. Δεν αποκλείεται όμως στο άμεσο μέλλον να κατασκευασθούν αλγόριθμοι που να τις χειρίζονται σωστά από μαθηματική άποψη. Αρκεί να βρεθεί ένας προγραμματιστής που να γνωρίζει πέρα από προγραμματισμό και στοιχειώδη συναρτησιακή ανάλυση. \n",
    " "
   ]
  },
  {
   "cell_type": "markdown",
   "metadata": {
    "deletable": true,
    "editable": true
   },
   "source": [
    "<div class=\"alert alert-info\">\n",
    "\n",
    "**Σημείωση:**\n",
    "\n",
    "Για να μην τρίζουν τα κόκκαλα του Laurent Schwartz, του μαθηματικού που έθεσε το σωστό μαθηματικό πλαίσιο για τις γενικευμένες συναρτήσεις, στο μάθημα θα χρησιμοποιούμε από τις \"γενικευμένες συναρτήσεις\" του Sage, **μόνο** την αλματική συνάρτηση `unit_step()`, για πολύ συγκεκριμένους σκοπούς. Για παράδειγμα, για να κατασκευάσουμε πιο σύνθετες ασυνεχείς συναρτήσεις.\n",
    "\n",
    "</div>"
   ]
  },
  {
   "cell_type": "markdown",
   "metadata": {
    "deletable": true,
    "editable": true
   },
   "source": [
    "    \n",
    "Επιπλέον, με κατάλληλες προσαρμογές στο όρισμά της, η συνάρτηση `unit_step()` μπορεί να λειτουργήσει σαν φίλτρο, έτσι ώστε αν μια συνθήκη $Α$ ικανοποιείται ($x\\geq 1$) να  πάρουμε την τιμή 1, κι αν δεν ικανοποιείται ($x< 0$), να πάρουμε την τιμή 0.\n",
    " "
   ]
  },
  {
   "cell_type": "markdown",
   "metadata": {
    "deletable": true,
    "editable": true
   },
   "source": [
    "    \n",
    "Για παράδειγμα, με την βοήθεια της `unit_step()` μπορούμε να φτιάξουμε μια νέα συνάρτηση που έχει τρία σκαλοπάτια \n",
    "\n",
    "$\\begin{aligned} \\mathrm{f}(x) = \\left\\lbrace \\begin{array}{cc} 1\\,, & x \\leq 0 \\,, \\\\ \\frac{1}{3} \\,, & 0 < x \\leq 1\\,, \\\\\n",
    " \\frac{2}{3}\\,,  &  1 \\leq x < 2 \\,,\\\\ 1 \\,,  &  x>2 \\,. \\end{array} \\right. \\end{aligned}$\n",
    " "
   ]
  },
  {
   "cell_type": "code",
   "execution_count": 13,
   "metadata": {
    "collapsed": false,
    "deletable": true,
    "editable": true
   },
   "outputs": [
    {
     "data": {
      "image/png": "[encoded data removed]",
      "text/plain": [
       "Graphics object consisting of 4 graphics primitives"
      ]
     },
     "metadata": {},
     "output_type": "display_data"
    }
   ],
   "source": [
    "f(x) = unit_step(x)/3 + unit_step(x-1)/3 + unit_step(x-2)/3\n",
    "pp = plot(f(x),(x,-1,3),exclude=[0,1,2],thickness=2); pp.show(figsize=3)"
   ]
  },
  {
   "cell_type": "markdown",
   "metadata": {
    "deletable": true,
    "editable": true
   },
   "source": [
    "    \n",
    "Επιπλέον, χρησιμοποιώντας την διαφορά unit_step(x-a) - unit_step(x-b) δυο βηματικών συναρτήσεων\n",
    " "
   ]
  },
  {
   "cell_type": "code",
   "execution_count": 14,
   "metadata": {
    "collapsed": false,
    "deletable": true,
    "editable": true
   },
   "outputs": [
    {
     "data": {
      "image/png": "[encoded data removed]",
      "text/plain": [
       "Graphics object consisting of 3 graphics primitives"
      ]
     },
     "metadata": {},
     "output_type": "display_data"
    }
   ],
   "source": [
    "stepsub = plot( unit_step(x+2) - unit_step(x-1), (x,-4,3), exclude=[-2,1],thickness=2); \n",
    "stepsub.show(figsize=3)"
   ]
  },
  {
   "cell_type": "markdown",
   "metadata": {
    "deletable": true,
    "editable": true
   },
   "source": [
    "    \n",
    "για διάφορες τιμές των a, b, μπορούμε να φτιάξουμε (γιατί;) την τμηματικά συνεχή συνάρτηση \n",
    "\n",
    "$\\begin{aligned} \\mathrm{g}(x) = \\left\\lbrace \\begin{array}{cc} 0\\,, & x < -2 \\,, \\\\ x^2 \\,, & -2 \\leq x < 1\\,, \\\\\n",
    " x-1\\,,  &  1 \\leq x < 2 \\,, \\\\ 3-x\\,, & 2 \\leq x < 3  \\,,  \\\\ 0\\,, &  x \\geq 3\\,. \\end{array} \\right. \\end{aligned}$\n",
    " "
   ]
  },
  {
   "cell_type": "code",
   "execution_count": 15,
   "metadata": {
    "collapsed": false,
    "deletable": true,
    "editable": true
   },
   "outputs": [
    {
     "data": {
      "image/png": "[encoded data removed]",
      "text/plain": [
       "Graphics object consisting of 3 graphics primitives"
      ]
     },
     "metadata": {},
     "output_type": "display_data"
    }
   ],
   "source": [
    "g(x) = x^2*( unit_step(x+2) - unit_step(x-1) ) + \\\n",
    "     (x-1)*( unit_step(x-1) - unit_step(x-2) ) + \\\n",
    "     (3-x)*( unit_step(x-2) - unit_step(x-3) )\n",
    "ppp = plot(g(x),(x,-4,5), exclude=[-2,1],thickness=2); ppp.show(figsize=4)"
   ]
  },
  {
   "cell_type": "markdown",
   "metadata": {
    "deletable": true,
    "editable": true
   },
   "source": [
    "## Δουλεύοντας με συναρτήσεις"
   ]
  },
  {
   "cell_type": "markdown",
   "metadata": {
    "collapsed": true,
    "deletable": true,
    "editable": true
   },
   "source": [
    "###  Περιεκτικές λίστες"
   ]
  },
  {
   "cell_type": "markdown",
   "metadata": {
    "collapsed": false,
    "deletable": true,
    "editable": true
   },
   "source": [
    "Οι περιεκτικές λίστες στην `Python`  είναι εκφράσεις της μορφής `[ f(x) for x in L ]`\n",
    "όπου L είναι μια λίστα και f(x) μια συνάρτηση. Το αποτέλεσμα είναι μια νέα λίστα που περιέχει όλες τις τιμές της συνάρτησης f(x) στα αντίστοιχα x που ανήκουν στην λίστα L. Στο Sage μπορούμε να χρησιμοποιήσουμε τις περιεκτικές λίστες για να κατασκευάσουμε συμβολικές εκφράσεις αυθαίρετου μεγάλου μήκους και σχήματος. Για παράδειγμα, μπορούμε να κατασκευάσουμε μια ακολουθία 20 συμβολικών μεταβλητών x01, x02, ... , x20. "
   ]
  },
  {
   "cell_type": "code",
   "execution_count": 16,
   "metadata": {
    "collapsed": false,
    "deletable": true,
    "editable": true
   },
   "outputs": [
    {
     "name": "stdout",
     "output_type": "stream",
     "text": [
      "[x01, x02, x03, x04, x05, x06, x07, x08, x09, x10, x11, x12, x13, x14, x15, x16, x17, x18, x19, x20]\n",
      "<type 'sage.symbolic.expression.Expression'>\n"
     ]
    }
   ],
   "source": [
    "v = [var('x' + '%02d' % k) for k in range(1,21)]\n",
    "print v; print type(x13)"
   ]
  },
  {
   "cell_type": "markdown",
   "metadata": {
    "collapsed": true,
    "deletable": true,
    "editable": true
   },
   "source": [
    "    \n",
    "Τώρα υψώνουμε στον κύβο όλες τις συμβολικές μεταβλητές της παραπάνω λίστας\n",
    " "
   ]
  },
  {
   "cell_type": "code",
   "execution_count": 17,
   "metadata": {
    "collapsed": false,
    "deletable": true,
    "editable": true
   },
   "outputs": [
    {
     "name": "stdout",
     "output_type": "stream",
     "text": [
      "[x01^3, x02^3, x03^3, x04^3, x05^3, x06^3, x07^3, x08^3, x09^3, x10^3, x11^3, x12^3, x13^3, x14^3, x15^3, x16^3, x17^3, x18^3, x19^3, x20^3]\n"
     ]
    }
   ],
   "source": [
    "C = [x^3 for x in v]\n",
    "print C "
   ]
  },
  {
   "cell_type": "markdown",
   "metadata": {
    "deletable": true,
    "editable": true
   },
   "source": [
    "    \n",
    "Για να κατασκευάσουμε μια  συμβολική έκφραση ας προσθέσουμε όλους τους όρους της τελευταίας λίστας\n",
    " "
   ]
  },
  {
   "cell_type": "code",
   "execution_count": 18,
   "metadata": {
    "collapsed": false,
    "deletable": true,
    "editable": true
   },
   "outputs": [
    {
     "name": "stdout",
     "output_type": "stream",
     "text": [
      "x01^3 + x02^3 + x03^3 + x04^3 + x05^3 + x06^3 + x07^3 + x08^3 + x09^3 + x10^3 + x11^3 + x12^3 + x13^3 + x14^3 + x15^3 + x16^3 + x17^3 + x18^3 + x19^3 + x20^3\n",
      "<type 'sage.symbolic.expression.Expression'>\n"
     ]
    }
   ],
   "source": [
    "e = sum(C)\n",
    "print e; print type(e)"
   ]
  },
  {
   "cell_type": "markdown",
   "metadata": {
    "deletable": true,
    "editable": true
   },
   "source": [
    "    \n",
    "Για να επιστρέψουμε στην αναπαράσταση της τελευταίας συμβολικής έκφρασης με λίστα μπορούμε να χρησιμοποιήσουμε τη εντολή `operands()`\n",
    " "
   ]
  },
  {
   "cell_type": "code",
   "execution_count": 19,
   "metadata": {
    "collapsed": false,
    "deletable": true,
    "editable": true
   },
   "outputs": [
    {
     "name": "stdout",
     "output_type": "stream",
     "text": [
      "[x01^3, x02^3, x03^3, x04^3, x05^3, x06^3, x07^3, x08^3, x09^3, x10^3, x11^3, x12^3, x13^3, x14^3, x15^3, x16^3, x17^3, x18^3, x19^3, x20^3]\n",
      "<type 'list'>\n"
     ]
    }
   ],
   "source": [
    "ope = e.operands()\n",
    "print ope; print type(ope)"
   ]
  },
  {
   "cell_type": "markdown",
   "metadata": {
    "deletable": true,
    "editable": true
   },
   "source": [
    "    \n",
    "Ας υποθέσουμε ότι θέλουμε να υψώσουμε στην k-οστή δύναμη την k μεταβλητή στην λίστα με το όνομα, για παράδειγμα, ope. Αυτό επιτυγχάνεται ως εξής\n",
    " "
   ]
  },
  {
   "cell_type": "code",
   "execution_count": 20,
   "metadata": {
    "collapsed": false,
    "deletable": true,
    "editable": true
   },
   "outputs": [
    {
     "name": "stdout",
     "output_type": "stream",
     "text": [
      "[1, x02^3, x03^6, x04^9, x05^12, x06^15, x07^18, x08^21, x09^24, x10^27, x11^30, x12^33, x13^36, x14^39, x15^42, x16^45, x17^48, x18^51, x19^54, x20^57]\n"
     ]
    }
   ],
   "source": [
    "r = [ope[k]^k for k in range(len(ope))]\n",
    "print r"
   ]
  },
  {
   "cell_type": "markdown",
   "metadata": {
    "deletable": true,
    "editable": true
   },
   "source": [
    "    \n",
    "Παρατηρούμε ότι ο καθένας από τους παραπάνω όρους είναι συμβολική έκφραση\n",
    " "
   ]
  },
  {
   "cell_type": "code",
   "execution_count": 21,
   "metadata": {
    "collapsed": false,
    "deletable": true,
    "editable": true
   },
   "outputs": [
    {
     "name": "stdout",
     "output_type": "stream",
     "text": [
      "x16^45\n",
      "<type 'sage.symbolic.expression.Expression'>\n",
      "45\n"
     ]
    }
   ],
   "source": [
    "print r[15] ; print type(r[15])\n",
    "print r[15].degree(x16)"
   ]
  },
  {
   "cell_type": "markdown",
   "metadata": {
    "deletable": true,
    "editable": true
   },
   "source": [
    "    \n",
    "οπότε με την κατάλληλη επιλογή της μεταβλητής στο όρισμα της εντολής `degree()` λαμβάνουμε την δύναμη 45 για την μεταβλητή x16. Με παρόμοιο τρόπο μπορούμε να πάρουμε  τις δυνάμεις όλων των μεταβλητών στην λίστα\n",
    " "
   ]
  },
  {
   "cell_type": "code",
   "execution_count": 22,
   "metadata": {
    "collapsed": false,
    "deletable": true,
    "editable": true
   },
   "outputs": [
    {
     "name": "stdout",
     "output_type": "stream",
     "text": [
      "[0, 3, 6, 9, 12, 15, 18, 21, 24, 27, 30, 33, 36, 39, 42, 45, 48, 51, 54, 57]\n"
     ]
    }
   ],
   "source": [
    "print [(r[k]).degree(v[k]) for k in range(len(ope))]"
   ]
  },
  {
   "cell_type": "markdown",
   "metadata": {
    "deletable": true,
    "editable": true
   },
   "source": [
    "    \n",
    "Ας υποθέσουμε ότι θέλουμε να επιλέξουμε από την λίστα εκείνους τους όρους οι οποίοι έχουν δύναμη μικρότερη από 13. Αυτό μπορεί να υπολοιηθεί με την αλματική συνάρτηση `unit_step()` ως εξής:\n",
    " "
   ]
  },
  {
   "cell_type": "code",
   "execution_count": 23,
   "metadata": {
    "collapsed": false,
    "deletable": true,
    "editable": true
   },
   "outputs": [
    {
     "name": "stdout",
     "output_type": "stream",
     "text": [
      "x03^6 : 1\n",
      "x09^24 : 0\n"
     ]
    }
   ],
   "source": [
    "print r[2], ':', unit_step(13 - r[2].degree(v[2]))\n",
    "print r[8], ':', unit_step(13 - r[8].degree(v[8]))"
   ]
  },
  {
   "cell_type": "markdown",
   "metadata": {
    "deletable": true,
    "editable": true
   },
   "source": [
    "    \n",
    "Το αποτέλεσμα μας πληροφορεί ότι η μεταβλητή x03 έχει δύναμη μικρότερη από 13, αφού η συνάρτηση `unit_step()` (με το κατάλληλο όρισμα)  μας επέστρεψε 1, ενώ η x09 δεν έχει, αφού η `unit_step()` μας έδωσε 0. Με αυτόν τον τρόπο μπορούμε να περάσουμε από ένα φίλτρο όλους τους όρους με δύναμη μεγαλύτερη από 13. \n",
    " "
   ]
  },
  {
   "cell_type": "markdown",
   "metadata": {
    "deletable": true,
    "editable": true
   },
   "source": [
    "    \n",
    "Ορίζουμε με τον τελεστή `lambda` της `Python` μια συνάρτηση που την ονομάζουμε π.χ. filter, και η οποία έχει δυο ορίσματα, το x και το k, και μας δίνει ως αποτέλεσμα το x πολλαπλασιασμένο με την τιμή 0 ή 1, ανάλογα αν η δύναμη της μεταβλητής x είναι μεγαλύτερη του 13 ή όχι, αντίστοιχα. Έπειτα, εφαρμόζουμε την συνάρτηση filter στην λίστα που μας ενδιαφέρει, όπου ο δείκτης k διατρέχει τα στοιχεία της λίστας r[k], και  τέλος καταχωρούμε το αποτέλεσμα σε μια νέα λίστα s.\n",
    " "
   ]
  },
  {
   "cell_type": "code",
   "execution_count": 24,
   "metadata": {
    "collapsed": false,
    "deletable": true,
    "editable": true
   },
   "outputs": [
    {
     "name": "stdout",
     "output_type": "stream",
     "text": [
      "[1, x02^3, x03^6, x04^9, x05^12, 0, 0, 0, 0, 0, 0, 0, 0, 0, 0, 0, 0, 0, 0, 0]\n"
     ]
    }
   ],
   "source": [
    "filter = lambda x, k: x*unit_step(13 - x.degree(v[k]))\n",
    "s = [filter(r[k],k) for k in range(len(r))]\n",
    "print s"
   ]
  },
  {
   "cell_type": "markdown",
   "metadata": {
    "deletable": true,
    "editable": true
   },
   "source": [
    "    \n",
    "Στην νέα λίστα μπορούμε, για παράδειγμα, να αθροίσουμε τα στοιχεία της\n",
    " "
   ]
  },
  {
   "cell_type": "code",
   "execution_count": 25,
   "metadata": {
    "collapsed": false,
    "deletable": true,
    "editable": true
   },
   "outputs": [
    {
     "name": "stdout",
     "output_type": "stream",
     "text": [
      "x05^12 + x04^9 + x03^6 + x02^3 + 1\n"
     ]
    }
   ],
   "source": [
    "t = sum(s)\n",
    "print t"
   ]
  },
  {
   "cell_type": "markdown",
   "metadata": {
    "deletable": true,
    "editable": true
   },
   "source": [
    "    \n",
    "ή να πάρουμε το γινόμενο των πέντε πρώτων μη μηδενικών όρων της\n",
    " "
   ]
  },
  {
   "cell_type": "code",
   "execution_count": 26,
   "metadata": {
    "collapsed": false,
    "deletable": true,
    "editable": true
   },
   "outputs": [
    {
     "name": "stdout",
     "output_type": "stream",
     "text": [
      "x02^3*x03^6*x04^9*x05^12\n"
     ]
    }
   ],
   "source": [
    "gin = prod(s[k] for k in (0 .. 4)) ; print gin"
   ]
  },
  {
   "cell_type": "markdown",
   "metadata": {
    "deletable": true,
    "editable": true
   },
   "source": [
    "###   Σύνθεση συναρτήσεων"
   ]
  },
  {
   "cell_type": "markdown",
   "metadata": {
    "deletable": true,
    "editable": true
   },
   "source": [
    "    \n",
    "Θεωρούμε την παραβολική τροχιά ενός βλήματος που εκτοξεύθηκε από το έδαφος για $t=0\\,\\rm sec$ και προσέκρουσε στο έδαφος για $t=45\\,\\rm sec$, 12 χιλιόμετρα, πιο μακρυά. Θεωρούμε ότι το βλήμα ταξιδεύει με σταθερή οριζόντια ταχύτητα, και ονομάζουμε $f(t)$ την συνάρτηση  που μας δίνει το ύψος του βλήματος σε κάθε χρονική στιγμή. Πρώτα απ' όλα, υλοποιούμε το παραβολικό σχήμα της τροχιάς του βλήματος από μια συνάρτηση $y(x)$\n",
    " "
   ]
  },
  {
   "cell_type": "code",
   "execution_count": 27,
   "metadata": {
    "collapsed": false,
    "deletable": true,
    "editable": true
   },
   "outputs": [
    {
     "data": {
      "image/png": "[encoded data removed]",
      "text/plain": [
       "Graphics object consisting of 1 graphics primitive"
      ]
     },
     "metadata": {},
     "output_type": "display_data"
    }
   ],
   "source": [
    "y(x) = x*(12 - x)\n",
    "p = plot(y(x), (x, 0, 12)); p.show(figsize=3.5)"
   ]
  },
  {
   "cell_type": "markdown",
   "metadata": {
    "deletable": true,
    "editable": true
   },
   "source": [
    "    \n",
    "Τώρα θέλουμε την συνάρτηση $f(t)$ ως συνάρτηση του χρόνου $t$ (σε sec). Επειδή υποθέσαμε ότι το βλήμα ταξιδεύει με σταθερή οριζόντια ταχύτητα, η οριζόντια απόσταση $x$ (σε χλμ) που διανύει το βλήμα είναι μια γραμμική σχέση του $t$, και ίση με $x = \\frac{12}{45}\\, t$. Οπότε για $t=0$, $x=0$ και για $t=45$, $x=12$.\n",
    " "
   ]
  },
  {
   "cell_type": "code",
   "execution_count": 28,
   "metadata": {
    "collapsed": false,
    "deletable": true,
    "editable": true
   },
   "outputs": [
    {
     "name": "stdout",
     "output_type": "stream",
     "text": [
      "x at 0 : 0\n",
      "x at 45 : 12\n"
     ]
    }
   ],
   "source": [
    "x(t) = 12/45*t\n",
    "print 'x at 0 :', x(0)\n",
    "print 'x at 45 :', x(45)"
   ]
  },
  {
   "cell_type": "markdown",
   "metadata": {
    "deletable": true,
    "editable": true
   },
   "source": [
    "    \n",
    "Συνεπώς, το ύψος $y$ του βλήματος, ως συνάρτηση του χρόνου t, είναι η σύνθεση της συνάρτησης $y(x)$ της παραβολής, με την γραμμική συνάρτηση $x=\\frac{12}{45}\\,t$, δηλαδή $f(t)=y(x(t))$\n",
    " "
   ]
  },
  {
   "cell_type": "code",
   "execution_count": 29,
   "metadata": {
    "collapsed": false,
    "deletable": true,
    "editable": true
   },
   "outputs": [
    {
     "name": "stdout",
     "output_type": "stream",
     "text": [
      "altitude at 0 sec: 0\n",
      "altitude at 22.5 sec: 36.0000000000000\n",
      "altitude at 45 sec: 0\n"
     ]
    }
   ],
   "source": [
    "f(t) = y(x(t))\n",
    "print 'altitude at 0 sec:', f(0)\n",
    "print 'altitude at 22.5 sec:', f(22.5)\n",
    "print 'altitude at 45 sec:', f(45)"
   ]
  },
  {
   "cell_type": "markdown",
   "metadata": {
    "deletable": true,
    "editable": true
   },
   "source": [
    "    \n",
    "Με την σύνθεση συναρτήσεων έχουμε διαχωρίσει το γεωμετρικό σχήμα της τροχιάς του βλήματος από την εξέλιξη της τροχιάς στον χρόνο. Για παράδειγμα, ας μειώσουμε στο μισό την ταχύτητα του βλήματος\n",
    " "
   ]
  },
  {
   "cell_type": "code",
   "execution_count": 30,
   "metadata": {
    "collapsed": false,
    "deletable": true,
    "editable": true
   },
   "outputs": [
    {
     "name": "stdout",
     "output_type": "stream",
     "text": [
      "altitude at 45 sec: 36\n",
      "altitude at 90 sec: 0\n"
     ]
    }
   ],
   "source": [
    "h(t) = t/2\n",
    "hf(t) = f(h(t))\n",
    "print 'altitude at 45 sec:', hf(45)\n",
    "print 'altitude at 90 sec:', hf(90)"
   ]
  },
  {
   "cell_type": "markdown",
   "metadata": {
    "deletable": true,
    "editable": true
   },
   "source": [
    "    \n",
    "Παρατηρούμε ότι το βλήμα φτάνει στο μέγιστο ύψος, για $t=45\\,\\rm sec$, και προσκρούει στο έδαφος για $t=90\\,\\rm sec$. Μπορούμε να δούμε μια τρισδιάστατη απεικόνιση της τροχιάς του βλήματος με τις παρακάτω εντολές\n",
    " "
   ]
  },
  {
   "cell_type": "code",
   "execution_count": 31,
   "metadata": {
    "collapsed": false,
    "deletable": true,
    "editable": true
   },
   "outputs": [
    {
     "data": {
      "image/png": "[encoded data removed]",
      "text/plain": [
       "Graphics3d Object"
      ]
     },
     "metadata": {},
     "output_type": "display_data"
    }
   ],
   "source": [
    "p1 = parametric_plot3d([x(t), 0, f(t)], (t, 0, 45),thickness=4,color='blue',figsize=4); \n",
    "show(p1,viewer='tachyon')"
   ]
  },
  {
   "cell_type": "markdown",
   "metadata": {
    "collapsed": true,
    "deletable": true,
    "editable": true
   },
   "source": [
    "###  Σύνθεση μιας συνάρτησης n-φορές με τον εαυτό της"
   ]
  },
  {
   "cell_type": "markdown",
   "metadata": {
    "deletable": true,
    "editable": true
   },
   "source": [
    "    \n",
    "Ας υποθέσουμε ότι θέλουμε  με την μέθοδο του Newton να βρούμε τις ρίζες μιας εξίσωσης της μορφής $f(x)=0$\n",
    " "
   ]
  },
  {
   "cell_type": "code",
   "execution_count": 32,
   "metadata": {
    "collapsed": false,
    "deletable": true,
    "editable": true
   },
   "outputs": [],
   "source": [
    "def newton_step(f, x):\n",
    "    n(x) = x - f(x)/diff(f,x)\n",
    "    return n"
   ]
  },
  {
   "cell_type": "markdown",
   "metadata": {
    "deletable": true,
    "editable": true
   },
   "source": [
    "    \n",
    "Για χάρη ευκολίας ας θεωρήσουμε ότι θέλουμε να βρούμε μια προσεγγιστική τιμή για την τετραγωνική ρίζα του 2, ως την λύση της εξίσωσης $f(x)=x^2-2=0$.\n",
    " "
   ]
  },
  {
   "cell_type": "code",
   "execution_count": 33,
   "metadata": {
    "collapsed": false,
    "deletable": true,
    "editable": true
   },
   "outputs": [
    {
     "name": "stdout",
     "output_type": "stream",
     "text": [
      "x |--> x - 1/2*(x^2 - 2)/x\n"
     ]
    }
   ],
   "source": [
    "sqr(x) = x^2 - 2\n",
    "our_sqrt = newton_step(sqr, x)\n",
    "print our_sqrt"
   ]
  },
  {
   "cell_type": "markdown",
   "metadata": {
    "deletable": true,
    "editable": true
   },
   "source": [
    "    \n",
    "Παρατηρούμε ότι λόγω της μορφής που έχει η συνάρτηση newton_step  που ορίσαμε, αν θέσουμε ως αρχική προσέγγιση έναν ακέραιο και συνθέσουμε επαναληπτικά την συνάρτησή μας, θα πάρουμε ως αποτέλεσμα μια ρητή προσέγγιση της λύσης μας, δηλ. του $\\sqrt{2}$.\n",
    " "
   ]
  },
  {
   "cell_type": "code",
   "execution_count": 34,
   "metadata": {
    "collapsed": false,
    "deletable": true,
    "editable": true
   },
   "outputs": [
    {
     "name": "stdout",
     "output_type": "stream",
     "text": [
      "577/408\n"
     ]
    }
   ],
   "source": [
    "print our_sqrt(our_sqrt(our_sqrt(2)))"
   ]
  },
  {
   "cell_type": "markdown",
   "metadata": {
    "deletable": true,
    "editable": true
   },
   "source": [
    "    \n",
    "Στο Sage υπάρχει ένας \"τεμπέλικος\" τρόπος για πάρουμε την σύνθεση μιας συνάρτησης με τον εαυτό της όσες φορές θέλουμε! Απλά πολλαπλασιάζουμε κατάλληλα χαρακτήρες (strings)\n",
    " "
   ]
  },
  {
   "cell_type": "code",
   "execution_count": 35,
   "metadata": {
    "collapsed": false,
    "deletable": true,
    "editable": true
   },
   "outputs": [
    {
     "name": "stdout",
     "output_type": "stream",
     "text": [
      "our_sqrt(our_sqrt(our_sqrt(our_sqrt(our_sqrt(2)))))\n",
      "<type 'str'>\n"
     ]
    }
   ],
   "source": [
    "s = 'our_sqrt('*5 + '2' + ')'*5\n",
    "print s; print type(s)"
   ]
  },
  {
   "cell_type": "markdown",
   "metadata": {
    "deletable": true,
    "editable": true
   },
   "source": [
    "    \n",
    "και υπολογίζουμε το αποτέλεσμα με αφετηρία ένα αρχικό σημείο, για παράδειγμα για $x=2$.\n",
    " "
   ]
  },
  {
   "cell_type": "code",
   "execution_count": 36,
   "metadata": {
    "collapsed": false,
    "deletable": true,
    "editable": true
   },
   "outputs": [
    {
     "name": "stdout",
     "output_type": "stream",
     "text": [
      "886731088897/627013566048\n"
     ]
    }
   ],
   "source": [
    "v = eval(s)\n",
    "print v"
   ]
  },
  {
   "cell_type": "markdown",
   "metadata": {
    "deletable": true,
    "editable": true
   },
   "source": [
    "    \n",
    "Για να συγκρίνουμε την παραπάνω προσέγγιση με την πραγματική τιμή του $\\sqrt{2}$ δίνουμε\n",
    " "
   ]
  },
  {
   "cell_type": "code",
   "execution_count": 37,
   "metadata": {
    "collapsed": false,
    "deletable": true,
    "editable": true
   },
   "outputs": [
    {
     "name": "stdout",
     "output_type": "stream",
     "text": [
      "1.41421356237309504880168962350\n",
      "1.41421356237309504880168872421\n"
     ]
    }
   ],
   "source": [
    "print v.n(digits=30)\n",
    "print sqrt(2).n(digits=30)"
   ]
  },
  {
   "cell_type": "markdown",
   "metadata": {
    "deletable": true,
    "editable": true
   },
   "source": [
    "    \n",
    "Φυσικά, με τον παραπάνω τρόπο μπορούμε να ορίσουμε μια νέα συμβολική έκφραση η οποία είναι η σύνθεση μιας οποιασδήποτε συνάρτηση n-φορές με τον εαυτό της! Για ευκολία παίρνουμε n=7 φορές σύνθεση την συνάρτηση του ημιτόνου με τον εαυτό του\n",
    " "
   ]
  },
  {
   "cell_type": "code",
   "execution_count": 38,
   "metadata": {
    "collapsed": false,
    "deletable": true,
    "editable": true
   },
   "outputs": [
    {
     "name": "stdout",
     "output_type": "stream",
     "text": [
      "sin(sin(sin(sin(sin(sin(sin(x)))))))\n",
      "<type 'str'>\n"
     ]
    }
   ],
   "source": [
    "sin_7 = 'sin('*7 + 'x' + ')'*7\n",
    "print sin_7; print type(sin_7)"
   ]
  },
  {
   "cell_type": "code",
   "execution_count": 39,
   "metadata": {
    "collapsed": false,
    "deletable": true,
    "editable": true
   },
   "outputs": [
    {
     "name": "stdout",
     "output_type": "stream",
     "text": [
      "sin(sin(sin(sin(sin(sin(sin(x)))))))\n",
      "<type 'sage.symbolic.expression.Expression'>\n"
     ]
    }
   ],
   "source": [
    "sin_7x(x) = sin_7\n",
    "print sin_7x(x); print type(sin_7x)"
   ]
  },
  {
   "cell_type": "code",
   "execution_count": 40,
   "metadata": {
    "collapsed": false,
    "deletable": true,
    "editable": true
   },
   "outputs": [
    {
     "name": "stdout",
     "output_type": "stream",
     "text": [
      "0.554016390755629630333389489401\n"
     ]
    }
   ],
   "source": [
    "print sin_7x(pi/2).n(digits=30)"
   ]
  },
  {
   "cell_type": "markdown",
   "metadata": {
    "deletable": true,
    "editable": true
   },
   "source": [
    "##   Συμβολική και αριθμητική παραγώγιση"
   ]
  },
  {
   "cell_type": "markdown",
   "metadata": {
    "deletable": true,
    "editable": true
   },
   "source": [
    "###  Συμβολική παραγώγιση"
   ]
  },
  {
   "cell_type": "markdown",
   "metadata": {
    "deletable": true,
    "editable": true
   },
   "source": [
    "    \n",
    "Στο Sage παραγωγίζουμε με την εντολή `diff()`\n",
    " "
   ]
  },
  {
   "cell_type": "code",
   "execution_count": 41,
   "metadata": {
    "collapsed": false,
    "deletable": true,
    "editable": true
   },
   "outputs": [
    {
     "name": "stdout",
     "output_type": "stream",
     "text": [
      "the derivative of sin(x) is cos(x)\n"
     ]
    }
   ],
   "source": [
    "print 'the derivative of sin(x) is', diff(sin(x),x)"
   ]
  },
  {
   "cell_type": "markdown",
   "metadata": {
    "deletable": true,
    "editable": true
   },
   "source": [
    "    \n",
    "Για να παραγωγίσουμε διαδοχικά ως προς μια μεταβλητή υπάρχει ένα επιπλέον όρισμα στην εντολή `diff()` \n",
    " "
   ]
  },
  {
   "cell_type": "code",
   "execution_count": 42,
   "metadata": {
    "collapsed": false,
    "deletable": true,
    "editable": true
   },
   "outputs": [
    {
     "name": "stdout",
     "output_type": "stream",
     "text": [
      "[sin(x), cos(x), -sin(x), -cos(x), sin(x)]\n"
     ]
    }
   ],
   "source": [
    "print [diff(sin(x), x, k) for k in range(5)]"
   ]
  },
  {
   "cell_type": "markdown",
   "metadata": {
    "deletable": true,
    "editable": true
   },
   "source": [
    "    \n",
    "Μπορούμε να παραγωγίζουμε συναρτήσεις πολλών μεταβλητών τις οποίες έχουμε ορίσει εμείς\n",
    " "
   ]
  },
  {
   "cell_type": "code",
   "execution_count": 43,
   "metadata": {
    "collapsed": false,
    "deletable": true,
    "editable": true
   },
   "outputs": [
    {
     "name": "stdout",
     "output_type": "stream",
     "text": [
      "f = (x, y) |--> x^2*y + 2*x*y + x\n",
      "the derivative of f is (x, y) |--> (2*x*y + 2*y + 1, x^2 + 2*x)\n",
      "<class 'sage.modules.vector_callable_symbolic_dense.FreeModule_ambient_field_with_category.element_class'>\n"
     ]
    }
   ],
   "source": [
    "f(x,y) = x^2*y + 2*x*y + x\n",
    "print 'f =', f\n",
    "print 'the derivative of f is', f.diff() ; print type(f.diff())"
   ]
  },
  {
   "cell_type": "markdown",
   "metadata": {
    "deletable": true,
    "editable": true
   },
   "source": [
    "    \n",
    "από όπου παρατηρούμε ότι το Sage μας επέστρεψε ένα διανυσματικό πεδίο. Οι συνιστώσες του δεν είναι άλλες από τις μερικές παραγώγους της $f(x,y)$ ως προς $x$ και $y$, αντίστοιχα. Με άλλα λόγια, αν δεν δώσουμε όρισμα στην εντολή `diff()` για μια συνάρτηση πολλών μεταβλητών, το Sage μας επιστρέφει την κλίση (gradient) της $f$, η οποία συμβολίζεται με \n",
    "\n",
    "$\\begin{aligned} {\\rm{grad}} \\, f \\quad \\mbox{ή} \\quad \\nabla f := \\left( \\frac{\\partial f}{\\partial x},\n",
    "\\frac{\\partial f}{\\partial x}\\right)\\,.\\end{aligned}$\n",
    "\n",
    "Πράγματι \n",
    " "
   ]
  },
  {
   "cell_type": "code",
   "execution_count": 44,
   "metadata": {
    "collapsed": false,
    "deletable": true,
    "editable": true
   },
   "outputs": [
    {
     "name": "stdout",
     "output_type": "stream",
     "text": [
      "(x, y) |--> 2*x*y + 2*y + 1\n",
      "(x, y) |--> x^2 + 2*x\n"
     ]
    }
   ],
   "source": [
    "print f.diff(x)\n",
    "print f.diff(y)"
   ]
  },
  {
   "cell_type": "markdown",
   "metadata": {
    "deletable": true,
    "editable": true
   },
   "source": [
    "    \n",
    "Τι θα συμβεί άραγε αν ζητήσουμε από το Sage να δράσει δυο φορές στην $f$ με το `diff()` δίχως όρισμα;\n",
    " "
   ]
  },
  {
   "cell_type": "code",
   "execution_count": 45,
   "metadata": {
    "collapsed": false,
    "deletable": true,
    "editable": true
   },
   "outputs": [
    {
     "name": "stdout",
     "output_type": "stream",
     "text": [
      "[    (x, y) |--> 2*y (x, y) |--> 2*x + 2]\n",
      "[(x, y) |--> 2*x + 2       (x, y) |--> 0]\n",
      "<type 'sage.matrix.matrix_generic_dense.Matrix_generic_dense'>\n"
     ]
    }
   ],
   "source": [
    "H = f.diff().diff() ; print H ; print type(H)"
   ]
  },
  {
   "cell_type": "markdown",
   "metadata": {
    "deletable": true,
    "editable": true
   },
   "source": [
    "    \n",
    "Το αποτέλεσμα είναι ένας πίνακας που περιέχει τις δεύτερες μερικές παραγώγους της $f(x,y)$, και είναι γνωστός με το όνομα <em>Hessian</em>. Τα στοιχεία του πίνακα είναι $H_{i\\,j} = \\frac{\\partial^2 f}{\\partial x_i \\, \\partial x_j}$, ή ισοδύναμα την μορφή πίνακα, για το συγκεκριμένο παράδειγμα, \n",
    "\n",
    "$\\begin{aligned} \\left( H_{ij}\\right ) = \\left( \\begin{array}{cc} \n",
    "\\frac{\\partial^2 f}{\\partial x^2} & \\frac{\\partial^2 f}{\\partial x \\, \\partial y} \\\\ \\frac{\\partial^2 f}{\\partial y \\, \\partial x} & \\frac{\\partial^2 f}{\\partial y^2} \\end{array} \\right)\\end{aligned}$\n",
    "\n",
    "Για να πάρουμε ένα στοιχείο από την πίνακα αυτό δίνουμε τα ονόματα των μεταβλητών στην εντολή \n",
    "`diff()`. Για παράδειγμα, για να πάρουμε την μικτή μερική παράγωγο $\\frac{\\partial^2 f}{\\partial x \\, \\partial y}$, δίνουμε\n",
    " "
   ]
  },
  {
   "cell_type": "code",
   "execution_count": 46,
   "metadata": {
    "collapsed": false,
    "deletable": true,
    "editable": true
   },
   "outputs": [
    {
     "name": "stdout",
     "output_type": "stream",
     "text": [
      "(x, y) |--> 2*x + 2\n"
     ]
    }
   ],
   "source": [
    "print f.diff(x).diff(y)"
   ]
  },
  {
   "cell_type": "markdown",
   "metadata": {
    "deletable": true,
    "editable": true
   },
   "source": [
    "###   Αριθμητική παραγώγιση"
   ]
  },
  {
   "cell_type": "markdown",
   "metadata": {
    "deletable": true,
    "editable": true
   },
   "source": [
    "    \n",
    "Στο Sage η αριθμητική παραγώγιση είναι διαθέσιμη μέσω της `scipy.misc` \n",
    " "
   ]
  },
  {
   "cell_type": "code",
   "execution_count": 47,
   "metadata": {
    "collapsed": false,
    "deletable": true,
    "editable": true
   },
   "outputs": [
    {
     "name": "stdout",
     "output_type": "stream",
     "text": [
      "exact derivative : 2.71828182845905\n",
      "1st order approx : 2.71832713338\n"
     ]
    }
   ],
   "source": [
    "from scipy.misc import derivative as numdif\n",
    "def f(x):\n",
    "    return exp(x)\n",
    "print 'exact derivative :', exp(1.0)\n",
    "print '1st order approx :', numdif(f, 1.0, 1.0e-2)"
   ]
  },
  {
   "cell_type": "markdown",
   "metadata": {
    "deletable": true,
    "editable": true
   },
   "source": [
    "    \n",
    "Η αριθμητική παραγώγιση χρησιμοποιεί κεντρικές διαφορές. Με την γνωστή  μέθοδο της παρεμβολής μπορούμε να βελτιώσουμε τη αριθμητική ακρίβεια στην προσέγγιση\n",
    " "
   ]
  },
  {
   "cell_type": "code",
   "execution_count": 48,
   "metadata": {
    "collapsed": false,
    "deletable": true,
    "editable": true
   },
   "outputs": [
    {
     "name": "stdout",
     "output_type": "stream",
     "text": [
      "2.71832713338\n",
      "2.71828182755\n",
      "2.71828182846\n",
      "2.71828182846\n",
      "2.71828182846\n",
      "2.71828182845905\n"
     ]
    }
   ],
   "source": [
    "ND = [numdif(f, 1.0, 1.0e-2, order=k) for k in range(3, 12, 2)]\n",
    "for a in ND: print a\n",
    "print exp(1.0)"
   ]
  },
  {
   "cell_type": "markdown",
   "metadata": {
    "deletable": true,
    "editable": true
   },
   "source": [
    "    \n",
    "όπου το k που δηλώνει την τάξη πρέπει να είναι περιττός θετικός ακέραιος.\n",
    " "
   ]
  },
  {
   "cell_type": "markdown",
   "metadata": {
    "deletable": true,
    "editable": true
   },
   "source": [
    "###   Πεπλεγμένη παραγώγιση"
   ]
  },
  {
   "cell_type": "markdown",
   "metadata": {
    "deletable": true,
    "editable": true
   },
   "source": [
    "    \n",
    "Στο Sage μπορούμε να δηλώσουμε τις παραγώγους συμβολικά. Ας υποθέσουμε ότι η (εξαρτημένη) συμβολική μεταβλητή y, είναι συνάρτηση της (ανεξάρτητης) συμβολικής μεταβλητής x \n",
    " "
   ]
  },
  {
   "cell_type": "code",
   "execution_count": 49,
   "metadata": {
    "collapsed": false,
    "deletable": true,
    "editable": true
   },
   "outputs": [
    {
     "name": "stdout",
     "output_type": "stream",
     "text": [
      "diff(y(x), x) <type 'sage.symbolic.expression.Expression'>\n"
     ]
    }
   ],
   "source": [
    "var('x')\n",
    "y = function('y')(x)\n",
    "dy = y.diff(x)\n",
    "print dy, type(dy)"
   ]
  },
  {
   "cell_type": "markdown",
   "metadata": {
    "deletable": true,
    "editable": true
   },
   "source": [
    "    \n",
    "Το παραπάνω αποτέλεσμα μπορούμε να το χρησιμοποιήσουμε για να εφαρμόσουμε πεπλεγμένη παραγώγιση\n",
    " "
   ]
  },
  {
   "cell_type": "code",
   "execution_count": 50,
   "metadata": {
    "collapsed": false,
    "deletable": true,
    "editable": true
   },
   "outputs": [
    {
     "name": "stdout",
     "output_type": "stream",
     "text": [
      "x^2 + y(x)^2 - 1 == 0\n",
      "<type 'sage.symbolic.expression.Expression'>\n"
     ]
    }
   ],
   "source": [
    "circle = x^2 + y^2 - 1 == 0\n",
    "print circle; print type(circle)"
   ]
  },
  {
   "cell_type": "markdown",
   "metadata": {
    "deletable": true,
    "editable": true
   },
   "source": [
    "    \n",
    "Η παραπάνω εξίσωση του κύκλου ορίζει, με έμμεσο τρόπο, πώς η συμβολική μεταβλητή $y$ εξαρτάται από το $x$. Παραγωγίζοντας την εξίσωση του κύκλου ως προς $x$, παίρνουμε την εξίσωση\n",
    " "
   ]
  },
  {
   "cell_type": "code",
   "execution_count": 51,
   "metadata": {
    "collapsed": false,
    "deletable": true,
    "editable": true
   },
   "outputs": [
    {
     "name": "stdout",
     "output_type": "stream",
     "text": [
      "2*y(x)*diff(y(x), x) + 2*x == 0\n"
     ]
    }
   ],
   "source": [
    "dc = circle.diff(x)\n",
    "print dc"
   ]
  },
  {
   "cell_type": "markdown",
   "metadata": {
    "deletable": true,
    "editable": true
   },
   "source": [
    "    \n",
    "την οποία φυσικά μπορούμε να την λύσουμε ως προς την παράγωγο $y'(x)$, που δεν είναι άλλη από την συμβολική μεταβλητή που ονομάσαμε dy\n",
    " "
   ]
  },
  {
   "cell_type": "code",
   "execution_count": 52,
   "metadata": {
    "collapsed": false,
    "deletable": true,
    "editable": true
   },
   "outputs": [
    {
     "name": "stdout",
     "output_type": "stream",
     "text": [
      "[\n",
      "diff(y(x), x) == -x/y(x)\n",
      "]\n"
     ]
    }
   ],
   "source": [
    "yx = solve(dc, dy)\n",
    "print yx"
   ]
  },
  {
   "cell_type": "markdown",
   "metadata": {
    "deletable": true,
    "editable": true
   },
   "source": [
    "##   Ολοκληρώματα κι αθροίσματα\n",
    "\n",
    "###   Ορισμένα κι αόριστα ολοκληρώματα\n",
    "\n",
    "    \n",
    "Το θεµελιώδες θεώρηµα του απειροστικού λογισµού μας πληροφορεί ότι η αντίστροφη διαδικασία της παραγώγισης είναι η ολοκλήρωση. Δοσμένης μιας παραγωγίσιμης συνάρτησης μπορούμε, κατ'αρχήν, να βρούμε την συνάρτηση της παραγώγου της σε κλειστή μορφή. Όμως, γενικά, δεν ισχύει το ίδιο για το ολοκλήρωμά της. Μάλιστα ένα αόριστο ολοκλήρωμα, ως συνάρτηση του άνω ορίου, αποτελεί έναν εναλλακτικό ορισμό μιας νέας πιο σύνθετης συνάρτησης. Τα κλασικά παραδείγματα είναι οι εναλλακτικοί ορισμοί των συναρτήσεων του λογαρίθμου και του τόξου εφαπτομένης:\n",
    "\n",
    " $\\begin{aligned} \\log x = \\int_1^x \\frac{1}{t} \\, dt \\,,\\qquad \\arctan x = \\int_0^x \\frac{1}{1+t^2}\\,dt\\,.\\end{aligned}$\n",
    " \n",
    "Ας θεωρήσουμε την συνάρτηση $f(x) = e^{-x^2}$, της οποίας η παράγωγος είναι\n",
    " "
   ]
  },
  {
   "cell_type": "code",
   "execution_count": 53,
   "metadata": {
    "collapsed": false,
    "deletable": true,
    "editable": true
   },
   "outputs": [
    {
     "name": "stdout",
     "output_type": "stream",
     "text": [
      "x |--> -2*x*e^(-x^2)\n"
     ]
    }
   ],
   "source": [
    "f(x) = exp(-x^2)\n",
    "df = f.diff(x); print df"
   ]
  },
  {
   "cell_type": "markdown",
   "metadata": {
    "deletable": true,
    "editable": true
   },
   "source": [
    "    \n",
    "Η γραφική παράσταση της $f(x) = e^{-x^2}$ μοιάζει με μια καμπάνα γύρω από το $x=0$, η οποία σβήνει στο μηδέν πάρα πολύ γρήγορα. \n",
    " "
   ]
  },
  {
   "cell_type": "code",
   "execution_count": 54,
   "metadata": {
    "collapsed": false,
    "deletable": true,
    "editable": true
   },
   "outputs": [
    {
     "data": {
      "image/png": "[encoded data removed]",
      "text/plain": [
       "Graphics object consisting of 1 graphics primitive"
      ]
     },
     "metadata": {},
     "output_type": "display_data"
    }
   ],
   "source": [
    "fplot = plot(f(x),(x,-3,3),figsize=4) ; fplot.show()"
   ]
  },
  {
   "cell_type": "markdown",
   "metadata": {
    "collapsed": false,
    "deletable": true,
    "editable": true
   },
   "source": [
    "    \n",
    "Ας ζητήσουμε από το Sage το ορισμένο ολοκλήρωμα της  $f(x) = e^{-x^2}$, στο διάστημα $(-\\infty, \\infty)$\n",
    " "
   ]
  },
  {
   "cell_type": "code",
   "execution_count": 55,
   "metadata": {
    "collapsed": false,
    "deletable": true,
    "editable": true
   },
   "outputs": [
    {
     "name": "stdout",
     "output_type": "stream",
     "text": [
      "sqrt(pi)\n"
     ]
    }
   ],
   "source": [
    "orismeno = integral(f(x),(x,-oo,oo)); print orismeno"
   ]
  },
  {
   "cell_type": "markdown",
   "metadata": {
    "deletable": true,
    "editable": true
   },
   "source": [
    "    \n",
    "δηλαδή \n",
    "$\\begin{aligned} \\int_{-\\infty}^\\infty e^{-t^2}\\,dt = \\sqrt{\\pi}\\,. \\end{aligned}$\n",
    "\n",
    "Παρατηρήστε ότι στο Sage το άπειρο ($\\infty$) δηλώνεται με δυο κολλητά όμικρον (`οο`).\n",
    "Επειδή η $f(x) = e^{-x^2}$ είναι άρτια συνάρτηση σε όλο το πεδίο ορισμού της, δηλαδή το $\\mathbb{R}$, ισχύει ότι \n",
    "\n",
    "$\\begin{aligned} \\int_{0}^\\infty e^{-t^2}\\,dt = \\frac{\\sqrt{\\pi}}{2} \\qquad \\Rightarrow \\qquad \\frac{2}{\\sqrt{\\pi}} \\, \\int_{0}^\\infty e^{-t^2}\\,dt =1 \\,. \\end{aligned}$\n",
    " "
   ]
  },
  {
   "cell_type": "markdown",
   "metadata": {
    "deletable": true,
    "editable": true
   },
   "source": [
    "    \n",
    "Χρησιμοποιώντας την γνωστή ιδιότητα της παρεμβολής του ολοκληρώματος Riemann, για οποιοδήποτε $x\\in \\mathbb{R}$, (γιατί;) έχουμε ότι \n",
    "\n",
    "$\\begin{aligned}\\frac{2}{\\sqrt{\\pi}} \\, \\left( \\int_{0}^x \\,\\,+ \\int_{x}^\\infty  e^{-t^2}\\,dt  \\right) =1 \\quad \\Rightarrow \\quad\n",
    "\\frac{2}{\\sqrt{\\pi}} \\, \\int_{0}^x e^{-t^2}\\,dt + \\frac{2}{\\sqrt{\\pi}} \\, \\int_{x}^\\infty  e^{-t^2}\\,dt = 1 \n",
    "\\qquad (*)\n",
    "\\end{aligned}$\n",
    " "
   ]
  },
  {
   "cell_type": "markdown",
   "metadata": {
    "deletable": true,
    "editable": true
   },
   "source": [
    "    \n",
    "Στην τελευταία ισότητα το πρώτο ολοκλήρωμα είναι ένα αόριστο ολοκλήρωμα της συνάρτησης $f(x) = e^{-x^2}$, πολλαπλασιασμένο με $\\frac{2}{\\sqrt{\\pi}}$. Ας ρωτήσουμε το Sage ποιό είναι το αόριστο ολοκλήρωμα με την εντολή εντολή `integral()`, η οποία δέχεται για ορίσματα την υπό ολοκλήρωση συνάρτηση και την μεταβλητή στην οποία ολοκληρώνουμε\n",
    " "
   ]
  },
  {
   "cell_type": "code",
   "execution_count": 56,
   "metadata": {
    "collapsed": false,
    "deletable": true,
    "editable": true
   },
   "outputs": [
    {
     "name": "stdout",
     "output_type": "stream",
     "text": [
      "erf(x)\n"
     ]
    }
   ],
   "source": [
    "ex2 = exp(-x^2)\n",
    "aoristo = 2/sqrt(pi)*integral(ex2,x); print aoristo"
   ]
  },
  {
   "cell_type": "markdown",
   "metadata": {
    "deletable": true,
    "editable": true
   },
   "source": [
    "Το αποτέλεσμα είναι μια συνάρτηση που το Sage την ονομάζει `erf()`, και είναι γνωστή ως η συνάρτηση σφάλματος (error function). Αν πάρουμε βοήθεια για την συνάρτηση αυτή από το Sage μας πληροφορεί ότι ορίζεται ακριβώς με την μορφή του αόριστου ολοκληρώματος\n",
    "\n",
    "$\\begin{aligned} \\text{erf}(x) = \\frac{2}{\\sqrt{\\pi}} \\int_0^x e^{-t^2} dt\\,, \\end{aligned}$\n",
    "\n",
    "σε απόλυτη συμφωνία με τους προηγούμενους υπολογισμούς μας. Η γραφική παράσταση της συνάρτησης σφάλματος είναι"
   ]
  },
  {
   "cell_type": "code",
   "execution_count": 57,
   "metadata": {
    "collapsed": false,
    "deletable": true,
    "editable": true
   },
   "outputs": [
    {
     "data": {
      "image/png": "[encoded data removed]",
      "text/plain": [
       "Graphics object consisting of 1 graphics primitive"
      ]
     },
     "metadata": {},
     "output_type": "display_data"
    }
   ],
   "source": [
    "erfplot = plot(erf(x),(x,-7,7),figsize = 4) ; erfplot.show()"
   ]
  },
  {
   "cell_type": "markdown",
   "metadata": {
    "deletable": true,
    "editable": true
   },
   "source": [
    "    \n",
    "Επιπλέον, από την σχέση $(*)$ παίρνουμε ότι \n",
    "\n",
    "$\\begin{aligned}  \\frac{2}{\\sqrt{\\pi}} \\, \\int_{x}^\\infty  e^{-t^2}\\,dt = 1 -{\\rm{erf}}(x) \\end{aligned}$\n",
    " "
   ]
  },
  {
   "cell_type": "markdown",
   "metadata": {
    "deletable": true,
    "editable": true
   },
   "source": [
    "    \n",
    "Η συνάρτηση $\\rm{erfc}(x) = 1-\\rm{erf}(x)$, ή ισοδύναμα ${\\rm{erfc}}(x) = \\frac{2}{\\sqrt{\\pi}} \\, \\int_{x}^\\infty  e^{-t^2}\\,dt$, ονομάζεται η συμπληρωματική συνάρτηση σφάλματος \n",
    "$\\rm{erfc}(x) = 1 - \\rm{erf}(x)$, και η γραφική της παράσταση είναι\n",
    " "
   ]
  },
  {
   "cell_type": "code",
   "execution_count": 58,
   "metadata": {
    "collapsed": false,
    "deletable": true,
    "editable": true
   },
   "outputs": [
    {
     "data": {
      "image/png": "[encoded data removed]",
      "text/plain": [
       "Graphics object consisting of 1 graphics primitive"
      ]
     },
     "metadata": {},
     "output_type": "display_data"
    }
   ],
   "source": [
    "erfcplot = plot(1-erf(x),(x,-7,7),figsize = 4) ; erfcplot.show()"
   ]
  },
  {
   "cell_type": "markdown",
   "metadata": {
    "collapsed": false,
    "deletable": true,
    "editable": true
   },
   "source": [
    "    \n",
    "Στο Sage δεν έχει κάθε συμβολική συνάρτηση ορισμένο ή αόριστο ολοκλήρωμα. Για παράδειγμα\n",
    " "
   ]
  },
  {
   "cell_type": "code",
   "execution_count": 59,
   "metadata": {
    "collapsed": false,
    "deletable": true,
    "editable": true
   },
   "outputs": [
    {
     "name": "stdout",
     "output_type": "stream",
     "text": [
      "integrate(tan(e^(-x^2)), x, 0, 1)\n"
     ]
    }
   ],
   "source": [
    "r = integral(tan(exp(-x^2)),(x,0,1)) ; print r"
   ]
  },
  {
   "cell_type": "markdown",
   "metadata": {
    "collapsed": true,
    "deletable": true,
    "editable": true
   },
   "source": [
    "    \n",
    "Αν η συνάρτηση της οποίας αναζητούμε το ορισμένο ολοκλήρωμα σε κάποιο διάστημα είναι ολοκληρώσιμη κατά Riemann, μπορούμε να ζητήσουμε από το Sage μια αριθμητική προσέγγισή του\n",
    " "
   ]
  },
  {
   "cell_type": "code",
   "execution_count": 60,
   "metadata": {
    "collapsed": false,
    "deletable": true,
    "editable": true
   },
   "outputs": [
    {
     "name": "stdout",
     "output_type": "stream",
     "text": [
      "0.996025062538\n"
     ]
    }
   ],
   "source": [
    "print r.n()"
   ]
  },
  {
   "cell_type": "markdown",
   "metadata": {
    "collapsed": false,
    "deletable": true,
    "editable": true
   },
   "source": [
    "###   Βοηθώντας το Sage"
   ]
  },
  {
   "cell_type": "markdown",
   "metadata": {
    "collapsed": false,
    "deletable": true,
    "editable": true
   },
   "source": [
    "    \n",
    "Ας ζητήσουμε από το Sage να μας δώσει το ολοκλήρωμα Riemann της $f(x)=x^2$, όπου τα άκρα της ολοκλήρωσης είναι συμβολικές εκφράσεις\n",
    " "
   ]
  },
  {
   "cell_type": "code",
   "execution_count": 61,
   "metadata": {
    "collapsed": false,
    "deletable": true,
    "editable": true
   },
   "outputs": [
    {
     "name": "stdout",
     "output_type": "stream",
     "text": [
      "-1/3*a^3 + 1/3*b^3\n"
     ]
    }
   ],
   "source": [
    "a , b = var(' a , b')\n",
    "print integral(x^2 , (x,a,b))"
   ]
  },
  {
   "cell_type": "markdown",
   "metadata": {
    "collapsed": false,
    "deletable": true,
    "editable": true
   },
   "source": [
    "    \n",
    "Το αποτέλεσμα είναι αναμενόμενο αφού γνωρίζουμε ότι το ολοκλήρωμα είναι\n",
    "\n",
    "$\\begin{aligned} \\int_a^b x^2\\, dx = \\frac{1}{3}\\, \\left. x^3\\right|_a^b = \\frac{1}{3}\\,b^3-\\frac{1}{3}\\,a^3 \\,,\\end{aligned}$\n",
    "\n",
    "το οποίο γεωμετρικά παριστάνει το εμβαδό ανάμεσα στον x-άξονα, την παραβολή $y=x^2$, και τις κατακόρυφες ευθείες $x=a$, $x=b$, όπως δείχνεται στο παρακάτω σχήμα\n",
    " "
   ]
  },
  {
   "cell_type": "code",
   "execution_count": 62,
   "metadata": {
    "collapsed": false,
    "deletable": true,
    "editable": true
   },
   "outputs": [
    {
     "data": {
      "image/png": "[encoded data removed]",
      "text/plain": [
       "Graphics object consisting of 2 graphics primitives"
      ]
     },
     "metadata": {},
     "output_type": "display_data"
    }
   ],
   "source": [
    "f(x) = x^2\n",
    "fplot = plot(f(x),(x,-2,3), ticks=[[-2.0,3.0],[4,9]], \\\n",
    "             tick_formatter=[[\"$a$\",\"$b$\"],[\"$f(a)$\",\"$f(b)$\"]],\\\n",
    "             fill='axis',figsize=3); fplot.show()"
   ]
  },
  {
   "cell_type": "markdown",
   "metadata": {
    "deletable": true,
    "editable": true
   },
   "source": [
    "    \n",
    "Ας ζητήσουμε τώρα από το Sage το ολοκλήρωμα της $y=\\frac{1}{x^2}$ στο διάστημα $(a,b)$ \n",
    " "
   ]
  },
  {
   "cell_type": "code",
   "execution_count": 63,
   "metadata": {
    "collapsed": false,
    "deletable": true,
    "editable": true
   },
   "outputs": [
    {
     "ename": "SyntaxError",
     "evalue": "invalid syntax (<ipython-input-63-958958d8eff2>, line 2)",
     "output_type": "error",
     "traceback": [
      "\u001b[0;36m  File \u001b[0;32m\"<ipython-input-63-958958d8eff2>\"\u001b[0;36m, line \u001b[0;32m2\u001b[0m\n\u001b[0;31m    pprint integral(Integer(1)/x**Integer(2) , (x,a,b))\u001b[0m\n\u001b[0m                  ^\u001b[0m\n\u001b[0;31mSyntaxError\u001b[0m\u001b[0;31m:\u001b[0m invalid syntax\n"
     ]
    }
   ],
   "source": [
    "a , b = var(' a , b')\n",
    "pprint integral(1/x^2 , (x,a,b))"
   ]
  },
  {
   "cell_type": "markdown",
   "metadata": {
    "collapsed": false,
    "deletable": true,
    "editable": true
   },
   "source": [
    "    \n",
    "Το Sage μας επιστρέφει λάθος (ακριβέστερα το Maxima το οποίο εκτελεί την συμβολική ολοκλήρωση), κι ύστερα από αρκετές γραμμές κώδικα κατέληξε στο συμπέρασμα που σημειώνει παραπάνω με κόκκινο χρώμα \n",
    " "
   ]
  },
  {
   "cell_type": "markdown",
   "metadata": {
    "collapsed": false,
    "deletable": true,
    "editable": true
   },
   "source": [
    "    \n",
    "Με μια πιο προσεχτική ματιά, η συνάρτηση της οποίας ζητάμε το ολοκλήρωμα Riemann δεν ορίζεται στο σημείο $x=0$, και καθώς το $x$ πλησιάζει το μηδέν από αριστερά ή από δεξιά απειρίζεται θετικά, δηλαδή η συνάρτησή μας έχει ασύμπτωτο τον $y$ άξονα.  Έτσι το Sage έχει κάθε λόγο να παραπονιέται, γιατί η $y=\\frac{1}{x^2}$ είναι συνεχής μόνο κατά διαστήματα, στα $(-\\infty,0)$ και $(0,\\infty)$, και το θεμελιώδες θεώρημα του απειροστικού λογισμού δεν ισχύει σε ένωση ξένων διαστημάτων. Η γραφική παράσταση της συνάρτησής μας είναι\n",
    " "
   ]
  },
  {
   "cell_type": "code",
   "execution_count": 64,
   "metadata": {
    "collapsed": false,
    "deletable": true,
    "editable": true
   },
   "outputs": [
    {
     "data": {
      "image/png": "[encoded data removed]",
      "text/plain": [
       "Graphics object consisting of 2 graphics primitives"
      ]
     },
     "metadata": {},
     "output_type": "display_data"
    }
   ],
   "source": [
    "f(x) = 1/x^2\n",
    "fplot = plot(f(x),(x,-2,2),ymin=1,ymax=50,figsize=4,detect_poles=True)\n",
    "fplot.set_legend_options(back_color=(1,0.9,0.9), shadow=False); fplot.show()"
   ]
  },
  {
   "cell_type": "markdown",
   "metadata": {
    "deletable": true,
    "editable": true
   },
   "source": [
    "   \n",
    "Οπότε για να πάρουμε ένα συνεπές αποτέλεσμα πρέπει να περιορίσουμε κατάλληλα τις τιμές των συμβολικών μεταβλητών $a,b$, στα άκρα της ολοκλήρωσης. Για  παράδειγμα, $b>a>0$.    \n",
    " "
   ]
  },
  {
   "cell_type": "code",
   "execution_count": 65,
   "metadata": {
    "collapsed": false,
    "deletable": true,
    "editable": true
   },
   "outputs": [
    {
     "name": "stdout",
     "output_type": "stream",
     "text": [
      "1/a - 1/b\n"
     ]
    }
   ],
   "source": [
    "assume( a > 0, b > a)\n",
    "print integral(1/x^2, (x,a,b))"
   ]
  },
  {
   "cell_type": "markdown",
   "metadata": {
    "deletable": true,
    "editable": true
   },
   "source": [
    "   \n",
    "Σε κάθε στιγμή μπορούμε να πληροφορηθούμε για τις υποθέσεις που έχουμε επιβάλλει στις συμβολικές μεταβλητές μας με την εντολή `assumptions()`  \n",
    " "
   ]
  },
  {
   "cell_type": "code",
   "execution_count": 66,
   "metadata": {
    "collapsed": false,
    "deletable": true,
    "editable": true
   },
   "outputs": [
    {
     "name": "stdout",
     "output_type": "stream",
     "text": [
      "[a > 0, b > a]\n"
     ]
    }
   ],
   "source": [
    "print assumptions()"
   ]
  },
  {
   "cell_type": "markdown",
   "metadata": {
    "collapsed": true,
    "deletable": true,
    "editable": true
   },
   "source": [
    "   \n",
    "Οι περιορισμοί που επιβάλλουμε στις συμβολικές μεταβλητές την εντολή `assumptions()`  αναιρούνται με την εντολή `forget()` \n",
    " "
   ]
  },
  {
   "cell_type": "code",
   "execution_count": 67,
   "metadata": {
    "collapsed": false,
    "deletable": true,
    "editable": true
   },
   "outputs": [
    {
     "name": "stdout",
     "output_type": "stream",
     "text": [
      "[a > 0]\n",
      "[]\n"
     ]
    }
   ],
   "source": [
    "forget(b > a); print assumptions()\n",
    "forget(a > 0); print assumptions()"
   ]
  },
  {
   "cell_type": "markdown",
   "metadata": {
    "deletable": true,
    "editable": true
   },
   "source": [
    "###   Συμβολικά αθροίσματα"
   ]
  },
  {
   "cell_type": "markdown",
   "metadata": {
    "deletable": true,
    "editable": true
   },
   "source": [
    "   \n",
    "Το Sage μπορεί να βρει σε κλειστή μορφή το άθροισμα συμβολικών εκφράσεων. Για παράδειγμα ας θεωρήσουμε το άθροισμα των n πρώτων όρων της αριθμητικής προόδου\n",
    "\n",
    "$\\begin{aligned} \\sum_{k=1}^n k = 1+2+3+\\cdots + n\\,.\\end{aligned}$\n",
    " "
   ]
  },
  {
   "cell_type": "code",
   "execution_count": 68,
   "metadata": {
    "collapsed": false,
    "deletable": true,
    "editable": true
   },
   "outputs": [
    {
     "data": {
      "text/html": [
       "<html><script type=\"math/tex; mode=display\">\\newcommand{\\Bold}[1]{\\mathbf{#1}}\\frac{1}{2} \\, n^{2} + \\frac{1}{2} \\, n</script></html>"
      ],
      "text/plain": [
       "1/2*n^2 + 1/2*n"
      ]
     },
     "metadata": {},
     "output_type": "display_data"
    },
    {
     "data": {
      "text/html": [
       "<html><script type=\"math/tex; mode=display\">\\newcommand{\\Bold}[1]{\\mathbf{#1}}\\frac{1}{2} \\, {\\left(n + 1\\right)} n</script></html>"
      ],
      "text/plain": [
       "1/2*(n + 1)*n"
      ]
     },
     "metadata": {},
     "output_type": "display_data"
    }
   ],
   "source": [
    "var('k, n')\n",
    "s = sum(k, k, 1, n)\n",
    "s.show()\n",
    "f = s.factor()\n",
    "f.show()"
   ]
  },
  {
   "cell_type": "markdown",
   "metadata": {
    "deletable": true,
    "editable": true
   },
   "source": [
    "   \n",
    "Το ενδιαφέρον είναι ότι αν μια σειρά $\\sum_{k=1}^\\infty a_k$ συγκλίνει,\n",
    "το Sage είναι ικανό να υπολογίσει το άθροισμα της σειρά. Για παράδειγμα, ας θεωρήσουμε την σειρά $\\sum_{k=1}^\\infty \\frac{1}{k^2}$, η οποία από τα κριτήρια σύγκλισης σειρών που μάθαμε στον απειροστικό λογισμό, γνωρίζουμε ότι συγκλίνει. Σε ποιόν αριθμό να συγκλίνει άραγε;"
   ]
  },
  {
   "cell_type": "code",
   "execution_count": 69,
   "metadata": {
    "collapsed": false,
    "deletable": true,
    "editable": true
   },
   "outputs": [
    {
     "data": {
      "text/html": [
       "<html><script type=\"math/tex; mode=display\">\\newcommand{\\Bold}[1]{\\mathbf{#1}}\\frac{1}{6} \\, \\pi^{2}</script></html>"
      ],
      "text/plain": [
       "1/6*pi^2"
      ]
     },
     "metadata": {},
     "output_type": "display_data"
    }
   ],
   "source": [
    "sum(1/k^2, k, 1, oo).show()"
   ]
  },
  {
   "cell_type": "markdown",
   "metadata": {
    "deletable": true,
    "editable": true
   },
   "source": [
    "   \n",
    "Ας πάρουμε τώρα, την εναλλασσόμενη σειρά \n",
    "\n",
    "$\\begin{aligned} \\sum_{k=1}^\\infty (-1)^k \\frac{1}{k}\\,,\\end{aligned}$\n",
    "\n",
    "η οποία, από τα κριτήρια των εναλλασσόμενων σειρών, γνωρίζουμε ότι και αυτή συγκλίνει.\n",
    " "
   ]
  },
  {
   "cell_type": "code",
   "execution_count": 70,
   "metadata": {
    "collapsed": false,
    "deletable": true,
    "editable": true
   },
   "outputs": [
    {
     "name": "stdout",
     "output_type": "stream",
     "text": [
      "-log(2)\n"
     ]
    }
   ],
   "source": [
    "print sum((-1)^(k)/k, k, 1, oo)"
   ]
  },
  {
   "cell_type": "markdown",
   "metadata": {
    "deletable": true,
    "editable": true
   },
   "source": [
    "   \n",
    "Χρησιμοποιώντας τις περιεκτικές λίστες της Python μπορούμε να ελέγξουμε το τελευταίο αποτέλεσμα που μας δίνει το Sage\n",
    " "
   ]
  },
  {
   "cell_type": "code",
   "execution_count": 71,
   "metadata": {
    "collapsed": false,
    "deletable": true,
    "editable": true
   },
   "outputs": [
    {
     "name": "stdout",
     "output_type": "stream",
     "text": [
      "0.693142180585\n",
      "0.6931471805599453\n"
     ]
    }
   ],
   "source": [
    "L = [float((-1)^k/k) for k in range(1, 100001)]\n",
    "print -sum(L)\n",
    "print (log(2)).n(digits=16)"
   ]
  },
  {
   "cell_type": "markdown",
   "metadata": {
    "deletable": true,
    "editable": true
   },
   "source": [
    "   \n",
    "απ' όπου συμπεραίνουμε ότι η σειρά συγκλίνει πολύ αργά.\n",
    " "
   ]
  },
  {
   "cell_type": "markdown",
   "metadata": {
    "deletable": true,
    "editable": true
   },
   "source": [
    "   \n",
    "Για τον υπολογισμό του αθροίσματος της σειράς $\\sum_{n=0}^\\infty r^n$, το Sage χρειάζεται την βοήθειά μας για να περιορίσουμε τις τιμές της συμβολικής έκφρασης $r$, σε $|r|<1$,\n",
    " "
   ]
  },
  {
   "cell_type": "code",
   "execution_count": 72,
   "metadata": {
    "collapsed": false,
    "deletable": true,
    "editable": true
   },
   "outputs": [
    {
     "name": "stdout",
     "output_type": "stream",
     "text": [
      "-1/(r - 1)\n"
     ]
    }
   ],
   "source": [
    "var('r , n')\n",
    "assume( abs(r) < 1)\n",
    "print sum(r^n, n,0,oo)"
   ]
  },
  {
   "cell_type": "markdown",
   "metadata": {
    "deletable": true,
    "editable": true
   },
   "source": [
    "##  Σειρές Taylor, δυναμοσειρές, προσέγγιση και όρια"
   ]
  },
  {
   "cell_type": "markdown",
   "metadata": {
    "deletable": true,
    "editable": true
   },
   "source": [
    "###   Σειρές Taylor"
   ]
  },
  {
   "cell_type": "markdown",
   "metadata": {
    "deletable": true,
    "editable": true
   },
   "source": [
    "    \n",
    "Στο Sage το ανάπτυγμα μιας συνάρτησης γύρω από ένα σημείο δίνεται με την εντολή `taylor()`. Ας βρούμε την σειρά Taylor της συνάρτησης $\\cos x$ γύρω από το x=0, μέχρι όρους τάξης 6 \n",
    " "
   ]
  },
  {
   "cell_type": "code",
   "execution_count": 73,
   "metadata": {
    "collapsed": false,
    "deletable": true,
    "editable": true
   },
   "outputs": [
    {
     "name": "stdout",
     "output_type": "stream",
     "text": [
      "-1/720*x^6 + 1/24*x^4 - 1/2*x^2 + 1\n",
      "<type 'sage.symbolic.expression.Expression'>\n"
     ]
    }
   ],
   "source": [
    "Tcos = taylor(cos(x),x,0,6); print Tcos; print type(Tcos)"
   ]
  },
  {
   "cell_type": "markdown",
   "metadata": {
    "deletable": true,
    "editable": true
   },
   "source": [
    "    \n",
    "Το αποτέλεσμα δεν είναι μια σειρά αλλά το πολυώνυμο που προκύπτει αν αποκόψουμε από την σειρά όλους τους όρους με τάξη μεγαλύτερη από 6.\n",
    "Επίσης παρατηρούμε ότι το αποτέλεσμα είναι μια συμβολική έκφραση. Μπορούμε να ζητήσουμε να μας δώσει το αποτέλεσμα καθαρά συμβολικά\n",
    " "
   ]
  },
  {
   "cell_type": "code",
   "execution_count": 101,
   "metadata": {
    "collapsed": false,
    "deletable": true,
    "editable": true
   },
   "outputs": [
    {
     "name": "stdout",
     "output_type": "stream",
     "text": [
      "1/24*(a - x)^4*diff(f(a), a, a, a, a) - 1/6*(a - x)^3*diff(f(a), a, a, a) + 1/2*(a - x)^2*diff(f(a), a, a) - (a - x)*diff(f(a), a) + f(a)\n",
      "<type 'sage.symbolic.expression.Expression'>\n"
     ]
    }
   ],
   "source": [
    "var('x, a')\n",
    "f = function('f')(x)\n",
    "Tf = taylor(f(x), x, a, 4)\n",
    "print Tf; print type(Tf)"
   ]
  },
  {
   "cell_type": "markdown",
   "metadata": {
    "deletable": true,
    "editable": true
   },
   "source": [
    "    \n",
    "Σαν ένα άλλο παράδειγμα θεωρούμε την ακολοθουθία των αριθμών Fibonacci η οποία εμφανίζεται ως οι συντελεστές της σειράς Taylor γύρω από το x=0, της ρητής συνάρτησης \n",
    "\n",
    "$\\begin{aligned} g(x) = \\frac{1}{1-x-x^2}\\,.\\end{aligned}$\n",
    "\n",
    "Ας δούμε τους 10 πρώτους αριθμούς της ακολουθίας αριθμών Fibonacci  \n",
    " "
   ]
  },
  {
   "cell_type": "code",
   "execution_count": 75,
   "metadata": {
    "collapsed": false,
    "deletable": true,
    "editable": true
   },
   "outputs": [
    {
     "name": "stdout",
     "output_type": "stream",
     "text": [
      "10946*x^20 + 6765*x^19 + 4181*x^18 + 2584*x^17 + 1597*x^16 + 987*x^15 + 610*x^14 + 377*x^13 + 233*x^12 + 144*x^11 + 89*x^10 + 55*x^9 + 34*x^8 + 21*x^7 + 13*x^6 + 8*x^5 + 5*x^4 + 3*x^3 + 2*x^2 + x + 1\n",
      "[[1, 0], [1, 1], [2, 2], [3, 3], [5, 4], [8, 5], [13, 6], [21, 7], [34, 8], [55, 9], [89, 10], [144, 11], [233, 12], [377, 13], [610, 14], [987, 15], [1597, 16], [2584, 17], [4181, 18], [6765, 19], [10946, 20]]\n"
     ]
    }
   ],
   "source": [
    "g(x)  = 1/(1-x-x^2)\n",
    "Tg = taylor(g(x), x, 0, 20)\n",
    "print Tg;\n",
    "print Tg.coefficients()"
   ]
  },
  {
   "cell_type": "markdown",
   "metadata": {
    "deletable": true,
    "editable": true
   },
   "source": [
    "    \n",
    "Το Sage μπορεί να μας δώσει πολυωνυμικά αναπτύγματα σε σειρά Taylor και για συναρτήσεις πολλών μεταβλητών\n",
    " "
   ]
  },
  {
   "cell_type": "code",
   "execution_count": 76,
   "metadata": {
    "collapsed": false,
    "deletable": true,
    "editable": true
   },
   "outputs": [
    {
     "name": "stdout",
     "output_type": "stream",
     "text": [
      "1/384*(pi - 2*y)^4 + 1/16*(pi - 2*y)^2*x^2 + 1/24*x^4 - 1/8*(pi - 2*y)^2 - 1/2*x^2 + 1\n"
     ]
    }
   ],
   "source": [
    "var('x,y')\n",
    "h = cos(x)*sin(y)\n",
    "print taylor(h,(x,0),(y,pi/2),5)"
   ]
  },
  {
   "cell_type": "markdown",
   "metadata": {
    "deletable": true,
    "editable": true
   },
   "source": [
    "###  Σειρές Taylor και SymPy"
   ]
  },
  {
   "cell_type": "markdown",
   "metadata": {
    "deletable": true,
    "editable": true
   },
   "source": [
    "    \n",
    "Για να δούμε ποιά συστήματα χρησιμοποιεί το Sage για τον υπολογισμό των σειρών Taylor δίνουμε\n",
    " "
   ]
  },
  {
   "cell_type": "code",
   "execution_count": 77,
   "metadata": {
    "collapsed": false,
    "deletable": true,
    "editable": true
   },
   "outputs": [
    {
     "name": "stdout",
     "output_type": "stream",
     "text": [
      "['ginac', 'Maxima']\n"
     ]
    }
   ],
   "source": [
    "from sage.misc.citation import get_systems\n",
    "print get_systems('taylor(cos(x), x, 0, 6)')"
   ]
  },
  {
   "cell_type": "markdown",
   "metadata": {
    "deletable": true,
    "editable": true
   },
   "source": [
    "    \n",
    "Μπορούμε εναλλακτικά να χρησιμοποιήσουμε το SymPy που μας δίνει το αποτέλεσμα στην μορφή Python\n",
    " "
   ]
  },
  {
   "cell_type": "code",
   "execution_count": 78,
   "metadata": {
    "collapsed": false,
    "deletable": true,
    "editable": true
   },
   "outputs": [
    {
     "name": "stdout",
     "output_type": "stream",
     "text": [
      "1 - x**2/2 + x**4/24 - x**6/720 + x**8/40320 + O(x**10)\n"
     ]
    }
   ],
   "source": [
    "from sympy.series import series\n",
    "print series(cos(x), x0=0, n=10)"
   ]
  },
  {
   "cell_type": "markdown",
   "metadata": {
    "deletable": true,
    "editable": true
   },
   "source": [
    "    \n",
    "Αν δώσουμε `n=None`, ως αποτέλεσμα θα πάρουμε μια γεννήτρια συμβολικών εκφράσεων με την βοήθεια της οποίας μπορούμε να βρούμε επαναληπτικά τον επόμενο όρο της σειράς Taylor με την εντολή `next()`\n",
    " "
   ]
  },
  {
   "cell_type": "code",
   "execution_count": 79,
   "metadata": {
    "collapsed": false,
    "deletable": true,
    "editable": true
   },
   "outputs": [
    {
     "name": "stdout",
     "output_type": "stream",
     "text": [
      "<generator object <genexpr> at 0x7f230d8cec80>\n",
      "<type 'generator'>\n"
     ]
    }
   ],
   "source": [
    "g = series(cos(x), x0=0, n=None)\n",
    "print g; print type(g)"
   ]
  },
  {
   "cell_type": "code",
   "execution_count": 80,
   "metadata": {
    "collapsed": false,
    "deletable": true,
    "editable": true
   },
   "outputs": [
    {
     "name": "stdout",
     "output_type": "stream",
     "text": [
      "1\n",
      "-x**2/2\n"
     ]
    }
   ],
   "source": [
    "print g.next()\n",
    "print g.next()"
   ]
  },
  {
   "cell_type": "markdown",
   "metadata": {
    "deletable": true,
    "editable": true
   },
   "source": [
    "    \n",
    "Ακόμα καλύτερα, χρησιμοποιώντας και πάλι την περικτική λίστα της Python `[ F for k in L ]` παίρνουμε μια λίστα  σε μορφή Python, όπου τα στοιχεία της είναι οι όροι της σειράς Taylor,\n",
    " "
   ]
  },
  {
   "cell_type": "code",
   "execution_count": 81,
   "metadata": {
    "collapsed": false,
    "deletable": true,
    "editable": true
   },
   "outputs": [
    {
     "name": "stdout",
     "output_type": "stream",
     "text": [
      "[x**4/24, -x**6/720, x**8/40320, -x**10/3628800, x**12/479001600]\n"
     ]
    }
   ],
   "source": [
    "print [g.next() for k in range(5)]"
   ]
  },
  {
   "cell_type": "markdown",
   "metadata": {
    "deletable": true,
    "editable": true
   },
   "source": [
    "###   Δυναμοσειρές "
   ]
  },
  {
   "cell_type": "markdown",
   "metadata": {
    "deletable": true,
    "editable": true
   },
   "source": [
    "    \n",
    "Όπως είδαμε στο Sage οι \"σειρές\" Taylor δεν είναι δυναμοσειρές γύρω από κάποιο σημείο $x_0$, αλλά πολυώνυμα που προκύπτουν αν αποκόψουμε από την σειρά όλους τους όρους της από μια τάξη και πάνω, ανάλογα με την αντίστοιχη τάξη της παραγώγου. Όμως το Sage μας παρέχει την δυνατότητα να μετατρέψουμε ένα πολυώνυμο (γύρω από το μηδέν) σε μια δυναμοσειρά \n",
    " "
   ]
  },
  {
   "cell_type": "code",
   "execution_count": 82,
   "metadata": {
    "collapsed": false,
    "deletable": true,
    "editable": true
   },
   "outputs": [
    {
     "name": "stdout",
     "output_type": "stream",
     "text": [
      "7 + 5*x + x^3 + O(x^4)\n",
      "<type 'sage.rings.power_series_poly.PowerSeries_poly'>\n"
     ]
    }
   ],
   "source": [
    "var('x')\n",
    "q  = x^3+5*x + 7\n",
    "pq = q.power_series(QQ)\n",
    "print pq; print type(pq)"
   ]
  },
  {
   "cell_type": "markdown",
   "metadata": {
    "deletable": true,
    "editable": true
   },
   "source": [
    "    \n",
    "Ο λόγος που ίσως μας είναι χρήσιμη η μετατροπή ενός πολυωνύμου σε μια δυναμοσειρά, είναι ότι για τις δυναμοσειρές μπορεί να ορισθεί η διαίρεση (μέχρι όρους τάξης n) και συνεπώς μια δυναμοσειρά έχει έναν αντίστροφο (μέχρι όρους τάξης n), το οποίο δεν ισχύει για πολυώνυμα. Ας δούμε ένα παράδειγμα\n",
    " "
   ]
  },
  {
   "cell_type": "code",
   "execution_count": 83,
   "metadata": {
    "collapsed": false,
    "deletable": true,
    "editable": true
   },
   "outputs": [
    {
     "name": "stdout",
     "output_type": "stream",
     "text": [
      "1/7 - 5/49*x + 25/343*x^2 - 174/2401*x^3 + O(x^4)\n",
      "<type 'sage.rings.power_series_poly.PowerSeries_poly'>\n",
      "1 + O(x^4)\n"
     ]
    }
   ],
   "source": [
    "invpq = 1/pq\n",
    "print invpq; print type(invpq); print pq*invpq"
   ]
  },
  {
   "cell_type": "markdown",
   "metadata": {
    "deletable": true,
    "editable": true
   },
   "source": [
    "    \n",
    "Παρατηρούμε ότι το γινόμενο της δυναμοσειράς pq με την invpq μας δίνει 1 μέχρι όρους τάξης 4. Η τάξη αυτή είναι η τάξη της ακρίβειας των υπολογισμών και δεν είναι ίση με τον βαθμό του πολυωνύμου που εμφανίζεται στην δυναμοσειρά\n",
    " "
   ]
  },
  {
   "cell_type": "code",
   "execution_count": 84,
   "metadata": {
    "collapsed": false,
    "deletable": true,
    "editable": true
   },
   "outputs": [
    {
     "name": "stdout",
     "output_type": "stream",
     "text": [
      "4\n",
      "4\n"
     ]
    }
   ],
   "source": [
    "print pq.prec(); print invpq.prec(); "
   ]
  },
  {
   "cell_type": "code",
   "execution_count": 85,
   "metadata": {
    "collapsed": false,
    "deletable": true,
    "editable": true
   },
   "outputs": [
    {
     "name": "stdout",
     "output_type": "stream",
     "text": [
      "3\n"
     ]
    }
   ],
   "source": [
    "print pq.degree()"
   ]
  },
  {
   "cell_type": "markdown",
   "metadata": {
    "deletable": true,
    "editable": true
   },
   "source": [
    "    \n",
    "Μπορούμε επίσης να μετρατρέψουμε μια δυναμοσειράς σε μια δυναμοσειρά μκρότερης ακρίβειας χρησιμοποιώντας την μέθοδο `trancate_powerseries()`\n",
    " "
   ]
  },
  {
   "cell_type": "code",
   "execution_count": 86,
   "metadata": {
    "collapsed": false,
    "deletable": true,
    "editable": true
   },
   "outputs": [
    {
     "name": "stdout",
     "output_type": "stream",
     "text": [
      "1/7 - 5/49*x + O(x^2)\n",
      "<type 'sage.rings.power_series_poly.PowerSeries_poly'>\n"
     ]
    }
   ],
   "source": [
    "trinvpq = invpq.truncate_powerseries(2); \n",
    "print trinvpq; print type(trinvpq)"
   ]
  },
  {
   "cell_type": "markdown",
   "metadata": {
    "deletable": true,
    "editable": true
   },
   "source": [
    "    \n",
    "Μπορούμε επιπλέον να αποκόψουμε μια δυναμοσειρά σε ένα πολυώνυμο με την μέθοδο `polynomial()`, ή εναλλακτικά με την μέθοδο `trancate()`\n",
    " "
   ]
  },
  {
   "cell_type": "code",
   "execution_count": 87,
   "metadata": {
    "collapsed": false,
    "deletable": true,
    "editable": true
   },
   "outputs": [
    {
     "name": "stdout",
     "output_type": "stream",
     "text": [
      "-174/2401*x^3 + 25/343*x^2 - 5/49*x + 1/7\n",
      "-5/49*x + 1/7\n"
     ]
    }
   ],
   "source": [
    "print invpq.polynomial()\n",
    "print invpq.truncate(2)"
   ]
  },
  {
   "cell_type": "markdown",
   "metadata": {
    "deletable": true,
    "editable": true
   },
   "source": [
    "###  Προσεγγίσεις"
   ]
  },
  {
   "cell_type": "markdown",
   "metadata": {
    "deletable": true,
    "editable": true
   },
   "source": [
    "    \n",
    "Με την προσέγγιση Padé προσεγγίζουμε μια συνάρτηση από μια ρητή συνάρτηση, όπου ο βαθμός του πολυωνύμου του αριθμητή και του παρανομαστή είναι δοσμένοι θετικοί ακέραιοι. Οι συντελεστές των πολυωνύμων είναι ρητοί αριθμοί και προσδιορίζονται από την μέθοδο Padé, στην οποία δεν θα επεκταθούμε περισσότερο εδώ. Συνήθως η προσέγγιση  Padé μας δίνει μια καλύτερη προσέγγιση από τις σειρές Taylor, ιδίως όταν η συνάρτηση που θέλουμε να προσεγγίσουμε έχει πόλους. Στο Sage η προσέγγιση  Padé μιας συνάρτησης υπολοιείται με την \"μέθοδο\" `pade()`,\n",
    "που δέχεται σαν ορίσματα τον βαθμό του αριθμητή και του παρανομαστή.\n",
    " "
   ]
  },
  {
   "cell_type": "code",
   "execution_count": 88,
   "metadata": {
    "collapsed": false,
    "deletable": true,
    "editable": true
   },
   "outputs": [
    {
     "name": "stdout",
     "output_type": "stream",
     "text": [
      "(60514/59*z^4 - 1428000/59*z^2 + 3155040/59)/(z^6 + 3814/59*z^4 + 149520/59*z^2 + 3155040/59)\n",
      "<class 'sage.rings.fraction_field_element.FractionFieldElement_1poly_field'>\n"
     ]
    }
   ],
   "source": [
    "z = PowerSeriesRing(QQ, 'z').gen()\n",
    "pad = cos(z).pade(5,6)\n",
    "print pad; print type(pad)"
   ]
  },
  {
   "cell_type": "markdown",
   "metadata": {
    "deletable": true,
    "editable": true
   },
   "source": [
    "    \n",
    "Για να δούμε πόσο καλή είναι η προσέγγιση Padé της συνάρτησης του συνημιτόνου ας υπολογίσουμε την τιμή της σε ένα σημείο κι ας την συγκρίνουμε με την πραγματική τιμή στο ίδιο σημείο.\n",
    " "
   ]
  },
  {
   "cell_type": "code",
   "execution_count": 89,
   "metadata": {
    "collapsed": false,
    "deletable": true,
    "editable": true
   },
   "outputs": [
    {
     "name": "stdout",
     "output_type": "stream",
     "text": [
      "-0.9970661822\n",
      "-1\n"
     ]
    }
   ],
   "source": [
    "print pad(pi).n(digits=10)\n",
    "print cos(pi)"
   ]
  },
  {
   "cell_type": "code",
   "execution_count": 90,
   "metadata": {
    "collapsed": false,
    "deletable": true,
    "editable": true
   },
   "outputs": [
    {
     "data": {
      "image/png": "[encoded data removed]",
      "text/plain": [
       "Graphics object consisting of 2 graphics primitives"
      ]
     },
     "metadata": {},
     "output_type": "display_data"
    }
   ],
   "source": [
    "pp = plot(pad,(z,-2*pi,2*pi),legend_label='pad $\\cos \\,x$',color='red');\n",
    "pc = plot(cos(x),(x,-2*pi,2*pi),legend_label='$\\cos\\, x$');\n",
    "(pp+pc).show(figsize=4)"
   ]
  },
  {
   "cell_type": "markdown",
   "metadata": {
    "collapsed": true,
    "deletable": true,
    "editable": true
   },
   "source": [
    "    \n",
    "Θα έχουμε την ευκαιρία κατά την διάρκεια των μαθημάτων να δούμε προσεγγίσεις μιας συνάρτησης μέσω άλλων συναρτήσεων, όπως τριγωνομετρικές, όταν θα αναφερθούμε στις σειρές Fourier, και τα πολυώνυμα Chebyshev.\n",
    " "
   ]
  },
  {
   "cell_type": "markdown",
   "metadata": {
    "deletable": true,
    "editable": true
   },
   "source": [
    "###   Όρια"
   ]
  },
  {
   "cell_type": "markdown",
   "metadata": {
    "deletable": true,
    "editable": true
   },
   "source": [
    "    \n",
    "Στο Sage μπορούμε να βρούμε όρια συναρτήσεων (συμπεριλαμβανομένων πλευρικών ορίων) με την εντολή `limit()`, ή ισοδύναμα με την συντομογραφία της `lim()`\n",
    " "
   ]
  },
  {
   "cell_type": "code",
   "execution_count": 91,
   "metadata": {
    "collapsed": false,
    "deletable": true,
    "editable": true
   },
   "outputs": [
    {
     "name": "stdout",
     "output_type": "stream",
     "text": [
      "e^a\n"
     ]
    }
   ],
   "source": [
    "var('a,n,x')\n",
    "print lim( (1+a/n)^n,n=oo)"
   ]
  },
  {
   "cell_type": "code",
   "execution_count": 92,
   "metadata": {
    "collapsed": false,
    "deletable": true,
    "editable": true
   },
   "outputs": [
    {
     "name": "stdout",
     "output_type": "stream",
     "text": [
      "+Infinity\n"
     ]
    }
   ],
   "source": [
    "print lim(1/x - log(1/x) , x=oo ,dir='+')"
   ]
  },
  {
   "cell_type": "code",
   "execution_count": 93,
   "metadata": {
    "collapsed": false,
    "deletable": true,
    "editable": true
   },
   "outputs": [
    {
     "name": "stdout",
     "output_type": "stream",
     "text": [
      "1\n"
     ]
    }
   ],
   "source": [
    "print lim( x^(1/x) , x=oo)"
   ]
  },
  {
   "cell_type": "code",
   "execution_count": 94,
   "metadata": {
    "collapsed": false,
    "deletable": true,
    "editable": true
   },
   "outputs": [
    {
     "name": "stdout",
     "output_type": "stream",
     "text": [
      "-Infinity\n"
     ]
    }
   ],
   "source": [
    "print lim( 1/x , x=0 , dir='-')"
   ]
  },
  {
   "cell_type": "code",
   "execution_count": 95,
   "metadata": {
    "collapsed": false,
    "deletable": true,
    "editable": true
   },
   "outputs": [
    {
     "name": "stdout",
     "output_type": "stream",
     "text": [
      "ind\n"
     ]
    }
   ],
   "source": [
    "print lim(sin(1/x), x = 0)"
   ]
  },
  {
   "cell_type": "markdown",
   "metadata": {
    "deletable": true,
    "editable": true
   },
   "source": [
    "    \n",
    "Με `ind` το Sage εννοεί απροσδιοριστία, δηλαδή δεν υπάρχει όριο αλλά οι τιμές της συνάρτησης παραμένουν φραγμένες.\n",
    " "
   ]
  },
  {
   "cell_type": "markdown",
   "metadata": {
    "deletable": true,
    "editable": true
   },
   "source": [
    "##   Δεσμευμένα ακρότατα"
   ]
  },
  {
   "cell_type": "markdown",
   "metadata": {
    "deletable": true,
    "editable": true
   },
   "source": [
    "    \n",
    "Στην τελευταία αυτή παράγραφο του κεφαλαίου θα δούμε ένα παράδειγμα που είναι ενδεικτικό της αποτελεσματικής εφαρμογής των συμβολικών και αριθμητικών εργαλείων του Sage. \n",
    "\n",
    "Υποθέτω ότι είστε εξοικειωμένοι με το πρόβλημα βελτιστοποίησης των τιμών μιας συνάρτησης πολλών μεταβλητών υπό δέσμευση, με την μέθοδο των πολλαπλασιαστών Lagrange. Πιο συγκεκριμένα. \n",
    "Μας ενδιαφέρει να βρούμε τις βέλτιστες (μέγιστες κι ελάχιστες) τιμές της συνάρτησης $$ $$\n",
    "\n",
    "$\\begin{aligned} f(x,y,x) = x \\,y\\, z \\,,\\end{aligned}$ \n",
    "\n",
    "δοσμένου ότι τα σημεία $(x,y,z)$ είναι σημεία σφαίρας ακτίνας μονάδας και κέντρου $(0,0,0)$\n",
    "\n",
    "$\\begin{aligned} g(x,y,z)=x^2+y^2+z^2=1\\,.\\end{aligned}$\n",
    "\n",
    "Στο Sage ορίζουμε  με συμβολικές εκφράσεις την συνάρτηση που θέλουμε να βελτιστοποιήσουμε και την εξίσωση της δέσμευσης\n",
    " "
   ]
  },
  {
   "cell_type": "code",
   "execution_count": 96,
   "metadata": {
    "collapsed": false,
    "deletable": true,
    "editable": true
   },
   "outputs": [
    {
     "name": "stdout",
     "output_type": "stream",
     "text": [
      "optimize x*y*z subject to x^2 + y^2 + z^2 - 1 == 0\n"
     ]
    }
   ],
   "source": [
    "var('x,y,z')\n",
    "target = x*y*z\n",
    "constraint = x^2 + y^2 + z^2 - 1 == 0\n",
    "print 'optimize', target, 'subject to', constraint"
   ]
  },
  {
   "cell_type": "markdown",
   "metadata": {
    "deletable": true,
    "editable": true
   },
   "source": [
    "    \n",
    "Για να εφαρμόσουμε την μέθοδο των πολλαπλασιαστών Lagrange, πρέπει να βρούμε τις κλίσεις των συναρτήσεων $f\\,,g\\,,$ οπότε πρέπει να μετατρέψουμε τις συμβολικές εκφράσεις μας σε συναρτήσεις για να είναι σε θέση το Sage να υπολογίσει συμβολικά μερικές παραγώγους\n",
    " "
   ]
  },
  {
   "cell_type": "code",
   "execution_count": 97,
   "metadata": {
    "collapsed": false,
    "deletable": true,
    "editable": true
   },
   "outputs": [
    {
     "name": "stdout",
     "output_type": "stream",
     "text": [
      "target as function : (x, y, z) |--> x*y*z\n",
      "constraint as function : (x, y, z) |--> x^2 + y^2 + z^2 - 1\n",
      "gradient of target : (x, y, z) |--> (y*z, x*z, x*y)\n",
      "gradient of constraint : (x, y, z) |--> (2*x, 2*y, 2*z)\n"
     ]
    }
   ],
   "source": [
    "f(x,y,z) = target\n",
    "g(x,y,z) = constraint.lhs()\n",
    "print 'target as function :', f\n",
    "print 'constraint as function :', g\n",
    "gradf = f.diff()\n",
    "gradg = g.diff()\n",
    "print 'gradient of target :', gradf\n",
    "print 'gradient of constraint :', gradg"
   ]
  },
  {
   "cell_type": "markdown",
   "metadata": {
    "deletable": true,
    "editable": true
   },
   "source": [
    "    \n",
    "Αφού υπολογίσαμε τις κλίσεις είμαστε έτοιμοι να φτιάξουμε το σύστημα των εξισώσεων που η λύση τους θα μας δώσει τα δεσμευμένα ακρότατα. Συνήθως στην μέθοδο με τους πολλαπλασιαστές Lagrange η πραγματική παράμετρος δηλώνεται με $\\lambda$. Στο παρόν παράδειγμα την δηλώνουμε με την συμβολική μεταβλητή ell\n",
    " "
   ]
  },
  {
   "cell_type": "code",
   "execution_count": 98,
   "metadata": {
    "collapsed": false,
    "deletable": true,
    "editable": true
   },
   "outputs": [
    {
     "name": "stdout",
     "output_type": "stream",
     "text": [
      "[-2*ell*x + y*z == 0, -2*ell*y + x*z == 0, x*y - 2*ell*z == 0, x^2 + y^2 + z^2 - 1 == 0]\n"
     ]
    }
   ],
   "source": [
    "var('ell')\n",
    "eqs = [gradf(x,y,z)[k] - ell*gradg(x,y,z)[k] == 0 for k in range(3)]\n",
    "eqs.append(constraint)\n",
    "print eqs"
   ]
  },
  {
   "cell_type": "markdown",
   "metadata": {
    "deletable": true,
    "editable": true
   },
   "source": [
    "    \n",
    "Τώρα δεν έχουμε παρά να λύσουμε το σύστημα των εξισώσεων για να βρούμε τα δεσμευμένα ακρότατα\n",
    " "
   ]
  },
  {
   "cell_type": "code",
   "execution_count": 99,
   "metadata": {
    "collapsed": false,
    "deletable": true,
    "editable": true
   },
   "outputs": [
    {
     "name": "stdout",
     "output_type": "stream",
     "text": [
      "[\n",
      "[x == 0, y == -1, z == 0, ell == 0],\n",
      "[x == 0, y == 1, z == 0, ell == 0],\n",
      "[x == 0, y == 0, z == -1, ell == 0],\n",
      "[x == 0, y == 0, z == 1, ell == 0],\n",
      "[x == 1, y == 0, z == 0, ell == 0],\n",
      "[x == -1, y == 0, z == 0, ell == 0],\n",
      "[x == -1/3*sqrt(3), y == 1/3*sqrt(3), z == -1/3*sqrt(3), ell == 1/6*sqrt(3)],\n",
      "[x == 1/3*sqrt(3), y == -1/3*sqrt(3), z == -1/3*sqrt(3), ell == 1/6*sqrt(3)],\n",
      "[x == -1/3*sqrt(3), y == -1/3*sqrt(3), z == 1/3*sqrt(3), ell == 1/6*sqrt(3)],\n",
      "[x == 1/3*sqrt(3), y == 1/3*sqrt(3), z == 1/3*sqrt(3), ell == 1/6*sqrt(3)],\n",
      "[x == -1/3*sqrt(3), y == 1/3*sqrt(3), z == 1/3*sqrt(3), ell == -1/6*sqrt(3)],\n",
      "[x == 1/3*sqrt(3), y == -1/3*sqrt(3), z == 1/3*sqrt(3), ell == -1/6*sqrt(3)],\n",
      "[x == -1/3*sqrt(3), y == -1/3*sqrt(3), z == -1/3*sqrt(3), ell == -1/6*sqrt(3)],\n",
      "[x == 1/3*sqrt(3), y == 1/3*sqrt(3), z == -1/3*sqrt(3), ell == -1/6*sqrt(3)]\n",
      "]\n",
      "found 14 solutions\n"
     ]
    }
   ],
   "source": [
    "sols = solve(eqs,[x,y,z,ell])\n",
    "print sols\n",
    "print 'found', len(sols), 'solutions'"
   ]
  },
  {
   "cell_type": "markdown",
   "metadata": {
    "deletable": true,
    "editable": true
   },
   "source": [
    "    \n",
    "Το Sage βρήκε 14 λύσεις, οπότε 14 πιθανά δεσμευμένα ακρότατα. Οι αντίστοιχες τιμές της συνάρτησης $f(x,y,z)$ που θέλουμε να βελτιστοποιήσουμε είναι\n",
    " "
   ]
  },
  {
   "cell_type": "code",
   "execution_count": 100,
   "metadata": {
    "collapsed": false,
    "deletable": true,
    "editable": true
   },
   "outputs": [
    {
     "name": "stdout",
     "output_type": "stream",
     "text": [
      "[0, 0, 0, 0, 0, 0, 1/9*sqrt(3), 1/9*sqrt(3), 1/9*sqrt(3), 1/9*sqrt(3), -1/9*sqrt(3), -1/9*sqrt(3), -1/9*sqrt(3), -1/9*sqrt(3)]\n"
     ]
    }
   ],
   "source": [
    "print [target.substitute(sols[k]) for k in range(0,len(sols))]"
   ]
  },
  {
   "cell_type": "markdown",
   "metadata": {
    "deletable": true,
    "editable": true
   },
   "source": [
    "    \n",
    "οπότε τα σημεία \n",
    "\n",
    "$\\begin{aligned} \\left(\\frac{-\\sqrt{3}}{3}\\,, \\frac{\\sqrt{3}}{3} ,\\,\\frac{-\\sqrt{3}}{3}\\right), \\\\\n",
    "\\left(\\frac{\\sqrt{3}}{3}\\,, \\frac{-\\sqrt{3}}{3} ,\\,\\frac{-\\sqrt{3}}{3}\\right),\\\\\n",
    "\\left(\\frac{\\sqrt{3}}{3}\\,, \\frac{\\sqrt{3}}{3} ,\\,\\frac{\\sqrt{3}}{3}\\right), \\\\\n",
    "\\left(\\frac{-\\sqrt{3}}{3}\\,, \\frac{-\\sqrt{3}}{3} ,\\,\\frac{\\sqrt{3}}{3}\\right) \\end{aligned}$ \n",
    "\n",
    "είναι δεσμευμένα μέγιστα, \n",
    "\n",
    "και τα σημεία \n",
    "\n",
    "$\\begin{aligned} \\left(\\frac{-\\sqrt{3}}{3}\\,, \\frac{-\\sqrt{3}}{3} ,\\,\\frac{-\\sqrt{3}}{3}\\right), \\\\\n",
    "\\left(\\frac{\\sqrt{3}}{3}\\,, \\frac{\\sqrt{3}}{3} ,\\,\\frac{-\\sqrt{3}}{3}\\right), \\\\\n",
    "\\left(\\frac{-\\sqrt{3}}{3}\\,, \\frac{\\sqrt{3}}{3} ,\\,\\frac{\\sqrt{3}}{3}\\right), \\\\\n",
    "\\left(\\frac{\\sqrt{3}}{3}\\,, \\frac{-\\sqrt{3}}{3} ,\\,\\frac{\\sqrt{3}}{3}\\right) \\end{aligned}$\n",
    " \n",
    "είναι δεσμευμένα ελάχιστα.\n",
    " "
   ]
  },
  {
   "cell_type": "code",
   "execution_count": null,
   "metadata": {
    "collapsed": true,
    "deletable": true,
    "editable": true
   },
   "outputs": [],
   "source": []
  }
 ],
 "metadata": {
  "kernelspec": {
   "display_name": "SageMath 8.0",
   "language": "",
   "name": "sagemath"
  },
  "language_info": {
   "codemirror_mode": {
    "name": "ipython",
    "version": 2
   },
   "file_extension": ".py",
   "mimetype": "text/x-python",
   "name": "python",
   "nbconvert_exporter": "python",
   "pygments_lexer": "ipython2",
   "version": "2.7.13"
  }
 },
 "nbformat": 4,
 "nbformat_minor": 0
}
