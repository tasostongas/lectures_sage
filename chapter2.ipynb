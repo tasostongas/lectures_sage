{
 "cells": [
  {
   "cell_type": "markdown",
   "metadata": {
    "deletable": true,
    "editable": true
   },
   "source": [
    "#  Πολυώνυμα και ρητές συναρτήσεις"
   ]
  },
  {
   "cell_type": "markdown",
   "metadata": {
    "deletable": true,
    "editable": true
   },
   "source": [
    "##  Πολυώνυμα σε μία και περισσότερες μεταβλητές"
   ]
  },
  {
   "cell_type": "markdown",
   "metadata": {
    "deletable": true,
    "editable": true
   },
   "source": [
    "    \n",
    "Μια από τις κύριες εργασίες ενός συστήματος που εκτελεί συμβολικούς υπολογισμούς, όπως το Sage, είναι ο χειρισμός πολυωνύμων σε μια ή περισσότερες μεταβλητές. Αν και από την υπολογιστική πλευρά και οι δυο τύποι εκφράσεων αποθηκεύονται με παρόμοιο τρόπο από μαθηματική πλευρά διαφέρουν δραστικά.\n",
    " "
   ]
  },
  {
   "cell_type": "markdown",
   "metadata": {
    "deletable": true,
    "editable": true
   },
   "source": [
    "### Τα πολυώνυμα ως συμβολικές εκφράσεις\n",
    "\n",
    "    \n",
    "Με απλά λόγια ένα πολυώνυμο p μιας μεταβλητής x είναι ένα άθροισμα όρων, όπου κάθε όρος έχει έναν συντελεστή $a_k$, που πολλαπλασιάζεται με ένα μονώνυμο, όπου το κάθε μονώνυμο είναι η μεταβλητή x υψωμένη σε κάποια δύναμη k, όπου k μη-αρνητικός ακέραιος, δηλαδή\n",
    "\n",
    "$\\begin{aligned} p = a_k\\, x^k + a_{k-1} \\, x^{k-1} + \\cdots + a_1 \\, x +a_0\\,.\\end{aligned}$\n",
    "\n",
    "Για παράδειγμα,\n",
    " "
   ]
  },
  {
   "cell_type": "code",
   "execution_count": 1,
   "metadata": {
    "collapsed": false,
    "deletable": true,
    "editable": true,
    "scrolled": true
   },
   "outputs": [
    {
     "name": "stdout",
     "output_type": "stream",
     "text": [
      "x^4 - 4*x^2 - 7*x + 9\n",
      "<type 'sage.symbolic.expression.Expression'>\n",
      "degree of p : 4\n"
     ]
    }
   ],
   "source": [
    "p = x^4 - 4*x^2 -  7*x + 9\n",
    "print p; print type(p)\n",
    "print 'degree of p :' , p.degree(x)"
   ]
  },
  {
   "cell_type": "markdown",
   "metadata": {
    "deletable": true,
    "editable": true
   },
   "source": [
    "    \n",
    "Στο Sage, o βαθμός ενός πολυωνύμου μας δίνεται με την συνάρτηση `degree()` η οποία δέχεται ως όρισμα την μεταβλητή του πολυωνύμου. Μπορούμε να συλλέξουμε τους συντελεστές των δυνάμεων της μεταβλητής x του πολυωνύμου p, με την εντολή `coefficient()`,  ως εξής:  \n",
    " "
   ]
  },
  {
   "cell_type": "code",
   "execution_count": 2,
   "metadata": {
    "collapsed": false,
    "deletable": true,
    "editable": true
   },
   "outputs": [
    {
     "name": "stdout",
     "output_type": "stream",
     "text": [
      "the coefficient of x^2 : -4\n",
      "all coefficients : [9, -7, -4, 0, 1]\n",
      "the leading coefficient : 1\n"
     ]
    }
   ],
   "source": [
    "print 'the coefficient of x^2 :', p.coefficient(x,2)\n",
    "print 'all coefficients :', [p.coefficient(x,k) for k in range(p.degree(x)+1)]\n",
    "print 'the leading coefficient :', p.leading_coefficient(x)"
   ]
  },
  {
   "cell_type": "markdown",
   "metadata": {
    "deletable": true,
    "editable": true
   },
   "source": [
    "    \n",
    "Επίσης, έχουμε την δυνατότητα να καταχωρούμε σε μια λίστα από λίστες όλους τους συντελεστές και τις αντίστοιχες δυνάμεις του x:\n",
    " "
   ]
  },
  {
   "cell_type": "code",
   "execution_count": 3,
   "metadata": {
    "collapsed": false,
    "deletable": true,
    "editable": true
   },
   "outputs": [
    {
     "name": "stdout",
     "output_type": "stream",
     "text": [
      "all coefficients : [[9, 0], [-7, 1], [-4, 2], [1, 4]]\n",
      "all coefficients in x : [[9, 0], [-7, 1], [-4, 2], [1, 4]]\n"
     ]
    }
   ],
   "source": [
    "print 'all coefficients :', p.coefficients()\n",
    "print 'all coefficients in x :', p.coefficients(x)"
   ]
  },
  {
   "cell_type": "markdown",
   "metadata": {
    "deletable": true,
    "editable": true
   },
   "source": [
    "    \n",
    "Αν θέλουμε να δούμε τους όρους του πολυωνύμου συμβολικά τότε χρησιμοποιούμε την συνάρτηση `operands()`\n",
    " "
   ]
  },
  {
   "cell_type": "code",
   "execution_count": 4,
   "metadata": {
    "collapsed": false,
    "deletable": true,
    "editable": true
   },
   "outputs": [
    {
     "name": "stdout",
     "output_type": "stream",
     "text": [
      "the operands of p : [x^4, -4*x^2, -7*x, 9]\n"
     ]
    }
   ],
   "source": [
    "print 'the operands of p :', p.operands()"
   ]
  },
  {
   "cell_type": "markdown",
   "metadata": {
    "deletable": true,
    "editable": true
   },
   "source": [
    "    \n",
    "που μας εμφανίζει μια λίστα με τους όρους που απαρτίζουν το άθροισμα του πολυωνύμου. Ας ρωτήσουμε το Sage για τις ρίζες του πολυωνύμου p\n",
    " "
   ]
  },
  {
   "cell_type": "code",
   "execution_count": 5,
   "metadata": {
    "collapsed": false,
    "deletable": true,
    "editable": true
   },
   "outputs": [
    {
     "name": "stdout",
     "output_type": "stream",
     "text": [
      "[(-1/6*sqrt((9*(1/18*sqrt(248699)*sqrt(3) + 3787/54)^(2/3) + 24*(1/18*sqrt(248699)*sqrt(3) + 3787/54)^(1/3) + 124)/(1/18*sqrt(248699)*sqrt(3) + 3787/54)^(1/3)) - 1/2*sqrt(-(1/18*sqrt(248699)*sqrt(3) + 3787/54)^(1/3) - 124/9/(1/18*sqrt(248699)*sqrt(3) + 3787/54)^(1/3) - 42/sqrt((9*(1/18*sqrt(248699)*sqrt(3) + 3787/54)^(2/3) + 24*(1/18*sqrt(248699)*sqrt(3) + 3787/54)^(1/3) + 124)/(1/18*sqrt(248699)*sqrt(3) + 3787/54)^(1/3)) + 16/3), 1), (-1/6*sqrt((9*(1/18*sqrt(248699)*sqrt(3) + 3787/54)^(2/3) + 24*(1/18*sqrt(248699)*sqrt(3) + 3787/54)^(1/3) + 124)/(1/18*sqrt(248699)*sqrt(3) + 3787/54)^(1/3)) + 1/2*sqrt(-(1/18*sqrt(248699)*sqrt(3) + 3787/54)^(1/3) - 124/9/(1/18*sqrt(248699)*sqrt(3) + 3787/54)^(1/3) - 42/sqrt((9*(1/18*sqrt(248699)*sqrt(3) + 3787/54)^(2/3) + 24*(1/18*sqrt(248699)*sqrt(3) + 3787/54)^(1/3) + 124)/(1/18*sqrt(248699)*sqrt(3) + 3787/54)^(1/3)) + 16/3), 1), (1/6*sqrt((9*(1/18*sqrt(248699)*sqrt(3) + 3787/54)^(2/3) + 24*(1/18*sqrt(248699)*sqrt(3) + 3787/54)^(1/3) + 124)/(1/18*sqrt(248699)*sqrt(3) + 3787/54)^(1/3)) - 1/2*sqrt(-(1/18*sqrt(248699)*sqrt(3) + 3787/54)^(1/3) - 124/9/(1/18*sqrt(248699)*sqrt(3) + 3787/54)^(1/3) + 42/sqrt((9*(1/18*sqrt(248699)*sqrt(3) + 3787/54)^(2/3) + 24*(1/18*sqrt(248699)*sqrt(3) + 3787/54)^(1/3) + 124)/(1/18*sqrt(248699)*sqrt(3) + 3787/54)^(1/3)) + 16/3), 1), (1/6*sqrt((9*(1/18*sqrt(248699)*sqrt(3) + 3787/54)^(2/3) + 24*(1/18*sqrt(248699)*sqrt(3) + 3787/54)^(1/3) + 124)/(1/18*sqrt(248699)*sqrt(3) + 3787/54)^(1/3)) + 1/2*sqrt(-(1/18*sqrt(248699)*sqrt(3) + 3787/54)^(1/3) - 124/9/(1/18*sqrt(248699)*sqrt(3) + 3787/54)^(1/3) + 42/sqrt((9*(1/18*sqrt(248699)*sqrt(3) + 3787/54)^(2/3) + 24*(1/18*sqrt(248699)*sqrt(3) + 3787/54)^(1/3) + 124)/(1/18*sqrt(248699)*sqrt(3) + 3787/54)^(1/3)) + 16/3), 1)]\n"
     ]
    }
   ],
   "source": [
    "print p.roots()"
   ]
  },
  {
   "cell_type": "markdown",
   "metadata": {
    "deletable": true,
    "editable": true
   },
   "source": [
    "    \n",
    "Παρατηρούμε ότι εμφανίζονται πολλοί όροι που περιέχουν τετραγωγικές ρίζες μέσω της συνάρτησης `sqrt()`. Αν το αποτέλεσμα δεν είναι αυτό που αναζητούσαμε, τότε πρέπει να αλλάξουμε το προεπιλεγμένο σώμα των ρητών, σε αυτό των πραγματικών και των μιγαδικών, όπως παρακάτω   \n",
    " "
   ]
  },
  {
   "cell_type": "code",
   "execution_count": 6,
   "metadata": {
    "collapsed": false,
    "deletable": true,
    "editable": true
   },
   "outputs": [
    {
     "name": "stdout",
     "output_type": "stream",
     "text": [
      "the real roots : [(0.910297335360486, 1), (2.31169382618360, 1)]\n",
      "the complex roots : [(0.910297335360486, 1), (2.31169382618360, 1), (-1.61099558077204 - 1.29676194949457*I, 1), (-1.61099558077204 + 1.29676194949457*I, 1)]\n"
     ]
    }
   ],
   "source": [
    "print 'the real roots :', p.roots(ring=RR)\n",
    "print 'the complex roots :', p.roots(ring=CC)"
   ]
  },
  {
   "cell_type": "markdown",
   "metadata": {
    "deletable": true,
    "editable": true
   },
   "source": [
    "    \n",
    "απ' όπου διαπιστώνουμε ότι το πολυώνυμό μας έχει δυο διαφορετικές πραγματικές ρίζες και δυο συζυγείς μιγαδικές.\n",
    " "
   ]
  },
  {
   "cell_type": "markdown",
   "metadata": {
    "deletable": true,
    "editable": true
   },
   "source": [
    "### Πολυώνυμα μιας μεταβλητής\n",
    "\n",
    "Μπορούμε να δηλώσουμε ρητά σε ποιο σώμα ανήκουν οι συντελεστές του πολυωνύμου p, και να περιορίσουμε την έκφραση του p σε αυτό το σώμα. Ας σημειώσουμε με q τον περιορισμό του p στους ρητούς αριθμούς\n",
    " "
   ]
  },
  {
   "cell_type": "code",
   "execution_count": 7,
   "metadata": {
    "collapsed": false,
    "deletable": true,
    "editable": true
   },
   "outputs": [
    {
     "name": "stdout",
     "output_type": "stream",
     "text": [
      "x^4 - 4*x^2 - 7*x + 9\n",
      "<type 'sage.rings.polynomial.polynomial_rational_flint.Polynomial_rational_flint'>\n"
     ]
    }
   ],
   "source": [
    "P.<x> = PolynomialRing(QQ)\n",
    "q = P(p)\n",
    "print q; print type(q)"
   ]
  },
  {
   "cell_type": "markdown",
   "metadata": {
    "deletable": true,
    "editable": true
   },
   "source": [
    "    \n",
    "Ένας εναλλακτικός πιο γρήγορος τρόπος, κι ίσως πιο φυσικός, για τον περιορισμό του πολυωνύμου p είναι\n",
    " "
   ]
  },
  {
   "cell_type": "code",
   "execution_count": 8,
   "metadata": {
    "collapsed": false,
    "deletable": true,
    "editable": true
   },
   "outputs": [
    {
     "name": "stdout",
     "output_type": "stream",
     "text": [
      "x^4 - 4*x^2 - 7*x + 9\n",
      "<type 'sage.rings.polynomial.polynomial_rational_flint.Polynomial_rational_flint'>\n"
     ]
    }
   ],
   "source": [
    "R = QQ[x]\n",
    "r = R(p)\n",
    "print r; print type(r)"
   ]
  },
  {
   "cell_type": "markdown",
   "metadata": {
    "deletable": true,
    "editable": true
   },
   "source": [
    "    \n",
    "Αν δεν ενδιαφερόμαστε για το συγκεκριμένο πολυώνυμο q, τότε μπορούμε να επιλέξουμε ένα τυχαίο πολυώνυμο τετάρτου βαθμού στον δακτύλιο των πολυωνύμων με συντελεστές στους ρητούς ως εξής:\n",
    " "
   ]
  },
  {
   "cell_type": "code",
   "execution_count": 9,
   "metadata": {
    "collapsed": false,
    "deletable": true,
    "editable": true
   },
   "outputs": [
    {
     "name": "stdout",
     "output_type": "stream",
     "text": [
      "5*x^4 - 1/2*x^3 + 1/2*x + 8/7\n"
     ]
    }
   ],
   "source": [
    "print QQ[x].random_element(degree=4)"
   ]
  },
  {
   "cell_type": "markdown",
   "metadata": {
    "deletable": true,
    "editable": true
   },
   "source": [
    "    \n",
    "Ας συνεχίσουμε με το q που επιλέξαμε στην αρχή. Αν θέλουμε τον βαθμό και τους συντελεστές του q δεν χρειάζεται να δώσουμε την μεταβλητή x, αφού την τελευταία την έχουμε δηλώσει ήδη στον ορισμό του q πιο πάνω. \n",
    " "
   ]
  },
  {
   "cell_type": "code",
   "execution_count": 10,
   "metadata": {
    "collapsed": false,
    "deletable": true,
    "editable": true
   },
   "outputs": [
    {
     "name": "stdout",
     "output_type": "stream",
     "text": [
      "4\n",
      "coefficients of nonzero terms : [9, -7, -4, 1]\n",
      "all coefficients : [9, -7, -4, 0, 1]\n",
      "the list of all coefficients : [9, -7, -4, 0, 1]\n",
      "a dictionary representation : {0: 9, 1: -7, 2: -4, 4: 1}\n"
     ]
    }
   ],
   "source": [
    "print q.degree();\n",
    "print 'coefficients of nonzero terms :', q.coefficients()\n",
    "print 'all coefficients :', q.coefficients(sparse=False)\n",
    "print 'the list of all coefficients :', q.list()\n",
    "print 'a dictionary representation :', q.dict()"
   ]
  },
  {
   "cell_type": "markdown",
   "metadata": {
    "deletable": true,
    "editable": true
   },
   "source": [
    "    \n",
    "Παρατηρήστε τους συντελεστές του q στην δεύτερη γράμμη αποτελεσμάτων που εμφανίζονται παραπάνω. Εμφανίζονται μόνο όσοι από αυτούς είναι μη-μηδενικοί, σε αντιδιαστολή με την τρίτη γραμμή όπου εμφανίζονται ανεξαιρέτως όλοι οι συντελεστές του q. Επίσης στην λεξικογραφική αναπαράσταση εμφανίζονται μόνο οι δυνάμεις των μονώνυμων που έχουν μη-μηδενικούς συντελεστές. Η λεξικογραφική αναπαράσταση είναι πολύ χρήσιμη για πολυώνυμα που έχουν λίγους όρους σε σχέση με τον βαθμό του πολυωνύμου. \n",
    "\n",
    "\n",
    "Ας δούμε αν το πολυώνυμο q είναι ανάγωγο στους ρητούς"
   ]
  },
  {
   "cell_type": "code",
   "execution_count": 11,
   "metadata": {
    "collapsed": false,
    "deletable": true,
    "editable": true
   },
   "outputs": [
    {
     "name": "stdout",
     "output_type": "stream",
     "text": [
      "True\n",
      "x^4 - 4*x^2 - 7*x + 9\n"
     ]
    }
   ],
   "source": [
    "print q.is_irreducible()\n",
    "print factor(q)"
   ]
  },
  {
   "cell_type": "markdown",
   "metadata": {
    "deletable": true,
    "editable": true
   },
   "source": [
    "    \n",
    "Αφού είναι ανάγωγο ας επεκτείνουμε το σώμα ώστε αυτό να περιλαμβάνει μια ρίζα του πολυωνύμου q στο QQ, την οποία ας την ονομάζουμε a \n",
    "  "
   ]
  },
  {
   "cell_type": "code",
   "execution_count": 12,
   "metadata": {
    "collapsed": false,
    "deletable": true,
    "editable": true
   },
   "outputs": [
    {
     "name": "stdout",
     "output_type": "stream",
     "text": [
      "Number Field in a with defining polynomial x^4 - 4*x^2 - 7*x + 9\n"
     ]
    }
   ],
   "source": [
    "K.<a> = QQ.extension(q)\n",
    "print K"
   ]
  },
  {
   "cell_type": "markdown",
   "metadata": {
    "deletable": true,
    "editable": true
   },
   "source": [
    "    \n",
    "κι ας δούμε την μορφή του p στο νέο σώμα Κ, την οποία ας το ονομάσουμε q2\n",
    "  "
   ]
  },
  {
   "cell_type": "code",
   "execution_count": 13,
   "metadata": {
    "collapsed": false,
    "deletable": true,
    "editable": true
   },
   "outputs": [
    {
     "name": "stdout",
     "output_type": "stream",
     "text": [
      "x^4 - 4*x^2 - 7*x + 9\n",
      "<class 'sage.rings.polynomial.polynomial_number_field.PolynomialRing_field_with_category.element_class'>\n"
     ]
    }
   ],
   "source": [
    "q2 = K[x](q)\n",
    "print q2; print type(q2)"
   ]
  },
  {
   "cell_type": "markdown",
   "metadata": {
    "deletable": true,
    "editable": true
   },
   "source": [
    "    \n",
    "Είναι άραγε ανάγωγο το q2 στο K ;\n",
    " "
   ]
  },
  {
   "cell_type": "code",
   "execution_count": 14,
   "metadata": {
    "collapsed": false,
    "deletable": true,
    "editable": true
   },
   "outputs": [
    {
     "name": "stdout",
     "output_type": "stream",
     "text": [
      "False\n",
      "(x - a) * (x^3 + a*x^2 + (a^2 - 4)*x + a^3 - 4*a - 7)\n"
     ]
    }
   ],
   "source": [
    "print q2.is_irreducible()\n",
    "print factor(q2)"
   ]
  },
  {
   "cell_type": "markdown",
   "metadata": {
    "deletable": true,
    "editable": true
   },
   "source": [
    "    \n",
    "Παρατηρούμε ότι επεκτείνοντας το σώμα των ρητών κατά μια ρίζα `a` του q, δεν είναι αρκετό για να παραγοντοποιήσουμε το πολυώνυμο q σε γραμμικούς παράγοντες. Oπότε πρέπει να συνεχίσουμε την διαδικασία παραγοντοποίησης και να περιορίσουμε κατάλληλα το πολυώνυμο τρίτου βαθμού που εμφανίζεται παραπάνω.  \n",
    " "
   ]
  },
  {
   "cell_type": "code",
   "execution_count": 15,
   "metadata": {
    "collapsed": false,
    "deletable": true,
    "editable": true
   },
   "outputs": [
    {
     "name": "stdout",
     "output_type": "stream",
     "text": [
      "x^3 + a*x^2 + (a^2 - 4)*x + a^3 - 4*a - 7\n",
      "<class 'sage.rings.fraction_field_element.FractionFieldElement_1poly_field'>\n",
      "<class 'sage.rings.polynomial.polynomial_number_field.PolynomialRing_field_with_category.element_class'>\n",
      "Number Field in b with defining polynomial x^3 + a*x^2 + (a^2 - 4)*x + a^3 - 4*a - 7 over its base field\n"
     ]
    }
   ],
   "source": [
    "f2 = q2/(x-a); print f2; print type(f2); print type(K[x](f2))\n",
    "L.<b> = K.extension(K[x](f2))\n",
    "print L"
   ]
  },
  {
   "cell_type": "markdown",
   "metadata": {
    "deletable": true,
    "editable": true
   },
   "source": [
    "    \n",
    "Τώρα μπορούμε να πάρουμε το αρχικό μας πολυώνυμο q και να το παραγοντοποιήσουμε στη νέα επέκταση L. \n",
    " "
   ]
  },
  {
   "cell_type": "code",
   "execution_count": 16,
   "metadata": {
    "collapsed": false,
    "deletable": true,
    "editable": true
   },
   "outputs": [
    {
     "name": "stdout",
     "output_type": "stream",
     "text": [
      "(x - b) * (x - a) * (x^2 + (b + a)*x + b^2 + a*b + a^2 - 4)\n"
     ]
    }
   ],
   "source": [
    "q3 = L[x](q)\n",
    "print factor(q3)"
   ]
  },
  {
   "cell_type": "markdown",
   "metadata": {
    "deletable": true,
    "editable": true
   },
   "source": [
    "    \n",
    "Για να συνεχίσουμε την διαδικασία επέκτασης του σώματος, μετατρέπουμε την μέχρι τώρα παραγοντοποίηση του q σε μια λίστα \n",
    " "
   ]
  },
  {
   "cell_type": "code",
   "execution_count": 17,
   "metadata": {
    "collapsed": false,
    "deletable": true,
    "editable": true
   },
   "outputs": [
    {
     "name": "stdout",
     "output_type": "stream",
     "text": [
      "[(x - b, 1), (x - a, 1), (x^2 + (b + a)*x + b^2 + a*b + a^2 - 4, 1)]\n"
     ]
    }
   ],
   "source": [
    "lf = list(factor(q3))\n",
    "print lf"
   ]
  },
  {
   "cell_type": "markdown",
   "metadata": {
    "deletable": true,
    "editable": true
   },
   "source": [
    "    \n",
    "Παρατηρούμε ότι τα στοιχεία της λίστας είναι δυάδες που περιέχουν τους παράγοντες και τις αντίστοιχες πολλαπλότητές τους. Οπότε για να επιλέξουμε το πολυώνυμο δευτέρου βαθμού πρέπει να αφαιρέσουμε την πολλαπλότητα που εμφανίζεται στην λίστα \n",
    " "
   ]
  },
  {
   "cell_type": "code",
   "execution_count": 18,
   "metadata": {
    "collapsed": false,
    "deletable": true,
    "editable": true
   },
   "outputs": [
    {
     "name": "stdout",
     "output_type": "stream",
     "text": [
      "(x^2 + (b + a)*x + b^2 + a*b + a^2 - 4, 1) <type 'tuple'>\n",
      "x^2 + (b + a)*x + b^2 + a*b + a^2 - 4\n",
      "<class 'sage.rings.polynomial.polynomial_number_field.PolynomialRing_field_with_category.element_class'>\n"
     ]
    }
   ],
   "source": [
    "f3t = lf[2]; print f3t, type(f3t)\n",
    "f3 = L[x](f3t[0]); print f3; print type(f3)"
   ]
  },
  {
   "cell_type": "markdown",
   "metadata": {
    "deletable": true,
    "editable": true
   },
   "source": [
    "    \n",
    "Τώρα είμαστε σε θέση να εκτελέσουμε την τελευταία επέκταση του σώματος ώστε να παραγοντοποιηθεί επιτέλους το πολυώνυμο q\n",
    " "
   ]
  },
  {
   "cell_type": "code",
   "execution_count": 19,
   "metadata": {
    "collapsed": false,
    "deletable": true,
    "editable": true
   },
   "outputs": [
    {
     "name": "stdout",
     "output_type": "stream",
     "text": [
      "Number Field in c with defining polynomial x^2 + (b + a)*x + b^2 + a*b + a^2 - 4 over its base field\n"
     ]
    }
   ],
   "source": [
    "M.<c> = L.extension(f3);\n",
    "print M"
   ]
  },
  {
   "cell_type": "markdown",
   "metadata": {
    "deletable": true,
    "editable": true
   },
   "source": [
    "    \n",
    "Αφού το q στο σώμα M μπορεί να παραγοντοποιηθεί ως γινόμενο γραμμικών παραγόντων, έχουμε βρει **συμβολικά** τις ρίζες του q, εκφράζοντάς τις ως προς τους αλγεβρικούς αριθμούς a,b και c. Πραγματικά:\n",
    " "
   ]
  },
  {
   "cell_type": "code",
   "execution_count": 20,
   "metadata": {
    "collapsed": false,
    "deletable": true,
    "editable": true
   },
   "outputs": [
    {
     "name": "stdout",
     "output_type": "stream",
     "text": [
      "(x - b) * (x + c + b + a) * (x - c) * (x - a)\n"
     ]
    }
   ],
   "source": [
    "q4 = M[x](q)\n",
    "print factor(q4)"
   ]
  },
  {
   "cell_type": "markdown",
   "metadata": {
    "deletable": true,
    "editable": true
   },
   "source": [
    "    \n",
    "το q παραγοντοποιείται σε γραμμικούς παράγοντες στην επέκταση M. Παρατηρήστε την σύνδεση μεταξύ της διαδικασίας παραγοντοποίησης και εύρεσης ριζών\n",
    " "
   ]
  },
  {
   "cell_type": "code",
   "execution_count": 21,
   "metadata": {
    "collapsed": false,
    "deletable": true,
    "editable": true
   },
   "outputs": [
    {
     "name": "stdout",
     "output_type": "stream",
     "text": [
      "[(b, 1), (-c - b - a, 1), (c, 1), (a, 1)]\n"
     ]
    }
   ],
   "source": [
    "print q4.roots()"
   ]
  },
  {
   "cell_type": "markdown",
   "metadata": {
    "deletable": true,
    "editable": true
   },
   "source": [
    "    \n",
    "Φυσικά τώρα μπορούμε να βρούμε **και αριθμητικά** τις ρίζες του q στο `Μ` (δηλαδή του q4) αλλάζοντας δακτύλιο \n",
    " "
   ]
  },
  {
   "cell_type": "code",
   "execution_count": 22,
   "metadata": {
    "collapsed": false,
    "deletable": true,
    "editable": true
   },
   "outputs": [
    {
     "name": "stdout",
     "output_type": "stream",
     "text": [
      "[(0.910297335360486, 1), (2.31169382618360, 1), (-1.61099558077204 - 1.29676194949457*I, 1), (-1.61099558077204 + 1.29676194949457*I, 1)]\n"
     ]
    }
   ],
   "source": [
    "rizes = q4.roots(ring=CC)\n",
    "print rizes"
   ]
  },
  {
   "cell_type": "markdown",
   "metadata": {
    "deletable": true,
    "editable": true
   },
   "source": [
    "    \n",
    "Επειδή ο συντελεστής του όρου $x^3$ είναι μηδέν, το άθροισμα των ριζών του πολυωνύμου μας, και στην συμβολική και στην αριθμητική του μορφή, οφείλει να είναι μηδέν. Στην συμβολική μορφή των ριζών το γεγονός αυτό προκύπτει άμεσα. Οπότε ας το ελέγξουμε για την αριθμητική μορφή των ριζών. \n",
    " "
   ]
  },
  {
   "cell_type": "code",
   "execution_count": 23,
   "metadata": {
    "collapsed": false,
    "deletable": true,
    "editable": true
   },
   "outputs": [
    {
     "name": "stdout",
     "output_type": "stream",
     "text": [
      "0.000000000000000\n"
     ]
    }
   ],
   "source": [
    "print sum( list(rizes[i])[0] for i in range(4))"
   ]
  },
  {
   "cell_type": "markdown",
   "metadata": {
    "deletable": true,
    "editable": true
   },
   "source": [
    "    \n",
    "Συνοψίζοντας, διακρίνουμε δυο κύριους τρόπους εύρεσης των ριζών ενός πολυωνύμου, τον **συμβολικό** και τον **αριθμητικό**. Το προεπιλεγμένο σώμα για τα αριθμητικά αποτελέσματα είναι οι μιγαδικοί αριθμοί. Με τον συμβολικό τρόπο επεκτείνουμε το σώμα των ρητών αριθμών εισαγάγοντας ικανό αριθμό συμβόλων ώστε να μπορούν να αναπαραστούν όλες τις ρίζες ενός πολυωνύμου, και συνεπώς να μπορεί το πολυώνυμο να παραγοντοποιηθεί σε γραμμικούς παράγοντες.   \n",
    " "
   ]
  },
  {
   "cell_type": "markdown",
   "metadata": {
    "collapsed": true,
    "deletable": true,
    "editable": true
   },
   "source": [
    "### Πολυώνυμα πολλών μεταβλητών\n",
    "\n",
    "    \n",
    "Τα πολυώνυμα πολλών μεταβλητών δηλώνονται με παρόμοιο τρόπο όπως αυτά με μια μεταβλητή. Μπορούμε να πάρουμε ένα τυχαίο πολυώνυμο τετάρτου βαθμού με συντελεστές στους ρητούς και να επιλέξουμε το ανώτατο πλήθος όρων που θέλουμε να εμφανίζονται στο πολυωνύμο \n",
    " "
   ]
  },
  {
   "cell_type": "code",
   "execution_count": 24,
   "metadata": {
    "collapsed": false,
    "deletable": true,
    "editable": true
   },
   "outputs": [
    {
     "name": "stdout",
     "output_type": "stream",
     "text": [
      "-1/2*x^4 + x^3*y - 3/4*y^4 + 1/3*x^3 + 4/5*x^2*y + 1/3*x*y^2 + 2*y - 1/2\n",
      "<type 'sage.rings.polynomial.multi_polynomial_libsingular.MPolynomial_libsingular'>\n"
     ]
    }
   ],
   "source": [
    "R.<x,y> = QQ[]\n",
    "p = R.random_element(degree=4,terms=10)\n",
    "print p; print type(p)"
   ]
  },
  {
   "cell_type": "markdown",
   "metadata": {
    "deletable": true,
    "editable": true
   },
   "source": [
    "    \n",
    "Μπορούμε να πληροφορηθούμε για τα μονώνυμα που απαρτίζουν το πολυώνυμο, τις μεταβλητές του, τους συντελεστές του πολυωνύμου, καθώς τόσο για τον ολικό βαθμό του πολυωνύμου όσο και για τους επιμέρους βαθμούς ως προς τις μεταβλητές x και y, όπως παρακάτω\n",
    " "
   ]
  },
  {
   "cell_type": "code",
   "execution_count": 25,
   "metadata": {
    "collapsed": false,
    "deletable": true,
    "editable": true
   },
   "outputs": [
    {
     "name": "stdout",
     "output_type": "stream",
     "text": [
      "the monomials : [x^4, x^3*y, y^4, x^3, x^2*y, x*y^2, y, 1]\n",
      "corresponding coefficients : [-1/2, 1, -3/4, 1/3, 4/5, 1/3, 2, -1/2]\n",
      "the variables : (x, y)\n",
      "the degree in x : 4\n",
      "the degree in y : 4\n",
      "the degree of p : 4\n"
     ]
    }
   ],
   "source": [
    "print 'the monomials :', p.monomials()\n",
    "print 'corresponding coefficients :', p.coefficients()\n",
    "print 'the variables :', p.variables()\n",
    "print 'the degree in x :', p.degree(x)\n",
    "print 'the degree in y :', p.degree(y)\n",
    "print 'the degree of p :', p.degree()"
   ]
  },
  {
   "cell_type": "markdown",
   "metadata": {
    "deletable": true,
    "editable": true
   },
   "source": [
    "    \n",
    "Η διάταξη που εμφανίζονται τα μονώνυμα είναι πολύ σημαντική\n",
    " "
   ]
  },
  {
   "cell_type": "code",
   "execution_count": 26,
   "metadata": {
    "collapsed": false,
    "deletable": true,
    "editable": true
   },
   "outputs": [
    {
     "name": "stdout",
     "output_type": "stream",
     "text": [
      "Degree reverse lexicographic term order\n"
     ]
    }
   ],
   "source": [
    "print R.term_order()"
   ]
  },
  {
   "cell_type": "markdown",
   "metadata": {
    "deletable": true,
    "editable": true
   },
   "source": [
    "    \n",
    "Προεπιλεγμένα, στο `Sage` η διάταξη των μονωνύμων είναι `Degree reverse lexicographic term order`. Για να αλλάξουμε την διάταξη των μονωνύμων, περιορίζουμε το πολυώνυμο στο σώμα των ρητών και θέτουμε **λεξικογραφική** διάταξη. Στην λεξικογραφική διάταξη όλα τα μονώνυμα που περιέχουν την μεταβλητή x έρχονται πρώτα, από την μεγαλύτερη δύναμη του x προς την μικρότερη. \n",
    " "
   ]
  },
  {
   "cell_type": "code",
   "execution_count": 27,
   "metadata": {
    "collapsed": false,
    "deletable": true,
    "editable": true
   },
   "outputs": [
    {
     "name": "stdout",
     "output_type": "stream",
     "text": [
      "Multivariate Polynomial Ring in x, y over Rational Field\n",
      "Lexicographic term order\n",
      "-1/2*x^4 + x^3*y + 1/3*x^3 + 4/5*x^2*y + 1/3*x*y^2 - 3/4*y^4 + 2*y - 1/2\n"
     ]
    }
   ],
   "source": [
    "Rlex.<x,y> = PolynomialRing(QQ,order = 'lex')\n",
    "print Rlex; print Rlex.term_order()\n",
    "print Rlex(p)"
   ]
  },
  {
   "cell_type": "markdown",
   "metadata": {
    "deletable": true,
    "editable": true
   },
   "source": [
    "    \n",
    "Τέλος, μπορούμε να θεωρήσουμε ένα πολυώνυμο με πολλές μεταβλητές ως ένα πολυώνυμο μιας μεταβλητής (της x, ή της y κοκ) επιλέγοντας τους αντίστοιχους όρους. Λόγω του τύπου του ορίσματος\n",
    "`variables()` το οποίο δέχεται η συνάρτηση `polynomial()` στο Sage, είναι απαραίτητο να επιλέξουμε από την ν-ιάδα (tuple) του `variables()`, την πρώτη, την δεύτερη συνιστώσα κοκ. Για παράδειγμα\n",
    " "
   ]
  },
  {
   "cell_type": "code",
   "execution_count": 28,
   "metadata": {
    "collapsed": false,
    "deletable": true,
    "editable": true
   },
   "outputs": [
    {
     "name": "stdout",
     "output_type": "stream",
     "text": [
      "(x, y)\n",
      "<type 'tuple'>\n"
     ]
    }
   ],
   "source": [
    "print p.variables(); print type(p.variables())"
   ]
  },
  {
   "cell_type": "code",
   "execution_count": 29,
   "metadata": {
    "collapsed": false,
    "deletable": true,
    "editable": true
   },
   "outputs": [
    {
     "name": "stdout",
     "output_type": "stream",
     "text": [
      "as polynomial in x : -1/2*x^4 + (y + 1/3)*x^3 + 4/5*y*x^2 + 1/3*y^2*x - 3/4*y^4 + 2*y - 1/2\n",
      "as polynomial in y : -3/4*y^4 + 1/3*x*y^2 + (x^3 + 4/5*x^2 + 2)*y - 1/2*x^4 + 1/3*x^3 - 1/2\n"
     ]
    }
   ],
   "source": [
    "print 'as polynomial in x :', p.polynomial(p.variables()[0])\n",
    "print 'as polynomial in y :', p.polynomial(p.variables()[1])"
   ]
  },
  {
   "cell_type": "markdown",
   "metadata": {
    "deletable": true,
    "editable": true
   },
   "source": [
    "## Ρητές συναρτήσεις\n",
    "\n",
    "    \n",
    "Στο `Sage` ένας ρητός αριθμός απλοποιείται αυτόματα. Όμως, όταν έχουμε ρητές εκφράσεις, όπου ο αριθμητής και ο παρονομαστής είναι πολυώνυμα, τότε απλοποιώντας με τον μέγιστο κοινό διαιρέτη τους δεν σημαίνει ότι η έκφραση που θα πάρουμε ως το αποτέλεσμα της απλοποίησης θα είναι απλή. Για παράδειγμα, αν θεωρήσουμε την ρητή συνάρτηση \n",
    "\n",
    "$\\begin{aligned}\\frac{x^d-1}{x-1} \\end{aligned}$\n",
    "   \n",
    "για οποιονδήποτε μεγάλο θετικό ακέραιο $d$, για παράδειγμα $d=1000$, το αποτέλεσμα της απλοποίησης θα είναι ένα πολυώνυμο βαθμού $d-1=999$, το οποίο απαρτίζεται από 1000 όρους!!!\n",
    " "
   ]
  },
  {
   "cell_type": "markdown",
   "metadata": {
    "deletable": true,
    "editable": true
   },
   "source": [
    "###  Ρητές εκφράσεις\n",
    " \n",
    "Στο Sage ο τύπος των ρητών εκφράσεων αναφέρεται ως `fraction_field_element`, στο πεδίο \n",
    "`sage.rings`\n",
    " "
   ]
  },
  {
   "cell_type": "code",
   "execution_count": 30,
   "metadata": {
    "collapsed": false,
    "deletable": true,
    "editable": true
   },
   "outputs": [
    {
     "name": "stdout",
     "output_type": "stream",
     "text": [
      "(x^2 + x + 1)/(x + 1)\n",
      "<class 'sage.rings.fraction_field_element.FractionFieldElement_1poly_field'>\n"
     ]
    }
   ],
   "source": [
    "x = polygen(QQ)\n",
    "p = x^3 - 1; q = x^2 - 1; r = p/q\n",
    "print r; print type(r)"
   ]
  },
  {
   "cell_type": "markdown",
   "metadata": {
    "deletable": true,
    "editable": true
   },
   "source": [
    "    \n",
    "Είναι ενδιαφέρον ότι το Sage φέρνει αυτόματα το πολυώνυμο σε κανονική μορφή, δηλαδή απλοποιεί με τον μέγιστο κοινό διαιρέτη του αριθμητή και του παρονομαστή. Στο συγκεκριμένο παράδειγμα βλέπουμε ότι έχει απλοποιηθεί ο κοινός παράγοντας $x-1$.\n",
    " "
   ]
  },
  {
   "cell_type": "code",
   "execution_count": 31,
   "metadata": {
    "collapsed": false,
    "deletable": true,
    "editable": true
   },
   "outputs": [
    {
     "name": "stdout",
     "output_type": "stream",
     "text": [
      "(x - 1) * (x^2 + x + 1)\n",
      "(x - 1) * (x + 1)\n"
     ]
    }
   ],
   "source": [
    "print factor(p); print factor(q)"
   ]
  },
  {
   "cell_type": "markdown",
   "metadata": {
    "deletable": true,
    "editable": true
   },
   "source": [
    "    \n",
    "Η αυτόματη απλοποίηση μπορεί να οδηγήσει σε προβλήματα αφού, αν για παράδειγμα αν πάρουμε\n",
    " "
   ]
  },
  {
   "cell_type": "code",
   "execution_count": 32,
   "metadata": {
    "collapsed": false,
    "deletable": true,
    "editable": true
   },
   "outputs": [
    {
     "name": "stdout",
     "output_type": "stream",
     "text": [
      "x^22 + x^21 + x^20 + x^19 + x^18 + x^17 + x^16 + x^15 + x^14 + x^13 + x^12 + x^11 + x^10 + x^9 + x^8 + x^7 + x^6 + x^5 + x^4 + x^3 + x^2 + x + 1\n"
     ]
    }
   ],
   "source": [
    "f = (x^23 - 1)/(x-1); print f"
   ]
  },
  {
   "cell_type": "markdown",
   "metadata": {
    "deletable": true,
    "editable": true
   },
   "source": [
    "    \n",
    "το αποτέλεσμα είναι ένα πολυώνυμο με τόσους όρους όσους είναι η δύναμη του αριθμητή!!! Φανταστείτε το αποτέλεσμα αν ο βαθμός του αριθμητή ήταν 1000. Αντί να ζητήσουμε από το Sage να μας δώσει το αποτέλεσμα μπορούμε να του ζητήσουμε να μας δώσει το πλήθος των όρων του f. Όμως, το θέμα είναι ότι για το Sage το f  δεν είναι πολυώνυμο, αλλά ρητή έκφραση, και θα πρέπει να πάρουμε τον τετριμμένο αριθμητή του πριν ζητήσουμε το πλήθος των όρων του.\n",
    " "
   ]
  },
  {
   "cell_type": "code",
   "execution_count": 33,
   "metadata": {
    "collapsed": false,
    "deletable": true,
    "editable": true
   },
   "outputs": [
    {
     "name": "stdout",
     "output_type": "stream",
     "text": [
      "<class 'sage.rings.fraction_field_element.FractionFieldElement_1poly_field'>\n",
      "<type 'sage.rings.polynomial.polynomial_rational_flint.Polynomial_rational_flint'>\n",
      "23\n"
     ]
    }
   ],
   "source": [
    "print type(f)\n",
    "fn = f.numerator()\n",
    "print type(fn)\n",
    "print len(fn.coefficients())"
   ]
  },
  {
   "cell_type": "markdown",
   "metadata": {
    "deletable": true,
    "editable": true
   },
   "source": [
    "    \n",
    "Μπορούμε να σταθεροποιήσουμε μια ρητή έκφραση, δηλαδή να μην γίνει αυτόματη απλοποίηση, περιορίζοντας τον συμβολικό δακτύλιο (symbolic ring SR) \n",
    " "
   ]
  },
  {
   "cell_type": "code",
   "execution_count": 34,
   "metadata": {
    "collapsed": false,
    "deletable": true,
    "editable": true
   },
   "outputs": [
    {
     "name": "stdout",
     "output_type": "stream",
     "text": [
      "(x^3 - 1)/(x^2 - 1)\n"
     ]
    }
   ],
   "source": [
    "g = SR(p)/q; print g;"
   ]
  },
  {
   "cell_type": "markdown",
   "metadata": {
    "deletable": true,
    "editable": true
   },
   "source": [
    "    \n",
    "και να ζητήσουμε από το Sage τον αριθμητή και τον παρονομαστή του `g`, πριν και μετά από την απλοποίηση\n",
    " "
   ]
  },
  {
   "cell_type": "code",
   "execution_count": 35,
   "metadata": {
    "collapsed": false,
    "deletable": true,
    "editable": true
   },
   "outputs": [
    {
     "name": "stdout",
     "output_type": "stream",
     "text": [
      "(x^3 - 1)\n",
      "x^2 + x + 1\n"
     ]
    }
   ],
   "source": [
    "print g.numerator(normalize=False)\n",
    "print g.numerator(normalize=True)"
   ]
  },
  {
   "cell_type": "code",
   "execution_count": 36,
   "metadata": {
    "collapsed": false,
    "deletable": true,
    "editable": true
   },
   "outputs": [
    {
     "name": "stdout",
     "output_type": "stream",
     "text": [
      "x^2 - 1\n",
      "x + 1\n"
     ]
    }
   ],
   "source": [
    "print g.denominator(normalize=False)\n",
    "print g.denominator(normalize=True)"
   ]
  },
  {
   "cell_type": "markdown",
   "metadata": {
    "deletable": true,
    "editable": true
   },
   "source": [
    "    \n",
    "Επιπλέον, μπορούμε να δούμε τον αριθμητή και τον παρονομαστή μιας ρητής έκφρασης σε παραγοντοποιημένη μορφή (αν είναι εφικτή) ή όχι \n",
    " "
   ]
  },
  {
   "cell_type": "code",
   "execution_count": 37,
   "metadata": {
    "collapsed": false,
    "deletable": true,
    "editable": true
   },
   "outputs": [
    {
     "name": "stdout",
     "output_type": "stream",
     "text": [
      "(x^2 + x + 1)*(x - 1)/(x^2 - 1)\n",
      "(x^3 - 1)/((x + 1)*(x - 1))\n"
     ]
    }
   ],
   "source": [
    "fn = g.numerator(normalize=False).factor()\n",
    "fd = g.denominator(normalize=False).factor()\n",
    "print SR(fn)/g.denominator(normalize=False)\n",
    "print g.numerator(normalize=False)/SR(fd)"
   ]
  },
  {
   "cell_type": "markdown",
   "metadata": {
    "deletable": true,
    "editable": true
   },
   "source": [
    "### Σχήμα Horner και διάσπαση σε απλά κλάσματα\n",
    "\n",
    "    \n",
    "Ο περιορισμός ενός πολυωνύμου σε ένα συμβολικό δακτύλιο με την εντολή `SR` μας δίνει το λεγόμενο σχήμα Horner του πολυωνύμου\n",
    " "
   ]
  },
  {
   "cell_type": "code",
   "execution_count": 38,
   "metadata": {
    "collapsed": false,
    "deletable": true,
    "editable": true
   },
   "outputs": [
    {
     "name": "stdout",
     "output_type": "stream",
     "text": [
      "(((x + 2)*x + 3)*x + 4)*x + 5\n"
     ]
    }
   ],
   "source": [
    "x = SR.var('x')\n",
    "p = x^4 + 2*x^3 + 3*x^2 + 4*x + 5\n",
    "print p.horner(x)"
   ]
  },
  {
   "cell_type": "markdown",
   "metadata": {
    "deletable": true,
    "editable": true
   },
   "source": [
    "    \n",
    "Το σχήμα Horner είναι ένας εύχρηστος τρόπος για να βρίσκουμε τις τιμές ενός πολυωνύμου σε ένα συγκεκριμένο $x_0$. <br> \n",
    "Επίσης μπορούμε να αναλύσουμε μια ρητή έκφραση σε απλά κλάσματα με την `partial_fraction_decomposition()`. Ας κατασκευάσουμε δυο τυχαία πολυώνυμα βαθμού 4 με συντελεστές στου ρητούς και με βάση αυτά κατασκευάζουμε μια ρητή έκφραση, όπως παρακάτω\n",
    " "
   ]
  },
  {
   "cell_type": "code",
   "execution_count": 39,
   "metadata": {
    "collapsed": false,
    "deletable": true,
    "editable": true
   },
   "outputs": [
    {
     "name": "stdout",
     "output_type": "stream",
     "text": [
      "(1/2*x^4 + 14*x^3 + x^2 - 3*x - 4)/(-1/2*x^4 - 1/2*x^3 - x - 3/2)\n",
      "<class 'sage.rings.fraction_field_element.FractionFieldElement_1poly_field'>\n"
     ]
    }
   ],
   "source": [
    "P.<x> = PolynomialRing(QQ);\n",
    "rn = P.random_element(degree = 4);\n",
    "rd = P.random_element(degree = 4);\n",
    "f = rn/rd;\n",
    "print f; print type(f)"
   ]
  },
  {
   "cell_type": "code",
   "execution_count": 40,
   "metadata": {
    "collapsed": false,
    "deletable": true,
    "editable": true
   },
   "outputs": [
    {
     "name": "stdout",
     "output_type": "stream",
     "text": [
      "(-1, [(-27*x^3 - 2*x^2 + 8*x + 11)/(x^4 + x^3 + 2*x + 3)])\n"
     ]
    }
   ],
   "source": [
    "print f.partial_fraction_decomposition()"
   ]
  },
  {
   "cell_type": "code",
   "execution_count": 41,
   "metadata": {
    "collapsed": false,
    "deletable": true,
    "editable": true
   },
   "outputs": [],
   "source": [
    "whole, parts = f.partial_fraction_decomposition()"
   ]
  },
  {
   "cell_type": "code",
   "execution_count": 42,
   "metadata": {
    "collapsed": false,
    "deletable": true,
    "editable": true
   },
   "outputs": [
    {
     "name": "stdout",
     "output_type": "stream",
     "text": [
      "-1\n",
      "[(-27*x^3 - 2*x^2 + 8*x + 11)/(x^4 + x^3 + 2*x + 3)]\n"
     ]
    }
   ],
   "source": [
    "print whole; print parts"
   ]
  },
  {
   "cell_type": "code",
   "execution_count": 43,
   "metadata": {
    "collapsed": false,
    "deletable": true,
    "editable": true
   },
   "outputs": [
    {
     "name": "stdout",
     "output_type": "stream",
     "text": [
      "True\n"
     ]
    }
   ],
   "source": [
    "print whole + sum(parts) == f"
   ]
  },
  {
   "cell_type": "markdown",
   "metadata": {
    "deletable": true,
    "editable": true
   },
   "source": [
    "##  Αντικατάσταση, αναπτύγματα και παραγοντοποίηση"
   ]
  },
  {
   "cell_type": "markdown",
   "metadata": {
    "deletable": true,
    "editable": true
   },
   "source": [
    "###  Αντικαταστάσεις\n",
    "\n",
    "    \n",
    "Στο Sage έχουμε την δυνατότητα να αντικαταστήσουμε μια σύνθετη συμβολική έκφραση από μια συμβολική μεταβλητή, έτσι ώστε να αποφύγουμε τυχόν αναπτύγματα της σύνθετης έκφρασης. Για παράδειγμα, ας υποθέσουμε ότι θέλουμε οι δυο όροι στην ρητή έκφραση \n",
    "\n",
    "$\\begin{aligned} (x+y)^2 + \\frac{1}{(x+y)^2} \\end{aligned}$\n",
    "\n",
    "να έχουν κοινό παρονομαστή. Ας επιχειρήσουμε να παραγοντοποιήσουμε την έκφραση \n",
    " "
   ]
  },
  {
   "cell_type": "code",
   "execution_count": 44,
   "metadata": {
    "collapsed": false,
    "deletable": true,
    "editable": true
   },
   "outputs": [
    {
     "name": "stdout",
     "output_type": "stream",
     "text": [
      "(x + y)^2 + 1/(x + y)^2\n",
      "<type 'sage.symbolic.expression.Expression'>\n"
     ]
    }
   ],
   "source": [
    "var('x y')\n",
    "p = (x+y)^2 + 1/(x+y)^2\n",
    "print p; print type(p)"
   ]
  },
  {
   "cell_type": "code",
   "execution_count": 45,
   "metadata": {
    "collapsed": false,
    "deletable": true,
    "editable": true
   },
   "outputs": [
    {
     "name": "stdout",
     "output_type": "stream",
     "text": [
      "(x^4 + 4*x^3*y + 6*x^2*y^2 + 4*x*y^3 + y^4 + 1)/(x + y)^2\n"
     ]
    }
   ],
   "source": [
    "print p.factor()"
   ]
  },
  {
   "cell_type": "markdown",
   "metadata": {
    "deletable": true,
    "editable": true
   },
   "source": [
    "    \n",
    "Η εντολή `factor()` αναπτύσσει τον αριθμητή, το οποίο δεν το επιθυμούμε. Για να διατηρήσουμε την μεταβλητή $(x+y)^2$ ως έχει, την αντικαθιστούμε από μια άλλη μεταβλητή $z$. Στην συνέχεια παραγοντοποιούμε την έκφραση στην μεταβλητή $z$, και στο τέλος αντικαθιστούμε την $z$ aπό την αρχική έκφραση $x+y$.  \n",
    " "
   ]
  },
  {
   "cell_type": "code",
   "execution_count": 46,
   "metadata": {
    "collapsed": false,
    "deletable": true,
    "editable": true
   },
   "outputs": [
    {
     "name": "stdout",
     "output_type": "stream",
     "text": [
      "after substitution of x+y into z : z^2 + 1/z^2\n",
      "after factoring : (z^4 + 1)/z^2\n",
      "after substitution of z into x+y : ((x + y)^4 + 1)/(x + y)^2\n"
     ]
    }
   ],
   "source": [
    "var('z')\n",
    "q = p.subs({(x+y): z})\n",
    "print 'after substitution of x+y into z :', q\n",
    "fq = q.factor()\n",
    "print 'after factoring :', fq\n",
    "qq = fq.subs(z=x+y)\n",
    "print 'after substitution of z into x+y :', qq"
   ]
  },
  {
   "cell_type": "markdown",
   "metadata": {
    "deletable": true,
    "editable": true
   },
   "source": [
    "    \n",
    "Για να δούμε την τελική έκφραση σε μια κομψή μαθηματική μορφή, τρέχουμε   \n",
    " "
   ]
  },
  {
   "cell_type": "code",
   "execution_count": 47,
   "metadata": {
    "collapsed": false,
    "deletable": true,
    "editable": true
   },
   "outputs": [
    {
     "data": {
      "text/html": [
       "<html><script type=\"math/tex; mode=display\">\\newcommand{\\Bold}[1]{\\mathbf{#1}}\\frac{{\\left(x + y\\right)}^{4} + 1}{{\\left(x + y\\right)}^{2}}</script></html>"
      ],
      "text/plain": [
       "((x + y)^4 + 1)/(x + y)^2"
      ]
     },
     "metadata": {},
     "output_type": "display_data"
    }
   ],
   "source": [
    "qq.show()"
   ]
  },
  {
   "cell_type": "markdown",
   "metadata": {
    "deletable": true,
    "editable": true
   },
   "source": [
    "    \n",
    "Οι αντικαταστάσεις με την μέθοδο `subs()` που είδαμε σε προηγούμενο εδάφιο συμβαίνουν με διαδοχική σειρά, και όχι ταυτόχρονα. Ας υποθέσουμε ότι θέλουμε να μεταθέσουμε κυκλικά τις μεταβλητές \n",
    "\n",
    "$\\begin{aligned}a \\rightarrow b \\rightarrow c \\rightarrow a \\end{aligned}$ \n",
    "\n",
    "στην συμβολική έκφραση \n",
    "\n",
    "$\\begin{aligned}a+2 \\ast b+3\\ast c \\end{aligned}$ \n",
    "\n",
    "Με άλλα λόγια, θέλουμε να πάρουμε την έκφραση $b+2\\ast c+ 3\\ast a$, από την έκφραση $a+2 \\ast b+3\\ast c$, \n",
    "με ταυτόχρονη κυκλική μετάθεση των μεταβλητών της. Τότε το αποτέλεσμα με την μέθοδο `subs()` δεν θα μας έδινε το επιθυμητό αποτέλεσμα, αφού οι αντικαταστάσεις θα συνέβαιναν διαδοχικά. \n",
    "\n",
    "Όμως ο υπολογισμός της τιμής μιας έκφρασης γίνεται ως εξής `(a = b, b = c, c = a)`  \n",
    " "
   ]
  },
  {
   "cell_type": "code",
   "execution_count": 48,
   "metadata": {
    "collapsed": false,
    "deletable": true,
    "editable": true
   },
   "outputs": [
    {
     "name": "stdout",
     "output_type": "stream",
     "text": [
      "the expression : a + 2*b + 3*c\n",
      "substitution with dictionary argument : 6*c\n",
      "evaluation by keyword arguments : 3*a + b + 2*c\n"
     ]
    }
   ],
   "source": [
    "var('a,b,c')\n",
    "e = a + 2*b + 3*c\n",
    "print 'the expression :', e\n",
    "print 'substitution with dictionary argument :', e.subs({a:b, b:c, a:c})\n",
    "print 'evaluation by keyword arguments :', e(a=b,b=c,c=a)"
   ]
  },
  {
   "cell_type": "markdown",
   "metadata": {
    "deletable": true,
    "editable": true
   },
   "source": [
    "    \n",
    "Ας πάμε όμως ένα βήμα παρακάτω και ας δούμε από ποιoύς όρους απαρτίζεται η έκφραση που θέλουμε να χειριστούμε και με ποιές πράξεις. Αυτή την πληροφορία μας την δίνει η εντολή `operands()`\n",
    " "
   ]
  },
  {
   "cell_type": "code",
   "execution_count": 49,
   "metadata": {
    "collapsed": false,
    "deletable": true,
    "editable": true
   },
   "outputs": [
    {
     "name": "stdout",
     "output_type": "stream",
     "text": [
      "(x + y)^2 + 1/(x + y)^2\n",
      "[(x + y)^2, (x + y)^(-2)]\n"
     ]
    }
   ],
   "source": [
    "print p;\n",
    "print p.operands()"
   ]
  },
  {
   "cell_type": "markdown",
   "metadata": {
    "deletable": true,
    "editable": true
   },
   "source": [
    "    \n",
    "Θεωρώντας ότι η έκφραση αποτελείται, καθαρά συντακτικά από `strings`, μπορούμε να αντικαταστήσουμε όλον το όρο $(x+y)^2\\,$ με τον όρο z\n",
    " "
   ]
  },
  {
   "cell_type": "code",
   "execution_count": 50,
   "metadata": {
    "collapsed": false,
    "deletable": true,
    "editable": true
   },
   "outputs": [
    {
     "name": "stdout",
     "output_type": "stream",
     "text": [
      "(x + y)^2 + 1/(x + y)^2\n",
      "z + 1/z <type 'str'>\n"
     ]
    }
   ],
   "source": [
    "s = str(p)\n",
    "print s\n",
    "t = s.replace('(x + y)^2', 'z')\n",
    "print t, type(t)"
   ]
  },
  {
   "cell_type": "markdown",
   "metadata": {
    "deletable": true,
    "editable": true
   },
   "source": [
    "    \n",
    "Τέλος, γνωρίζοντας την λίστα των όρων που απαρτίζουν την έκφρασή μας με την εντολή `operands()`, αποκτούμε το πλεονέκτημα να μπορούμε να εκμεταλλευτούμε την εντολή `subs()`. Έτσι μπορούμε να αντικαταστήσουμε τον όρο $(x+y)^2$ με τον όρο $z$, και τον όρο $(x+y)^{-2}$ με τον όρο $1/z$, δίχως να χάσουμε τον τύπο της συμβολικής μας έκφρασης, ως εξής\n",
    " "
   ]
  },
  {
   "cell_type": "code",
   "execution_count": 51,
   "metadata": {
    "collapsed": false,
    "deletable": true,
    "editable": true
   },
   "outputs": [
    {
     "name": "stdout",
     "output_type": "stream",
     "text": [
      "z + 1/z <type 'sage.symbolic.expression.Expression'>\n"
     ]
    }
   ],
   "source": [
    "pz = p.subs({(x+y)^2:z, (x+y)^(-2):z^(-1)}) ; print pz, type(pz)"
   ]
  },
  {
   "cell_type": "code",
   "execution_count": 52,
   "metadata": {
    "collapsed": false,
    "deletable": true,
    "editable": true
   },
   "outputs": [
    {
     "data": {
      "text/html": [
       "<html><script type=\"math/tex; mode=display\">\\newcommand{\\Bold}[1]{\\mathbf{#1}}\\frac{{\\left(x + y\\right)}^{4} + 1}{{\\left(x + y\\right)}^{2}}</script></html>"
      ],
      "text/plain": [
       "((x + y)^4 + 1)/(x + y)^2"
      ]
     },
     "metadata": {},
     "output_type": "display_data"
    }
   ],
   "source": [
    "factor(pz).subs({z:(x+y)^2, z^(-1):(x+y)^(-2)}).show()"
   ]
  },
  {
   "cell_type": "markdown",
   "metadata": {
    "deletable": true,
    "editable": true
   },
   "source": [
    "### Αναπτύγματα\n",
    "\n",
    "    \n",
    "Όταν δώσουμε στο Sage μια έκφραση σε μορφή παραγόντων όπως για παράδειγμα \n",
    "\n",
    "$\\begin{aligned}(a+b+c)(x^2+y^2+x\\,y+3)\\,,\\end{aligned}$ \n",
    "\n",
    "τότε το Sage δεν αναπτύσσει αυτόματα την συμβολική έκφραση. Ο λόγος είναι ότι γενικά υπάρχει περίπτωση το ανάπτυγμα να έχει πάρα πολλούς όρους, και ουσιαστικά χάνεται οποιαδήποτε πληροφορία.\n",
    " "
   ]
  },
  {
   "cell_type": "code",
   "execution_count": 53,
   "metadata": {
    "collapsed": false,
    "deletable": true,
    "editable": true
   },
   "outputs": [
    {
     "name": "stdout",
     "output_type": "stream",
     "text": [
      "(x^2 + x*y + y^2 + 3)*(a + b + c)\n"
     ]
    }
   ],
   "source": [
    "var('x y a b c')\n",
    "p = (a+b+c)*(x^2+y^2+x*y+3)\n",
    "print p"
   ]
  },
  {
   "cell_type": "markdown",
   "metadata": {
    "deletable": true,
    "editable": true
   },
   "source": [
    "    \n",
    "Αν πραγματικά θέλουμε να αναπτύξουμε την έκφρασή μας τότε εφαρμόζουμε την εντολή `expand()`\n",
    " "
   ]
  },
  {
   "cell_type": "code",
   "execution_count": 54,
   "metadata": {
    "collapsed": false,
    "deletable": true,
    "editable": true
   },
   "outputs": [
    {
     "name": "stdout",
     "output_type": "stream",
     "text": [
      "a*x^2 + b*x^2 + c*x^2 + a*x*y + b*x*y + c*x*y + a*y^2 + b*y^2 + c*y^2 + 3*a + 3*b + 3*c\n"
     ]
    }
   ],
   "source": [
    "print p.expand()"
   ]
  },
  {
   "cell_type": "markdown",
   "metadata": {
    "deletable": true,
    "editable": true
   },
   "source": [
    "    \n",
    "Η εντολή `expand()` πραγματικά \"εκτέλεσε\" τα πάντα, ανέπτυξε όλους τους όρους με αποτέλεσμα να χάσουμε κάθε πληροφορία για την δομή της συμβολικής έκφρασης p. Ας υποθέσουμε ότι θέλουμε να κρατήσουμε τον παράγοντα $(a+b+c)$ όπως είναι. Τότε ορίζουμε μια νέα μεταβλητή d και αντικαθιστούμε σε αυτή τον παράγοντα $(a+b+c)$, πριν καλέσουμε την εντολή `expand()`\n",
    " "
   ]
  },
  {
   "cell_type": "code",
   "execution_count": 55,
   "metadata": {
    "collapsed": false,
    "deletable": true,
    "editable": true
   },
   "outputs": [
    {
     "name": "stdout",
     "output_type": "stream",
     "text": [
      "(x^2 + x*y + y^2 + 3)*d\n"
     ]
    }
   ],
   "source": [
    "var('d')\n",
    "dp = p.subs({a+b+c:d})\n",
    "print dp"
   ]
  },
  {
   "cell_type": "markdown",
   "metadata": {
    "deletable": true,
    "editable": true
   },
   "source": [
    "    \n",
    "Τώρα μπορούμε να αναπτύξουμε την έκφρασή μας με την εντολή `expand()` και να αντικαταστήσουμε  στην μεταβλητή d τον αρχικό παράγοντα $(a+b+c)$.\n",
    " "
   ]
  },
  {
   "cell_type": "code",
   "execution_count": 56,
   "metadata": {
    "collapsed": false,
    "deletable": true,
    "editable": true
   },
   "outputs": [
    {
     "name": "stdout",
     "output_type": "stream",
     "text": [
      "d*x^2 + d*x*y + d*y^2 + 3*d\n"
     ]
    }
   ],
   "source": [
    "edp = dp.expand()\n",
    "print edp"
   ]
  },
  {
   "cell_type": "code",
   "execution_count": 57,
   "metadata": {
    "collapsed": false,
    "deletable": true,
    "editable": true
   },
   "outputs": [
    {
     "name": "stdout",
     "output_type": "stream",
     "text": [
      "(a + b + c)*x^2 + (a + b + c)*x*y + (a + b + c)*y^2 + 3*a + 3*b + 3*c\n"
     ]
    }
   ],
   "source": [
    "pp = edp.subs({d:(a+b+c)})\n",
    "print pp"
   ]
  },
  {
   "cell_type": "markdown",
   "metadata": {
    "deletable": true,
    "editable": true
   },
   "source": [
    "###  Παραγοντοποίηση\n",
    "\n",
    "    \n",
    "Η αντίστροφη διαδικασία των αναπτυγμάτων είναι η παραγοντοποίηση. Υπάρχει διάκριση μεταξύ της ακριβούς, της συμβολικής και της αριθμητικής παραγοντοποίησης. \n",
    " "
   ]
  },
  {
   "cell_type": "code",
   "execution_count": 58,
   "metadata": {
    "collapsed": false,
    "deletable": true,
    "editable": true
   },
   "outputs": [
    {
     "name": "stdout",
     "output_type": "stream",
     "text": [
      "(x^2 + x*y + y^2 + 3)*(a + b + c)\n"
     ]
    }
   ],
   "source": [
    "print factor(pp)"
   ]
  },
  {
   "cell_type": "markdown",
   "metadata": {
    "deletable": true,
    "editable": true
   },
   "source": [
    "    \n",
    "Όπως έχουμε δει στα προηγούμενα, μια πλήρης ακριβής παραγοντοποίηση ενός πολυωνύμου είναι εφικτή μόνο όταν όλες οι ρίζες του πολυωνύμου είναι ρητοί αριθμοί. \n",
    " "
   ]
  },
  {
   "cell_type": "code",
   "execution_count": 59,
   "metadata": {
    "collapsed": false,
    "deletable": true,
    "editable": true
   },
   "outputs": [
    {
     "name": "stdout",
     "output_type": "stream",
     "text": [
      "(x + 1)*(x - 1)\n",
      "<type 'sage.symbolic.expression.Expression'>\n"
     ]
    }
   ],
   "source": [
    "f = factor(x^2 - 1)\n",
    "print f; print type(f)"
   ]
  },
  {
   "cell_type": "markdown",
   "metadata": {
    "deletable": true,
    "editable": true
   },
   "source": [
    "    \n",
    "Για την συμβολική παραγοντοποίηση, προσθέτουμε φορμαλιστικά τις ρίζες του πολυωνύμου, που ονομάζονται αλγεβρικοί αριθμοί. Για παράδειγμα, επαναλαμβάνουμε την διαδικασία αυτή για το πολυώνυμο $y^2+2$\n",
    " "
   ]
  },
  {
   "cell_type": "code",
   "execution_count": 60,
   "metadata": {
    "collapsed": false,
    "deletable": true,
    "editable": true
   },
   "outputs": [
    {
     "name": "stdout",
     "output_type": "stream",
     "text": [
      "x^2 + 2\n",
      "True\n",
      "(x - a) * (x + a)\n"
     ]
    }
   ],
   "source": [
    "y = polygen(QQ)\n",
    "q = y^2 + 2\n",
    "print factor(q)\n",
    "print q.is_irreducible()\n",
    "K.<a> = QQ.extension(q)\n",
    "kq = (K[y])(q)\n",
    "print factor(kq)"
   ]
  },
  {
   "cell_type": "markdown",
   "metadata": {
    "deletable": true,
    "editable": true
   },
   "source": [
    "    \n",
    "Τέλος, η αριθμητική παραγοντοποίηση συμβαίνει πάντα στο σώμα των μιγαδικών    \n",
    " "
   ]
  },
  {
   "cell_type": "code",
   "execution_count": 61,
   "metadata": {
    "collapsed": false,
    "deletable": true,
    "editable": true
   },
   "outputs": [
    {
     "name": "stdout",
     "output_type": "stream",
     "text": [
      "(x - 1.41421356237310*I) * (x + 1.41421356237310*I)\n"
     ]
    }
   ],
   "source": [
    "z = polygen(CC)\n",
    "print factor(z^2 + 2)"
   ]
  },
  {
   "cell_type": "markdown",
   "metadata": {
    "deletable": true,
    "editable": true
   },
   "source": [
    "##  Κανονική μορφή συμβολικών εκφράσεων"
   ]
  },
  {
   "cell_type": "markdown",
   "metadata": {
    "deletable": true,
    "editable": true
   },
   "source": [
    "    \n",
    "Ορισμένες φορές στο Sage θέλουμε να αποφανθούμε αν δυο συμβολικές εκφράσεις αντιστοιχούν ταυτοτικά στο ίδιο μαθηματικό αντικείμενο. Ένας τρόπος για να αποφασίσουμε θετικά ή αρνητικά για την ισότητα, έχοντας κατά νου ότι υπάρχει και το ενδεχόμενο να μην μπορούμε να αποφασίσουμε,  είναι να φέρουμε τις εκφράσεις μας σε **κανονική μορφή**. Η κανονικοποίηση μιας έκφρασης ουσιαστικά είναι η συλλογή και η ταξινόμηση των όρων μιας συμβολικής έκφρασης. Από την άλλη μεριά, μια γρήγορη αριθμητική αντικατάσταση **συγκεκριμένων αλλά τυχαίων** τιμών στις μεταβλητές των εκφράσεων που θέλουμε να συγκρίνουμε, μπορεί να μας γλυτώσει από πάρα πολύ χαμένο χρόνο.   \n",
    " "
   ]
  },
  {
   "cell_type": "code",
   "execution_count": 62,
   "metadata": {
    "collapsed": false,
    "deletable": true,
    "editable": true
   },
   "outputs": [
    {
     "name": "stdout",
     "output_type": "stream",
     "text": [
      "e1 =  x*(y + 1)\n",
      "e2 =  x*y + x\n",
      "e1 == e1 :  x*(y + 1) == x*y + x\n"
     ]
    }
   ],
   "source": [
    "var('x,y')\n",
    "e1 = x*(1+y)\n",
    "e2 = x + x*y\n",
    "print 'e1 = ', e1\n",
    "print 'e2 = ', e2\n",
    "print 'e1 == e1 : ', e1 == e2"
   ]
  },
  {
   "cell_type": "markdown",
   "metadata": {
    "deletable": true,
    "editable": true
   },
   "source": [
    "    \n",
    "Όπως παρατηρούμε η τελευταία λογική ισότητα `==` δεν μας δίνει ως αποτέλεσμα ούτε `True` που αναμέναμε, ούτε `False`. Ίσως αν συγκρίναμε τους `operands()`  και τους `operator()` αφού πρόκειται για συμβολικές εκφράσεις;\n",
    " "
   ]
  },
  {
   "cell_type": "code",
   "execution_count": 63,
   "metadata": {
    "collapsed": false,
    "deletable": true,
    "editable": true
   },
   "outputs": [
    {
     "name": "stdout",
     "output_type": "stream",
     "text": [
      "[x, y + 1] <function mul_vararg at 0x7f31d65a1aa0>\n",
      "[x*y, x] <function add_vararg at 0x7f31d65a1a28>\n"
     ]
    }
   ],
   "source": [
    "print e1.operands(), e1.operator()\n",
    "print e2.operands(), e2.operator()"
   ]
  },
  {
   "cell_type": "markdown",
   "metadata": {
    "deletable": true,
    "editable": true
   },
   "source": [
    "    \n",
    "Και πάλι στο Sage οι δυο αυτές εκφράσεις έχουν διαφορετικές λίστες ακόμα και στο επίπεδο των δεδομένων στο οποίο εκτελούνται οι υπολογισμοί για να βρούμε τις τιμές τους. <br>\n",
    "\n",
    "Για να δούμε τι θα συμβεί αν πάρουμε την διαφορά των δυο εκφράσεων.\n",
    " "
   ]
  },
  {
   "cell_type": "code",
   "execution_count": 64,
   "metadata": {
    "collapsed": false,
    "deletable": true,
    "editable": true
   },
   "outputs": [
    {
     "name": "stdout",
     "output_type": "stream",
     "text": [
      "e1 - e2 : x*(y + 1) - x*y - x\n"
     ]
    }
   ],
   "source": [
    "print 'e1 - e2 :', e1 - e2"
   ]
  },
  {
   "cell_type": "markdown",
   "metadata": {
    "deletable": true,
    "editable": true
   },
   "source": [
    "    \n",
    "Πάλι το Sage δεν απλοποιεί αυτόματα!! Για να ελέγξουμε την ισότητα είμαστε υποχρεωμένοι να αναπτύξουμε.\n",
    " "
   ]
  },
  {
   "cell_type": "code",
   "execution_count": 65,
   "metadata": {
    "collapsed": false,
    "deletable": true,
    "editable": true
   },
   "outputs": [
    {
     "name": "stdout",
     "output_type": "stream",
     "text": [
      "e1 expanded : x*y + x\n",
      "e2 : x*y + x\n",
      "e1 expanded - e2 : 0\n"
     ]
    }
   ],
   "source": [
    "ee1 = e1.expand()\n",
    "print 'e1 expanded :', ee1\n",
    "print 'e2 :', e2\n",
    "print 'e1 expanded - e2 :', ee1 - e2"
   ]
  },
  {
   "cell_type": "markdown",
   "metadata": {
    "deletable": true,
    "editable": true
   },
   "source": [
    "    \n",
    "Παρατηρούμε ότι αναπτύσσοντας την διαφορά των δυο συμβολικών εκφράσεων οδηγούμαστε στο συμπέρασμα ότι οι δυο εκφράσεις είναι ταυτόσημες.\n",
    " \n",
    "Η διαδικασία ανάπτυξης πολυωνύμων πολλών μεταβλητών, και κατόπιν η συλλογή, παραγοντοποίηση και ταξινόμηση των όρων τους σε μια δοσμένη διάταξη και βαθμό, λέγεται **κανονικοποίηση**. Για ρητές εκφράσεις η κανονικοποίηση ουσιαστικά είναι η διαγραφή των κοινών όρων αριθμητή και παρονομαστή.  \n",
    "\n",
    "\n",
    "<div class=\"alert alert-warning\">\n",
    "\n",
    "**ΠΡΟΣΟΧΗ!** Η διαδικασία της κανονικοποίησης πρέπει να εφαρμόζεται με πάρα πολύ μεγάλη προσοχή, γιατί συνήθως χάνεται σημαντική πληροφορία. Επιπλέον, η κανονική μορφή μιας έκφρασης συνήθως δεν είναι μοναδική.\n",
    "\n",
    "</div>\n",
    "\n",
    " \n",
    "Ένας γρήγορος, αποτελεσματικός τρόπος, που συνήθως μας γλυτώνει από πολύ χαμένο χρόνο, για να αποφανθούμε αν δυο συμβολικές εκφράσεις είναι ταυτόσημες είναι να υπολογίσουμε τις τιμές των εκφράσεων δίνοντας τυχαίες τιμές στις μεταβλητές τους. Για παράδειγμα βρίσκουμε δυο τυχαίες μιγαδικές τιμές για τις μεταβλητές (x,y), που τις ονομάζουμε (rx,ry), ως εξής "
   ]
  },
  {
   "cell_type": "code",
   "execution_count": 66,
   "metadata": {
    "collapsed": false,
    "deletable": true,
    "editable": true
   },
   "outputs": [
    {
     "name": "stdout",
     "output_type": "stream",
     "text": [
      "a random point : (0.360996673346349 + 0.222156747209340*I, -0.446525900104420 - 0.947681290553240*I)\n"
     ]
    }
   ],
   "source": [
    "rx = CC.random_element()\n",
    "ry = CC.random_element()\n",
    "print 'a random point :', (rx, ry)"
   ]
  },
  {
   "cell_type": "markdown",
   "metadata": {
    "deletable": true,
    "editable": true
   },
   "source": [
    "    \n",
    "Στην συνέχεια υπολογίζουμε τις τιμές των εκφράσεων στο τυχαίο σημείο `(rx, ry)` και συγκρίνουμε την διαφορά τους,\n",
    " "
   ]
  },
  {
   "cell_type": "code",
   "execution_count": 67,
   "metadata": {
    "collapsed": false,
    "deletable": true,
    "editable": true
   },
   "outputs": [
    {
     "name": "stdout",
     "output_type": "stream",
     "text": [
      "0.000000000000000\n"
     ]
    }
   ],
   "source": [
    "v1 = e1(x=rx, y=ry)\n",
    "v2 = e2(x=rx, y=ry)\n",
    "print v1 - v2"
   ]
  },
  {
   "cell_type": "markdown",
   "metadata": {
    "deletable": true,
    "editable": true
   },
   "source": [
    "    \n",
    "Μπορούμε λοιπόν να ισχυριστούμε ότι αν η διαφορά δυο συμβολικών εκφράσεων υπολογίζεται αρκετά κοντά στο μηδέν το αριθμητικό τεστ εξασφαλίζει την ισότητά τους, με πιθανότητα 1. Βέβαια κάποιος μπορεί να ισχυρισθεί ότι υπάρχει η πιθανότητα να έχουμε επιλέξει ένα σημείο στο οποίο να μηδενίζεται κάποιος κοινός παράγοντας των δυο εκφράσεων, χωρίς απαραίτητα οι δυο συμβολικές εκφράσεις να είναι ίσες. Όμως μπορούμε να αυξήσουμε την εμπιστοσύνη μας στο αριθμητικό τεστ, παράγοντας περισσότερα τυχαία σημεία, και παράλληλα αυξάνοντας την ακρίβεια των υπολογισμών μας.\n",
    " "
   ]
  },
  {
   "cell_type": "code",
   "execution_count": 68,
   "metadata": {
    "collapsed": false,
    "deletable": true,
    "editable": true
   },
   "outputs": [
    {
     "name": "stdout",
     "output_type": "stream",
     "text": [
      "a random point : (-0.793654299877551 + 0.562877141881479*I, 0.688568147657858 + 0.266600464949728*I)\n"
     ]
    }
   ],
   "source": [
    "rx = CC.random_element()\n",
    "ry = CC.random_element()\n",
    "print 'a random point :', (rx, ry)"
   ]
  },
  {
   "cell_type": "code",
   "execution_count": 69,
   "metadata": {
    "collapsed": false,
    "deletable": true,
    "editable": true
   },
   "outputs": [
    {
     "name": "stdout",
     "output_type": "stream",
     "text": [
      "0.000000000000000\n"
     ]
    }
   ],
   "source": [
    "v1 = e1(x=rx, y=ry)\n",
    "v2 = e2(x=rx, y=ry)\n",
    "print v1 - v2"
   ]
  }
 ],
 "metadata": {
  "kernelspec": {
   "display_name": "SageMath 8.0",
   "language": "",
   "name": "sagemath"
  },
  "language_info": {
   "codemirror_mode": {
    "name": "ipython",
    "version": 2
   },
   "file_extension": ".py",
   "mimetype": "text/x-python",
   "name": "python",
   "nbconvert_exporter": "python",
   "pygments_lexer": "ipython2",
   "version": "2.7.13"
  }
 },
 "nbformat": 4,
 "nbformat_minor": 0
}
