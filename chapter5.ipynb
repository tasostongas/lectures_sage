{
 "cells": [
  {
   "cell_type": "markdown",
   "metadata": {},
   "source": [
    "<p> <br> <p> <br>  <p> <br>  <p>\n",
    "<hr>\n",
    "# Κεφάλαιο 5\n",
    "<hr>\n",
    "<p> <br> <p> <br>  <p> <br>  <p>"
   ]
  },
  {
   "cell_type": "markdown",
   "metadata": {},
   "source": [
    "# 5. Γραμμική Άλγεβρα "
   ]
  },
  {
   "cell_type": "markdown",
   "metadata": {},
   "source": [
    "## 5.1 Βασικές έννοιες της γραμμικής άλγεβρας στο Sage"
   ]
  },
  {
   "cell_type": "markdown",
   "metadata": {},
   "source": [
    "<p> <font style=\"font-family:Dejavu Serif;FONT-SIZE:15px;LINE-HEIGHT:25px;\"> \n",
    "Το Sage μας παρέχει όλες τις καθιερωμένες μαθηματικές έννοιες της γραμμικής άλγεβρας, όπως το χαρακτηριστικό και ελάχιστο πολυώνυμο, την ανηγμένη κλιμακωτή μορφή, διάφορες αναλύσεις ενός πίνακα κλπ. <br> <br>\n",
    "\n",
    "Η δημιουργία διανυσμάτων και πινάκων στο Sage γίνεται με άμεσο και φυσικό τρόπο\n",
    "</p>"
   ]
  },
  {
   "cell_type": "code",
   "execution_count": 1,
   "metadata": {
    "collapsed": false
   },
   "outputs": [
    {
     "name": "stdout",
     "output_type": "stream",
     "text": [
      "(0, 0, 0)\n",
      "(-9, 1, -2)\n"
     ]
    }
   ],
   "source": [
    "A = Matrix([[1,2,3],[3,2,1],[1,1,1]])\n",
    "w = vector([1,1,-4])\n",
    "print w*A; print A*w"
   ]
  },
  {
   "cell_type": "markdown",
   "metadata": {},
   "source": [
    "<p> <font style=\"font-family:Dejavu Serif;FONT-SIZE:15px;LINE-HEIGHT:25px;\"> \n",
    "Στο Sage ο πυρήνας ενός πίνακα $A$ (ή καλύτερα μιας γραμμικής απεικόνισης) είναι από προεπιλογή τα διανύσματα $w$, τέτοια ώστε $w\\,A=0$, δηλαδή με πολλαπλασιασμό από αριστερά. Για να πάρουμε το αποτέλεσμα με πολλαπλασιασμό από δεξιά χρησιμοποιούμε την μέθοδο <code>right_kernel</code>\n",
    "</p>"
   ]
  },
  {
   "cell_type": "code",
   "execution_count": 2,
   "metadata": {
    "collapsed": false
   },
   "outputs": [
    {
     "name": "stdout",
     "output_type": "stream",
     "text": [
      "Free module of degree 3 and rank 1 over Integer Ring\n",
      "Echelon basis matrix:\n",
      "[ 1  1 -4]\n",
      "Free module of degree 3 and rank 1 over Integer Ring\n",
      "Echelon basis matrix:\n",
      "[ 1 -2  1]\n"
     ]
    }
   ],
   "source": [
    "print A.kernel() ; print A.right_kernel()"
   ]
  },
  {
   "cell_type": "markdown",
   "metadata": {},
   "source": [
    "<p> <font style=\"font-family:Dejavu Serif;FONT-SIZE:15px;LINE-HEIGHT:25px;\"> \n",
    "Για γρήγορη επίλυση γραμμικών συστημάτων χρησιμοποιούμε την μέθοδο <code>solve_right</code>. Υπολογίζοντας το\n",
    "<code>A.solve_right(Y)</code> το Sage μας επιστρέφει ένα διάνυσμα $X$ τέτοιο ώστε $A\\,X=Y$ :\n",
    "</p>"
   ]
  },
  {
   "cell_type": "code",
   "execution_count": 3,
   "metadata": {
    "collapsed": false
   },
   "outputs": [
    {
     "name": "stdout",
     "output_type": "stream",
     "text": [
      "(-2, 1, 0)\n",
      "True\n"
     ]
    }
   ],
   "source": [
    "Y = vector([0, -4, -1])\n",
    "X = A.solve_right(Y); print X; print A*X==Y"
   ]
  },
  {
   "cell_type": "markdown",
   "metadata": {},
   "source": [
    "<p> <font style=\"font-family:Dejavu Serif;FONT-SIZE:15px;LINE-HEIGHT:25px;\"> \n",
    "Εναλλακτικά, αντί για την μέθοδο  <code>solve_right</code> μπορούμε να χρησιμοποιήσουμε τον χαρακτήρα backslash ( \\ ) \n",
    "</p>"
   ]
  },
  {
   "cell_type": "code",
   "execution_count": 4,
   "metadata": {
    "collapsed": false
   },
   "outputs": [
    {
     "name": "stdout",
     "output_type": "stream",
     "text": [
      "(-2, 1, 0)\n"
     ]
    }
   ],
   "source": [
    "print A\\Y"
   ]
  },
  {
   "cell_type": "markdown",
   "metadata": {},
   "source": [
    "<p> <font style=\"font-family:Dejavu Serif;FONT-SIZE:15px;LINE-HEIGHT:25px;\"> \n",
    "Αν το γραμμικό σύστημα δεν έχει λύση (είναι ασυμβίβαστο) τότε to Sage μας επιστρέφει λάθος\n",
    "</p>\n",
    "\n",
    "<code>A.solve_right(w)\n",
    "......\n",
    "<font color=\"red\">ValueError:</font> matrix equation has no solutions </code>"
   ]
  },
  {
   "cell_type": "markdown",
   "metadata": {},
   "source": [
    "<p> <font style=\"font-family:Dejavu Serif;FONT-SIZE:15px;LINE-HEIGHT:25px;\"> \n",
    "Όταν θέλουμε να επιλύσουμε ένα σύστημα γραμμικών εξισώσεων, τo Sage έχει την εντολή <code>pivots</code> για να πάρουμε με γρήγορο τρόπο σε ποιές στήλες βρίσκονται οι εξαρτημένες μεταβλητές. Για παράδειγμα, με τα παρακάτω ορίζουμε τον πίνακα που απαρτίζεται από τους συντελεστές ενός γραμμικού συστήματος το οποίο θέλουμε να επιλύσουμε. Στη συνέχεια θεωρούμε τον επαυξημένο πίνακα και ζητάμε από το Sage να μας πει σε ποιές στήλες είναι οι εξαρτημένες μεταβλητές. Τέλος  ζητάμε να μας δώσει την ανηγμένη κλιμακωτή μορφή του επαυξημένου πίνακα.\n",
    "</p>"
   ]
  },
  {
   "cell_type": "code",
   "execution_count": 5,
   "metadata": {
    "collapsed": false
   },
   "outputs": [
    {
     "name": "stdout",
     "output_type": "stream",
     "text": [
      "[  1   4   0  -1   0   7  -9|  3]\n",
      "[  2   8  -1   3   9 -13   7|  9]\n",
      "[  0   0   2  -3  -4  12  -8|  1]\n",
      "[ -1  -4   2   4   8 -31  37|  4]\n",
      "----------------------------------------\n",
      "σε ποιές στήλες είναι οι εξαρτημένες μεταβλητές: (0, 2, 3)\n",
      "----------------------------------------\n",
      "[ 1  4  0  0  2  1 -3| 4]\n",
      "[ 0  0  1  0  1 -3  5| 2]\n",
      "[ 0  0  0  1  2 -6  6| 1]\n",
      "[ 0  0  0  0  0  0  0| 0]\n"
     ]
    }
   ],
   "source": [
    "coeff = matrix(QQ, [[ 1,  4, 0, -1,  0,   7, -9],\n",
    "                    [ 2,  8,-1,  3,  9, -13,  7],\n",
    "                    [ 0,  0, 2, -3, -4,  12, -8],\n",
    "                    [-1, -4, 2,  4,  8, -31, 37]])\n",
    "const = vector(QQ, [3, 9, 1, 4])\n",
    "aug = coeff.augment(const,subdivide=True)\n",
    "print aug ; print str('----------------------------------------')\n",
    "dependent = aug.pivots()\n",
    "print str('σε ποιές στήλες είναι οι εξαρτημένες μεταβλητές:'), dependent; \n",
    "print str('----------------------------------------')\n",
    "print aug.rref() ; \n"
   ]
  },
  {
   "cell_type": "markdown",
   "metadata": {},
   "source": [
    "<p> <font style=\"font-family:Dejavu Serif;FONT-SIZE:15px;LINE-HEIGHT:25px;\"> \n",
    "Παρατηρούμε ότι υπάρχουν τρεις εξαρτημένες μεταβλητές, οπότε οι υπόλοιπες τέσσερις είναι οι ελεύθερες μεταβλητές του γραμμικού συστήματος. Για να βρούμε την γενική λύση του γραμμικού συστήματος υπολογίζουμε τον πυρήνα του πίνακα και ονομάζουμε τις ελεύθερες μεταβλητές με $c_0,c_1,c_2,c_3$ (προσοχή! να μην υπάρχει σύγχυση με τις μεταβλητές του γραμμικού συστήματος) και ζητάμε από το Sage μια οποιαδήποτε λύση του μη-ομογενούς συστήματος.\n",
    "</p>"
   ]
  },
  {
   "cell_type": "code",
   "execution_count": 6,
   "metadata": {
    "collapsed": false
   },
   "outputs": [
    {
     "name": "stdout",
     "output_type": "stream",
     "text": [
      "[\n",
      "(1, 0, 0, 0, -3/7, -1/7, 0),\n",
      "(0, 1, 0, 0, -12/7, -4/7, 0),\n",
      "(0, 0, 1, 0, -3/7, -9/14, -1/2),\n",
      "(0, 0, 0, 1, 1/7, 13/28, 1/4)\n",
      "]\n"
     ]
    }
   ],
   "source": [
    "null = coeff.right_kernel().basis(); print null"
   ]
  },
  {
   "cell_type": "code",
   "execution_count": 7,
   "metadata": {
    "collapsed": false
   },
   "outputs": [
    {
     "name": "stdout",
     "output_type": "stream",
     "text": [
      "(c0, c1, c2, c3, -3/7*c0 - 12/7*c1 - 3/7*c2 + 1/7*c3, -1/7*c0 - 4/7*c1 - 9/14*c2 + 13/28*c3, -1/2*c2 + 1/4*c3)\n"
     ]
    }
   ],
   "source": [
    "v = [var('c' + '%0d' % k) for k in [0..len(null)-1] ] \n",
    "xhom = sum(v[k]*null[k] for k in [0..len(null)-1] ) ; print xhom"
   ]
  },
  {
   "cell_type": "code",
   "execution_count": 8,
   "metadata": {
    "collapsed": false
   },
   "outputs": [
    {
     "name": "stdout",
     "output_type": "stream",
     "text": [
      "(4, 0, 2, 1, 0, 0, 0)\n"
     ]
    }
   ],
   "source": [
    "special = coeff\\const ; print special"
   ]
  },
  {
   "cell_type": "markdown",
   "metadata": {},
   "source": [
    "<p> <font style=\"font-family:Dejavu Serif;FONT-SIZE:15px;LINE-HEIGHT:25px;\"> \n",
    "Η γενική λύση του γραμμικού συστήματος είναι η ειδική λύση και ένας γραμμικός συνδυασμός των διανυσμάτων του ομογενούς συστήματος.\n",
    "</p>"
   ]
  },
  {
   "cell_type": "code",
   "execution_count": 9,
   "metadata": {
    "collapsed": false
   },
   "outputs": [
    {
     "name": "stdout",
     "output_type": "stream",
     "text": [
      "(c0 + 4, c1, c2 + 2, c3 + 1, -3/7*c0 - 12/7*c1 - 3/7*c2 + 1/7*c3, -1/7*c0 - 4/7*c1 - 9/14*c2 + 13/28*c3, -1/2*c2 + 1/4*c3)\n",
      "True\n"
     ]
    }
   ],
   "source": [
    "sol = special + xhom; print sol;\n",
    "print coeff*sol == const"
   ]
  },
  {
   "cell_type": "markdown",
   "metadata": {},
   "source": [
    "<p> <font style=\"font-family:Dejavu Serif;FONT-SIZE:15px;LINE-HEIGHT:25px;\"> \n",
    "Το Sage υπολογίζει τις ιδιοτιμές και τα αντίστοιχα ιδιοδιανύσματα ενός τετραγωνικού πίνακα:\n",
    "</p>"
   ]
  },
  {
   "cell_type": "code",
   "execution_count": 10,
   "metadata": {
    "collapsed": false
   },
   "outputs": [
    {
     "name": "stdout",
     "output_type": "stream",
     "text": [
      "[4, 0, 2, 2]\n"
     ]
    }
   ],
   "source": [
    "A = matrix(QQ, [[ 204,   98, -26, -10],\n",
    "                [-280, -134,  36,  14],\n",
    "                [ 716,  348, -90, -36],\n",
    "                [-472, -232,  60,  28]])\n",
    "print A.eigenvalues()"
   ]
  },
  {
   "cell_type": "code",
   "execution_count": 11,
   "metadata": {
    "collapsed": false
   },
   "outputs": [
    {
     "name": "stdout",
     "output_type": "stream",
     "text": [
      "[(4, [\n",
      "(1, -1, 2, 5)\n",
      "], 1), (0, [\n",
      "(1, -4/3, 10/3, -4/3)\n",
      "], 1), (2, [\n",
      "(1, 0, 7, 2),\n",
      "(0, 1, 3, 2)\n",
      "], 2)]\n"
     ]
    }
   ],
   "source": [
    "print A.eigenvectors_right()"
   ]
  },
  {
   "cell_type": "markdown",
   "metadata": {},
   "source": [
    "<p> <font style=\"font-family:Dejavu Serif;FONT-SIZE:15px;LINE-HEIGHT:25px;\"> \n",
    "από όπου συμπεραίνουμε ότι ο πίνακας $A$ έχει τρεις ιδιοτιμές, τις $4,0,2$ με την ιδιοτιμή $\\lambda=2$ να έχει αλγεβρική πολλαπλότητα $2$, γιατί εμφανίζεται δυο φορές στην λίστα που μας δίνει το Sage. Η γεωμετρική πολλαπλότητα της ιδιοτιμής $\\lambda=2$ είναι ίση με την αλγεβρική της πολλαπλότητα γιατί στην ιδιοτιμή αυτή αντιστοιχούν δυο ιδιοδιανύσματα όπως φαίνεται στην αντίστοιχη λίστα των ιδιοδιανυσμάτων. <br><br> Eπιπλέον, το Sage υπολογίζει το ελάχιστο και το χαρακτηριστικό πολυώνυμο ενός πίνακα:\n",
    "</p>"
   ]
  },
  {
   "cell_type": "code",
   "execution_count": 12,
   "metadata": {
    "collapsed": false
   },
   "outputs": [
    {
     "name": "stdout",
     "output_type": "stream",
     "text": [
      "το ελάχιστο πολυώνυμο του Α: x^3 - 6*x^2 + 8*x\n",
      "παραγοντοποίηση: (x - 4) * (x - 2) * x\n",
      "το χαρακτηριστικό πολυώνυμο του Α: x^4 - 8*x^3 + 20*x^2 - 16*x\n",
      "παραγοντοποίηση: (x - 4) * x * (x - 2)^2\n",
      "True True True True\n"
     ]
    }
   ],
   "source": [
    "fmin = A.minpoly(); fchar = A.characteristic_polynomial(); \n",
    "print str('το ελάχιστο πολυώνυμο του Α:'), fmin;\n",
    "print str('παραγοντοποίηση:'), fmin.factor(); \n",
    "print str('το χαρακτηριστικό πολυώνυμο του Α:') , fchar;\n",
    "print str('παραγοντοποίηση:'), fchar.factor()\n",
    "print fmin(A).is_zero(), fchar(A).is_zero(), fmin.is_monic(), fmin.degree()<fchar.degree()"
   ]
  },
  {
   "cell_type": "markdown",
   "metadata": {},
   "source": [
    "<p> <font style=\"font-family:Dejavu Serif;FONT-SIZE:15px;LINE-HEIGHT:25px;\"> \n",
    "Όταν ένας τετραγωνικός πίνακας δεν διαγωνοποιείται, το Sage μας παρέχει την μορφή Jordan του πίνακα, μαζί με τον πίνακα αλλαγής βάσης ο οποίος παράγεται από τα γενικευμένα ιδιοδιανύσματα του αντίστοιχου πίνακα. Για παράδειγμα:\n",
    "</p>"
   ]
  },
  {
   "cell_type": "code",
   "execution_count": 13,
   "metadata": {
    "collapsed": false
   },
   "outputs": [
    {
     "name": "stdout",
     "output_type": "stream",
     "text": [
      "Ο πίνακας Β:\n",
      "[1 1 3]\n",
      "[0 1 0]\n",
      "[0 0 2]\n",
      "----------\n",
      "Η μορφή Jordan J του πίνακα Β:\n",
      "[2|0 0]\n",
      "[-+---]\n",
      "[0|1 1]\n",
      "[0|0 1]\n",
      "----------\n",
      "Ο πίνακας T αλλαγής βάσης:\n",
      "[  1   1   0]\n",
      "[  0   0   1]\n",
      "[1/3   0   0]\n"
     ]
    }
   ],
   "source": [
    "B = matrix([[1, 1, 3], [0, 1, 0], [0, 0, 2]]); print str('Ο πίνακας Β:'); print B ; print str('----------')\n",
    "J, T = B.jordan_form(transformation=True);\n",
    "print str('Η μορφή Jordan J του πίνακα Β:');\n",
    "print J; \n",
    "print str('----------')\n",
    "print str('Ο πίνακας T αλλαγής βάσης:');\n",
    "print T"
   ]
  },
  {
   "cell_type": "code",
   "execution_count": 14,
   "metadata": {
    "collapsed": false
   },
   "outputs": [
    {
     "name": "stdout",
     "output_type": "stream",
     "text": [
      "True\n"
     ]
    }
   ],
   "source": [
    "print B == T*J*T^(-1)"
   ]
  },
  {
   "cell_type": "markdown",
   "metadata": {},
   "source": [
    "## 5.2 Γραμμική άλβεβρα και προβλήματα ελαχιστοποίησης \n",
    "\n",
    "### 5.2.1 Η διαδικασία ορθοκανονικοποίησης Gram-Schmidt\n",
    "\n",
    "<p> <font style=\"font-family:Dejavu Serif;FONT-SIZE:15px;LINE-HEIGHT:25px;\"> \n",
    "Μια απλή αναζήτηση στο διαδίκτυο μας δίνει ως αποτέλεσμα πολλά κι ενδιαφέροντα διαδραστικά μαθήματα γραμμικής άλγεβρας με την βοήθεια του Sage. Στα παρακάτω έχουμε επιλέξει να παρουσιάσουμε μια διαφορετική εφαρμογή, και πιο συγκεκριμένα πως μπορούμε να χρησιμοποιήσουμε τις δυνατότητες συμβολικής ολοκλήρωσης του Sage, παρέα με την γραμμική άλγεβρα για να  προσεγγίσουμε συνεχείς συναρτήσεις με πολυώνυμα. Το πρόβλημα αυτό είναι αρκετά απαιτητικό κι επίπονο από υπολογιστική σκοπιά, και ιδιαίτερα όταν πρέπει να υπολογίσουμε μια ορθοκανονική βάση σε έναν κατάλληλο διανυσματικό υπόχωρο με την διαδικασία Gram-Schmidt. <br><br> Ας θυμηθούμε όμως πρώτα μερικές βασικές έννοιες που διδαχτήκατε στην γραμμική άλγεβρα.\n",
    "\n",
    "<p style=\"font-family:Dejavu Serif;FONT-SIZE:15px;LINE-HEIGHT:25px;color:red\"><strong>Ορθοκανονική λίστα διανυσμάτων </strong></p> \n",
    "<p> <font style=\"font-family:Dejavu Serif;FONT-SIZE:15px;LINE-HEIGHT:25px;\"> \n",
    "Θεωρούμε έναν διανυσματικό χώρο $V$ εφοδιασμένο με ένα εσωτερικό γινόμενο $<\\,,\\,>$. \n",
    "Μια λίστα διανυσμάτων ${\\rm{e}}_1 , \\ldots , {\\rm{e}}_m$ του $V$, λέγεται <strong> ορθοκανονική </strong>  αν κάθε διάνυσμα στην λίστα έχει νόρμα ίση με μονάδα, και είναι ορθογώνιο με όλα τα άλλα διανύσματα της λίστας:<br>\n",
    "Με άλλα λόγια, η λίστα $({\\rm e}_1 , \\ldots , {\\rm e}_m)$ διανυσμάτων του $V$ είναι ορθοκανονική αν\n",
    "$$ < \\rm{e}_i\\,,\\,{\\rm{e}}_j >= \\delta_{i\\,j}:= \\begin{cases}\n",
    "1\\,, & \\mbox{αν}\\quad j=k\\,, \\\\\n",
    "0\\,, & \\mbox{αν}\\quad j\\neq k\\,.\n",
    "\\end{cases} $$\n",
    "</p>"
   ]
  },
  {
   "cell_type": "markdown",
   "metadata": {},
   "source": [
    "<p style=\"font-family:Dejavu Serif;FONT-SIZE:15px;LINE-HEIGHT:25px;color:green\"><strong>Παράδειγμα.</strong></p> \n",
    "<p style=\"font-family:Dejavu Serif;FONT-SIZE:15px;LINE-HEIGHT:25px\">\n",
    "Τα διανύσματα του $\\mathbb{R}^3$ \n",
    "$$\\textstyle {\\rm e}_1 = (\\frac{1}{\\sqrt{3}},\\frac{1}{\\sqrt{3}},\\frac{1}{\\sqrt{3}})\\,, \\quad \n",
    "{\\rm e}_2 = (-\\frac{1}{\\sqrt{2}},\\frac{1}{\\sqrt{2}},0)\n",
    "$$ <br>\n",
    "είναι μια ορθοκανονική λίστα στον $\\mathbb{R}^3$.</p>"
   ]
  },
  {
   "cell_type": "code",
   "execution_count": 15,
   "metadata": {
    "collapsed": false
   },
   "outputs": [
    {
     "name": "stdout",
     "output_type": "stream",
     "text": [
      "[(1/3*sqrt(3), 1/3*sqrt(3), 1/3*sqrt(3)), (-1/2*sqrt(2), 1/2*sqrt(2), 0)]\n"
     ]
    }
   ],
   "source": [
    "e = [vector([1/3^(1/2), 1/3^(1/2) , 1/3^(1/2)]) , vector([-1/2^(1/2), 1/2^(1/2) , 0])]; \n",
    "print e"
   ]
  },
  {
   "cell_type": "code",
   "execution_count": 16,
   "metadata": {
    "collapsed": false
   },
   "outputs": [
    {
     "name": "stdout",
     "output_type": "stream",
     "text": [
      "[1 0]\n",
      "[0 1]\n"
     ]
    }
   ],
   "source": [
    "ginomena = matrix([[ e[i].dot_product(e[j]) for i in range(len(e))] for j in range(len(e))]);\n",
    "print ginomena"
   ]
  },
  {
   "cell_type": "markdown",
   "metadata": {},
   "source": [
    "<p style=\"font-family:Dejavu Serif;FONT-SIZE:15px;LINE-HEIGHT:25px\">\n",
    "Τα διανύσματα του $\\mathbb{R}^3$ \n",
    "$$\\textstyle {\\rm e}_1 = (\\frac{1}{\\sqrt{3}},\\frac{1}{\\sqrt{3}},\\frac{1}{\\sqrt{3}})\\,, \\quad \n",
    "{\\rm e}_2= (-\\frac{1}{\\sqrt{2}},\\frac{1}{\\sqrt{2}},0)\\,,\\quad\n",
    "{\\rm e}_3 = (\\frac{1}{\\sqrt{6}},\\frac{1}{\\sqrt{6}},-\\frac{2}{\\sqrt{6}})\\,,\n",
    "$$ <br>\n",
    "είναι μια ορθοκανονική λίστα στον $\\mathbb{R}^3$\n",
    "</p>"
   ]
  },
  {
   "cell_type": "code",
   "execution_count": 17,
   "metadata": {
    "collapsed": false
   },
   "outputs": [],
   "source": [
    "e.append(vector([1/6^(1/2), 1/6^(1/2) , -2/6^(1/2)]) );"
   ]
  },
  {
   "cell_type": "code",
   "execution_count": 18,
   "metadata": {
    "collapsed": false
   },
   "outputs": [
    {
     "name": "stdout",
     "output_type": "stream",
     "text": [
      "[1 0 0]\n",
      "[0 1 0]\n",
      "[0 0 1]\n"
     ]
    }
   ],
   "source": [
    "ginomena = matrix([[ e[i].dot_product(e[j]) for i in range(len(e))] for j in range(len(e))]);\n",
    "print ginomena"
   ]
  },
  {
   "cell_type": "markdown",
   "metadata": {},
   "source": [
    "<p style=\"font-family:Dejavu Serif;FONT-SIZE:15px;LINE-HEIGHT:25px;color:red\"><strong>Η νόρμα ενός ορθοκανονικού γραμμικού συνδυασμού </strong></p> \n",
    "<p style=\"font-family:Dejavu Serif;FONT-SIZE:15px;LINE-HEIGHT:25px;\">\n",
    "Αν ${\\rm e}_1 , \\ldots , {\\rm e}_m$ είναι μια ορθοκανονική λίστα διανυσμάτων του $V$, τότε <br> <br>\n",
    "$$\\left\\lVert a_1\\,{\\rm e}_1 + \\cdots a_m\\, {\\rm e}_m \\right\\rVert^2 = \\left|a_1\\right|^2 + \\cdots +\\left|a_m\\right|^2 \\,,\n",
    "$$ <br>\n",
    "για κάθε $a_1,a_2,\\ldots a_m$, στο $\\mathbb{R}$ ή $\\mathbb{C}$, όπου με $\\left\\lVert \\,\\, \\right\\rVert $ συμβολίζουμε την νόρμα ενός διανύσματος του $V$, δηλαδή $\\left\\lVert \\rm{v} \\right\\rVert = \\sqrt{< \\rm{v},\\rm{v} >}$.\n",
    "</p>"
   ]
  },
  {
   "cell_type": "markdown",
   "metadata": {},
   "source": [
    "<p style=\"font-family:Dejavu Serif;FONT-SIZE:15px;LINE-HEIGHT:25px;color:red\"><strong>\n",
    "Τα διανύσματα μιας ορθοκανονικής λίστας είναι γραμμικώς ανεξάρτητα</strong></p> \n",
    "<p style=\"font-family:Dejavu Serif;FONT-SIZE:15px;LINE-HEIGHT:25px;\">\n",
    "Αν ${\\rm e}_1 , \\ldots , {\\rm e}_m$ είναι μια ορθοκανονική λίστα διανυσμάτων του $V$, τότε τα \n",
    "${\\rm e}_1 , \\ldots , {\\rm e}_m$ είναι γραμμικώς ανεξάρτητα διανύσματα. Αυτό μπορεί να αποδειχθεί εύκολα χρησιμοποιώντας την προηγούμενη ισότητα.\n",
    "</p>"
   ]
  },
  {
   "cell_type": "markdown",
   "metadata": {},
   "source": [
    "<p style=\"font-family:Dejavu Serif;FONT-SIZE:15px;LINE-HEIGHT:25px;color:red\"><strong>\n",
    "Ορθοκανονική βάση</strong></p> \n",
    "<p style=\"font-family:Dejavu Serif;FONT-SIZE:15px;LINE-HEIGHT:25px;\">\n",
    "Μια ορθοκανονική βάση του $V$, είναι μια ορθοκανονική λίστα διανυσμάτων στον $V$, η οποία είναι επιπλέον και βάση του $V$. Κάθε ορθοκανονική λίστα διανυσμάτων του V με μήκος ίση με την διάσταση του $V$, είναι μια ορθοκανονική βάση του $V$.\n",
    "</p>"
   ]
  },
  {
   "cell_type": "markdown",
   "metadata": {},
   "source": [
    "<p style=\"font-family:Dejavu Serif;FONT-SIZE:15px;LINE-HEIGHT:25px;color:green\"><strong>Παράδειγμα.</strong></p> \n",
    "<p style=\"font-family:Dejavu Serif;FONT-SIZE:15px;LINE-HEIGHT:25px\">\n",
    "Τα διανύσματα του $\\mathbb{R}^4$ <br> <br>\n",
    "$$\\textstyle (\\frac{1}{2},\\frac{1}{2},\\frac{1}{2},\\frac{1}{2})\\,, \\quad \n",
    "(\\frac{1}{2},\\frac{1}{2},-\\frac{1}{2},-\\frac{1}{2})\\,, \\quad\n",
    "(\\frac{1}{2},-\\frac{1}{2},-\\frac{1}{2},\\frac{1}{2})\\,, \\quad\n",
    "(-\\frac{1}{2},\\frac{1}{2},-\\frac{1}{2},\\frac{1}{2})\\,, \\quad\n",
    "$$ <br>\n",
    "είναι μια ορθοκανονική βάση του $\\mathbb{R}^4$</p>"
   ]
  },
  {
   "cell_type": "code",
   "execution_count": 19,
   "metadata": {
    "collapsed": false
   },
   "outputs": [
    {
     "name": "stdout",
     "output_type": "stream",
     "text": [
      "[(1/2, 1/2, 1/2, 1/2), (1/2, 1/2, -1/2, -1/2), (1/2, -1/2, -1/2, 1/2), (-1/2, 1/2, -1/2, 1/2)]\n",
      "4\n"
     ]
    }
   ],
   "source": [
    "e = [vector([1/2,1/2,1/2,1/2]) , vector([1/2,1/2,-1/2,-1/2]) , \n",
    "     vector([1/2,-1/2,-1/2,1/2]), vector([-1/2,1/2,-1/2,1/2])]; \n",
    "print e; print len(e)"
   ]
  },
  {
   "cell_type": "code",
   "execution_count": 20,
   "metadata": {
    "collapsed": false
   },
   "outputs": [
    {
     "name": "stdout",
     "output_type": "stream",
     "text": [
      "[1 0 0 0]\n",
      "[0 1 0 0]\n",
      "[0 0 1 0]\n",
      "[0 0 0 1]\n"
     ]
    }
   ],
   "source": [
    "ginomena = matrix([[ e[i].dot_product(e[j]) for i in range(len(e))] for j in range(len(e))]);\n",
    "print ginomena"
   ]
  },
  {
   "cell_type": "markdown",
   "metadata": {},
   "source": [
    "<p style=\"font-family:Dejavu Serif;FONT-SIZE:15px;LINE-HEIGHT:25px;\">\n",
    "Επειδή το μήκος της παραπάνω λίστας διανυσμάτων του $\\mathbb{R}^4$ είναι τέσσερα, δηλαδή ίση με την διάσταση του $\\mathbb{R}^4$, είναι μια ορθοκανονική βάση του $\\mathbb{R}^4$.  \n",
    "</p>"
   ]
  },
  {
   "cell_type": "markdown",
   "metadata": {},
   "source": [
    "<p style=\"font-family:Dejavu Serif;FONT-SIZE:15px;LINE-HEIGHT:25px;color:red\"><strong>Γράφοντας ένα διάνυσμα σαν γραμμικό συνδυασμό των διανυσμάτων μιας ορθοκανονικής βάσης</strong></p> \n",
    "<p style=\"font-family:Dejavu Serif;FONT-SIZE:15px;LINE-HEIGHT:25px;\">\n",
    "Αν ${\\rm e}_1 , \\ldots , {\\rm e}_n$ είναι μια ορθοκανονική βάση διανυσμάτων του $V$, και ${\\rm v} \\in V$, τότε\n",
    "<br> <br>\n",
    "$$v = < {\\rm v},{\\rm e}_1 >\\,{\\rm e}_1 + \\cdots + < {\\rm v},{\\rm e}_n >\\,{\\rm e}_n\\,,$$\n",
    "και\n",
    "$$\\left\\lVert {\\rm v} \\right\\rVert^2 = \\left|< {\\rm v},{\\rm e}_1 >\\right|^2 + \\cdots +\\left|< {\\rm v},{\\rm e}_m >\\right|^2\\,.$$ <br>\n",
    "Η πιο σημαντική χρησιμότητα των ορθοκανονικών βάσεων στηρίζεται στο προηγούμενο αποτέλεσμα. Σε μια γενική βάση ${\\rm e}_1 , \\ldots , {\\rm e}_n$ του $V$, γνωρίζουμε ότι δοσμένου ενός τυχαίου διανύσματος ${\\rm v}\\in V$, υπάρχει μια επιλογή βαθμωτών $a_1,\\ldots,a_n$ (στο $\\mathbb{R}$ ή στο $\\mathbb{C}$) έτσι ώστε <br> <br>\n",
    "$${\\rm v} = a_1\\,{\\rm e}_1 + \\cdots + a_n\\,{\\rm e}_n\\,.$$ <br>\n",
    "Όμως, ο υπολογισμός των $a_1,\\ldots,a_n$, μπορεί να είναι μια επίπονη διαδικασία για μια γενική βάση ${\\rm e}_1 , \\ldots , {\\rm e}_n$. Ωστόσο, αν η βάση ${\\rm e}_1 , \\ldots , {\\rm e}_n$  είναι ορθοκανονική τα βαθμωτά $a_1,\\ldots,a_n$,  είναι απλά $a_j = <{\\rm v},{\\rm e}_j>$.\n",
    "\n",
    "</p>"
   ]
  },
  {
   "cell_type": "markdown",
   "metadata": {},
   "source": [
    "<p style=\"font-family:Dejavu Serif;FONT-SIZE:15px;LINE-HEIGHT:25px;color:red\"><strong>\n",
    "Η διαδικασία ορθοκανονικοποίησης Gram-Schmidt</strong></p> \n",
    "<p style=\"font-family:Dejavu Serif;FONT-SIZE:15px;LINE-HEIGHT:25px;\">\n",
    "Ας υποθέσουμε ότι ${\\rm v}_1 , \\ldots , {\\rm v}_m$ είναι μια λίστα γραμμικώς ανεξάρτητων διανυσμάτων του $V$. Έστω <br> <br>\n",
    "$$ {\\rm e}_1 = \\frac{{\\rm v}_1}{\\left\\lVert {\\rm v}_1 \\right\\rVert}\\,.$$ <br>\n",
    "Για $j=2,\\ldots m$, ορίζουμε τα διανύσματα ${\\rm e}_j$ επαγωγικά ως εξής: <br><br>\n",
    "$${\\rm e}_j = \\frac{{\\rm v}_j - < {\\rm v}_j,{\\rm e}_1 > {\\rm e}_1 -\\cdots -< {\\rm v}_j,{\\rm e}_{j-1} >\\,{\\rm e}_{j-1}}{\\left\\lVert {\\rm v}_j - < {\\rm v}_j,{\\rm e}_1 > {\\rm e}_1 -\\cdots -< {\\rm v}_j,{\\rm e}_{j-1} >\\,{\\rm e}_{j-1}\\right\\rVert}$$<br>\n",
    "Τότε η νέα λίστα ${\\rm e}_1,{\\rm e}_2,\\ldots, {\\rm e}_m$ είναι μια ορθοκανονική λίστα διανυσμάτων του $V$, έτσι ώστε\n",
    "$$ \\rm{span}({\\rm v}_1,\\ldots , {\\rm v}_j) = \\rm{span}({\\rm e}_1,\\ldots , {\\rm e}_j)$$\n",
    "για $j=1,\\ldots,m.$\n",
    "</p>"
   ]
  },
  {
   "cell_type": "markdown",
   "metadata": {},
   "source": [
    "<p style=\"font-family:Dejavu Serif;FONT-SIZE:15px;LINE-HEIGHT:25px;color:green\"><strong>Παράδειγμα.</strong></p> \n",
    "<p style=\"font-family:Dejavu Serif;FONT-SIZE:15px;LINE-HEIGHT:25px\">\n",
    "Τα διανύσματα του $\\mathbb{R}^3$ \n",
    "$$\\textstyle {\\rm v}_1=(1,2,2)\\,, \\quad \n",
    "{\\rm v}_2=(-1,0,2)\\,, \\quad\n",
    "{\\rm v}_3 = (2,2,1) \\,, \\quad\n",
    "$$ <br>\n",
    "είναι μια βάση του $\\mathbb{R}^3$. Πράγματι, η διάσταση του $\\mathbb{R}^3$ είναι 3 και \n",
    "τα τρία διανύσματα είναι γραμμικώς ανεξάρτητα αφού ο πίνακας $M = [v_1,v_2,v_3]$ με στήλες τα παραπάνω διανύσματα έχει την παρακάτω κλιμακωτή ανηγμένη μορφή:</p>"
   ]
  },
  {
   "cell_type": "code",
   "execution_count": 21,
   "metadata": {
    "collapsed": false
   },
   "outputs": [
    {
     "name": "stdout",
     "output_type": "stream",
     "text": [
      "[ 1 -1  2]\n",
      "[ 2  0  2]\n",
      "[ 2  2  1]\n",
      "[1 0 0]\n",
      "[0 1 0]\n",
      "[0 0 1]\n"
     ]
    }
   ],
   "source": [
    "M = matrix( [[1,-1,2] , [2,0,2], [2,2,1] ] ); print M; print M.rref()"
   ]
  },
  {
   "cell_type": "markdown",
   "metadata": {},
   "source": [
    "<p style=\"font-family:Dejavu Serif;FONT-SIZE:15px;LINE-HEIGHT:25px\">\n",
    "Θέτουμε τα ${\\rm v}_1,{\\rm v}_2,{\\rm v}_3$ σε μια λίστα με όνομα <code>v</code> και έχουμε\n",
    "</p>"
   ]
  },
  {
   "cell_type": "code",
   "execution_count": 22,
   "metadata": {
    "collapsed": false
   },
   "outputs": [
    {
     "name": "stdout",
     "output_type": "stream",
     "text": [
      "[(1, 2, 2), (-1, 0, 2), (2, 2, 1)]\n"
     ]
    }
   ],
   "source": [
    "v = [vector([1,2,2]) , vector([-1,0,2]), vector([2,2,1]) ]; print v"
   ]
  },
  {
   "cell_type": "markdown",
   "metadata": {},
   "source": [
    "<p style=\"font-family:Dejavu Serif;FONT-SIZE:15px;LINE-HEIGHT:25px\">\n",
    "Στην συνέχεια, εφαρμόζουμε την διαδικασία ορθοκανονικοποίησης Gram-Schmidt στην λίστα διανυσμάτων <code>v</code>\n",
    "</p>"
   ]
  },
  {
   "cell_type": "code",
   "execution_count": 23,
   "metadata": {
    "collapsed": false
   },
   "outputs": [
    {
     "name": "stdout",
     "output_type": "stream",
     "text": [
      "[(1/3, 2/3, 2/3), (-2/3, -1/3, 2/3), (2/3, -2/3, 1/3)]\n"
     ]
    }
   ],
   "source": [
    "e = [v[0]/norm(v[0])]\n",
    "for j in [1..len(v)-1]:\n",
    "    r = v[j] - sum(v[j].dot_product(e[k])*e[k] for k in [0..len(e)-1])\n",
    "    normr = norm(r)\n",
    "    e.append(r/norm(r));\n",
    "print e"
   ]
  },
  {
   "cell_type": "markdown",
   "metadata": {},
   "source": [
    "<p style=\"font-family:Dejavu Serif;FONT-SIZE:15px;LINE-HEIGHT:25px\">\n",
    "Το αποτέλεσμα είναι η νέα ορθοκανομική λίστα <code>e</code> διανυσμάτων του $\\mathbb{R}^3$ <br> <br>\n",
    "$$\\textstyle {\\rm e}_1=\\frac{1}{3}(1,2,2)\\,, \\quad \n",
    "{\\rm e}_2=\\frac{1}{3}(-2,-1,2)\\,, \\quad\n",
    "{\\rm e}_3 = \\frac{1}{3}(2,-2,1) \\,, \\quad\n",
    "$$ <br>\n",
    "Πράγματι, υπολογίζουμε όλα τα εσωτερικά γινόμενα των διανυσμάτων στην λίστα <code>e</code>:\n",
    "</p>"
   ]
  },
  {
   "cell_type": "code",
   "execution_count": 24,
   "metadata": {
    "collapsed": false
   },
   "outputs": [
    {
     "name": "stdout",
     "output_type": "stream",
     "text": [
      "[1 0 0]\n",
      "[0 1 0]\n",
      "[0 0 1]\n"
     ]
    }
   ],
   "source": [
    "ginomena = matrix([[ e[i].dot_product(e[j]) for i in range(len(e))] for j in range(len(e))]);\n",
    "print ginomena"
   ]
  },
  {
   "cell_type": "markdown",
   "metadata": {},
   "source": [
    "<p style=\"font-family:Dejavu Serif;FONT-SIZE:15px;LINE-HEIGHT:25px;color:green\"><strong>Παράδειγμα.</strong></p> \n",
    "<p style=\"font-family:Dejavu Serif;FONT-SIZE:15px;LINE-HEIGHT:25px\">\n",
    "Θεωρούμε τα διανύσματα  \n",
    "$$\\textstyle {\\rm v}_1=(1,0,1,1)\\,, \\quad \n",
    "{\\rm v}_2=(1,1,0,1)\\,,$$  <br>\n",
    "τα οποία παράγουν έναν υπόχωρο $W=\\rm{span}(v_1,v_2)$ του $\\mathbb{R}^4$. Θέλουμε να επεκτείνουμε τα ${\\rm v}_1,{\\rm v}_2$ σε μια βάση $v=\\lbrace {\\rm v}_1,{\\rm v}_2,{\\rm v}_3,{\\rm v}_4\\rbrace$ του $\\mathbb{R}^4$, και στην συνέχεια με την διαδικασία Gram-Schmidt να κατασκευάσουμε από την βάση $v$ μια ορθοκανονική βάση του $\\mathbb{R}^4$. <br>\n",
    "Υπάρχουν πολλοί τρόποι για να επεκτείνουμε τα ${\\rm v}_1,{\\rm v}_2$ σε μια βάση του $\\mathbb{R}^4$. Ας υποθέσουμε ότι ${\\rm w}=(x,y,z,w)$ είναι ένα διάνυσμα κάθετο στον $W\\,.$ Τότε \n",
    "$$ < {\\rm v}_1, {\\rm w} >=< {\\rm v}_2,{\\rm w} >=0\\,,$$  \n",
    "το οποίο είναι ένα ομογενές γραμμικό σύστημα για τις συνιστώσες του ${\\rm w}$. Παίρνουμε τον πίνακα του γραμμικού αυτού συστήματος\n",
    "</p>"
   ]
  },
  {
   "cell_type": "code",
   "execution_count": 25,
   "metadata": {
    "collapsed": false
   },
   "outputs": [
    {
     "name": "stdout",
     "output_type": "stream",
     "text": [
      "[ 1  0  1  1]\n",
      "[ 0  1 -1  0]\n"
     ]
    }
   ],
   "source": [
    "M = matrix([[1,0,1,1],[1,1,0,1]]); print M.rref()"
   ]
  },
  {
   "cell_type": "code",
   "execution_count": 26,
   "metadata": {
    "collapsed": false
   },
   "outputs": [
    {
     "name": "stdout",
     "output_type": "stream",
     "text": [
      "[\n",
      "(1, 0, 0, -1),\n",
      "(0, 1, 1, -1)\n",
      "]\n"
     ]
    }
   ],
   "source": [
    "N= M.right_kernel().basis() ; print N"
   ]
  },
  {
   "cell_type": "markdown",
   "metadata": {},
   "source": [
    "<p style=\"font-family:Dejavu Serif;FONT-SIZE:15px;LINE-HEIGHT:25px\">\n",
    "και θεωρούμε τα διανύσματα  \n",
    "$$\\textstyle {\\rm v}_3=(1,0,0,-1)\\,, \\quad \n",
    "{\\rm v}_4=(0,1,1,-1)\\,.$$ <br>\n",
    "τα οποία παράγουν το κάθετο υπόχωρο $W^\\perp=\\rm{span}(v_3,v_4)$ στον $W$. Πράγματι, υπολογίζουμε όλα τα εσωτερικά γινόμενα των διανυσμάτων ${\\rm v}_1,{\\rm v}_2,{\\rm v}_3,{\\rm v}_4$ \n",
    "</p>"
   ]
  },
  {
   "cell_type": "code",
   "execution_count": 27,
   "metadata": {
    "collapsed": false
   },
   "outputs": [],
   "source": [
    "v = [vector([1,0,1,1]), vector([1,1,0,1]), vector([1,0,0,-1]) , vector([0,1,1,-1])]"
   ]
  },
  {
   "cell_type": "code",
   "execution_count": 28,
   "metadata": {
    "collapsed": false
   },
   "outputs": [
    {
     "name": "stdout",
     "output_type": "stream",
     "text": [
      "[3 2 0 0]\n",
      "[2 3 0 0]\n",
      "[0 0 2 1]\n",
      "[0 0 1 3]\n"
     ]
    }
   ],
   "source": [
    "ginomena = matrix([[ v[i].dot_product(v[j]) for i in range(len(v))] for j in range(len(v))]);\n",
    "print ginomena"
   ]
  },
  {
   "cell_type": "markdown",
   "metadata": {},
   "source": [
    "<p style=\"font-family:Dejavu Serif;FONT-SIZE:15px;LINE-HEIGHT:25px\">\n",
    "Από τον προηγούμενο πίνακα παρατηρούμε το μπλοκ με τα μηδενικά στοιχεία (το ότι ο παραπάνω πίνακας είναι συμμετρικός επάγεται από την συμμετρική ιδιότητα του εσωτερικού γινομένου $< {\\rm v},{\\rm w} >=< {\\rm w}, {\\rm v} >$), από όπου   συμπεραίνουμε ότι οι υπόχωροι $W$ και $W^\\perp$ είναι κάθετοι μεταξύ τους. \n",
    "Όμως τα διανύσματα ${\\rm v}_1,{\\rm v}_2$ και ${\\rm v}_3,{\\rm v}_4$ που παράγουν τους υπόχωρους $W$ και $W^\\perp$, αντίστοιχα, δεν είναι κάθετα στους υπόχωρους αυτούς, αφού $< {\\rm v}_1,{\\rm v}_2 >=2$ και $< {\\rm v}_3,{\\rm v}_4 >=1$. Με την διαδικασία Gram-Schmidt η βάση $v=\\lbrace {\\rm v}_1,{\\rm v}_2,{\\rm v}_3,{\\rm v}_4\\rbrace$ του $\\mathbb{R}^4=W+W^\\perp$, μπορεί να γίνει ορθοκανονική. Πράγματι,\n",
    "</p>"
   ]
  },
  {
   "cell_type": "code",
   "execution_count": 29,
   "metadata": {
    "collapsed": false
   },
   "outputs": [
    {
     "name": "stdout",
     "output_type": "stream",
     "text": [
      "[(1/3*sqrt(3), 0, 1/3*sqrt(3), 1/3*sqrt(3)), (1/5*sqrt(5/3), 3/5*sqrt(5/3), -2/5*sqrt(5/3), 1/5*sqrt(5/3)), (1/2*sqrt(2), 0, 0, -1/2*sqrt(2)), (-1/5*sqrt(5/2), 2/5*sqrt(5/2), 2/5*sqrt(5/2), -1/5*sqrt(5/2))]\n"
     ]
    }
   ],
   "source": [
    "e = [v[0]/norm(v[0])]\n",
    "for j in [1..len(v)-1]:\n",
    "    r = v[j] - sum(v[j].dot_product(e[k])*e[k] for k in [0..len(e)-1])\n",
    "    normr = norm(r)\n",
    "    e.append(r/norm(r));\n",
    "print e"
   ]
  },
  {
   "cell_type": "code",
   "execution_count": 30,
   "metadata": {
    "collapsed": false
   },
   "outputs": [
    {
     "name": "stdout",
     "output_type": "stream",
     "text": [
      "[1 0 0 0]\n",
      "[0 1 0 0]\n",
      "[0 0 1 0]\n",
      "[0 0 0 1]\n"
     ]
    }
   ],
   "source": [
    "ginomena = matrix([[ e[i].dot_product(e[j]) for i in range(len(e))] for j in range(len(e))]);\n",
    "print ginomena"
   ]
  },
  {
   "cell_type": "markdown",
   "metadata": {},
   "source": [
    "<p style=\"font-family:Dejavu Serif;FONT-SIZE:15px;LINE-HEIGHT:25px\">\n",
    "Οπότε η ορθοκανονική βάση του $\\mathbb{R}^4$ με ${\\rm span}({\\rm v}_1,{\\rm v}_2) = {\\rm span}({\\rm e}_1,{\\rm e}_2)$ και ${\\rm span}({\\rm v}_3,{\\rm v}_4) = {\\rm span}({\\rm e}_3,{\\rm e}_4)$ είναι η <br> <br>\n",
    "$$\\textstyle {\\rm e}_1  = \\frac{1}{\\sqrt{3}}(1,0,1,1)\\,, \\quad \n",
    "{\\rm e}_2 = \\frac{1}{\\sqrt{15}}(1,3,-2,1)\\,,\\quad\n",
    "{\\rm e}_3 = \\frac{1}{\\sqrt{2}}(1,0,0,-1)\\,, \\quad \n",
    "{\\rm e}_4 = \\frac{1}{\\sqrt{10}}(-1,2,2,-1)\\,.\\quad\n",
    "$$\n",
    "</p>"
   ]
  },
  {
   "cell_type": "markdown",
   "metadata": {
    "collapsed": false
   },
   "source": []
  },
  {
   "cell_type": "markdown",
   "metadata": {
    "collapsed": false
   },
   "source": [
    "### 5.2.2 Ορθογώνιο συμπλήρωμα και προβλήματα ελαχιστοποίησης\n",
    "\n",
    "<p style=\"font-family:Dejavu Serif;FONT-SIZE:15px;LINE-HEIGHT:25px;color:red\"><strong>Ορθογώνιο συμπλήρωμα </strong></p> \n",
    "<p> <font style=\"font-family:Dejavu Serif;FONT-SIZE:15px;LINE-HEIGHT:25px;\"> \n",
    "Θεωρούμε έναν διανυσματικό υπόχώρο $U$ ενός διανυσματικού χώρου $V$, και ${\\rm e}_1, {\\rm e}_2\\,\\ldots {\\rm e}_m$ μια ορθοκανονική βάση του $U$. <br>\n",
    "Το ορθογώνιο συμπλήρωμα του $U$, συμβολίζεται με $U^\\perp$, και είναι το σύνολο όλων των διανυσμάτων του $V$, τα οποία είναι ορθογώνια σε κάθε διάνυσμα στον $U$: <br> <br>\n",
    "$$U^\\perp = \\left\\lbrace {\\rm v} \\in V\\,:\\,\\, < {\\rm v}, {\\rm u} > = 0, \\quad \\forall {\\rm u}\\in U \\right\\rbrace.$$ <br>\n",
    "</p>\n",
    "<p style=\"font-family:Dejavu Serif;FONT-SIZE:15px;LINE-HEIGHT:25px;color:red\"><strong>Ευθύ άθροισμα ενός υπόχωρου και του ορθογώνιου συμπλήρωματός του. </strong></p> \n",
    "<p> <font style=\"font-family:Dejavu Serif;FONT-SIZE:15px;LINE-HEIGHT:25px;\"> \n",
    "Αν $U$ υπόχωρος ενός διανυσματικού χώρου $V$, τότε <br>\n",
    "$$ V = U \\oplus U^\\perp\\,.$$\n",
    "Πράγματι, αν ο $U$ έχει ορθοκανονική βάση τα διανύσματα ${\\rm e}_1, {\\rm e}_2\\,\\ldots {\\rm e}_m$ τότε το τυχαίο διάνυσμα ${\\rm v} \\in V$, γράφεται σαν <br> <br>\n",
    "$$ {\\rm v} = \\underbrace{< {\\rm v} ,  {\\rm e}_1 > \\, {\\rm e}_1 + \\cdots + < {\\rm v} ,  {\\rm e}_m > \\, {\\rm e}_m }_{{\\rm u}\\, \\in \\,U}+ \\underbrace{{\\rm v} - < {\\rm v} ,  {\\rm e}_1 > \\, {\\rm e}_1 - \\cdots - < {\\rm v} ,  {\\rm e}_m > \\, {\\rm e}_m}_{{\\rm w} \\, \\in \\, U^\\perp} \\,. \\qquad\\qquad (*)$$\n",
    "Επειδή <br>\n",
    "$$ <{\\rm w} , {\\rm e}_j >\\,=\\, < {\\rm v}, {\\rm e}_j > - < {\\rm v}, {\\rm e}_j >\\, =\\,0 \\,,$$ <br>\n",
    "το ${\\rm w}$ είναι ορθογώνιο σε κάθε διάνυσμα στο ${\\rm span}( {\\rm e}_1,\\ldots {\\rm e}_m)$, δηλαδή ${\\rm w} \\in U^\\perp$, και προφανώς ${\\rm u} \\in U$. Επιπλέον, επειδή $U \\cap U^\\perp =\\lbrace 0 \\rbrace$, τότε $V = U \\oplus U^\\perp\\,.$\n",
    "</p>"
   ]
  },
  {
   "cell_type": "markdown",
   "metadata": {},
   "source": [
    "<p style=\"font-family:Dejavu Serif;FONT-SIZE:15px;LINE-HEIGHT:25px;color:red\"><strong>Ορθογώνια προβολή, $P_U$ </strong></p> \n",
    "<p> <font style=\"font-family:Dejavu Serif;FONT-SIZE:15px;LINE-HEIGHT:25px;\"> \n",
    "Υποθέτουμε ότι ο $U$ είναι υπόχωρος ενός διανυσματικού χώρου $V$. Η ορθογώνια προβολή του $V$ στο $U$, είναι ο γραμμικός τελεστής $P_U$ που ορίζεται ως εξής: <br>\n",
    "Για τυχαίο ${\\rm v} \\in V$, γράφουμε ${\\rm v} = {\\rm u} + {\\rm w}$, όπου ${\\rm u} \\in U$ και \n",
    "${\\rm w}\\in U^\\perp$. Τότε $P_U ({\\rm v}) = {\\rm u}$. <br> \n",
    "Από την προηγούμενη σχέση $(*)$, είναι προφανές ότι <br> <br>\n",
    "$$ P_U ({\\rm v}) \\,= \\,< {\\rm v} ,  {\\rm e}_1 > \\, {\\rm e}_1 + \\cdots + < {\\rm v} ,  {\\rm e}_m > \\, {\\rm e}_m \\,.$$ <br>\n",
    "</p>"
   ]
  },
  {
   "cell_type": "markdown",
   "metadata": {},
   "source": [
    "<p style=\"font-family:Dejavu Serif;FONT-SIZE:15px;LINE-HEIGHT:25px;color:red\"><strong>Ελαχιστοποίηση της απόστασης από έναν υπόχωρο </strong></p> \n",
    "<p> <font style=\"font-family:Dejavu Serif;FONT-SIZE:15px;LINE-HEIGHT:25px;\"> \n",
    "Συχνά ανακύπτει το ακόλουθο πρόβλημα: <br> <br>\n",
    "Δοσμένου ενός υπόχωρου $U$ ενός διανυσματικού χώρου $V$ και ενός διανύσματος (σημείου) ${\\rm v} \\in V$, να βρεθεί το διάνυσμα ${\\rm u} \\in U$ τέτοιο ώστε η απόσταση $ \\left\\lVert {\\rm v} - {\\rm u} \\right\\rVert$, να είναι όσο το δυνατόν μικρότερη.\n",
    "</p>"
   ]
  },
  {
   "cell_type": "markdown",
   "metadata": {},
   "source": [
    "<div class=\"imgContainer\">\n",
    "        <img src=\"or9o.png\" height=\"300\" width=\"300\"/>\n",
    "</div>"
   ]
  },
  {
   "cell_type": "markdown",
   "metadata": {},
   "source": [
    "<p> <font style=\"font-family:Dejavu Serif;FONT-SIZE:15px;LINE-HEIGHT:25px;\"> \n",
    "Η λύση του προβλήματος αυτού είναι να πάρουμε \n",
    "$${\\rm u} = P_U({\\rm v})\\,.$$ <br>\n",
    "Πράγματι, ας υποθέσουμε ότι $U$ είναι ένας υπόχωρος του $V$, ${\\rm v} \\in V$, και ${\\rm u} \\in U$. Τότε <br> <br>\n",
    "$$ \\left\\lVert {\\rm v} - P_U({\\rm v}) \\right\\rVert^2 \\leq \n",
    "\\left\\lVert {\\rm v} - P_U({\\rm v}) \\right\\rVert^2 + \\left\\lVert P_U({\\rm v}) - {\\rm u} \\right\\rVert^2\n",
    "\\quad (\\,\\,{\\mathrm επειδή}\\quad \\left\\lVert P_U({\\rm v}) - {\\rm u} \\right\\rVert^2 \\geq 0 \\,\\,) \\qquad\\qquad\\qquad\\qquad\\qquad\n",
    "$$ <br>\n",
    "$$ = \\left\\lVert {\\rm v} - P_U({\\rm v}) + (P_U({\\rm v}) - {\\rm u}) \\right\\rVert^2 \\quad\n",
    "\\quad(\\,\\,{\\mathrm επειδή}\\quad ({\\rm v} - P_U({\\rm v}) ) \\perp (P_U({\\rm v}) - {\\rm u}) \\,\\,)$$ <br>\n",
    "$$ = \\left\\lVert {\\rm v} - {\\rm u} \\right\\rVert^2 \\qquad\\qquad\\qquad\\qquad\\qquad\\qquad\\qquad\\qquad\\qquad\\qquad\\qquad\\qquad\\qquad$$<br>\n",
    "Παίρνοντας τετραγωνικές ρίζες στην προηγούμενη ανισότητα έχουμε $ \\left\\lVert {\\rm v} - P_U({\\rm v}) \\right\\rVert \\leq  \\left\\lVert {\\rm v} - {\\rm u} \\right\\rVert$, με την ισότητα να επιτυγχάνεται αν και μόνο αν <br><br>\n",
    "$${\\rm u} = P_U({\\rm v})$$\n",
    "</p>"
   ]
  },
  {
   "cell_type": "markdown",
   "metadata": {},
   "source": [
    "<p> <font style=\"font-family:Dejavu Serif;FONT-SIZE:15px;LINE-HEIGHT:25px;\"> \n",
    "Το τελευταίο αποτέλεσμα μαζί με την ακόλουθη σχέση <br> <br>\n",
    "$$ P_U ({\\rm v}) \\,= \\,< {\\rm v} ,  {\\rm e}_1 > \\, {\\rm e}_1 + \\cdots + < {\\rm v} ,  {\\rm e}_m > \\, {\\rm e}_m \\,,$$ <br>\n",
    "χρησιμοποιούνται για να υπολογίζουμε, με ρητό τρόπο, λύσεις σε προβλήματα ελαχιστοποίησης.\n",
    "</p>"
   ]
  },
  {
   "cell_type": "markdown",
   "metadata": {},
   "source": [
    "<p style=\"font-family:Dejavu Serif;FONT-SIZE:15px;LINE-HEIGHT:25px;color:green\"><strong>Παράδειγμα </strong></p> \n",
    "<p> <font style=\"font-family:Dejavu Serif;FONT-SIZE:15px;LINE-HEIGHT:25px;\"> \n",
    "Στον $\\mathbb{R}^4$, έστω <br> \n",
    "$$ U={\\rm span}( \\, (1,1,0,0)\\, , \\,(1,1,1,2) \\,)\\,. $$ <br>\n",
    "Να βρεθεί ${\\rm u}\\in U$, τέτοιο ώστε η $\\left\\lVert {\\rm u} - (1,2,3,4) \\right\\rVert$, να είναι όσο το δυνατόν μικρότερη.\n",
    "</p>"
   ]
  },
  {
   "cell_type": "markdown",
   "metadata": {},
   "source": [
    "<p style=\"font-family:Dejavu Serif;FONT-SIZE:15px;LINE-HEIGHT:25px;color:green\"><strong> Λύση </strong></p> \n",
    "<p> <font style=\"font-family:Dejavu Serif;FONT-SIZE:15px;LINE-HEIGHT:25px;\"> \n",
    "Υπολογίζουμε μια ορθοκανονική βάση του υπόχωρου $U$, με την διαδικασία Gram-Schmidt\n",
    "</p>"
   ]
  },
  {
   "cell_type": "code",
   "execution_count": 31,
   "metadata": {
    "collapsed": true
   },
   "outputs": [],
   "source": [
    "spanU = [vector([1,1,0,0]), vector([1,1,1,2]) ]"
   ]
  },
  {
   "cell_type": "code",
   "execution_count": 32,
   "metadata": {
    "collapsed": false
   },
   "outputs": [
    {
     "name": "stdout",
     "output_type": "stream",
     "text": [
      "[(1/2*sqrt(2), 1/2*sqrt(2), 0, 0), (0, 0, 1/5*sqrt(5), 2/5*sqrt(5))]\n"
     ]
    }
   ],
   "source": [
    "e = [spanU[0]/norm(spanU[0])]\n",
    "for j in [1..len(spanU)-1]:\n",
    "    r = spanU[j] - sum(spanU[j].dot_product(e[k])*e[k] for k in [0..len(e)-1])\n",
    "    normr = norm(r)\n",
    "    e.append(r/norm(r));\n",
    "print e"
   ]
  },
  {
   "cell_type": "code",
   "execution_count": 33,
   "metadata": {
    "collapsed": true
   },
   "outputs": [],
   "source": [
    "v = vector([1,2,3,4]) "
   ]
  },
  {
   "cell_type": "markdown",
   "metadata": {},
   "source": [
    "<p> <font style=\"font-family:Dejavu Serif;FONT-SIZE:15px;LINE-HEIGHT:25px;\"> \n",
    "Η λύση είναι \n",
    "$$ {\\rm u} = P_U ({\\rm v}) \\,= \\,< {\\rm v} ,  {\\rm e}_1 > \\, {\\rm e}_1 \\,+\\, < {\\rm v} ,  {\\rm e}_2 > \\, {\\rm e}_2 \\,,$$ <br>\n",
    "</p>"
   ]
  },
  {
   "cell_type": "code",
   "execution_count": 34,
   "metadata": {
    "collapsed": false
   },
   "outputs": [
    {
     "name": "stdout",
     "output_type": "stream",
     "text": [
      "(3/2, 3/2, 11/5, 22/5)\n"
     ]
    }
   ],
   "source": [
    "u = sum(v.dot_product(e[k])*e[k] for k in [0..len(e)-1]); print u"
   ]
  },
  {
   "cell_type": "markdown",
   "metadata": {},
   "source": [
    "<p> <font style=\"font-family:Dejavu Serif;FONT-SIZE:15px;LINE-HEIGHT:25px;\"> \n",
    "δηλαδή το διάνυσμα\n",
    "$$ {\\rm u} =  (\\frac{3}{2} \\,, \\frac{3}{2}\\,, \\frac{11}{5}\\,, \\frac{22}{5} )\\,.$$ <br>\n",
    "</p>"
   ]
  },
  {
   "cell_type": "markdown",
   "metadata": {},
   "source": [
    "<p style=\"font-family:Dejavu Serif;FONT-SIZE:15px;LINE-HEIGHT:25px;color:green\"><strong>Παράδειγμα </strong></p> \n",
    "<p> <font style=\"font-family:Dejavu Serif;FONT-SIZE:15px;LINE-HEIGHT:25px;\"> \n",
    "Να βρεθεί η απόσταση $D$ του σημείου ${\\rm y} = (2,4,-5)$ από το επίπεδο $\\Pi$, το οποίο διέρχεται από το σημείο ${\\rm x}_0 = (2,1,3)$, και είναι παράλληλο προς τα διανύσματα ${\\rm v}_1=(-1,-2,-1)$ και ${\\rm v}_2=(1,1,-2)$.\n",
    "</p>"
   ]
  },
  {
   "cell_type": "markdown",
   "metadata": {},
   "source": [
    "<p style=\"font-family:Dejavu Serif;FONT-SIZE:15px;LINE-HEIGHT:25px;color:green\"><strong> Λύση  </strong></p> \n",
    "<p> <font style=\"font-family:Dejavu Serif;FONT-SIZE:15px;LINE-HEIGHT:25px;\"> \n",
    "Το επίπεδο $\\Pi$ δεν είναι υπόχωρος του $\\mathbb{R}^3$, αφού δεν διέρχεται από το σημείο $(0,0,0)$. Αυτό είναι εύκολο να το δούμε γιατί η εξίσωση του επιπέδου είναι η <br> <br>\n",
    "$$ 5(x-2)-3(y-1)+(z-3)=0\\,.$$ <br>\n",
    "Έστω $\\Pi_0 = {\\rm span}({\\rm v}_1,{\\rm v}_2)$. Τότε $\\Pi = \\Pi_0 + {\\rm x}_0$, οπότε η απόσταση του σημείου ${\\rm y}$ από το επίπεδο $\\Pi$, είναι η ίδια με την απόσταση του σημείου ${\\rm y}-{\\rm x}_0$, από το επίπεδο $\\Pi_0$. Εφαρμόζουμε την διαδικασία Gram-Schmidt στα ${\\rm v}_1,{\\rm v}_2$ και παίρνουμε \n",
    "</p>"
   ]
  },
  {
   "cell_type": "code",
   "execution_count": 35,
   "metadata": {
    "collapsed": true
   },
   "outputs": [],
   "source": [
    "v = [vector([-1,-2,-1]), vector([1,1,-2]) ]"
   ]
  },
  {
   "cell_type": "code",
   "execution_count": 36,
   "metadata": {
    "collapsed": false
   },
   "outputs": [
    {
     "name": "stdout",
     "output_type": "stream",
     "text": [
      "[(-1/6*sqrt(6), -1/3*sqrt(6), -1/6*sqrt(6)), (1/7*sqrt(35/6), 4/35*sqrt(35/6), -13/35*sqrt(35/6))]\n"
     ]
    }
   ],
   "source": [
    "e = [v[0]/norm(v[0])]\n",
    "for j in [1..len(v)-1]:\n",
    "    r = v[j] - sum(v[j].dot_product(e[k])*e[k] for k in [0..len(e)-1])\n",
    "    normr = norm(r)\n",
    "    e.append(r/norm(r));\n",
    "print e"
   ]
  },
  {
   "cell_type": "code",
   "execution_count": 37,
   "metadata": {
    "collapsed": false
   },
   "outputs": [
    {
     "name": "stdout",
     "output_type": "stream",
     "text": [
      "(0, -5, 2)\n"
     ]
    }
   ],
   "source": [
    "y = vector([2,-4,5]); x0 = vector([2,1,3]) ; yx0 = y - x0; print yx0"
   ]
  },
  {
   "cell_type": "markdown",
   "metadata": {},
   "source": [
    "<p> <font style=\"font-family:Dejavu Serif;FONT-SIZE:15px;LINE-HEIGHT:25px;\"> \n",
    "Το σημείο του επιπέδου $\\Pi_0$ που ελαχιστοποιεί το μήκος (απόσταση) του $\\Pi_0$ από το σημείο ${\\rm y}-{\\rm x}_0$, είναι το <br> <br>\n",
    "$$ {\\rm u} \\,= \\,< {\\rm y} - {\\rm x}_0 ,  {\\rm e}_1 > \\, {\\rm e}_1 \\,+\\, < {\\rm y} - {\\rm x}_0 ,  {\\rm e}_2 > \\, {\\rm e}_2 \\,.$$ <br>\n",
    "Οπότε η ζητούμενη απόσταση $D$, είναι απλά η $D= \\left\\lVert {\\rm u} - ({\\rm y}-{\\rm x}_0) \\right\\rVert $\n",
    "</p>"
   ]
  },
  {
   "cell_type": "code",
   "execution_count": 38,
   "metadata": {
    "collapsed": false
   },
   "outputs": [
    {
     "name": "stdout",
     "output_type": "stream",
     "text": [
      "17*sqrt(1/35)\n"
     ]
    }
   ],
   "source": [
    "u = sum(yx0.dot_product(e[k])*e[k] for k in [0..len(e)-1]); print norm(u-yx0)"
   ]
  },
  {
   "cell_type": "markdown",
   "metadata": {},
   "source": [
    "<p> <font style=\"font-family:Dejavu Serif;FONT-SIZE:15px;LINE-HEIGHT:25px;\"> \n",
    "δηλαδή $D= \\frac{17}{\\sqrt{35}} \\,.$\n",
    "</p>"
   ]
  },
  {
   "cell_type": "markdown",
   "metadata": {},
   "source": [
    "## 5.3 Προσέγγιση συνεχών συναρτήσεων με πολυώνυμα"
   ]
  },
  {
   "cell_type": "markdown",
   "metadata": {},
   "source": [
    "<p> <font style=\"font-family:Dejavu Serif;FONT-SIZE:15px;LINE-HEIGHT:25px;\"> \n",
    "Θεωρούμε τον (απειροδιάστατο) διανυσματικό χώρο $C_{\\mathbb{R}}[a,b]$ των συνεχών πραγματικών συναρτήσεων στο διάστημα $[a,b]$, με το εσωτερικό γινόμενο <br>\n",
    "$$ < f, g > = \\int_a^b \\,f(x)\\,g(x) \\, {\\rm d} x\\,.$$ <br>\n",
    "Στον χώρο αυτό θεωρούμε τον υπόχωρο ${\\cal P}_m(\\mathbb{R})$ των πολυωνύμων με συντελεστές στους πραγματικούς αριθμούς, με βαθμό $\\leq m$, όπου $m$ μη-αρνητικός ακέραιος. Προφανώς <br><br>\n",
    "$$ {\\cal P}_m(\\mathbb{R}) = {\\rm span} (\\,1\\,,\\,x\\,,\\,x^2\\,,\\,\\ldots\\,,\\,x^m\\,)\\,, $$ <br>\n",
    "και για κάθε δοσμένο μη-αρνητικό ακέραιο $m$, ο ${\\cal P}_m(\\mathbb{R}) $ είναι ένας  διανυσματικός χώρος πεπερασμένης διάστασης.\n",
    "</p>"
   ]
  },
  {
   "cell_type": "markdown",
   "metadata": {},
   "source": [
    "<p> <font style=\"font-family:Dejavu Serif;FONT-SIZE:15px;LINE-HEIGHT:25px;\"> \n",
    "Ένα πρόβλημα προσέγγισης μιας συνεχούς συνάρτησης σε κάποιο διάστημα, με πολυώνυμα, μπορεί να τεθεί ως εξής:<br>\n",
    "Να βρεθεί ένα πολυώνυμο ${\\rm u}$ βαθμού π.χ. $\\leq 5$, με πραγματικούς συντελεστές, το οποίο προσεγγίζει την συνεχή συνάρτηση ${\\rm v}(x)=\\sin x$, όσο το δυνατόν καλύτερα στο διάστημα $[-\\pi,\\pi]$, με την έννοια ότι ο αριθμός <br> <br>\n",
    "$$ \\left\\lVert \\sin x - u \\right\\rVert ^2 = \\int_{-\\pi}^{\\pi} \\left|\\sin x -{\\rm u} \\right|^2 \\, {\\rm d} x\\,,$$ <br>\n",
    "να είναι όσο το δυνατόν μικρότερος.\n",
    "</p>"
   ]
  },
  {
   "cell_type": "markdown",
   "metadata": {},
   "source": [
    "<p> <font style=\"font-family:Dejavu Serif;FONT-SIZE:15px;LINE-HEIGHT:25px;\"> \n",
    "Το πρόβλημα αυτό, σύμφωνα με όσα έχουμε πει στα παραπάνω, μπορεί να επαναδιατυπωθεί ως εξής:<br> <br>\n",
    "Έστω ${\\rm v} \\in C_{\\mathbb{R}}[-\\pi,\\pi]$ μια συνάρτηση ορισμένη ως ${\\rm v}(x) = \\sin x$.\n",
    "Έστω $U={\\cal P}_5(\\mathbb{R})$ ο υπόχωρος του $C_{\\mathbb{R}}[-\\pi,\\pi]$ που αποτελείται από τα πολυώνυμα με πραγματικούς συντελεστές και βαθμό $\\leq 5$. Να βρεθεί ${\\rm u} \\in U$, τέτοιο ώστε το $\\left\\lVert {\\rm v} - {\\rm u} \\right\\rVert$ να είναι όσο το δυνατόν μικρότερο.\n",
    "</p>"
   ]
  },
  {
   "cell_type": "markdown",
   "metadata": {},
   "source": [
    "<p> <font style=\"font-family:Dejavu Serif;FONT-SIZE:15px;LINE-HEIGHT:25px;\"> \n",
    "Για τον υπολογισμό της λύσης του προβλήματος αυτού, πρώτα εφαρμόζουμε την διαδικασία ορθοκανονικοποίησης στην βάση $\\lbrace 1,x,x^2,x^3,x^4,x^5 \\rbrace$ του $U$, καθορίζοντας μια ορθοκανονική βάση \n",
    "</p>"
   ]
  },
  {
   "cell_type": "code",
   "execution_count": 39,
   "metadata": {
    "collapsed": false
   },
   "outputs": [
    {
     "name": "stdout",
     "output_type": "stream",
     "text": [
      "[1/2*sqrt(2)/sqrt(pi), 3/2*sqrt(2/3)*x/pi^(3/2), -5/4*sqrt(2/5)*(pi^2 - 3*x^2)/pi^(5/2), -7/8*sqrt(2/7)*(3*sqrt(3)*sqrt(2)*sqrt(2/3)*pi^2*x - 10*x^3)/pi^(7/2), 3/16*sqrt(2)*(5*sqrt(5)*sqrt(2)*sqrt(2/5)*pi^2*(pi^2 - 3*x^2) - 7*pi^4 + 35*x^4)/pi^(9/2), -11/32*sqrt(2/11)*(27*sqrt(3)*sqrt(2)*sqrt(2/3)*pi^4*x - 126*x^5 - 7*sqrt(7)*sqrt(2)*sqrt(2/7)*pi^2*(3*sqrt(3)*sqrt(2)*sqrt(2/3)*pi^2*x - 10*x^3))/pi^(11/2)]\n"
     ]
    }
   ],
   "source": [
    "v=[x^k for k in range(6)]\n",
    "(a,b)=(-pi,pi)\n",
    "e = [v[0]/sqrt(integrate(v[0]^2,(x,a,b)))]\n",
    "for j in [1..len(v)-1]:\n",
    "    r = v[j] - sum(integrate(v[j]*e[k],(x,a,b))*e[k] for k in [0..len(e)-1])\n",
    "    normr = sqrt(integrate(r^2,(x,a,b)))\n",
    "    e.append(r/normr)\n",
    "print e"
   ]
  },
  {
   "cell_type": "markdown",
   "metadata": {},
   "source": [
    "<p> <font style=\"font-family:Dejavu Serif;FONT-SIZE:15px;LINE-HEIGHT:25px;\"> \n",
    "Το αποτέλεσμα μπορεί να διαβαστεί με πιο καθαρό μαθηματικό συμβολισμό χρησιμοποιώντας την παρακάτω εντολή με την οποία τυπώνουμε την ορθοκανονική βάση που κατασκευάσαμε με την διαδικασία Gram-Schmidt.\n",
    "</p>"
   ]
  },
  {
   "cell_type": "code",
   "execution_count": 40,
   "metadata": {
    "collapsed": false
   },
   "outputs": [
    {
     "data": {
      "text/html": [
       "<html><script type=\"math/tex; mode=display\">\\newcommand{\\Bold}[1]{\\mathbf{#1}}\\frac{\\sqrt{2}}{2 \\, \\sqrt{\\pi}}</script></html>"
      ],
      "text/plain": [
       "1/2*sqrt(2)/sqrt(pi)"
      ]
     },
     "metadata": {},
     "output_type": "display_data"
    },
    {
     "data": {
      "text/html": [
       "<html><script type=\"math/tex; mode=display\">\\newcommand{\\Bold}[1]{\\mathbf{#1}}\\frac{\\sqrt{3} \\sqrt{2} x}{2 \\, \\pi^{\\frac{3}{2}}}</script></html>"
      ],
      "text/plain": [
       "1/2*sqrt(3)*sqrt(2)*x/pi^(3/2)"
      ]
     },
     "metadata": {},
     "output_type": "display_data"
    },
    {
     "data": {
      "text/html": [
       "<html><script type=\"math/tex; mode=display\">\\newcommand{\\Bold}[1]{\\mathbf{#1}}-\\frac{\\sqrt{5} \\sqrt{2} {\\left(\\pi^{2} - 3 \\, x^{2}\\right)}}{4 \\, \\pi^{\\frac{5}{2}}}</script></html>"
      ],
      "text/plain": [
       "-1/4*sqrt(5)*sqrt(2)*(pi^2 - 3*x^2)/pi^(5/2)"
      ]
     },
     "metadata": {},
     "output_type": "display_data"
    },
    {
     "data": {
      "text/html": [
       "<html><script type=\"math/tex; mode=display\">\\newcommand{\\Bold}[1]{\\mathbf{#1}}-\\frac{\\sqrt{7} \\sqrt{2} {\\left(3 \\, \\pi^{2} - 5 \\, x^{2}\\right)} x}{4 \\, \\pi^{\\frac{7}{2}}}</script></html>"
      ],
      "text/plain": [
       "-1/4*sqrt(7)*sqrt(2)*(3*pi^2 - 5*x^2)*x/pi^(7/2)"
      ]
     },
     "metadata": {},
     "output_type": "display_data"
    },
    {
     "data": {
      "text/html": [
       "<html><script type=\"math/tex; mode=display\">\\newcommand{\\Bold}[1]{\\mathbf{#1}}\\frac{3 \\, \\sqrt{2} {\\left(3 \\, \\pi^{4} - 30 \\, \\pi^{2} x^{2} + 35 \\, x^{4}\\right)}}{16 \\, \\pi^{\\frac{9}{2}}}</script></html>"
      ],
      "text/plain": [
       "3/16*sqrt(2)*(3*pi^4 - 30*pi^2*x^2 + 35*x^4)/pi^(9/2)"
      ]
     },
     "metadata": {},
     "output_type": "display_data"
    },
    {
     "data": {
      "text/html": [
       "<html><script type=\"math/tex; mode=display\">\\newcommand{\\Bold}[1]{\\mathbf{#1}}\\frac{\\sqrt{11} \\sqrt{2} {\\left(15 \\, \\pi^{4} - 70 \\, \\pi^{2} x^{2} + 63 \\, x^{4}\\right)} x}{16 \\, \\pi^{\\frac{11}{2}}}</script></html>"
      ],
      "text/plain": [
       "1/16*sqrt(11)*sqrt(2)*(15*pi^4 - 70*pi^2*x^2 + 63*x^4)*x/pi^(11/2)"
      ]
     },
     "metadata": {},
     "output_type": "display_data"
    }
   ],
   "source": [
    "for k in [0..len(e)-1]:\n",
    "    e[k].factor().show()"
   ]
  },
  {
   "cell_type": "markdown",
   "metadata": {},
   "source": [
    "<p> <font style=\"font-family:Dejavu Serif;FONT-SIZE:15px;LINE-HEIGHT:25px;\"> \n",
    "Όπως στα προηγούμενα, η λύση ${\\rm u}$ που αναζητούμε είναι η ${\\rm u} = P_U({\\rm v})$, δηλαδή\n",
    "</p>"
   ]
  },
  {
   "cell_type": "code",
   "execution_count": 41,
   "metadata": {
    "collapsed": true
   },
   "outputs": [],
   "source": [
    "u = sum(integrate(sin(x)*e[k],(x,a,b))*e[k] for k in [0..len(e)-1])"
   ]
  },
  {
   "cell_type": "code",
   "execution_count": 42,
   "metadata": {
    "collapsed": false
   },
   "outputs": [
    {
     "name": "stdout",
     "output_type": "stream",
     "text": [
      "0.00564311797634682*x^5 - 0.155271410633429*x^3 + 0.987862135574674*x\n"
     ]
    }
   ],
   "source": [
    "R=RR[x]\n",
    "ur = R(u); print ur"
   ]
  },
  {
   "cell_type": "markdown",
   "metadata": {},
   "source": [
    "<p> <font style=\"font-family:Dejavu Serif;FONT-SIZE:15px;LINE-HEIGHT:25px;\"> \n",
    "Για να δούμε πόσο καλή είναι η προσέγγιση της συνάρτησης $\\sin x$ με το παραπάνω πολυώνυμο στο διάστημα $[-\\pi,\\pi]$ απεικονίζουμε και τις δυο συναρτήσεις στο ίδιο γραφικό\n",
    "</p>"
   ]
  },
  {
   "cell_type": "code",
   "execution_count": 43,
   "metadata": {
    "collapsed": false
   },
   "outputs": [
    {
     "data": {
      "image/png": "[encoded data removed]",
      "text/plain": [
       "Graphics object consisting of 2 graphics primitives"
      ]
     },
     "metadata": {},
     "output_type": "display_data"
    }
   ],
   "source": [
    "psin = plot(sin(x), (x,-pi-0.5,pi+0.5),color='blue',legend_label='$\\mathbf{v} = \\sin\\,x$');\n",
    "pu = plot(ur, -pi-0.5,pi+0.5,color='red',legend_label='$\\mathbf{u}=P_{U}({\\mathbf{v}})\\,,\\, U={\\cal P}_5(\\mathbb{R})$'); \n",
    "(psin+pu).show(figsize=5)"
   ]
  },
  {
   "cell_type": "markdown",
   "metadata": {},
   "source": [
    "<p> <font style=\"font-family:Dejavu Serif;FONT-SIZE:15px;LINE-HEIGHT:25px;\"> \n",
    "Μια άλλη γνωστή προσέγγιση της συνάρτησης $\\sin x$ με πολυώνυμο βαθμού 5, είναι το πολυώνυμο Taylor τάξης 5, κοντά στο 0.\n",
    "</p>"
   ]
  },
  {
   "cell_type": "code",
   "execution_count": 44,
   "metadata": {
    "collapsed": false
   },
   "outputs": [
    {
     "name": "stdout",
     "output_type": "stream",
     "text": [
      "1/120*x^5 - 1/6*x^3 + x\n"
     ]
    }
   ],
   "source": [
    "tsin = taylor(sin(x),x,0,5) ; print tsin"
   ]
  },
  {
   "cell_type": "markdown",
   "metadata": {},
   "source": [
    "<p> <font style=\"font-family:Dejavu Serif;FONT-SIZE:15px;LINE-HEIGHT:25px;\"> \n",
    "Για να συγκρίνουμε πόσο καλή είναι η προσέγγιση της $\\sin x$ με το πολυώνυμο Taylor στο διάστημα $[-\\pi,\\pi]$ και με το πολυώνυμο ${\\rm u}$ που βρήκαμε με την γραμμική άλγεβρα   απεικονίζουμε και τις τρεις συναρτήσεις στο ίδιο γραφικό.\n",
    "</p>"
   ]
  },
  {
   "cell_type": "code",
   "execution_count": 45,
   "metadata": {
    "collapsed": false
   },
   "outputs": [
    {
     "data": {
      "image/png": "[encoded data removed]",
      "text/plain": [
       "Graphics object consisting of 3 graphics primitives"
      ]
     },
     "metadata": {},
     "output_type": "display_data"
    }
   ],
   "source": [
    "psin = plot(sin(x), (x,-pi-0.5,pi+0.5),color='blue',legend_label='$\\sin\\,x$');\n",
    "pu = plot(ur, -pi-0.5,pi+0.5,color='red',legend_label='$\\mathbf{u}$'); \n",
    "ptsin = plot(tsin,-pi,pi,color='green',legend_label='$\\mathrm{Taylor} \\,\\,\\sin \\,x\\,\\,o(5)$')\n",
    "(psin+pu+ptsin).show(figsize=5)"
   ]
  },
  {
   "cell_type": "code",
   "execution_count": 46,
   "metadata": {
    "collapsed": false
   },
   "outputs": [
    {
     "name": "stdout",
     "output_type": "stream",
     "text": [
      "0.141120008059867\n",
      "0.142535987873723\n",
      "0.525000000000000\n"
     ]
    }
   ],
   "source": [
    "print sin(3.);\n",
    "print ur(x=3).n()\n",
    "print tsin(x=3).n()"
   ]
  },
  {
   "cell_type": "markdown",
   "metadata": {},
   "source": [
    "<p> <font style=\"font-family:Dejavu Serif;FONT-SIZE:15px;LINE-HEIGHT:25px;\"> \n",
    "Παίρνοντας $x=3$, το πολυώνυμο ${\\rm u}$ προσεγγίζει την ακριβή τιμή $\\sin 3$, με λάθος περίπου ίσο με $0.001$, ενώ το λάθος της προσέγγισης του πολυωνύμου Taylor είναι εκατοντάδες φορές μεγαλύτερο! Μόνο κοντά στο $x=0$ το πολυώνυμο Taylor προσεγγίζει την $\\sin x$ ικανοποιητικά. <br> <br>Η γραμμική άλγεβρα μας βοήθησε να ανακαλύψουμε μια νέα προσέγγιση της συνάρτησης $\\sin x$ η οποία βελτιώνει την προσέγγιση που μάθαμε στον απειροστικό λογισμό. Όμως, δίχως την δυνατότητα που μας παρέχει το Sage να εκτελούμε δίχως λάθη συμβολικούς κι αριθμητικούς υπολογισμούς είναι εξαιρετικά επίπονο, αν όχι ακατόρθωτο, να υλοποιήσουμε στην πράξη τα θεωρητικά αποτελέσματα.\n",
    "</p>"
   ]
  }
 ],
 "metadata": {
  "kernelspec": {
   "display_name": "SageMath 7.5.1",
   "language": "",
   "name": "sagemath"
  },
  "language_info": {
   "codemirror_mode": {
    "name": "ipython",
    "version": 2
   },
   "file_extension": ".py",
   "mimetype": "text/x-python",
   "name": "python",
   "nbconvert_exporter": "python",
   "pygments_lexer": "ipython2",
   "version": "2.7.13"
  }
 },
 "nbformat": 4,
 "nbformat_minor": 0
}
