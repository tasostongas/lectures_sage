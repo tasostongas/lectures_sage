{
 "cells": [
  {
   "cell_type": "markdown",
   "metadata": {},
   "source": [
    "<p> <br> <p> <br>  <p> <br>  <p>\n",
    "<hr>\n",
    "# Κεφάλαιο 1\n",
    "<hr>\n",
    "<p> <br> <p> <br>  <p> <br>  <p>"
   ]
  },
  {
   "cell_type": "markdown",
   "metadata": {},
   "source": [
    "# 1. Εισαγωγή στο Sage  <img src=\"sagelogo.png\" alt=\"text\" align=\"right\" style=\"width:200px;\"/> "
   ]
  },
  {
   "cell_type": "markdown",
   "metadata": {},
   "source": [
    "## 1.1 Πως τρέχουμε το Sage σε  jupyter notebook "
   ]
  },
  {
   "cell_type": "markdown",
   "metadata": {},
   "source": [
    "### Α. Στο Εργαστήριο ΗΥ<img src=\"term.png\" alt=\"text\" align=\"right\" style=\"width:50px;\"/> \n",
    "\n",
    "<br>\n",
    "\n",
    "<font style=\"font-family:Dejavu Serif;FONT-SIZE:15px;LINE-HEIGHT:25px;\"> \n",
    "\n",
    "Ανοίγουμε μια οθόνη εντολών (terminal) και δημιουργούμε έναν κατάλογο (directory) στο `home` directory του λογαριασμού μας ή οπουδήποτε αλλού, δίνοντάς του ένα όνομα της αρεσκείας μας π.χ. `sagemath`. <br>\n",
    "<p> </p>\n",
    "**`mkdir sagemath/`** <br> \n",
    "<p> </p>\n",
    "Μπαίνουμε στο directory που δημιουργήσαμε <br>\n",
    "<p> </p>\n",
    "**`cd sagemath/`** <br>\n",
    "<p> </p>\n",
    "και τρέχουμε <br>\n",
    "<p> </p>\n",
    "**`/opt/sage-7.4/./sage -n jupyter`** <br>\n",
    "<p> </p>\n",
    "Η εντολή αυτή μας ανοίγει μια web σελίδα στον mozilla/chrome, ανάλογα ποιό πρόγραμμα χρησιμοποιoύμε για web-browser. Η σελίδα που ανοίγει το Sage  είναι ένα περιβάλλον εργασίας που ονομάζεται jupyter notebook. Πάνω-δεξιά υπάρχει ένα κουμπί επιλογών **`New`**. Σ' αυτό επιλέγουμε **`SageMath 7.4`**\n",
    "<p> </p> <br>\n",
    "Εναλλακτικά στο menu των προγραμμάτων έχει δημιουργηθεί μια συντόμευση που τρέχει αυτόματα την  εντολή \n",
    "<img src=\"sage.png\" alt=\"text\" align=\"right\" style=\"width:60px;\"/> \n",
    "<p> </p> <br>\n",
    "**`/opt/sage-7.4/./sage -n jupyter`**\n",
    "<p> </p> <br>\n",
    "Αν επιλέξετε τον δεύτερο τρόπο μην ξεχάσετε να δημιουργήσετε ένα directory στο οποίο θα σώζετε και θα αναζητάτε τα notebooks που θα δημιουργούμε στα μαθήματα! "
   ]
  },
  {
   "cell_type": "markdown",
   "metadata": {},
   "source": [
    "\n",
    "### Β. Στον προσωπικό σας υπολογιστή <br>\n",
    "<font style=\"font-family:Dejavu Serif;FONT-SIZE:15px;LINE-HEIGHT:25px;\"> \n",
    "\n",
    "Μπορείτε να εγκαταστήσετε το `Sage` στον προσωπικό σας υπολογιστή (Windows/Mac/Linux) ακολουθώντας τις οδηγίες [εδώ](http://www.sagemath.org/)."
   ]
  },
  {
   "cell_type": "markdown",
   "metadata": {},
   "source": [
    "### Γ. Στο sagemathcloud\n",
    "\n",
    "<img src=\"sagecl.png\" alt=\"text\" align=\"right\" style=\"width:60px;\"/> \n",
    "\n",
    "<p>\n",
    "<font style=\"font-family:Dejavu Serif;FONT-SIZE:15px;LINE-HEIGHT:25px;\"> \n",
    "Μπορούμε να χρησιμοποιήσουμε το Sage [εδώ](https://cloud.sagemath.com/), δίχως καμία εγκατάσταση του λογισμικού στον υπολογιστή μας, αρκεί να έχουμε σύνδεση στο διαδίκτυο. Όμως, ο server που χρησιμοποιείται γι' αυτό τον σκοπό ορισμένες φορές δεν είναι διαθέσιμος λόγω υπερφόρτωσης. </p>\n",
    "\n",
    "Όλα τα παραπάνω αφορούν πως τρέχουμε το Sage σε περιβάλλον jupyter notebook. \n",
    "Εναλλακτικά μπορούμε να τρέξουμε από μια οθόνη τερματικού στο εργαστήριο \n",
    "\n",
    "**`/opt/sage-7.4/./sage --notebook`**\n",
    "\n",
    "το οποίο ανοίγει τον πυρήνα του Sage σε ένα άλλο γραφικό περιβάλλον. Ακόμη, υπάρχει η δυνατότητα να τρέξουμε το Sage και σε τερματικό με γραμμές εντολών, τρέχοντας\n",
    "\n",
    "**`/opt/sage-7.4/./sage`**\n",
    "\n",
    "ή ακόμα και μέσα από τον επεξεργαστή κειμένου `emacs` εγκαθιστώντας το κατάλληλο περιβάλλον (shell)."
   ]
  },
  {
   "cell_type": "markdown",
   "metadata": {},
   "source": [
    "### Δ. Πως διαμορφώνουμε Sage notebooks\n",
    "\n",
    "<p>\n",
    "<font style=\"font-family:Dejavu Serif;FONT-SIZE:15px;LINE-HEIGHT:25px;\"> \n",
    "Προτείνεται, χωρίς να είναι απαραίτητο, να χρησιμοποιήσουμε το Sage στο γραφικό περιβάλλον jupyter notebook \n",
    "επειδή: α) έχετε ήδη εξοικειωθεί με το τελευταίο σε προηγούμενα μαθήματα που \n",
    "διδαχτήκατε (π.χ. Python) και β) το jupyter notebook προσφέρει την δυνατότητα να \n",
    "εναλλάσσουμε γρήγορα από κελί κώδικα (code) SageMath σε κελί markdown, o οποίος \n",
    "προσφέρει εύκολη διαμόρφωση απλού και σύνθετου κειμένου καθώς και εισαγωγή \n",
    "σχημάτων. Ακόμα περισσότερο προσφέρει διαμόρφωση μαθηματικού κειμένου, μέσω του \n",
    "$\\rm\\LaTeX$, και να σώζουμε τα notebooks σε διαφορετικές μορφές (html, pdf κα). \n",
    "Οι σημειώσεις και τα σχήματα σε ένα notebook έχουν καθοριστική σημασία \n",
    "τόσο στην περιγραφή όσο και στην κατανόηση των μαθηματικών προβλημάτων που θα \n",
    "διαπραγματευτούμε κατά την διάρκεια του μαθήματος. </p>\n",
    "\n",
    "<p>Επιπλέον, η χρήση κειμένου εμβόλιμα στις εντολές κώδικα του Sage βοηθά να \n",
    "κατανοήσουμε καλύτερα στο τι ακριβώς κάνει η κάθε μία εντολή που χρησιμοποιούμε. </p>\n",
    "\n",
    "Μπορείτε να περιηγηθείτε στα προγράμματα που προαναφέραμε στους παρακάτω συνδέσμους:\n",
    "\n",
    "- [`SageMath`](http://www.sagemath.org/)\n",
    "- [`jupyter`](https://jupyter.readthedocs.io/en/latest/running.html)\n",
    "- [`markdown`](http://daringfireball.net/projects/markdown/basics)\n",
    "\n",
    "Στις ιστοσελίδες αυτές θα βρείτε επίσης πολλές εύχρηστες κάρτες εγχειριδίων (quick reference cards) τις οποίες μπορείτε να τυπώσετε. Για παράδειγμα, σε κάποια κάρτα του jupyter notebook αναφέρεται ότι πληκτρολογώντας **`Ctrl+Shift+P`** μπορούμε να δούμε μια σειρά από συντομεύσεις για εντολές πληκτρολογίου που μας επιτρέπουν να διαχειριστούμε εύκολα τα κελιά (cells) εντολών, τον πυρήνα (kernel) που τρέχει το Sage, και γενικότερα το notebook που δουλεύουμε.\n",
    "\n",
    "<p><u><font style=\"font-family:Dejavu Serif;FONT-SIZE:15px;LINE-HEIGHT:25px;\"> \n",
    "Οι σημειώσεις αυτές γράφονται στο περιβάλλον του jupyter notebook</font></u>, \n",
    "<font style=\"font-family:Dejavu Serif;FONT-SIZE:15px;LINE-HEIGHT:25px;\"> \n",
    "χρησιμοποιώντας συνδυασμό markdown και html τα οποία είναι απόλυτα συμβατά μεταξύ τους, και η όποια επιπλέον επεξεργασία του κειμένου χρειάσθηκε έγινε με το $\\rm \\LaTeX$. Το σύνολο των προγραμμάτων που χρησιμοποιήθηκαν είναι ελεύθερα λογισμικά ανοιχτού κώδικα για το λειτουργικό σύστημα GNU/Linux με πυρήνα 3.16.7.\n",
    "</font> </p>"
   ]
  },
  {
   "cell_type": "markdown",
   "metadata": {},
   "source": [
    "<font style=\"font-family:Dejavu Serif;FONT-SIZE:15px;LINE-HEIGHT:25px;\"> \n",
    "\n",
    "##  1.2 Τι είναι το Sage\n",
    "<p>\n",
    "Το Sage είναι ένα σύνολο λογισμικών που εκτελούν συμβολικούς υπολογισμούς.\n",
    "Συστήματα που εκτελούν συμβολικούς υπολογισμούς είναι ικανά να αντιμετωπίζουν τα μαθηματικά αντικείμενα <strong> συμβολικά</strong>. Αυτό σημαίνει ότι τα μαθηματικά αντικείμενα παριστάνονται ακριβώς, και όχι προσεγγιστικά, και συνεπώς διάφορες μαθηματικές εκφράσεις στις οποίες εμφανίζονται μεταβλητές που δεν έχουν συγκεκριμένες τιμές, αφήνονται σε συμβολική μορφή. </p>\n",
    "\n",
    "<p>\n",
    "Για παράδειγμα, αν ζητήσουμε να κατασκευασθεί ένα αριθμητικό πρόγραμμα για να \"λύσει την εξίσωση <code>sin(x)=0</code>, ως προς x\", η πιο πιθανή απάντηση που θα παίρναμε θα ήταν μια ποσότητα με ακρίβεια 32-bit, την οποία το πρόγραμμα θα τύπωνε σαν <code>0.0</code>, και όχι μια απάντηση της μορφής \"<code>{ n π | integer(n)</code> } \". Από μαθηματική σκοπιά, ένα λογισμικό που έχει την δυνατότητα να μας παρέχει την τελευταία συμβολική, παραμετρική μορφή, υπερέχει από ένα αντίστοιχο που μας δίνει μια και μόνη αριθμητική τιμή. Μια και μόνο αριθμητική τιμή μπορεί να είναι χρήσιμη για έναν συγκεκριμένο σκοπό, όμως όσο απλή κι αν είναι, δεν παύει να είναι ένας συμβιβασμός. \n",
    "</p>\n",
    "\n",
    "<p>Αν επιπλέον το πρόβλημα που θέλουμε να επιλύσουμε απαιτεί υπολογισμούς που αφορούν σύνολα, συναρτήσεις, μαθηματικές εκφράσεις (πολυωνυμικές, ρητές, αλγεβρικές κλπ), γεωμετρικά χωρία, παραγωγίσεις, θεωρήματα, αποδείξεις κτλ, τότε είναι εύλογο να υποθέσει κανείς ότι ένα υπολογιστικό σύστημα που είναι ικανό να εκτελεί συμβολικούς υπολογισμούς, να έχει κάποια χρησιμότητα.</p>\n",
    "\n",
    "<p>Το Sage είναι ένα σύνολο λογισμικών τα οποία είνα ικανά να εκτελούν τόσο συμβολικούς υπολογισμούς, όσο και αριθμητικούς, και αναφέρεται από τα αρχικά Software for Algebra, Geometry and Experimentation.</p>\n",
    "\n",
    "<p>\n",
    "Ορισμένα κύρια χαρακτηριστικά του Sage είναι: </p>"
   ]
  },
  {
   "cell_type": "markdown",
   "metadata": {},
   "source": [
    "<font style=\"font-family:Dejavu Serif;FONT-SIZE:15px;LINE-HEIGHT:25px;\"> \n",
    "<ul>\n",
    "  <li>Είναι ελεύθερο λογισμικό ανοικτού κώδικα και είναι διαθέσιμο με την άδεια GNU General Public License.</li>\n",
    "  <li>Ως γλώσσα προγραμματισμού χρησιμοποιεί την Python, και έχει μια αρκετά μεγάλη κοινότητα προγραμματιστών.</li>\n",
    "  <li>Από τον σχεδιασμό του το Sage δεν \"ανακαλύπτει τον τροχό\", αλλά ενσωματώνει διάφορα \n",
    "    ισχυρά μαθηματικά λογισμικά ανοικτού κώδικα τα οποία εκτελούν συμβολικούς και αριθμητικούς υπολογισμούς, όπως τα GAP, maxima, R, Singular, sympy, numpy κτλ. Επιπλέον το SageMath μπορεί να τρέξει και εντολές εμπορικών μαθηματικών λογισμικών κλειστού κώδικα, όπως το Mathematica, Maple, Matlab κτλ, αρκεί ο χρήστης να έχει εγκατεστημένα τα τελευταία στο υπολογιστή του. Οπότε κάποιος θα μπορούσε να ισχυρισθεί, και όχι άδικα, ότι το Sage είναι ένα από τα ισχυρότερα συστήματα συμβολικών υπολογισμών που είναι διαθέσιμα αυτή την στιγμή.</li>\n",
    "</ul>\n"
   ]
  },
  {
   "cell_type": "markdown",
   "metadata": {},
   "source": [
    "<figure>\n",
    "<center>\n",
    "<img src=\"sagecar.png\" alt=\"text\" align=\"middle\" style=\"width:450px;\" caption=\"fdsf\"/> \n",
    "    <figcaption>Το ρητό του Sage: Κατασκευάζουμε το αυτοκίνητο αντί να ανακαλύπτουμε τον τροχό.</figcaption>\n",
    "</center>\n",
    "</figure>"
   ]
  },
  {
   "cell_type": "markdown",
   "metadata": {},
   "source": [
    "<font style=\"font-family:Dejavu Serif;FONT-SIZE:15px;LINE-HEIGHT:25px;\"> \n",
    "\n",
    "## 1.3 Πρώτη επαφή με το Sage.\n",
    "\n",
    "\n",
    "Τρέχουμε τις εντολές του Sage σε jupyter notebook σε κελιά (cells) κώδικα (<code>code</code>). Οι εντολές εκτελούνται πατώντας: <br>\n",
    "<ul>\n",
    "  <li> <strong> <code>Ctrl-Enter</code> </strong> για να εκτελέσουμε το κελί που βρισκόμαστε, </li>\n",
    "  <li> <strong> <code>Alt-Enter</code> </strong> για να εκτελέσουμε το κελί που βρισκόμαστε και να εισαγάγουμε ένα νέο κελί αμέσως μετά,</li>\n",
    "  <li> <strong> <code>Shift-Enter</code></strong> για να εκτελέσουμε το κελί που βρισκόμαστε και να επιλέξουμε το κελί αμέσως μετά.  </li>\n",
    "  </ul>\n",
    "  <br>\n",
    "Επιλέγουμε για να γράψουμε μέσα σε ένα cell με  <strong> <code>Enter</code> </strong>, ή αριστερό click στο ποντίκι.\n",
    "Στο jupyter notebook πληκτρολογούμε <strong> <code>Ctrl-Shift-P</code></strong> για να δούμε όλες τις διαθέσιμες συντομεύσεις πληκτρολογίου και διάφορες επιλογές για να επεξεργαζόμαστε τα cells καθώς και τον πυρήνα. Ορισμένες από αυτές τις επιλογές είναι διαθέσιμες και στο menu επιλογών του jupyter στο πάνω μέρος του notebook. "
   ]
  },
  {
   "cell_type": "code",
   "execution_count": 1,
   "metadata": {
    "collapsed": false
   },
   "outputs": [
    {
     "name": "stdout",
     "output_type": "stream",
     "text": [
      "pi\n"
     ]
    }
   ],
   "source": [
    "print pi"
   ]
  },
  {
   "cell_type": "code",
   "execution_count": 2,
   "metadata": {
    "collapsed": false
   },
   "outputs": [
    {
     "name": "stdout",
     "output_type": "stream",
     "text": [
      "0\n"
     ]
    }
   ],
   "source": [
    "print sin(pi)"
   ]
  },
  {
   "cell_type": "code",
   "execution_count": 3,
   "metadata": {
    "collapsed": false
   },
   "outputs": [
    {
     "name": "stdout",
     "output_type": "stream",
     "text": [
      "pi\n"
     ]
    }
   ],
   "source": [
    "print(pi)"
   ]
  },
  {
   "cell_type": "code",
   "execution_count": 4,
   "metadata": {
    "collapsed": false
   },
   "outputs": [
    {
     "name": "stdout",
     "output_type": "stream",
     "text": [
      "<type 'str'>\n"
     ]
    }
   ],
   "source": [
    "print type(_)"
   ]
  },
  {
   "cell_type": "code",
   "execution_count": 5,
   "metadata": {
    "collapsed": false
   },
   "outputs": [
    {
     "name": "stdout",
     "output_type": "stream",
     "text": [
      "<type 'sage.symbolic.expression.Expression'>\n"
     ]
    }
   ],
   "source": [
    "print type(pi)"
   ]
  },
  {
   "cell_type": "code",
   "execution_count": 6,
   "metadata": {
    "collapsed": false
   },
   "outputs": [
    {
     "data": {
      "image/png": "[encoded data removed]",
      "text/plain": [
       "Graphics object consisting of 1 graphics primitive"
      ]
     },
     "metadata": {},
     "output_type": "display_data"
    }
   ],
   "source": [
    "graf = plot(exp(-x^2)*sin(16*x),(x,-pi,pi),figsize=4); show(graf)"
   ]
  },
  {
   "cell_type": "markdown",
   "metadata": {},
   "source": [
    "<font style=\"font-family:Dejavu Serif;FONT-SIZE:15px;LINE-HEIGHT:25px;\"> \n",
    "Το Sage είναι κατά κύριο λόγο είναι ένα σύστημα που εκτελεί συμβολικούς υπολογισμούς. Για αριθμητικούς υπολογισμούς δεν περιορίζεται στην αριθμητική ακρίβεια του επεξεργαστή ενός υπολογιστή. Για παράδειγμα, για να δούμε τον $\\pi$ με 20 δεκαδικά ψηφία τρέχουμε </font>"
   ]
  },
  {
   "cell_type": "code",
   "execution_count": 7,
   "metadata": {
    "collapsed": false
   },
   "outputs": [
    {
     "name": "stdout",
     "output_type": "stream",
     "text": [
      "3.1415926535897932385\n"
     ]
    }
   ],
   "source": [
    "pi20 = pi.n(digits=20); print pi20"
   ]
  },
  {
   "cell_type": "code",
   "execution_count": 8,
   "metadata": {
    "collapsed": false
   },
   "outputs": [
    {
     "name": "stdout",
     "output_type": "stream",
     "text": [
      "6.5640070857470010853e-22\n"
     ]
    }
   ],
   "source": [
    "print sin(pi20)"
   ]
  },
  {
   "cell_type": "code",
   "execution_count": 9,
   "metadata": {
    "collapsed": false
   },
   "outputs": [
    {
     "name": "stdout",
     "output_type": "stream",
     "text": [
      "<type 'sage.rings.real_mpfr.RealNumber'>\n"
     ]
    }
   ],
   "source": [
    "print type(pi20)"
   ]
  },
  {
   "cell_type": "markdown",
   "metadata": {},
   "source": [
    "<font style=\"font-family:Dejavu Serif;FONT-SIZE:15px;LINE-HEIGHT:25px;\"> \n",
    "Παρατηρούμε ότι σε αντίθεση με την τιμή του ημιτόνου στο $\\pi$, η τιμή <code>sin(pi20)</code> δεν είναι πλέον μηδέν.\n",
    "</font>"
   ]
  },
  {
   "cell_type": "markdown",
   "metadata": {
    "collapsed": true
   },
   "source": [
    "## 1.4 Ποιά συστήματα χρησιμοποιούνται στο Sage;"
   ]
  },
  {
   "cell_type": "code",
   "execution_count": 10,
   "metadata": {
    "collapsed": false
   },
   "outputs": [
    {
     "name": "stdout",
     "output_type": "stream",
     "text": [
      "['MPFR']\n"
     ]
    }
   ],
   "source": [
    "from sage.misc.citation import get_systems\n",
    "print get_systems('Rational(0.75)')"
   ]
  },
  {
   "cell_type": "code",
   "execution_count": 11,
   "metadata": {
    "collapsed": false
   },
   "outputs": [
    {
     "name": "stdout",
     "output_type": "stream",
     "text": [
      "['MPFR', 'ginac']\n"
     ]
    }
   ],
   "source": [
    "print get_systems('RealField(10)(pi)')"
   ]
  },
  {
   "cell_type": "code",
   "execution_count": 12,
   "metadata": {
    "collapsed": false
   },
   "outputs": [
    {
     "name": "stdout",
     "output_type": "stream",
     "text": [
      "Help on module sage.misc.citation in sage.misc:\n",
      "\n",
      "NAME\n",
      "    sage.misc.citation - File: sage/misc/citation.pyx (starting at line 1)\n",
      "\n",
      "FILE\n",
      "    /home/tasos/sage-7.5.1/local/lib/python2.7/site-packages/sage/misc/citation.so\n",
      "\n",
      "DESCRIPTION\n",
      "    Dependency usage tracking for citations\n",
      "\n",
      "FUNCTIONS\n",
      "    get_systems(...)\n",
      "        get_systems(cmd)\n",
      "        File: sage/misc/citation.pyx (starting at line 50)\n",
      "        \n",
      "            Returns a list of the systems used in running the command\n",
      "            cmd.  Note that the results can sometimes include systems\n",
      "            that did not actually contribute to the computation. Due\n",
      "            to caching and the inability to follow all C calls, it\n",
      "            could miss some dependencies as well.\n",
      "        \n",
      "            INPUT:\n",
      "        \n",
      "            - ``cmd`` - a string to run\n",
      "        \n",
      "            EXAMPLES::\n",
      "        \n",
      "                sage: from sage.misc.citation import get_systems\n",
      "                sage: s = get_systems('integrate(x^2, x)'); #priming coercion model\n",
      "                sage: get_systems('integrate(x^2, x)')\n",
      "                ['ginac', 'Maxima']\n",
      "                sage: R.<x,y,z> = QQ[]\n",
      "                sage: I = R.ideal(x^2+y^2, z^2+y)\n",
      "                sage: get_systems('I.primary_decomposition()')\n",
      "                ['Singular']\n",
      "        \n",
      "                sage: a = var('a')\n",
      "                sage: get_systems('((a+1)^2).expand()')\n",
      "                ['ginac']\n",
      "\n",
      "DATA\n",
      "    SAGE_ROOT = '/home/tasos/sage-7.5.1'\n",
      "    systems = {'Axiom': ['sage.interfaces.axiom'], 'ECM': ['sage.interface...\n",
      "\n",
      "\n"
     ]
    }
   ],
   "source": [
    "import sage.misc.citation\n",
    "help(sage.misc.citation)"
   ]
  },
  {
   "cell_type": "code",
   "execution_count": 13,
   "metadata": {
    "collapsed": false
   },
   "outputs": [
    {
     "name": "stdout",
     "output_type": "stream",
     "text": [
      "['Mathematica', 'M4RI', 'PARI', 'Frobby', 'MuPAD', 'mwrank', 'Axiom', 'LiE', 'Macaulay2', 'MPFI', 'Singular', 'ECM', 'Linbox', 'GAP', 'FLINT', 'matlab', 'Octave', 'povray', 'numpy', 'MPFR', 'qsieve', 'ginac', 'gfan', 'scipy', 'KASH', 'GMP', 'Maxima', 'Symmetrica', 'PolyBoRi', 'Tachyon', 'Magma', 'R', 'NTL', 'Givaro', 'Maple']\n"
     ]
    }
   ],
   "source": [
    "print sage.misc.citation.systems.keys()"
   ]
  },
  {
   "cell_type": "markdown",
   "metadata": {},
   "source": [
    "## 1.5 Το Sage ως ένας υπολογιστής"
   ]
  },
  {
   "cell_type": "markdown",
   "metadata": {},
   "source": [
    "<font style=\"font-family:Dejavu Serif;FONT-SIZE:15px;LINE-HEIGHT:25px;\"> \n",
    "Αν θέλουμε να εκτελέσουμε υπολογισμούς με αυθαίρετη ακρίβεια, τότε πρέπει να αυξήσουμε την ακρίβεια στο σώμα των πραγματικών για να έχουμε σωστή στρογγυλοποίηση\n",
    "</font>"
   ]
  },
  {
   "cell_type": "code",
   "execution_count": 14,
   "metadata": {
    "collapsed": false
   },
   "outputs": [
    {
     "name": "stdout",
     "output_type": "stream",
     "text": [
      "10555134955777783414078330085995832946127396083370199442517\n"
     ]
    }
   ],
   "source": [
    "print 37^37"
   ]
  },
  {
   "cell_type": "markdown",
   "metadata": {},
   "source": [
    "<font style=\"font-family:Dejavu Serif;FONT-SIZE:15px;LINE-HEIGHT:25px;\"> \n",
    "Με ένα <code>underscore</code> παίρνουμε το αποτέλεσμα από τον αμέσως προηγούμενο υπολογισμό. Με δυο <code>underscore</code> παίρνουμε το αποτέλεσμα του προτελευταίου υπολογισμού και με τρία, πριν τρεις υπολογισμούς. Περαιτέρω χρήση τους δεν είναι δυνατή. \n",
    "</font>"
   ]
  },
  {
   "cell_type": "markdown",
   "metadata": {},
   "source": [
    "<font style=\"font-family:Dejavu Serif;FONT-SIZE:15px;LINE-HEIGHT:25px;\"> \n",
    "Ας θεωρήσουμε τώρα ότι θέλουμε να υπολογίσουμε την διαφορά ανάμεσα στην πραγματική τιμή του $\\pi$ και την αριθμητική του τιμή με μια ακρίβεια 30 ψηφίων. Ο πιο γρήγορος τρόπος για να βρούμε την τελευταία είναι μέσω της συνάρτησης \n",
    "<code>numerical_approx</code>.\n",
    "</font>"
   ]
  },
  {
   "cell_type": "code",
   "execution_count": 15,
   "metadata": {
    "collapsed": false
   },
   "outputs": [
    {
     "name": "stdout",
     "output_type": "stream",
     "text": [
      "3.14159265358979323846264338328\n"
     ]
    }
   ],
   "source": [
    "print numerical_approx(pi,digits=30)"
   ]
  },
  {
   "cell_type": "markdown",
   "metadata": {},
   "source": [
    "<font style=\"font-family:Dejavu Serif;FONT-SIZE:15px;LINE-HEIGHT:25px;\"> \n",
    "Όμως συχνά θέλουμε οι υπολογισμοί μας να εκτελούνται με καθορισμένη ακρίβεια, για παράδειγμα 30 δεκαδικών ψηφίων. Τότε χρησιμοποιούμε  την συνάρτηση <code>RealField</code> με δεδομένη ακρίβεια, για παράδειγμα για τον υπολογισμό του $\\pi$ με προσέγγιση 30 ψηφίων δίνουμε\n",
    "</font>"
   ]
  },
  {
   "cell_type": "code",
   "execution_count": 16,
   "metadata": {
    "collapsed": false
   },
   "outputs": [
    {
     "name": "stdout",
     "output_type": "stream",
     "text": [
      "3.1415926535897932384626433833\n"
     ]
    }
   ],
   "source": [
    "R = RealField(30*log(10,2))\n",
    "pi30 = R(pi) ; print pi30"
   ]
  },
  {
   "cell_type": "markdown",
   "metadata": {},
   "source": [
    "<font style=\"font-family:Dejavu Serif;FONT-SIZE:15px;LINE-HEIGHT:25px;\"> \n",
    "Με <code>log(10,2)</code> υπολογίζουμε τον λογάριθμο του 10 με βάση το 2, γιατί το όρισμα στην <code>RealField</code>\n",
    "εκφράζεται σε <code>bits</code>, και για κάθε δεκαδικό ψηφίο χρειαζόμαστε $\\log_2 10\\approx 3.32$ bits. Μετά την δημιουργία του <code>R</code>, μετατρέπουμε το σύμβολο για την μαθηματική σταθερή $\\pi$ σε μια προσέγγιση 30 ψηφίων, την οποία καταχωρούμε στην τιμή <code>pi30</code>. Για να ελέγξουμε την διαφορά του $\\pi$ και του <code>pi30</code> με την δεδομένη ακρίβεια των 30 ψηφίων δίνουμε\n",
    "</font>"
   ]
  },
  {
   "cell_type": "code",
   "execution_count": 17,
   "metadata": {
    "collapsed": false
   },
   "outputs": [
    {
     "name": "stdout",
     "output_type": "stream",
     "text": [
      "0.00000000000000000000000000000\n"
     ]
    }
   ],
   "source": [
    "print R(pi-pi30)"
   ]
  },
  {
   "cell_type": "code",
   "execution_count": 18,
   "metadata": {
    "collapsed": false
   },
   "outputs": [
    {
     "name": "stdout",
     "output_type": "stream",
     "text": [
      "1.69568553528388823010177990083205496387e-31\n"
     ]
    }
   ],
   "source": [
    "print RealField(40*log(10,2))(pi-pi30)"
   ]
  },
  {
   "cell_type": "markdown",
   "metadata": {},
   "source": [
    "<font style=\"font-family:Dejavu Serif;FONT-SIZE:15px;LINE-HEIGHT:25px;\"> \n",
    "οπότε η τιμή <code>pi30</code> έχει\n",
    "την επιθυμητή ακρίβεια 30 δεκαδικών ψηφίων. Για να πάρουμε βοήθεια για κάποια συνάρτηση/εντολή του Sage εκτελούμε για παράδειγμα </font>"
   ]
  },
  {
   "cell_type": "code",
   "execution_count": 19,
   "metadata": {
    "collapsed": false
   },
   "outputs": [
    {
     "name": "stdout",
     "output_type": "stream",
     "text": [
      "Help on built-in function RealField in module sage.rings.real_mpfr:\n",
      "\n",
      "RealField(...)\n",
      "    RealField(int prec=53, int sci_not=0, rnd=MPFR_RNDN)\n",
      "    File: sage/rings/real_mpfr.pyx (starting at line 360)\n",
      "    \n",
      "        RealField(prec, sci_not, rnd):\n",
      "    \n",
      "        INPUT:\n",
      "    \n",
      "        - ``prec`` -- (integer) precision; default = 53 prec is\n",
      "          the number of bits used to represent the mantissa of a\n",
      "          floating-point number. The precision can be any integer between\n",
      "          :func:`mpfr_prec_min()` and :func:`mpfr_prec_max()`. In the current\n",
      "          implementation, :func:`mpfr_prec_min()` is equal to 2.\n",
      "    \n",
      "        - ``sci_not`` -- (default: ``False``) if ``True``, always display using\n",
      "          scientific notation; if ``False``, display using scientific notation\n",
      "          only for very large or very small numbers\n",
      "    \n",
      "        - ``rnd`` -- (string) the rounding mode:\n",
      "    \n",
      "          - ``'RNDN'`` -- (default) round to nearest (ties go to the even\n",
      "            number): Knuth says this is the best choice to prevent \"floating\n",
      "            point drift\"\n",
      "          - ``'RNDD'`` -- round towards minus infinity\n",
      "          - ``'RNDZ'`` -- round towards zero\n",
      "          - ``'RNDU'`` -- round towards plus infinity\n",
      "          - ``'RNDA'`` -- round away from zero\n",
      "          - for specialized applications, the rounding mode can also be\n",
      "            given as an integer value of type ``mpfr_rnd_t``. However, the\n",
      "            exact values are unspecified.\n",
      "    \n",
      "        EXAMPLES::\n",
      "    \n",
      "            sage: RealField(10)\n",
      "            Real Field with 10 bits of precision\n",
      "            sage: RealField()\n",
      "            Real Field with 53 bits of precision\n",
      "            sage: RealField(100000)\n",
      "            Real Field with 100000 bits of precision\n",
      "    \n",
      "        Here we show the effect of rounding::\n",
      "    \n",
      "            sage: R17d = RealField(17,rnd='RNDD')\n",
      "            sage: a = R17d(1)/R17d(3); a.exact_rational()\n",
      "            87381/262144\n",
      "            sage: R17u = RealField(17,rnd='RNDU')\n",
      "            sage: a = R17u(1)/R17u(3); a.exact_rational()\n",
      "            43691/131072\n",
      "    \n",
      "        .. NOTE::\n",
      "    \n",
      "           The default precision is 53, since according to the MPFR\n",
      "           manual: 'mpfr should be able to exactly reproduce all\n",
      "           computations with double-precision machine floating-point\n",
      "           numbers (double type in C), except the default exponent range\n",
      "           is much wider and subnormal numbers are not implemented.'\n",
      "\n"
     ]
    }
   ],
   "source": [
    "help(RealField)"
   ]
  },
  {
   "cell_type": "markdown",
   "metadata": {},
   "source": [
    "<font style=\"font-family:Dejavu Serif;FONT-SIZE:15px;LINE-HEIGHT:25px;\"> \n",
    "ή εναλλακτικά\n",
    "</font>"
   ]
  },
  {
   "cell_type": "code",
   "execution_count": 20,
   "metadata": {
    "collapsed": true
   },
   "outputs": [],
   "source": [
    "RealField?"
   ]
  },
  {
   "cell_type": "markdown",
   "metadata": {},
   "source": [
    "<font style=\"font-family:Dejavu Serif;FONT-SIZE:15px;LINE-HEIGHT:25px;\">  \n",
    "Η τελευταία εντολή μας ανοίγει αυτόματα μια νέα υποσελίδα στο κάτω μέρος της web-σελίδας που δουλεύουμε, στην οποία εμφανίζεται το κείμενο με την βοήθεια.  \n",
    "</font>"
   ]
  },
  {
   "cell_type": "markdown",
   "metadata": {},
   "source": [
    "<font style=\"font-family:Dejavu Serif;FONT-SIZE:15px;LINE-HEIGHT:25px;\">  \n",
    "Ένας εναλλακτικός τρόπος αριθμητικής προσέγγισης οποιουδέποτε πραγματικού αριθμού είναι με την χρήση απλών συνεχών κλασμάτων. Ένα <strong>απλό συνεχές κλάσμα</strong> ορίζεται από μια λίστα $[b_0;b_1,b_2,b_3,\\ldots]$, όπου $b_i$, $i=1,2\\ldots$ είναι θετικοί ακέραιοι και μόνο ο $b_0$ μπορεί να είναι μή-θετικός ακέραιος. Κάθε πραγματικός αριθμός $x$ (ρητός, άρρητος ή υπερβατικός)  έχει την αναπαράσταση \n",
    "$$x = b_0 + \\frac{1}{ b_1 + \\frac{1}{ b_2 + \\frac{1}{ b_3 + \\cdots}} } \\,. $$\n",
    "Οι ρητοί αριθμοί που προκύπτουν κρατώντας μόνο ένα πεπερασμένο πλήθος όρων στο συνεχές κλάσμα λέγονται <strong>συγκλίνοντες</strong>.\n",
    "Για παράδειγμα </font>"
   ]
  },
  {
   "cell_type": "code",
   "execution_count": 21,
   "metadata": {
    "collapsed": false
   },
   "outputs": [
    {
     "name": "stdout",
     "output_type": "stream",
     "text": [
      "[1; 2, 2, 2, 2, 2, 2, 2, 2, 2, 2, 2, 2, 2, 2, 2, 2, 2, 2, 2, ...]\n"
     ]
    }
   ],
   "source": [
    "x = sqrt(2)\n",
    "c = continued_fraction(x); print c"
   ]
  },
  {
   "cell_type": "markdown",
   "metadata": {},
   "source": [
    "<font style=\"font-family:Dejavu Serif;FONT-SIZE:15px;LINE-HEIGHT:25px;\">  \n",
    "Δηλαδή\n",
    "$$\\sqrt{2} = 1 + \\frac{1}{ 2 + \\frac{1}{ 2 + \\frac{1}{ 2 + \\cdots}} } \\,. $$\n",
    "και οι συγκλίνοντες είναι \n",
    "$$ 1 \\,,\\quad \\frac{3}{2} = 1+ \\frac{1}{2}\\,,\\quad \\frac{7}{5} = 1+ \\frac{1}{2+\\frac{1}{2}} \\,,\\cdots$$\n",
    "Στο Sage εκτελούμε\n",
    "</font>"
   ]
  },
  {
   "cell_type": "code",
   "execution_count": 22,
   "metadata": {
    "collapsed": false
   },
   "outputs": [
    {
     "name": "stdout",
     "output_type": "stream",
     "text": [
      "lazy list [1, 3/2, 7/5, ...]\n"
     ]
    }
   ],
   "source": [
    "print c.convergents()"
   ]
  },
  {
   "cell_type": "code",
   "execution_count": 23,
   "metadata": {
    "collapsed": false
   },
   "outputs": [
    {
     "name": "stdout",
     "output_type": "stream",
     "text": [
      "665857/470832\n"
     ]
    }
   ],
   "source": [
    "print c.convergent(15)"
   ]
  },
  {
   "cell_type": "code",
   "execution_count": 24,
   "metadata": {
    "collapsed": false
   },
   "outputs": [
    {
     "name": "stdout",
     "output_type": "stream",
     "text": [
      "44302225809207714047802677511548402965313235415702533504483\n"
     ]
    }
   ],
   "source": [
    "print c.numerator(153)"
   ]
  },
  {
   "cell_type": "code",
   "execution_count": 25,
   "metadata": {
    "collapsed": false
   },
   "outputs": [
    {
     "name": "stdout",
     "output_type": "stream",
     "text": [
      "31326404291348457390865124320006534354088526499185529979738\n"
     ]
    }
   ],
   "source": [
    "print c.denominator(153)"
   ]
  },
  {
   "cell_type": "markdown",
   "metadata": {},
   "source": [
    "<font style=\"font-family:Dejavu Serif;FONT-SIZE:15px;LINE-HEIGHT:25px;\">  \n",
    "όπου οι συναρτήσεις <code>numerator(n)</code>, και <code>denominator(n)</code> μας δίνουν τον αριθμητή και τον παρονομαστή του $n$-στού συγκλίνοντα στην αναπαράσταση του πραγματικού $x$ με απλά συνεχή κλάσματα.\n",
    "</font>  "
   ]
  },
  {
   "cell_type": "markdown",
   "metadata": {},
   "source": [
    "## 1.6 Μιγαδικοί, αλγεβρικοί αριθμοί και πεπερασμένα σώματα"
   ]
  },
  {
   "cell_type": "markdown",
   "metadata": {},
   "source": [
    "### 1.6.1 Μιγαδικοί αριθμοί"
   ]
  },
  {
   "cell_type": "markdown",
   "metadata": {},
   "source": [
    "<font style=\"font-family:Dejavu Serif;FONT-SIZE:15px;LINE-HEIGHT:25px;\">  \n",
    "Στο Sage το σώμα των μιγαδικών αριθμών είναι γνωστό ως <code>ComplexField()</code>, όπου στο όρισμα μπορούμε να θέσουμε (σε bits) την ακρίβεια που θέλουμε να χρησιμοποιήσουμε στους υπολογισμούς. Όμως, δεν πρέπει να μας διαφεύγει ότι το βασικό χαρακτηριστικό του Sage είναι ότι πρόκειται για ένα λογισμικό που εκτελεί συμβολικούς υπολογισμούς. Στο Sage η φανταστική μονάδα δηλώνεται με <code>I</code>.\n",
    "</font>"
   ]
  },
  {
   "cell_type": "code",
   "execution_count": 26,
   "metadata": {
    "collapsed": false
   },
   "outputs": [
    {
     "name": "stdout",
     "output_type": "stream",
     "text": [
      "Complex Field with 100 bits of precision\n"
     ]
    }
   ],
   "source": [
    "C = ComplexField(100); print C"
   ]
  },
  {
   "cell_type": "code",
   "execution_count": 27,
   "metadata": {
    "collapsed": false,
    "scrolled": true
   },
   "outputs": [
    {
     "name": "stdout",
     "output_type": "stream",
     "text": [
      "I\n"
     ]
    }
   ],
   "source": [
    "print sqrt(-1)"
   ]
  },
  {
   "cell_type": "code",
   "execution_count": 28,
   "metadata": {
    "collapsed": false
   },
   "outputs": [
    {
     "name": "stdout",
     "output_type": "stream",
     "text": [
      "-1\n"
     ]
    }
   ],
   "source": [
    "print I^2"
   ]
  },
  {
   "cell_type": "code",
   "execution_count": 29,
   "metadata": {
    "collapsed": false
   },
   "outputs": [],
   "source": [
    "a = (-1+I)^2; b = (1 - I)^2;"
   ]
  },
  {
   "cell_type": "code",
   "execution_count": 30,
   "metadata": {
    "collapsed": false
   },
   "outputs": [
    {
     "name": "stdout",
     "output_type": "stream",
     "text": [
      "-2*I\n"
     ]
    }
   ],
   "source": [
    "print a"
   ]
  },
  {
   "cell_type": "code",
   "execution_count": 31,
   "metadata": {
    "collapsed": false
   },
   "outputs": [
    {
     "name": "stdout",
     "output_type": "stream",
     "text": [
      "-2*I\n"
     ]
    }
   ],
   "source": [
    "print b"
   ]
  },
  {
   "cell_type": "markdown",
   "metadata": {},
   "source": [
    "<font style=\"font-family:Dejavu Serif;FONT-SIZE:15px;LINE-HEIGHT:25px;\">  \n",
    "Το Sage γνωρίζει να λύνει πολυωνυμικές εξισώσεις με συντελεστές στους μιγαδικούς αριθμούς. Για παράδειγμα θα λύσουμε την εξίσωση \n",
    "$$ z^3=i$$\n",
    "Ορίζουμε με την συνάρτηση <code>var</code> μια (συμβολική έκφραση) μεταβλητή $z$ και με την εντολή <code>solve</code> λύνουμε την παραπάνω εξίσωση. Χρησιμοποιούμε το προαιρετικό όρισμα <code>solution_dict=True</code> για να πούμε στην συνάρτηση <code>solve</code> να μας επιστρέψει τις λύσεις στην μορφή μιας λίστας <code>Python</code> με ανάλογο λεξικό. "
   ]
  },
  {
   "cell_type": "code",
   "execution_count": 32,
   "metadata": {
    "collapsed": false
   },
   "outputs": [
    {
     "name": "stdout",
     "output_type": "stream",
     "text": [
      "[{z: 1/2*I*sqrt(3)*(-1)^(1/6) - 1/2*(-1)^(1/6)}, {z: -1/2*I*sqrt(3)*(-1)^(1/6) - 1/2*(-1)^(1/6)}, {z: (-1)^(1/6)}]\n",
      "<type 'list'>\n"
     ]
    }
   ],
   "source": [
    "var(\"z\")\n",
    "rizes=solve(z^3==I,z,solution_dict=True); print rizes;  print type(rizes)"
   ]
  },
  {
   "cell_type": "markdown",
   "metadata": {},
   "source": [
    "<font style=\"font-family:Dejavu Serif;FONT-SIZE:15px;LINE-HEIGHT:25px;\">  \n",
    "Στην συνέχεια ρησιμοποιούμε ένα βρόχο (loop) και καταχωρούμε τις λύσεις σε μια νέα λίστα που την ονομάζουμε  <code>lyseis</code>. Με τον ίδιο τρόπο δημιουργούμε τις λίστες <code>metra</code>, <code>gwnies</code>, που περιέχουν τα μέτρα και τις γωνίες των λύσεων, αντίστοιχα. Στο Sage το πραγματικό και το φανταστικό μέρος ενός μιγαδικού αριθμού δίνονται με τις συναρτήσεις \n",
    "<code>real_part()</code> και <code>imag_part()</code>, αντίστοιχα. <br> \n",
    "Οι εντολές <code>abs()</code> και <code>arg()</code>, μας δίνουν το μέτρο και το όρισμα (argument) ενός μιγαδικού αριθμού, αντίστοιχα."
   ]
  },
  {
   "cell_type": "code",
   "execution_count": 33,
   "metadata": {
    "collapsed": false
   },
   "outputs": [],
   "source": [
    "lyseis=[];shmeia=[];metra=[];gwnies=[];\n",
    "for i in [0..(len(rizes)-1)]: \n",
    "  lyseis.append( real_part( rizes[i][z] ) + I*imag_part( rizes[i][z]) )\n",
    "  metra.append(  abs( rizes[i][z] ).simplify() )\n",
    "  gwnies.append( arg( rizes[i][z] ).simplify() )"
   ]
  },
  {
   "cell_type": "code",
   "execution_count": 34,
   "metadata": {
    "collapsed": false
   },
   "outputs": [
    {
     "name": "stdout",
     "output_type": "stream",
     "text": [
      "[-1/2*sqrt(3) + 1/2*I, -I, 1/2*sqrt(3) + 1/2*I]\n"
     ]
    }
   ],
   "source": [
    "print lyseis"
   ]
  },
  {
   "cell_type": "code",
   "execution_count": 35,
   "metadata": {
    "collapsed": false
   },
   "outputs": [
    {
     "name": "stdout",
     "output_type": "stream",
     "text": [
      "[1, 1, 1]\n"
     ]
    }
   ],
   "source": [
    "print metra"
   ]
  },
  {
   "cell_type": "code",
   "execution_count": 36,
   "metadata": {
    "collapsed": false
   },
   "outputs": [
    {
     "name": "stdout",
     "output_type": "stream",
     "text": [
      "[5/6*pi, -1/2*pi, 1/6*pi]\n"
     ]
    }
   ],
   "source": [
    "print gwnies"
   ]
  },
  {
   "cell_type": "markdown",
   "metadata": {},
   "source": [
    "<font style=\"font-family:Dejavu Serif;FONT-SIZE:15px;LINE-HEIGHT:25px;\">  \n",
    "Παρατηρούμε ότι και οι τρείς λύσεις έχουν μέτρο μονάδα, συνεπώς βρίσκονται πάνω στον μοναδιαίο κύκλο, και σε γωνίες \n",
    "$$ \\frac{5\\,\\pi}{6} \\,,\\quad -\\frac{\\pi}{2} \\,,\\quad \\frac{\\pi}{6}\\,. $$\n",
    "αντίστοιχα."
   ]
  },
  {
   "cell_type": "markdown",
   "metadata": {},
   "source": [
    "<font style=\"font-family:Dejavu Serif;FONT-SIZE:15px;LINE-HEIGHT:25px;\"> \n",
    "Τέλος, απεικονίζουμε γραφικά τα αποτελέσματά μας στο μιγαδικό επίπεδο.\n",
    "Οι αντίστοιχες εντολές για γραφικές παραστάσεις σε δυο και τρεις διαστάσεις θα μας απασχολήσουν εκτενέστερα σε άλλη ενότητα. Προς το παρόν δώστε μεγαλύτερη έμφαση στο γεγονός ότι το Sage  μας πληροφορεί ότι οι λύσεις της εξίσωσης $$z^3=i $$ είναι το σύνολο των μιγαδικών αριθμών\n",
    "\n",
    "$$  \\left\\lbrace \\frac{\\sqrt{3}}{2} + \\frac{i}{2} \\,, \\quad -\\frac{\\sqrt{3}}{2} + \\frac{i}{2} \\,,\\quad\n",
    "-i\\right\\rbrace\\,. $$"
   ]
  },
  {
   "cell_type": "code",
   "execution_count": 37,
   "metadata": {
    "collapsed": false
   },
   "outputs": [
    {
     "data": {
      "image/png": "[encoded data removed]",
      "text/plain": [
       "Graphics object consisting of 4 graphics primitives"
      ]
     },
     "metadata": {},
     "output_type": "display_data"
    }
   ],
   "source": [
    "var(\"x y\")\n",
    "kyklos=implicit_plot(x^2+y^2==1,(x,-1,1),(y,-1,1))\n",
    "pp=sum([point( ( (real_part( rizes[i][z]) , imag_part( rizes[i][z])) ), \n",
    "              color=rainbow(3)[i] , size=50) for i in [0..(len(rizes)-1)]])\n",
    "show(kyklos+pp,figsize=4)"
   ]
  },
  {
   "cell_type": "markdown",
   "metadata": {},
   "source": [
    "### 1.6.2 Αλγεβρικοί αριθμοί"
   ]
  },
  {
   "cell_type": "markdown",
   "metadata": {
    "collapsed": true
   },
   "source": [
    "<font style=\"font-family:Dejavu Serif;FONT-SIZE:15px;LINE-HEIGHT:25px;\"> \n",
    "Ο πραγματικός αριθμός $\\sqrt{2}$ είναι ένας αλγεβρικός αριθμός. Το ελάχιστο πολυώνυμο που έχει ρίζα  έναν αλγεβρικό αριθμό, λέγεται το ελάχιστο πολυώνυμο του αριθμού. Για παράδειγμα, \n",
    "η εντολή\n",
    "</font>"
   ]
  },
  {
   "cell_type": "code",
   "execution_count": 38,
   "metadata": {
    "collapsed": false
   },
   "outputs": [
    {
     "name": "stdout",
     "output_type": "stream",
     "text": [
      "x^2 - 2\n"
     ]
    }
   ],
   "source": [
    "print sqrt(2).minpoly()"
   ]
  },
  {
   "cell_type": "markdown",
   "metadata": {},
   "source": [
    "<font style=\"font-family:Dejavu Serif;FONT-SIZE:15px;LINE-HEIGHT:25px;\"> \n",
    "μας επιστρέφει ότι το ελάχιστο πολυώνυμο του $\\sqrt{2}$ είναι το $x^2-2$. Το αποτέλεσμα της παραγοντοποίησης ενός πολυωνύμου εξαρτάται από το σώμα των αριθμών που είναι ορισμένο. \n",
    "</font>"
   ]
  },
  {
   "cell_type": "code",
   "execution_count": 39,
   "metadata": {
    "collapsed": false
   },
   "outputs": [
    {
     "name": "stdout",
     "output_type": "stream",
     "text": [
      "(x + 1)*(x - 1)\n"
     ]
    }
   ],
   "source": [
    "print factor(x^2-1)"
   ]
  },
  {
   "cell_type": "code",
   "execution_count": 40,
   "metadata": {
    "collapsed": false
   },
   "outputs": [
    {
     "name": "stdout",
     "output_type": "stream",
     "text": [
      "x^2 - 2\n"
     ]
    }
   ],
   "source": [
    "print factor(x^2-2)"
   ]
  },
  {
   "cell_type": "markdown",
   "metadata": {},
   "source": [
    "<font style=\"font-family:Dejavu Serif;FONT-SIZE:15px;LINE-HEIGHT:25px;\"> \n",
    "Το πολυώνυμο $x^2-1$ παραγοντοποιείται σε $(x+1)(x-1)$, ενώ το πολυώνυμο $x^2-2$ δεν παραγοντοποιείται πάνω στο προεπιλεγμένο σώμα, που είναι το σύνολο $\\mathbb{Q}$ των ρητών. Αν ένα πολυώνυμο δεν παραγοντοποιείται σε ένα συγκεκριμένο σώμα λέγεται ανάγωγο στο αντίστοιχο σώμα. Μπορούμε να ορίσουμε ένα σώμα $K$ στο οποίο το $c$ είναι η τετραγωνική ρίζα του $2$, και να υπολογίζουμε και να απλοποιούμε εκφράσεις στο K, έχοντας ενσωματώσει την πληροφορία ότι το ελάχιστο πολυώνυμο του $\\sqrt{2}$ είναι το $x^2-2$.  \n",
    "</font>"
   ]
  },
  {
   "cell_type": "code",
   "execution_count": 41,
   "metadata": {
    "collapsed": false
   },
   "outputs": [
    {
     "name": "stdout",
     "output_type": "stream",
     "text": [
      "Number Field in c with defining polynomial x^2 - 2\n"
     ]
    }
   ],
   "source": [
    "K.<c> = NumberField(x^2-2); print K"
   ]
  },
  {
   "cell_type": "code",
   "execution_count": 42,
   "metadata": {
    "collapsed": false
   },
   "outputs": [
    {
     "name": "stdout",
     "output_type": "stream",
     "text": [
      "2\n"
     ]
    }
   ],
   "source": [
    "print c^2"
   ]
  },
  {
   "cell_type": "code",
   "execution_count": 43,
   "metadata": {
    "collapsed": false
   },
   "outputs": [
    {
     "name": "stdout",
     "output_type": "stream",
     "text": [
      "2*c\n"
     ]
    }
   ],
   "source": [
    "print c^3"
   ]
  },
  {
   "cell_type": "markdown",
   "metadata": {},
   "source": [
    "<font style=\"font-family:Dejavu Serif;FONT-SIZE:15px;LINE-HEIGHT:25px;\"> \n",
    "Αν θεωρήσουμε τώρα το δακτύλιο των πολυωνύμων με συντελεστές στο σώμα $K$, τότε το πολυώνυμο $x^2-2$ παραγοντοποιείται στο $K$. Πραγματικά \n",
    "</font>"
   ]
  },
  {
   "cell_type": "code",
   "execution_count": 44,
   "metadata": {
    "collapsed": false
   },
   "outputs": [
    {
     "name": "stdout",
     "output_type": "stream",
     "text": [
      "(x - c) * (x + c)\n"
     ]
    }
   ],
   "source": [
    "R.<x> = PolynomialRing(K)\n",
    "p = x^2 - 2\n",
    "print factor(p)"
   ]
  },
  {
   "cell_type": "markdown",
   "metadata": {},
   "source": [
    "### 1.6.3 Πεπερασμένα σώματα\n",
    "\n",
    "<font style=\"font-family:Dejavu Serif;FONT-SIZE:15px;LINE-HEIGHT:25px;\"> \n",
    "<p> Στην παράγραφο αυτή αναφέρονται κάποιες έννοιες στις οποίες ο αναγνώστης ίσως να μην είναι τόσο εξοικειωμένος. Μπορείτε να συνεχίσετε στην επόμενη παράγραφο. Όμως ενθαρρύνω τον αναγνώστη να \"βουτήξει\" δίχως κανένα ενδοιασμό, όπως ακριβώς τον ενθαρρύνω να κάνει το ίδιο και με το Sage.  Απλά, ας βουτήξουμε!!! </br> <br>\n",
    "\n",
    "<p>\n",
    "Στην Θεωρία Κωδικοποίησης και στην Κρυπτογραφία συχνά δουλεύουμε με ένα πεπερασμένο σώμα. Ένα <strong>πεπερασμένο σώμα, ή σώμα Galois,</strong> δηλώνεται με $\\mathbb{F}_{p^n}$, και έχει ένα πεπερασμένο πλήθος στοιχείων. Αποδεικνύεται ότι (μέχρι ισομορφισμού)\n",
    "υπάρχει ένα και μόνο ένα  πεπερασμένο σώμα που περιέχει $p^n$ στοιχεία, για κάθε δύναμη πρώτου $p$. Ο πρώτος $p$ αναφέρεται ως η <strong>χαρακτηριστική</strong> του πεπερασμένου σώματος. Τα στοιχεία του $\\mathbb{F}_{p^n}$ μπορούν να αναπαρασταθούν ως πολυώνυμα $g(x)$ βαθμού $d$, αυστηρά μικρότερου από $n$ ($d\\leq n-1$), με συντελεστές στο ελάχιστο υποσώμα $\\mathbb{F}_{p}=\\mathbb{Z}_p$. </p>\n",
    "\n",
    "<p>Για να κατασκευάσουμε ένα πεπερασμένο σώμα $\\mathbb{F}_{p^n}$, θεωρούμε ένα ανάγωγο πολυώνυμο $f(x)$, πάνω στο ελάχιστο υποσώμα $\\mathbb{F}_{p}$, και θεωρούμε μια πρωταρχική ρίζα $a$ του $f(x)$, δηλαδή $f(a)=0$, και $a^{p^n-1}=1$.    \n",
    "Αποδεικνύεται ότι η πολλαπλασιαστική ομάδα του $\\mathbb{F}_{p^n}$, είναι κυκλική (άρα και αντιμεταθετική), οπότε το σώμα έχει την  αναπαράσταση $$ $$\n",
    "$$\\mathbb{F}_{p^n} = \\lbrace\\, 0,\\,a,\\,a^2,\\,\\ldots, a^{p^n-1} = 1 \\rbrace\\,,$$ $$ $$\n",
    " \n",
    "και τότε λέμε ότι έχουμε κατασκευάσει το $\\mathbb{F}_{p^n}$ ως την αλγεβρική επέκταση $\\mathbb{F}_{p}[x]\\,/\\,f(x)$ του ελάχιστου υποσώματος $\\mathbb{F}_{p}$.\n",
    "</p> \n",
    "\n",
    "<p>Για παράδειγμα, θεωρούμε $a\\in \\mathbb{F}_{3^2}$, πρωταρχική ρίζα του ανάγωγου πολυωνύνου $f(x)=x^2+x+2$, με συντελεστές στο $\\mathbb{Z}_3$. \n",
    "Αφού $a$ ρίζα του $f(x)$, αυτό σημαίνει ότι $f(a)=0$, και άρα $a^2 = 2\\,a +1$ ($\\mod 3$). Τότε έχουμε  $$ $$\n",
    "$$ a^8 = (a^4)^2 = (a^2\\,a^2)^2 = (2a+1)^2 (2a+1)^2 = (4 a^2+4a+1)(4a^2+4a+1) = $$ $$ $$\n",
    "$$\\quad=(2a+1+a+1)(2a+1+a+1) = (3a+2)(3a+2)=4=1 \\qquad \\mod 3\\,.$$\n",
    "</p>\n",
    "\n",
    "<p>και τα στοιχεία του πεπερασμένου σώματος $\\mathbb{F}_{3^2}$ μπορούν να αναπαρασταθούν ως δυνάμεις του $a$, ως εξής \n",
    "$$ $$\n",
    "$$\\mathbb{F}_{3^2} = \\lbrace 0,a,a^2,\\ldots, a^7,1 \\rbrace \\,.$$ <br>\n",
    "Παίρνοντας πολυωνυμικές κλάσεις ισοϋπόλοιπων $\\mod f(x)$, τα στοιχεία του $\\mathbb{F}_{3^2}$ αντιστοιχούν στα $3^2$ το πλήθος πολυώνυμα πρώτου βαθμού, $g(x)=a_1\\,x+a_0$, με $a_0,a_1 \\in \\mathbb{F}_{3}$. \n",
    "</p>\n",
    "<p>\n",
    "Στο Sage τα παραπάνω υλοποιούνται πολύ εύκολα χρησιμοποιώντας την συνάρτηση <code>GF</code>  (Galois Field) όπου σαν ορίσματα δίνουμε το πλήθος των στοιχείων του $\\mathbb{F}_{3^2}$, το όνομα της πρωταρχικής ρίζας του πολυωνύμου $f(x)$, και τέλος το ανάγωγο πολυώνυμο $f(x)$ με συντελεστές στον $\\mathbb{Z}_3$, το οποίο στο συγκεκριμένο παράδειγμα είναι το $f(x)=x^2+x+2$.</p> \n"
   ]
  },
  {
   "cell_type": "code",
   "execution_count": 45,
   "metadata": {
    "collapsed": false
   },
   "outputs": [
    {
     "name": "stdout",
     "output_type": "stream",
     "text": [
      "Finite Field in a of size 3^2\n"
     ]
    }
   ],
   "source": [
    "reset()\n",
    "F.<a> = GF(3^2, name='a', modulus = x^2 + x + 2 ); print F"
   ]
  },
  {
   "cell_type": "code",
   "execution_count": 46,
   "metadata": {
    "collapsed": false
   },
   "outputs": [
    {
     "name": "stdout",
     "output_type": "stream",
     "text": [
      "0 0\n",
      "1 a\n",
      "2 2*a + 1\n",
      "3 2*a + 2\n",
      "4 2\n",
      "5 2*a\n",
      "6 a + 2\n",
      "7 a + 1\n",
      "8 1\n"
     ]
    }
   ],
   "source": [
    "for i,x in enumerate(F):  print(\"{} {}\".format(i, x))"
   ]
  },
  {
   "cell_type": "markdown",
   "metadata": {},
   "source": [
    "<font style=\"font-family:Dejavu Serif;FONT-SIZE:15px;LINE-HEIGHT:25px;\"> \n",
    "Ο παραπάνω πίνακας είναι γνωστός ως πίνακας του σώματος, όπου ο δείκτης στην αριστερή στήλη δηλώνει τον εκθέτη του κάθε στοιχείου $a^k$ (εκτός από τον δείκτη $k=0$ που αντιστοιχεί στο μηδέν), και η δεξιά στήλη δηλώνει σε ποιό στοιχείο του πολυωνύμου $g(x)=a_1\\,x + a_0$ αντιστοιχεί το στοιχείο $a^k$, με $a_0, a_1 \\in \\mathbb{F}_3$. Για παράδειγμα\n",
    "</font>"
   ]
  },
  {
   "cell_type": "code",
   "execution_count": 47,
   "metadata": {
    "collapsed": false
   },
   "outputs": [
    {
     "name": "stdout",
     "output_type": "stream",
     "text": [
      "2*a + 2\n"
     ]
    }
   ],
   "source": [
    "print a^3"
   ]
  },
  {
   "cell_type": "code",
   "execution_count": 48,
   "metadata": {
    "collapsed": false
   },
   "outputs": [
    {
     "name": "stdout",
     "output_type": "stream",
     "text": [
      "2\n"
     ]
    }
   ],
   "source": [
    "print a^4"
   ]
  },
  {
   "cell_type": "code",
   "execution_count": 49,
   "metadata": {
    "collapsed": false
   },
   "outputs": [
    {
     "name": "stdout",
     "output_type": "stream",
     "text": [
      "a + 1\n"
     ]
    }
   ],
   "source": [
    "print a^7"
   ]
  },
  {
   "cell_type": "code",
   "execution_count": 50,
   "metadata": {
    "collapsed": false
   },
   "outputs": [
    {
     "name": "stdout",
     "output_type": "stream",
     "text": [
      "1\n"
     ]
    }
   ],
   "source": [
    "print a^8"
   ]
  },
  {
   "cell_type": "markdown",
   "metadata": {},
   "source": [
    "<font style=\"font-family:Dejavu Serif;FONT-SIZE:15px;LINE-HEIGHT:25px;\">\n",
    "Κάθε μή μηδενικό στοιχείο του πεπερασμένου σώματος που κατασκευάσαμε έχει πολλαπλασιαστικό αντίστροφο. Μπορούμε να ελέγξουμε το γεγονός αυτό κατασκευάζοντας τον πίνακα πολλαπλασιασμού του σώματος ως εξής:\n",
    "</font>"
   ]
  },
  {
   "cell_type": "code",
   "execution_count": 51,
   "metadata": {
    "collapsed": false
   },
   "outputs": [
    {
     "name": "stdout",
     "output_type": "stream",
     "text": [
      "*  a b c d e f g h i\n",
      " +------------------\n",
      "a| a a a a a a a a a\n",
      "b| a c d e f g h i b\n",
      "c| a d e f g h i b c\n",
      "d| a e f g h i b c d\n",
      "e| a f g h i b c d e\n",
      "f| a g h i b c d e f\n",
      "g| a h i b c d e f g\n",
      "h| a i b c d e f g h\n",
      "i| a b c d e f g h i\n",
      "\n"
     ]
    }
   ],
   "source": [
    "print F.multiplication_table()"
   ]
  },
  {
   "cell_type": "markdown",
   "metadata": {},
   "source": [
    "<font style=\"font-family:Dejavu Serif;FONT-SIZE:15px;LINE-HEIGHT:25px;\">\n",
    "ενώ ο πίνακας της πρόσθεσης είναι\n",
    "</font>"
   ]
  },
  {
   "cell_type": "code",
   "execution_count": 52,
   "metadata": {
    "collapsed": false
   },
   "outputs": [
    {
     "name": "stdout",
     "output_type": "stream",
     "text": [
      "+  a b c d e f g h i\n",
      " +------------------\n",
      "a| a b c d e f g h i\n",
      "b| b f i e g a d c h\n",
      "c| c i g b f h a e d\n",
      "d| d e b h c g i a f\n",
      "e| e g f c i d h b a\n",
      "f| f a h g d b e i c\n",
      "g| g d a i h e c f b\n",
      "h| h c e a b i f d g\n",
      "i| i h d f a c b g e\n",
      "\n"
     ]
    }
   ],
   "source": [
    "print F.addition_table()"
   ]
  },
  {
   "cell_type": "markdown",
   "metadata": {},
   "source": [
    "<font style=\"font-family:Dejavu Serif;FONT-SIZE:15px;LINE-HEIGHT:25px;\">\n",
    "Προεπιλεγμένα, το Sage  παρουσιάζει τους παραπάνω πίνακες έχοντας αντιστοιχήσει τα εννέα στοιχεία του F, με τα εννέα γράμματα του λατινικού αλφάβητου a,b,c...i. Πως μπορούμε να φτιάξουμε αντίστοιχους, δικούς μας, πίνακες στους οποίους να εμφανίζονται τα στοιχεία του σώματος με την αναπαράστασή τους ως πολυώνυμα πρώτου βαθμού;  Παρατηρούμε ότι τα στοιχεία του σώματος είναι καταχωρημένα στο Sage σε μια λίστα\n",
    "</font>"
   ]
  },
  {
   "cell_type": "code",
   "execution_count": 53,
   "metadata": {
    "collapsed": false
   },
   "outputs": [
    {
     "name": "stdout",
     "output_type": "stream",
     "text": [
      "[0, a, 2*a + 1, 2*a + 2, 2, 2*a, a + 2, a + 1, 1]\n"
     ]
    }
   ],
   "source": [
    "print F.list()"
   ]
  },
  {
   "cell_type": "markdown",
   "metadata": {},
   "source": [
    "<font style=\"font-family:Dejavu Serif;FONT-SIZE:15px;LINE-HEIGHT:25px;\">\n",
    "Για την πολλαπλασιαστική ομάδα δεν έχει νόημα να συμπεριλάβουμε το στοιχείο μηδέν, οπότε από την λίστα αυτή μεταφέρουμε όλα τα στοιχεία του σώματος, εκτός από το μηδέν, σε ένα πίνακα-γραμμή με την εντολή \n",
    "</font>"
   ]
  },
  {
   "cell_type": "code",
   "execution_count": 54,
   "metadata": {
    "collapsed": false
   },
   "outputs": [
    {
     "name": "stdout",
     "output_type": "stream",
     "text": [
      "[      a 2*a + 1 2*a + 2       2     2*a   a + 2   a + 1       1]\n"
     ]
    }
   ],
   "source": [
    "multgroupF = matrix([x for x in  F.list()[1:9]]); print multgroupF"
   ]
  },
  {
   "cell_type": "markdown",
   "metadata": {},
   "source": [
    "<font style=\"font-family:Dejavu Serif;FONT-SIZE:15px;LINE-HEIGHT:25px;\">\n",
    "<strong>Προσοχή!!!</strong>\n",
    "Παρατηρήστε ότι στο Sage τα στοιχεία μια λίστας, μιας ν-άδας, ενός διανύσματος, ενός πίνακα κτλ αρχίζουν από την θέση <strong> 0 και όχι 1</strong>!!! <br>\n",
    "\n",
    "Για αναφορά, καταχωρούμε ξεχωριστά σε ένα πίνακα με ένα και μόνο στοιχείο που δηλώνει ότι υπολογίζουμε το γινόμενο $x \\, y$ των στοιχείων του <code>F</code> "
   ]
  },
  {
   "cell_type": "code",
   "execution_count": 55,
   "metadata": {
    "collapsed": false,
    "scrolled": true
   },
   "outputs": [
    {
     "name": "stdout",
     "output_type": "stream",
     "text": [
      "[x*y]\n"
     ]
    }
   ],
   "source": [
    "x , y = var('x, y')\n",
    "prod = matrix([ x*y ]); print prod"
   ]
  },
  {
   "cell_type": "markdown",
   "metadata": {},
   "source": [
    "<font style=\"font-family:Dejavu Serif;FONT-SIZE:15px;LINE-HEIGHT:25px;\">\n",
    "Με ένα διπλό <code>loop</code> υπολογίζουμε τα γινόμενα <code>x*y</code>, καθώς τα <code>x</code> και  <code>y</code> διατρέχουν τα μη μηδενικά στοιχεία του σώματος <code>F</code>, και τα καταχωρούμε σ' ένα τετραγωνικό πίνακα <code>8x8</code> ως εξής\n",
    "<font>"
   ]
  },
  {
   "cell_type": "code",
   "execution_count": 56,
   "metadata": {
    "collapsed": false
   },
   "outputs": [
    {
     "name": "stdout",
     "output_type": "stream",
     "text": [
      "[2*a + 1 2*a + 2       2     2*a   a + 2   a + 1       1       a]\n",
      "[2*a + 2       2     2*a   a + 2   a + 1       1       a 2*a + 1]\n",
      "[      2     2*a   a + 2   a + 1       1       a 2*a + 1 2*a + 2]\n",
      "[    2*a   a + 2   a + 1       1       a 2*a + 1 2*a + 2       2]\n",
      "[  a + 2   a + 1       1       a 2*a + 1 2*a + 2       2     2*a]\n",
      "[  a + 1       1       a 2*a + 1 2*a + 2       2     2*a   a + 2]\n",
      "[      1       a 2*a + 1 2*a + 2       2     2*a   a + 2   a + 1]\n",
      "[      a 2*a + 1 2*a + 2       2     2*a   a + 2   a + 1       1]\n"
     ]
    }
   ],
   "source": [
    "MultTable = matrix( [ [x*y for x in  F.list()[1:9] ] for y in F.list()[1:9] ] ); print MultTable"
   ]
  },
  {
   "cell_type": "markdown",
   "metadata": {},
   "source": [
    "<font style=\"font-family:Dejavu Serif;FONT-SIZE:15px;LINE-HEIGHT:25px;\">\n",
    "Τέλος, διαμορφώνουμε ένα πίνακα κατά <code>blocks</code> που μας δίνει έναν εύχρηστο τρόπο για να χρησιμοποιούμε τον πίνακα πολλαπλασιασμού του σώματος F.\n",
    "</font>"
   ]
  },
  {
   "cell_type": "code",
   "execution_count": 57,
   "metadata": {
    "collapsed": false
   },
   "outputs": [
    {
     "name": "stdout",
     "output_type": "stream",
     "text": [
      "[    x*y|      a 2*a + 1 2*a + 2       2     2*a   a + 2   a + 1       1]\n",
      "[-------+---------------------------------------------------------------]\n",
      "[      a|2*a + 1 2*a + 2       2     2*a   a + 2   a + 1       1       a]\n",
      "[2*a + 1|2*a + 2       2     2*a   a + 2   a + 1       1       a 2*a + 1]\n",
      "[2*a + 2|      2     2*a   a + 2   a + 1       1       a 2*a + 1 2*a + 2]\n",
      "[      2|    2*a   a + 2   a + 1       1       a 2*a + 1 2*a + 2       2]\n",
      "[    2*a|  a + 2   a + 1       1       a 2*a + 1 2*a + 2       2     2*a]\n",
      "[  a + 2|  a + 1       1       a 2*a + 1 2*a + 2       2     2*a   a + 2]\n",
      "[  a + 1|      1       a 2*a + 1 2*a + 2       2     2*a   a + 2   a + 1]\n",
      "[      1|      a 2*a + 1 2*a + 2       2     2*a   a + 2   a + 1       1]\n"
     ]
    }
   ],
   "source": [
    "groupF = block_matrix([[prod, multgroupF],[multgroupF.transpose(), MultTable]]) ; print groupF"
   ]
  },
  {
   "cell_type": "markdown",
   "metadata": {},
   "source": [
    "<font style=\"font-family:Dejavu Serif;FONT-SIZE:15px;LINE-HEIGHT:25px;\">\n",
    "Στην αριστερή στήλη και την πρώτη γραμμή αναφέρονται τα στοιχεία της πολλαπλασιαστικής ομάδας του F. Το στοιχείο που είναι στην $(i,j)$ θέση, του μεγάλου <code>8x8</code> τετραγωνικού <code>block</code> πίνακα, αναφέρεται στο γινόμενο του στοιχείου που είναι στην $i$ θέση στην αριστερή στήλη, με εκείνο που είναι στην $j$ θέση στην πάνω γραμμή. Αυτός είναι ο πίνακας της πολλαπλασιαστικής ομάδας του πεπερασμένου σώματος $\\mathbb{F}_{3^2}[x]\\,/\\,f(x)$. <br>\n",
    "Παρατηρώντας τις μονάδες που εμφανίζονται στην αντιδιαγώνιο, διαπιστώνουμε εύκολα ότι, για παράδειγμα, τα στοιχεία $2\\,a+2=a^3$ και $2\\,a=a^5$, είναι το ένα πολλαπλασιαστικό αντίστροφο του άλλου, καθώς και ότι το $2=a^4$ είναι πολλαπλασιαστικό αντίστροφο του εαυτού του, αφού $2\\cdot 2 = 4 = 1 \\mod 3$. Πράγματι στο Sage ελέγχουμε  \n",
    "</font>"
   ]
  },
  {
   "cell_type": "code",
   "execution_count": 58,
   "metadata": {
    "collapsed": false
   },
   "outputs": [
    {
     "name": "stdout",
     "output_type": "stream",
     "text": [
      "1\n"
     ]
    }
   ],
   "source": [
    "print (2*a+2)*(2*a)"
   ]
  },
  {
   "cell_type": "code",
   "execution_count": 59,
   "metadata": {
    "collapsed": false
   },
   "outputs": [
    {
     "name": "stdout",
     "output_type": "stream",
     "text": [
      "1\n"
     ]
    }
   ],
   "source": [
    "print a^3*a^5"
   ]
  },
  {
   "cell_type": "code",
   "execution_count": 60,
   "metadata": {
    "collapsed": false
   },
   "outputs": [
    {
     "name": "stdout",
     "output_type": "stream",
     "text": [
      "1\n"
     ]
    }
   ],
   "source": [
    "print a^4*a^4"
   ]
  },
  {
   "cell_type": "code",
   "execution_count": 61,
   "metadata": {
    "collapsed": false
   },
   "outputs": [
    {
     "name": "stdout",
     "output_type": "stream",
     "text": [
      "1\n"
     ]
    }
   ],
   "source": [
    "print Mod(2*2,3)"
   ]
  },
  {
   "cell_type": "markdown",
   "metadata": {},
   "source": [
    "<font style=\"font-family:Dejavu Serif;FONT-SIZE:15px;LINE-HEIGHT:25px;\">\n",
    "Μπορούμε να παραγοντοποιήσουμε και να αναπτύξουμε πολυώνυμα πάνω σε πεπερασμένα σώματα. Δημιουργούμε ένα δακτύλιο πολυωνύμων με μεταβλητή <code>x</code> και συντελεστές πάνω στο πεπερασμένο σώμα που κατασκευάσαμε παραπάνω ως εξής\n",
    "</font>"
   ]
  },
  {
   "cell_type": "code",
   "execution_count": 62,
   "metadata": {
    "collapsed": false
   },
   "outputs": [
    {
     "name": "stdout",
     "output_type": "stream",
     "text": [
      "Univariate Polynomial Ring in x over Finite Field in a of size 3^2\n"
     ]
    }
   ],
   "source": [
    "R.<x> = PolynomialRing(F); print R"
   ]
  },
  {
   "cell_type": "code",
   "execution_count": 63,
   "metadata": {
    "collapsed": false
   },
   "outputs": [
    {
     "name": "stdout",
     "output_type": "stream",
     "text": [
      "(x + a + 1) * (x + 2*a)\n"
     ]
    }
   ],
   "source": [
    "print factor(x^2+x+2)"
   ]
  },
  {
   "cell_type": "code",
   "execution_count": 64,
   "metadata": {
    "collapsed": false
   },
   "outputs": [
    {
     "name": "stdout",
     "output_type": "stream",
     "text": [
      "x^2 + x + 2\n"
     ]
    }
   ],
   "source": [
    "print expand((x-a)*(x-a^3))"
   ]
  },
  {
   "cell_type": "code",
   "execution_count": 65,
   "metadata": {
    "collapsed": false
   },
   "outputs": [
    {
     "name": "stdout",
     "output_type": "stream",
     "text": [
      "(x + a + 2) * (x + 2*a + 1)\n"
     ]
    }
   ],
   "source": [
    "print factor(x^2+1)"
   ]
  },
  {
   "cell_type": "code",
   "execution_count": 66,
   "metadata": {
    "collapsed": false
   },
   "outputs": [
    {
     "name": "stdout",
     "output_type": "stream",
     "text": [
      "x^2 + 1\n"
     ]
    }
   ],
   "source": [
    "print expand((x-a^2)*(x-a^6))"
   ]
  },
  {
   "cell_type": "code",
   "execution_count": 67,
   "metadata": {
    "collapsed": false
   },
   "outputs": [
    {
     "name": "stdout",
     "output_type": "stream",
     "text": [
      "(x + a) * (x + 2*a + 2)\n"
     ]
    }
   ],
   "source": [
    "print factor(x^2+2*x+2)"
   ]
  },
  {
   "cell_type": "code",
   "execution_count": 68,
   "metadata": {
    "collapsed": false
   },
   "outputs": [
    {
     "name": "stdout",
     "output_type": "stream",
     "text": [
      "x^2 + 2*x + 2\n"
     ]
    }
   ],
   "source": [
    "print expand((x-a^5)*(x-a^7))"
   ]
  },
  {
   "cell_type": "markdown",
   "metadata": {
    "collapsed": false
   },
   "source": [
    "<font style=\"font-family:Dejavu Serif;FONT-SIZE:15px;LINE-HEIGHT:25px;\">\n",
    "από τα οποία συμπεραίνουμε εύκολα ότι στο πεπερασμένο σώμα που κατασκευάσαμε ισχύουν οι εξής παραγοντοποιήσεις: \n",
    "$$ $$\n",
    "$$ x^2+x+2 = (x-a)(x-a^3) = (x + a + 1)(x + 2\\,a) $$ \n",
    "$$ \\quad\\qquad x^2+1 = (x-a^2)(x-a^6) =  (x + a + 2)(x + 2\\,a + 1) $$\n",
    "$$  x^2+2\\,x+2 = (x-a^5)(x-a^7) =  (x + a )(x + 2\\,a + 2) \\,.$$"
   ]
  },
  {
   "cell_type": "markdown",
   "metadata": {
    "collapsed": true
   },
   "source": [
    "<font style=\"font-family:Dejavu Serif;FONT-SIZE:15px;LINE-HEIGHT:25px;\">\n",
    "Οι δυνάμεις της ρίζας $a$ δεν εμφανίζονται τυχαία στους όρους που παραγοντοποιούνται τα παραπάνω (ελάχιστα) πολυώνυμα. Έχουν να κάνουν με τον λεγόμενο <strong>αυτομορφισμό Frobenious</strong>, ο οποίος υλοποιείται κι αυτός στο Sage!!!\n",
    "</font>"
   ]
  },
  {
   "cell_type": "code",
   "execution_count": 69,
   "metadata": {
    "collapsed": false
   },
   "outputs": [
    {
     "name": "stdout",
     "output_type": "stream",
     "text": [
      "Frobenius endomorphism a |--> a^3 on Finite Field in a of size 3^2\n"
     ]
    }
   ],
   "source": [
    "Frob = F.frobenius_endomorphism(); print Frob"
   ]
  },
  {
   "cell_type": "markdown",
   "metadata": {},
   "source": [
    "<font style=\"font-family:Dejavu Serif;FONT-SIZE:15px;LINE-HEIGHT:25px;\">\n",
    "Το παραπάνω ενδεικτικό παράδειγμα μας επιτρέπει να ισχυριστούμε ότι το Sage είναι ένα πανίσχυρο σύστημα που εκτελεί <strong> συμβολικούς υπολογισμούς </strong>.  \n",
    "</font>"
   ]
  },
  {
   "cell_type": "markdown",
   "metadata": {},
   "source": [
    "## 1.7 Σύμβολα και μεταβλητές\n",
    "\n",
    "<p> <font style=\"font-family:Dejavu Serif;FONT-SIZE:15px;LINE-HEIGHT:25px;\"> \n",
    "Το Sage δουλεύει παρόμοια όπως η Python, όμως ορισμένες φορές πρέπει να ορίζουμε τις μεταβλητές μας με ρητό τρόπο xρησιμοποιώντας την συνάρτηση <code>var</code>.  Σε προηγούμενα παραδείγματα είχαμε χρησιμοποιήσει την συνάρτηση αυτή ώς εξής <code>var('x')</code>. </p> \n",
    "\n",
    "<p> Κάθε μεταβλητή στο Sage έχει έναν τύπο (<code>type</code>). Βάζοντας εισαγωγικά (<code>'</code> ή <code>\"</code>) γύρω από τα ονόματα των μεταβλητών αποτρέπουμε στο να δοθεί στην μεταβλητή μια συγκεκριμένη τιμή.\n"
   ]
  },
  {
   "cell_type": "markdown",
   "metadata": {},
   "source": [
    "### 1.7.1 Εκφράσεις και ονόματα\n",
    "\n",
    "<p> <font style=\"font-family:Dejavu Serif;FONT-SIZE:15px;LINE-HEIGHT:25px;\"> \n",
    "Το Sage μας παρέχει ένα σύνολο από μαθηματικές σταθερές, όπως το <code>pi</code>. \n",
    "Μπορούμε να εργαζόμαστε με το <code>pi</code> ως συμβολική μεταβλητή και να του δίνουμε οποιαδήποτε τιμή.\n",
    "\n",
    "</p> "
   ]
  },
  {
   "cell_type": "code",
   "execution_count": 70,
   "metadata": {
    "collapsed": false
   },
   "outputs": [
    {
     "name": "stdout",
     "output_type": "stream",
     "text": [
      "pi <type 'sage.symbolic.expression.Expression'>\n"
     ]
    }
   ],
   "source": [
    "print(pi), type(pi)"
   ]
  },
  {
   "cell_type": "markdown",
   "metadata": {},
   "source": [
    "<font style=\"font-family:Dejavu Serif;FONT-SIZE:15px;LINE-HEIGHT:25px;\"> \n",
    "το οποίο μας πληροφορεί ότι το <code>pi</code> είναι μια συμβολική έκφραση. Ας του θέσουμε μια τιμή να δούμε τι θα συμβεί.\n",
    "</font>"
   ]
  },
  {
   "cell_type": "code",
   "execution_count": 71,
   "metadata": {
    "collapsed": false
   },
   "outputs": [
    {
     "name": "stdout",
     "output_type": "stream",
     "text": [
      "3.14000000000000 <type 'sage.rings.real_mpfr.RealLiteral'>\n"
     ]
    }
   ],
   "source": [
    "pi = 3.14\n",
    "print(pi), type(pi)"
   ]
  },
  {
   "cell_type": "markdown",
   "metadata": {},
   "source": [
    "<font style=\"font-family:Dejavu Serif;FONT-SIZE:15px;LINE-HEIGHT:25px;\"> \n",
    "Μετά την εκχώρηση της τιμή 3.14 στο <code>pi</code> έπαψε να είναι συμβολική έκφραση και το Sage μας πληροφορεί ότι απέκτησε τύπο  <code>sage.rings.real_mpfr.RealLiteral</code>. Δηλαδή την χάσαμε την τιμή του <code>pi</code> ως μαθηματική σταθερή; <br>\n",
    "\n",
    "Με την εντολή <code>restore</code> μπορούμε να ανακτήσουμε τον τύπο του <code>pi</code> ως συμβολική έκφραση καθώς και την τιμή του "
   ]
  },
  {
   "cell_type": "code",
   "execution_count": 72,
   "metadata": {
    "collapsed": false
   },
   "outputs": [
    {
     "name": "stdout",
     "output_type": "stream",
     "text": [
      "pi <type 'sage.symbolic.expression.Expression'>\n",
      "3.14159265358979323846264338328\n"
     ]
    }
   ],
   "source": [
    "restore('pi')\n",
    "print pi, type(pi)\n",
    "print numerical_approx(pi, digits=30)"
   ]
  },
  {
   "cell_type": "markdown",
   "metadata": {},
   "source": [
    "<font style=\"font-family:Dejavu Serif;FONT-SIZE:15px;LINE-HEIGHT:25px;\"> \n",
    "Δώστε προσοχή στα εισαγωγικά στο όρισμα της συνάρτησης <code>restore</code>. Μετά από την εκτέλεση της εντολής <code>restore</code> διαπιστώνουμε ότι το <code>pi</code> ανακτά και πάλι την ιδιότητά του ως έκφραση, και φυσικά την τιμή του με την ακρίβεια που περιγράψαμε στα προηγούμενα. <br>\n",
    "\n",
    "Μια τιμή μπορεί να καταχωρηθεί ως ένα <code>string</code>, η οποία μπορεί να υπολογισθεί αργότερα με την εντολή <code>eval</code> "
   ]
  },
  {
   "cell_type": "code",
   "execution_count": 73,
   "metadata": {
    "collapsed": false
   },
   "outputs": [
    {
     "name": "stdout",
     "output_type": "stream",
     "text": [
      "3.14000000000000 x 3.14000000000000\n"
     ]
    }
   ],
   "source": [
    "x = 3.14\n",
    "timh = 'x'\n",
    "print x , timh, eval(timh)"
   ]
  },
  {
   "cell_type": "markdown",
   "metadata": {},
   "source": [
    "### 1.7.2 Επαλήθευση λύσεων\n",
    "\n",
    "<p> <font style=\"font-family:Dejavu Serif;FONT-SIZE:15px;LINE-HEIGHT:25px;\"> \n",
    "Χρησιμοποιώντας την συνάρτηση <code>solve</code> θα πάρουμε μια λίστα από εκφράσεις. </p> "
   ]
  },
  {
   "cell_type": "code",
   "execution_count": 74,
   "metadata": {
    "collapsed": false
   },
   "outputs": [
    {
     "name": "stdout",
     "output_type": "stream",
     "text": [
      "[\n",
      "z == -sqrt(3),\n",
      "z == sqrt(3)\n",
      "]\n",
      "<class 'sage.structure.sequence.Sequence_generic'>\n"
     ]
    }
   ],
   "source": [
    "var('z')\n",
    "equ = z**2 - 3 == 0\n",
    "sols = solve(equ, z); print sols\n",
    "print type(sols)"
   ]
  },
  {
   "cell_type": "markdown",
   "metadata": {},
   "source": [
    "<p> <font style=\"font-family:Dejavu Serif;FONT-SIZE:15px;LINE-HEIGHT:25px;\"> \n",
    "Το Sage μας παρέχει την επιλογή να εξαγάγουμε το αποτέλεσμα ως μια λεξικογραφική λίστα, χρησιμοποιώντας το όρισμα <code>solution_dict=True</code> \n",
    "</p> "
   ]
  },
  {
   "cell_type": "code",
   "execution_count": 75,
   "metadata": {
    "collapsed": false
   },
   "outputs": [
    {
     "name": "stdout",
     "output_type": "stream",
     "text": [
      "[{z: -sqrt(3)}, {z: sqrt(3)}]\n"
     ]
    }
   ],
   "source": [
    "sols = solve(equ, z, solution_dict=True); print sols"
   ]
  },
  {
   "cell_type": "markdown",
   "metadata": {},
   "source": [
    "<p> <font style=\"font-family:Dejavu Serif;FONT-SIZE:15px;LINE-HEIGHT:25px;\"> \n",
    "Κάθε όρος της τελευταίας λίστας περιέχει το όνομα της μεταβλητής και δίπλα της την αντίστοιχη τιμής της z, που ικανοποιεί την εξίσωση. Για παράδειγμα, για να επιλέξουμε την τιμή της πρώτης λύσης, εκτελούμε\n",
    "</p>"
   ]
  },
  {
   "cell_type": "code",
   "execution_count": 76,
   "metadata": {
    "collapsed": false
   },
   "outputs": [
    {
     "name": "stdout",
     "output_type": "stream",
     "text": [
      "{z: -sqrt(3)}\n",
      "<type 'dict'>\n"
     ]
    }
   ],
   "source": [
    "print sols[0]; print type(sols[0])"
   ]
  },
  {
   "cell_type": "code",
   "execution_count": 77,
   "metadata": {
    "collapsed": false
   },
   "outputs": [
    {
     "name": "stdout",
     "output_type": "stream",
     "text": [
      "-sqrt(3)\n"
     ]
    }
   ],
   "source": [
    "print sols[0][z]"
   ]
  },
  {
   "cell_type": "markdown",
   "metadata": {},
   "source": [
    "<p> <font style=\"font-family:Dejavu Serif;FONT-SIZE:15px;LINE-HEIGHT:25px;\"> \n",
    "Η λεξικογραφική λίστα είναι χρήσιμη όταν θέλουμε να αντικαταστήσουμε μια συγκεκριμένη τιμή της μεταβλητής <code>z</code>, σε μια άλλη έκφραση, όπως για παράδειγμα στην ίδια εξίσωση για να επαληθεύσουμε ότι είναι πράγματι λύση της. Αυτό επιτυγχάνεται με την εντολή <code>substitute()</code>\n",
    "</p>"
   ]
  },
  {
   "cell_type": "code",
   "execution_count": 78,
   "metadata": {
    "collapsed": false
   },
   "outputs": [
    {
     "name": "stdout",
     "output_type": "stream",
     "text": [
      "0 == 0\n"
     ]
    }
   ],
   "source": [
    "print equ.substitute(sols[0])"
   ]
  },
  {
   "cell_type": "code",
   "execution_count": 79,
   "metadata": {
    "collapsed": false
   },
   "outputs": [
    {
     "name": "stdout",
     "output_type": "stream",
     "text": [
      "0 == 0\n"
     ]
    }
   ],
   "source": [
    "print equ.substitute(sols[1])"
   ]
  },
  {
   "cell_type": "markdown",
   "metadata": {},
   "source": [
    "<p> <font style=\"font-family:Dejavu Serif;FONT-SIZE:15px;LINE-HEIGHT:25px;\"> \n",
    "Ας υποθέσουμε ότι δίνουμε μια συγκεκριμένη αυθαίρετη τιμή στην μεταβλητή z, π.χ. z = 3. Τότε δεν μπορούμε να έχουμε άμεση πρόσβαση στην λεξικογραφική λίστα όπως προηγουμένως, γιατί τώρα η z αναφέρεται σε μια τιμή. Όμως με την επιλογή <code>keys()</code> ανακτούμε την τιμή της μεταβλητής z, πριν της δώσουμε την τιμή 3. Επιπλέον παρατηρούμε ότι η εντολή αντικατάστασης <code>substitute</code>  εξακολουθεί να δουλεύει :\n",
    "</p>"
   ]
  },
  {
   "cell_type": "code",
   "execution_count": 80,
   "metadata": {
    "collapsed": false
   },
   "outputs": [
    {
     "name": "stdout",
     "output_type": "stream",
     "text": [
      "z =  3\n"
     ]
    }
   ],
   "source": [
    "z = 3; print 'z = ', z"
   ]
  },
  {
   "cell_type": "code",
   "execution_count": 81,
   "metadata": {
    "collapsed": false
   },
   "outputs": [
    {
     "name": "stdout",
     "output_type": "stream",
     "text": [
      "[z] [-sqrt(3)]\n"
     ]
    }
   ],
   "source": [
    "print sols[0].keys(), sols[0].values()"
   ]
  },
  {
   "cell_type": "code",
   "execution_count": 82,
   "metadata": {
    "collapsed": false
   },
   "outputs": [
    {
     "name": "stdout",
     "output_type": "stream",
     "text": [
      "0 == 0\n"
     ]
    }
   ],
   "source": [
    "print equ.substitute(sols[0])"
   ]
  },
  {
   "cell_type": "markdown",
   "metadata": {},
   "source": [
    "<p> <font style=\"font-family:Dejavu Serif;FONT-SIZE:15px;LINE-HEIGHT:25px;\"> \n",
    "Δηλαδή, έστω κι αν δεν μπορούμε να χρησιμοποιήσουμε την z ως μια μεταβλητή, η προηγούμενη ιδιότητά της ως λύσης μιας εξίσωσης εξακολουθεί να περιέχεται στην λεξικογραφική λίστα <code>sols</code>. Για να πληροφορηθούμε για την τρέχουσα τιμή που αναφέρεται η μεταβλητή z, εκτελούμε την εντολή </p> "
   ]
  },
  {
   "cell_type": "code",
   "execution_count": 83,
   "metadata": {
    "collapsed": false
   },
   "outputs": [
    {
     "name": "stdout",
     "output_type": "stream",
     "text": [
      "[3]\n"
     ]
    }
   ],
   "source": [
    "print eval(str(sols[0].keys()))"
   ]
  },
  {
   "cell_type": "markdown",
   "metadata": {},
   "source": [
    "### 1.7.2 Υπολογισμός της τιμής μιας έκφρασης\n",
    "\n",
    "<p> <font style=\"font-family:Dejavu Serif;FONT-SIZE:15px;LINE-HEIGHT:25px;\"> \n",
    "Ας υποθέσουμε ότι θέλουμε να βρούμε τις ρίζες μιας πολυωνυμικής εξίσωσης τρίτου βαθμού, όπου οι συντελεστές είναι συμβολικές εκφράσεις. Πριν προχωρήσουμε στην επίλυση του προβλήματος, επαναφέρουμε <strong> όλες </strong> τις μεταβλητές μας στην αρχική τους κατάσταση με την εντολή <code>reset()</code> </p>"
   ]
  },
  {
   "cell_type": "code",
   "execution_count": 84,
   "metadata": {
    "collapsed": false
   },
   "outputs": [
    {
     "name": "stdout",
     "output_type": "stream",
     "text": [
      "[{x: -1/18*(a^2 - 3*b)*(-I*sqrt(3) + 1)/(-1/27*a^3 + 1/6*a*b - 1/2*c + 1/6*sqrt(-1/3*a^2*b^2 + 4/3*b^3 + 2/3*(2*a^3 - 9*a*b)*c + 9*c^2))^(1/3) - 1/2*(-1/27*a^3 + 1/6*a*b - 1/2*c + 1/6*sqrt(-1/3*a^2*b^2 + 4/3*b^3 + 2/3*(2*a^3 - 9*a*b)*c + 9*c^2))^(1/3)*(I*sqrt(3) + 1) - 1/3*a}, {x: -1/18*(a^2 - 3*b)*(I*sqrt(3) + 1)/(-1/27*a^3 + 1/6*a*b - 1/2*c + 1/6*sqrt(-1/3*a^2*b^2 + 4/3*b^3 + 2/3*(2*a^3 - 9*a*b)*c + 9*c^2))^(1/3) - 1/2*(-1/27*a^3 + 1/6*a*b - 1/2*c + 1/6*sqrt(-1/3*a^2*b^2 + 4/3*b^3 + 2/3*(2*a^3 - 9*a*b)*c + 9*c^2))^(1/3)*(-I*sqrt(3) + 1) - 1/3*a}, {x: -1/3*a + 1/9*(a^2 - 3*b)/(-1/27*a^3 + 1/6*a*b - 1/2*c + 1/6*sqrt(-1/3*a^2*b^2 + 4/3*b^3 + 2/3*(2*a^3 - 9*a*b)*c + 9*c^2))^(1/3) + (-1/27*a^3 + 1/6*a*b - 1/2*c + 1/6*sqrt(-1/3*a^2*b^2 + 4/3*b^3 + 2/3*(2*a^3 - 9*a*b)*c + 9*c^2))^(1/3)}]\n"
     ]
    }
   ],
   "source": [
    "reset()\n",
    "var('x, a, b, c')\n",
    "p = x^3 + a*x^2 + b*x + c\n",
    "s = solve(p == 0, x, solution_dict=True)\n",
    "print s"
   ]
  },
  {
   "cell_type": "markdown",
   "metadata": {
    "collapsed": false
   },
   "source": [
    "<p> <font style=\"font-family:Dejavu Serif;FONT-SIZE:15px;LINE-HEIGHT:25px;\"> \n",
    "Με πρώτη ματιά, οι τύποι δείχνουν αρκετά περίπλοκοι. Ας ελέγξουμε λοιπόν ότι το αποτέλεσμα που μας έδωσε το Sage είναι πράγματι σωστό, θέτοντας συγκεκριμένες απλές τιμές στις παραμέτρους a,b,c, για παράδειγμα, a=1, b=2, c=3. <br>\n",
    "Υπενθυμίζουμε ότι η Python μας επιτρέπει να θέτουμε τιμές ταυτόχρονα ως εξής:\n",
    " </p>"
   ]
  },
  {
   "cell_type": "code",
   "execution_count": 85,
   "metadata": {
    "collapsed": true
   },
   "outputs": [],
   "source": [
    "(a,b,c) = (1,2,3)"
   ]
  },
  {
   "cell_type": "code",
   "execution_count": 86,
   "metadata": {
    "collapsed": false
   },
   "outputs": [
    {
     "name": "stdout",
     "output_type": "stream",
     "text": [
      "1 2 3\n"
     ]
    }
   ],
   "source": [
    "print a, b, c"
   ]
  },
  {
   "cell_type": "code",
   "execution_count": 87,
   "metadata": {
    "collapsed": false
   },
   "outputs": [
    {
     "name": "stdout",
     "output_type": "stream",
     "text": [
      "a*x^2 + x^3 + b*x + c\n"
     ]
    }
   ],
   "source": [
    "print p"
   ]
  },
  {
   "cell_type": "code",
   "execution_count": 88,
   "metadata": {
    "collapsed": false
   },
   "outputs": [
    {
     "name": "stdout",
     "output_type": "stream",
     "text": [
      "{x: -1/18*(a^2 - 3*b)*(-I*sqrt(3) + 1)/(-1/27*a^3 + 1/6*a*b - 1/2*c + 1/6*sqrt(-1/3*a^2*b^2 + 4/3*b^3 + 2/3*(2*a^3 - 9*a*b)*c + 9*c^2))^(1/3) - 1/2*(-1/27*a^3 + 1/6*a*b - 1/2*c + 1/6*sqrt(-1/3*a^2*b^2 + 4/3*b^3 + 2/3*(2*a^3 - 9*a*b)*c + 9*c^2))^(1/3)*(I*sqrt(3) + 1) - 1/3*a}\n"
     ]
    }
   ],
   "source": [
    "print s[0]"
   ]
  },
  {
   "cell_type": "markdown",
   "metadata": {},
   "source": [
    "<p> <font style=\"font-family:Dejavu Serif;FONT-SIZE:15px;LINE-HEIGHT:25px;\"> \n",
    "Όπως παρατηρούμε το αποτέλεσμα δεν είναι αυτό που αναμέναμε. Τόσο το πολυώνυμο p, όσο και οι λύσεις εξακολουθούν να είναι σε συμβολική μορφή. Ίσως κάποιος να δοκίμαζε να ξανατρέξει τον ορισμό του πολυωνύμου p με τις τρέχοντες τιμές των παραμέτρων. Όμως αυτό δεν είναι και τόσο ικανοποιητική λύση, αφού θα μπορούσαμε να έχουμε ορίσει ένα πλήθος από συμβολικές εκφράσεις που να περιείχαν τα a, b, c, οι οποίες μάλιστα να είναι διάσπαρτες στο notebook. </br>\n",
    "\n",
    "Πως λοιπόν να αναγκάσουμε το πολυώνυμο και τις λύσεις να υπολογισθούν με τις συγκεκριμένες τιμές των a,b,c; <br>\n",
    "Μια συμβολική έκφραση υπολογίζεται για συγκεκριμένες τιμές των συμβολικών μεταβλητών της, με την παρακάτω εντολή </p>"
   ]
  },
  {
   "cell_type": "code",
   "execution_count": 89,
   "metadata": {
    "collapsed": false
   },
   "outputs": [
    {
     "name": "stdout",
     "output_type": "stream",
     "text": [
      "x^3 + x^2 + 2*x + 3\n"
     ]
    }
   ],
   "source": [
    "print p(x=x, a=a, b=b, c=c)"
   ]
  },
  {
   "cell_type": "code",
   "execution_count": 90,
   "metadata": {
    "collapsed": false
   },
   "outputs": [
    {
     "name": "stdout",
     "output_type": "stream",
     "text": [
      "-1/2*(I*sqrt(3) + 1)*(5/6*sqrt(7/3) - 65/54)^(1/3) + 5/18*(-I*sqrt(3) + 1)/(5/6*sqrt(7/3) - 65/54)^(1/3) - 1/3\n"
     ]
    }
   ],
   "source": [
    "s0 = s[0][x](x=x, a=a, b=b, c=c); print s0"
   ]
  },
  {
   "cell_type": "markdown",
   "metadata": {},
   "source": [
    "<p> <font style=\"font-family:Dejavu Serif;FONT-SIZE:15px;LINE-HEIGHT:25px;\"> \n",
    "Τώρα μάλιστα! Μπορούμε να δούμε και το πολυώνυμο και μια ρίζα του, υπολογισμένα για την συγκεκριμένη επιλογή των παραμέτρων. Επιπλέον, τώρα υπάρχει τρόπος και να υπολογίσουμε το πολυώνυμο p, όπου x να είναι η τιμή μιας ρίζας!!\n",
    "</p>"
   ]
  },
  {
   "cell_type": "code",
   "execution_count": 91,
   "metadata": {
    "collapsed": false
   },
   "outputs": [
    {
     "name": "stdout",
     "output_type": "stream",
     "text": [
      "-1/5832*(9*(I*sqrt(3) + 1)*(5/6*sqrt(7/3) - 65/54)^(1/3) - 5*(-I*sqrt(3) + 1)/(5/6*sqrt(7/3) - 65/54)^(1/3) + 6)^3 + 1/324*(9*(I*sqrt(3) + 1)*(5/6*sqrt(7/3) - 65/54)^(1/3) - 5*(-I*sqrt(3) + 1)/(5/6*sqrt(7/3) - 65/54)^(1/3) + 6)^2 - (I*sqrt(3) + 1)*(5/6*sqrt(7/3) - 65/54)^(1/3) + 5/9*(-I*sqrt(3) + 1)/(5/6*sqrt(7/3) - 65/54)^(1/3) + 7/3\n"
     ]
    }
   ],
   "source": [
    "print p(x=s0,a=a,b=b,c=c)"
   ]
  },
  {
   "cell_type": "markdown",
   "metadata": {},
   "source": [
    "<p> <font style=\"font-family:Dejavu Serif;FONT-SIZE:15px;LINE-HEIGHT:25px;\"> \n",
    "Για να ελέγξουμε αν ο αριθμός αυτός είναι πράγματι μηδέν, βρίσκουμε την αριθμητική του τιμή"
   ]
  },
  {
   "cell_type": "code",
   "execution_count": 92,
   "metadata": {
    "collapsed": false
   },
   "outputs": [
    {
     "name": "stdout",
     "output_type": "stream",
     "text": [
      "1.88737914186277e-15 - 4.44089209850063e-16*I\n"
     ]
    }
   ],
   "source": [
    "print n(p(x=s0,a=a,b=b,c=c))"
   ]
  },
  {
   "cell_type": "markdown",
   "metadata": {},
   "source": [
    "<p> <font style=\"font-family:Dejavu Serif;FONT-SIZE:15px;LINE-HEIGHT:25px;\"> \n",
    "Παρατηρήστε ότι τόσο το πραγματικό όσο και το φαναταστικό μέρος του προηγούμενου μιγαδικού αριθμού είναι πάρα πολύ μικροί αριθμοί, της τάξης $10^{-15}$ και $10^{-16}$, αντίστοιχα, το οποίο σημαίνει ότι είναι κοντά στο μηδέν με ακρίβεια που εκτελεί ο υπολογιστής μας.\n",
    "</p>"
   ]
  },
  {
   "cell_type": "markdown",
   "metadata": {},
   "source": [
    "### 1.7.3 Αναφορικές και κοινόχρηστες τιμές\n",
    "\n",
    "<p> <font style=\"font-family:Dejavu Serif;FONT-SIZE:15px;LINE-HEIGHT:25px;\"> \n",
    "Επαναφέρουμε όλες τις τιμές μας στην αρχική τους κατάσταση με την συνάρτηση <code>reset()</code>, και τρέχουμε </p>"
   ]
  },
  {
   "cell_type": "code",
   "execution_count": 93,
   "metadata": {
    "collapsed": false
   },
   "outputs": [
    {
     "name": "stdout",
     "output_type": "stream",
     "text": [
      "y z 3\n"
     ]
    }
   ],
   "source": [
    "reset()\n",
    "var('x, y, z')\n",
    "x=y\n",
    "y=z\n",
    "z=3\n",
    "print x, y, z"
   ]
  },
  {
   "cell_type": "markdown",
   "metadata": {},
   "source": [
    "<p> <font style=\"font-family:Dejavu Serif;FONT-SIZE:15px;LINE-HEIGHT:25px;\"> \n",
    "δηλαδή η x αναφέρεται στην y, η y αναφέρεται στην z, και η z αναφέρεται στο 3. Μπορούμε να ανιχνεύσουμε τις αναφορικές αυτές τιμές με την εντολή <code>eval()</code>. Η εντολή αυτή δέχεται ως όρισμα ένα <code>string</code>. Με διαδοχικές χρήσεις της <code>eval()</code> μπορούμε να φτάσουμε από το x μέχρι το 3</p>"
   ]
  },
  {
   "cell_type": "code",
   "execution_count": 94,
   "metadata": {
    "collapsed": false
   },
   "outputs": [
    {
     "name": "stdout",
     "output_type": "stream",
     "text": [
      "z\n",
      "3\n",
      "3\n"
     ]
    }
   ],
   "source": [
    "ex = eval(str(x)); print ex\n",
    "ey = eval(str(ex)); print ey\n",
    "print eval(str(eval(str(x))))"
   ]
  },
  {
   "cell_type": "markdown",
   "metadata": {},
   "source": [
    "<p> <font style=\"font-family:Dejavu Serif;FONT-SIZE:15px;LINE-HEIGHT:25px;\"> \n",
    "Η πρώτη χρήση της <code>eval()</code> μας δίνει z, ενώ η δεύτερη και η τρίτη εφαρμογή της μας δίνει 3. Παρατηρήστε ότι η σειρά που γίνεται η ανάθεση τιμών σε μεταβλητές παρουσιάζει διαφοροποιήσεις. </p>"
   ]
  },
  {
   "cell_type": "code",
   "execution_count": 95,
   "metadata": {
    "collapsed": false
   },
   "outputs": [
    {
     "name": "stdout",
     "output_type": "stream",
     "text": [
      "3 3 3\n"
     ]
    }
   ],
   "source": [
    "reset()\n",
    "var('x, y, z')\n",
    "z=3\n",
    "y=z\n",
    "x=y\n",
    "print x, y, z"
   ]
  },
  {
   "cell_type": "markdown",
   "metadata": {},
   "source": [
    "<p> <font style=\"font-family:Dejavu Serif;FONT-SIZE:15px;LINE-HEIGHT:25px;\"> \n",
    "Επειδή ανατίθεται μια συγκεκριμένη τιμή στο δεξί μέρος μιας έκφρασης, όλες οι μεταβλητές αποκτούν την ίδια τιμή 3. Για να αποτρέψουμε την ανάθεση τιμών στο δεξί μέρος χρησιμοποιούμε εισαγωγικά.  </p>"
   ]
  },
  {
   "cell_type": "code",
   "execution_count": 96,
   "metadata": {
    "collapsed": false
   },
   "outputs": [
    {
     "name": "stdout",
     "output_type": "stream",
     "text": [
      "y z 3\n"
     ]
    }
   ],
   "source": [
    "reset()\n",
    "var('x, y, z')\n",
    "z= 3\n",
    "y= 'z'\n",
    "x= 'y'\n",
    "print x, y, z"
   ]
  },
  {
   "cell_type": "markdown",
   "metadata": {},
   "source": [
    "## 1.8 Τύποι δεδομένων και δομές\n",
    "<p> <font style=\"font-family:Dejavu Serif;FONT-SIZE:15px;LINE-HEIGHT:25px;\"> \n",
    "Κάθε αντικείμενο στο Sage έχει έναν <strong>τύπο</strong>. Ο τύπος ενός αντικειμένου καθορίζει τι είδους χειρισμοί μπορούν να εφαρμοσθούν στο αντικείμενο. Οι κύριοι τύποι δεδομένων στην Python είναι οι εξής: <strong><code>lists</code></strong>, <strong><code>dictionaries</code></strong> και <strong><code>tuples</code></strong>. </p> <br>\n",
    "\n",
    "Οι κύριοι τύποι αριθμών στο Sage είναι οι ακέραιοι, οι ρητοί, οι πραγματικοί κι οι μιγαδικοί και έχουν τις συντομεύσεις <code>ZZ, QQ, RR </code> και <code>CC</code>, αντίστοιχα. Στην παράγραφο αυτή θα δούμε πως μπορούμε να περιορίζουμε τον τύπο ενός αριθμού, και πως μπορούμε να διαλέξουμε έναν τυχαίο αριθμό το οποίο είναι αρκετά χρήσιμο. Επίσης θα δούμε πως μπορούμε να επιλέξουμε κάποιο από τα δυο μέλη μιας εξίσωσης. \n"
   ]
  },
  {
   "cell_type": "markdown",
   "metadata": {},
   "source": [
    "### 1.8.1 Περιορισμός στους βασικούς τύπους αριθμών\n",
    "\n",
    "<p> <font style=\"font-family:Dejavu Serif;FONT-SIZE:15px;LINE-HEIGHT:25px;\"> \n",
    "Οι κύριοι τύποι αριθμών στο Sage είναι οι ακέραιοι, οι ρητοί, οι πραγματικοί κι οι μιγαδικοί και έχουν τις συντομεύσεις <code>ZZ, QQ, RR </code> και <code>CC</code>, αντίστοιχα. "
   ]
  },
  {
   "cell_type": "code",
   "execution_count": 97,
   "metadata": {
    "collapsed": false
   },
   "outputs": [
    {
     "name": "stdout",
     "output_type": "stream",
     "text": [
      "Integer Ring\n"
     ]
    }
   ],
   "source": [
    "print ZZ"
   ]
  },
  {
   "cell_type": "markdown",
   "metadata": {},
   "source": [
    "<p> <font style=\"font-family:Dejavu Serif;FONT-SIZE:15px;LINE-HEIGHT:25px;\"> \n",
    "Μπορούμε να μετατρέψουμε ένα string από 16αδική ή 8δική μορφή, σε δεκαδική μορφή </p> "
   ]
  },
  {
   "cell_type": "code",
   "execution_count": 119,
   "metadata": {
    "collapsed": false
   },
   "outputs": [
    {
     "name": "stdout",
     "output_type": "stream",
     "text": [
      "16\n",
      "8\n"
     ]
    }
   ],
   "source": [
    "a = ZZ('0x10'); print a\n",
    "b = ZZ('010'); print b"
   ]
  },
  {
   "cell_type": "markdown",
   "metadata": {},
   "source": [
    "<p> <font style=\"font-family:Dejavu Serif;FONT-SIZE:15px;LINE-HEIGHT:25px;\"> \n",
    "Δοσμένης μιας λίστας συντελεστών, μπορούμε να βρούμε την τιμή οποιουδήποτε αριθμού, σε κάθε βάση. </p>"
   ]
  },
  {
   "cell_type": "code",
   "execution_count": 99,
   "metadata": {
    "collapsed": false
   },
   "outputs": [
    {
     "name": "stdout",
     "output_type": "stream",
     "text": [
      "9876543210\n",
      "250959\n"
     ]
    }
   ],
   "source": [
    "c = ZZ(range(10), base=10); print c\n",
    "d = ZZ(range(10), base=3); print d"
   ]
  },
  {
   "cell_type": "markdown",
   "metadata": {
    "collapsed": false
   },
   "source": [
    "<p> <font style=\"font-family:Dejavu Serif;FONT-SIZE:15px;LINE-HEIGHT:25px;\"> \n",
    "Ο αριθμός c παίρνει την λίστα των αριθμών απο το 0 μέχρι το 9 για να μας δώσει στην \n",
    "γνωστή μας δεκαδική μορφή τον αριθμό\n",
    "$$ 9876543210 = 0\\cdot 10^0 + 1\\cdot 10^1 + 2\\cdot 10^2 + \\ldots  +  9\\cdot 10^9\\,,$$\n",
    "ενώ ο αριθμός d χρησιμοποιεί την ίδια λίστα συντελεστών για να μας δώσει στην βάση του 3 τον αριθμό\n",
    "$$ 250959 = 0\\cdot 3^0 + 1\\cdot 3^1 + 2\\cdot 3^2 + \\ldots  +  9\\cdot 3^9$$\n",
    "Ένας γρήγορος τρόπος για να έχουμε την αναπαράσταση ενός αριθμού με κινητή υποδιαστολή (floating-point) από έναν ρητό αριθμό είναι να περιοριστούμε στο σύνολο <code>QQ</code>, δηλαδή το σώμα των ρητών αριθμών\n",
    "</p>"
   ]
  },
  {
   "cell_type": "code",
   "execution_count": 100,
   "metadata": {
    "collapsed": false
   },
   "outputs": [
    {
     "name": "stdout",
     "output_type": "stream",
     "text": [
      "Rational Field\n",
      "21053343141/6701487259\n"
     ]
    }
   ],
   "source": [
    "print QQ\n",
    "x = numerical_approx(pi, digits=20)\n",
    "y = QQ(x); print y"
   ]
  },
  {
   "cell_type": "markdown",
   "metadata": {},
   "source": [
    "<p> <font style=\"font-family:Dejavu Serif;FONT-SIZE:15px;LINE-HEIGHT:25px;\"> \n",
    "Δεν μπορούμε άμεσα να περιoρίσουμε το pi σε έναν ρητό, γιατί\n",
    "</p>"
   ]
  },
  {
   "cell_type": "code",
   "execution_count": 101,
   "metadata": {
    "collapsed": false
   },
   "outputs": [
    {
     "name": "stdout",
     "output_type": "stream",
     "text": [
      "3.14159265358979\n",
      "245850922/78256779\n"
     ]
    }
   ],
   "source": [
    "z = RR(y); print z\n",
    "print QQ(z)"
   ]
  },
  {
   "cell_type": "markdown",
   "metadata": {},
   "source": [
    "<p> <font style=\"font-family:Dejavu Serif;FONT-SIZE:15px;LINE-HEIGHT:25px;\"> \n",
    "Παρατηρήστε την διαφορά μεταξύ της τιμής 21053343141/6701487259 του y, και της τιμής 245850922/78256779 του <code>QQ(RR(y))</code>. Η διαφοροποίηση οφείλεται στο ότι η ακρίβεια του <code>RR</code> είναι η ίδια με αυτή των 53 bits (αποθηκεύονται 52) ενός επεξεργαστή  που εκτελεί πράξεις διπλής κινητής υποδιαστολής.\n",
    "</p>"
   ]
  },
  {
   "cell_type": "code",
   "execution_count": 102,
   "metadata": {
    "collapsed": false
   },
   "outputs": [
    {
     "name": "stdout",
     "output_type": "stream",
     "text": [
      "Real Field with 53 bits of precision\n",
      "Real Double Field\n",
      "False\n"
     ]
    }
   ],
   "source": [
    "print RR\n",
    "print RDF\n",
    "print RR == RDF"
   ]
  },
  {
   "cell_type": "markdown",
   "metadata": {},
   "source": [
    "<p> <font style=\"font-family:Dejavu Serif;FONT-SIZE:15px;LINE-HEIGHT:25px;\"> \n",
    "Αν και το <code>RR</code> έχει ακρίβεια 53 bits, η τελευταία δεν είναι η ίδια με αυτή του <code>RealDoubleField</code> (<code>RDF</code>). Η διαφορά αυτή γίνεται αντιληπτή γεννώντας\n",
    "έναν τυχαίο αριθμό στα σώματα <code>RR</code> και <code>RDF</code> αντίστοιχα\n",
    "</p>"
   ]
  },
  {
   "cell_type": "code",
   "execution_count": 103,
   "metadata": {
    "collapsed": false
   },
   "outputs": [
    {
     "name": "stdout",
     "output_type": "stream",
     "text": [
      "-0.279272246012211 <type 'sage.rings.real_mpfr.RealNumber'>\n",
      "-0.100211279974 <type 'sage.rings.real_double.RealDoubleElement'>\n"
     ]
    }
   ],
   "source": [
    "x = RR.random_element(); print x, type(x)\n",
    "y = RDF.random_element(); print y, type(y)"
   ]
  },
  {
   "cell_type": "markdown",
   "metadata": {},
   "source": [
    "<p> <font style=\"font-family:Dejavu Serif;FONT-SIZE:15px;LINE-HEIGHT:25px;\"> \n",
    "Ο τύπος του  x είναι <code>sage.rings.real_mpfr.RealNumber</code>, ενώ του y είναι\n",
    "<code>sage.rings.real_double.RealDoubleElement</code>. Η ίδια διαφορά διατηρείται και για τους μιγαδικούς \n",
    "</p>"
   ]
  },
  {
   "cell_type": "code",
   "execution_count": 104,
   "metadata": {
    "collapsed": false
   },
   "outputs": [
    {
     "name": "stdout",
     "output_type": "stream",
     "text": [
      "-0.641974472817350 - 0.155632078593336*I <type 'sage.rings.complex_number.ComplexNumber'>\n",
      "-0.871544587945 + 0.950657873775*I <type 'sage.rings.complex_double.ComplexDoubleElement'>\n"
     ]
    }
   ],
   "source": [
    "x = CC.random_element(); print x, type(x)\n",
    "y = CDF.random_element(); print y, type(y)"
   ]
  },
  {
   "cell_type": "markdown",
   "metadata": {},
   "source": [
    "### 1.8.2 Μέλη εξισώσεων\n",
    "\n",
    "<p> <font style=\"font-family:Dejavu Serif;FONT-SIZE:15px;LINE-HEIGHT:25px;\"> \n",
    "Συχνά δουλεύουμε με εξισώσεις </p>"
   ]
  },
  {
   "cell_type": "code",
   "execution_count": 105,
   "metadata": {
    "collapsed": false
   },
   "outputs": [
    {
     "name": "stdout",
     "output_type": "stream",
     "text": [
      "<type 'sage.symbolic.expression.Expression'>\n"
     ]
    }
   ],
   "source": [
    "reset()\n",
    "eqn = x^2 + 3*x + 2 == 0\n",
    "print type(eqn)"
   ]
  },
  {
   "cell_type": "markdown",
   "metadata": {},
   "source": [
    "<p> <font style=\"font-family:Dejavu Serif;FONT-SIZE:15px;LINE-HEIGHT:25px;\"> \n",
    "Ο τύπος της εξίσωσης είναι <code>sage.symbolic.expression.Expression</code>, δηλαδή μια συμβολική έκφραση. Η έκφραση που δηλώσαμε με <code>eqn</code> έχει έναν χειριστή (<code>operator</code>)\n",
    "</p>"
   ]
  },
  {
   "cell_type": "code",
   "execution_count": 106,
   "metadata": {
    "collapsed": false
   },
   "outputs": [
    {
     "name": "stdout",
     "output_type": "stream",
     "text": [
      "<built-in function eq>\n"
     ]
    }
   ],
   "source": [
    "print eqn.operator()"
   ]
  },
  {
   "cell_type": "markdown",
   "metadata": {},
   "source": [
    "<p> <font style=\"font-family:Dejavu Serif;FONT-SIZE:15px;LINE-HEIGHT:25px;\"> \n",
    "Στο Sage επιλέγουμε το αριστερό και το δεξί μέλος της εξίσωσης, αντίστοιχα, ως εξής:\n",
    "</p>"
   ]
  },
  {
   "cell_type": "code",
   "execution_count": 107,
   "metadata": {
    "collapsed": false
   },
   "outputs": [
    {
     "name": "stdout",
     "output_type": "stream",
     "text": [
      "x^2 + 3*x + 2\n"
     ]
    }
   ],
   "source": [
    "print eqn.lhs()"
   ]
  },
  {
   "cell_type": "code",
   "execution_count": 108,
   "metadata": {
    "collapsed": false
   },
   "outputs": [
    {
     "name": "stdout",
     "output_type": "stream",
     "text": [
      "0\n"
     ]
    }
   ],
   "source": [
    "print eqn.rhs()"
   ]
  },
  {
   "cell_type": "markdown",
   "metadata": {},
   "source": [
    "<p> <font style=\"font-family:Dejavu Serif;FONT-SIZE:15px;LINE-HEIGHT:25px;\"> \n",
    "Εναλλακτικές εντολές της <code>lhs()</code>,  είναι η <code>left()</code> και \n",
    "<code>left_hand_side()</code>, ενώ της εντολής <code>rhs()</code>, είναι οι <code>right()</code> και <code>right_hand_side()</code>, αντίστοιχα.\n",
    "</p>"
   ]
  },
  {
   "cell_type": "markdown",
   "metadata": {},
   "source": [
    "### 1.8.3 Αποθήκευση δεδομένων με συναρτήσεις\n",
    "\n",
    "<p> <font style=\"font-family:Dejavu Serif;FONT-SIZE:15px;LINE-HEIGHT:25px;\"> \n",
    "Το επόμενο παράδειγμα είναι από το βιβλίο του πρωτεργάτη του Sage, William Stein, με τίτλο \n",
    "<em>Sage for Power Users</em>.\n",
    "\n",
    "Στο Sage μπορούμε να αποθηκεύουμε έμμεσες αναφορές για συμβολικά αντικείμενα χρησιμοποιώντας συναρτήσεις (<code>functions</code>). Για παράδειγμα:\n",
    "</p>"
   ]
  },
  {
   "cell_type": "code",
   "execution_count": 109,
   "metadata": {
    "collapsed": true
   },
   "outputs": [],
   "source": [
    "def our_append(item, L=[]):\n",
    "    L.append(item)\n",
    "    print L"
   ]
  },
  {
   "cell_type": "code",
   "execution_count": 110,
   "metadata": {
    "collapsed": false
   },
   "outputs": [
    {
     "name": "stdout",
     "output_type": "stream",
     "text": [
      "[1/3]\n",
      "[1/3, '1/3']\n",
      "[1/3, '1/3', 0.333333333333333]\n"
     ]
    }
   ],
   "source": [
    "our_append(1/3)\n",
    "our_append('1/3')\n",
    "our_append(1.0/3)"
   ]
  },
  {
   "cell_type": "markdown",
   "metadata": {},
   "source": [
    "<p> <font style=\"font-family:Dejavu Serif;FONT-SIZE:15px;LINE-HEIGHT:25px;\"> \n",
    "Για να ανιχνεύσουμε τι συμβαίνει με την συνάρτηση <code>our_append</code>) που ορίσαμε, ας την τροποποιήσουμε ελαφρώς, με την <code>our_append2</code>), στην οποία \n",
    "τυπώνουμε επιπλέον την ταυτότητα του L \n",
    "</p>"
   ]
  },
  {
   "cell_type": "code",
   "execution_count": 111,
   "metadata": {
    "collapsed": true
   },
   "outputs": [],
   "source": [
    "def our_append2(item, L=[]):\n",
    "    L.append(item)\n",
    "    print L, id(L)\n",
    "    return id(L)"
   ]
  },
  {
   "cell_type": "code",
   "execution_count": 112,
   "metadata": {
    "collapsed": false
   },
   "outputs": [
    {
     "name": "stdout",
     "output_type": "stream",
     "text": [
      "[1/3] 140310394115928\n",
      "[1/3, '1/3'] 140310394115928\n",
      "[1/3, '1/3', 0.333333333333333] 140310394115928\n"
     ]
    }
   ],
   "source": [
    "idL = our_append2(1/3)\n",
    "idL = our_append2('1/3')\n",
    "idL = our_append2(1.0/3)"
   ]
  },
  {
   "cell_type": "markdown",
   "metadata": {},
   "source": [
    "<p> <font style=\"font-family:Dejavu Serif;FONT-SIZE:15px;LINE-HEIGHT:25px;\"> \n",
    "Την πρώτη φορά που καλέσαμε την συνάρτηση <code>our_append2</code> δημιουργήθηκε μια άδεια λίστα L = [ ], η οποία τοποθετήθηκε κάπου στην μνήμη. Κάθε φορά που καλείται η συνάρτηση με κάποιο όρισμα, το Sage ανατρέχει στην L, στην ίδια διεύθυνση στην μνήμη. Παρατηρήστε ότι η L δεν υπάρχει έξω από την συνάρτηση!\n",
    "</p>"
   ]
  },
  {
   "cell_type": "code",
   "execution_count": 113,
   "metadata": {
    "collapsed": false
   },
   "outputs": [
    {
     "ename": "NameError",
     "evalue": "name 'L' is not defined",
     "output_type": "error",
     "traceback": [
      "\u001b[0;31m---------------------------------------------------------------------------\u001b[0m",
      "\u001b[0;31mNameError\u001b[0m                                 Traceback (most recent call last)",
      "\u001b[0;32m/home/tasos/sage-7.5.1/local/lib/python2.7/site-packages/sage/all_cmdline.pyc\u001b[0m in \u001b[0;36m<module>\u001b[0;34m()\u001b[0m\n\u001b[0;32m----> 1\u001b[0;31m \u001b[0;32mprint\u001b[0m \u001b[0mL\u001b[0m\u001b[0;34m\u001b[0m\u001b[0m\n\u001b[0m",
      "\u001b[0;31mNameError\u001b[0m: name 'L' is not defined"
     ]
    }
   ],
   "source": [
    "print L"
   ]
  },
  {
   "cell_type": "markdown",
   "metadata": {
    "collapsed": true
   },
   "source": [
    "<p> <font style=\"font-family:Dejavu Serif;FONT-SIZE:15px;LINE-HEIGHT:25px;\"> \n",
    "Με την βιβλιοθήκη <code>ctypes</code> μπορούμε να ανακτούμε την διεύθυνση στην οποία είναι τοποθετημένο ένα αντικείμενο\n",
    "</p>"
   ]
  },
  {
   "cell_type": "code",
   "execution_count": 114,
   "metadata": {
    "collapsed": false
   },
   "outputs": [
    {
     "name": "stdout",
     "output_type": "stream",
     "text": [
      "[1/3, '1/3', 0.333333333333333, 0] 140310394115928\n",
      "[1/3, '1/3', 0.333333333333333, 0]\n"
     ]
    }
   ],
   "source": [
    "id = our_append2(0)\n",
    "import ctypes\n",
    "print ctypes.cast(idL, ctypes.py_object).value"
   ]
  },
  {
   "cell_type": "markdown",
   "metadata": {},
   "source": [
    "### 1.8.3 Δέντρα συμβολικών εκφράσεων\n",
    "\n",
    "<p> <font style=\"font-family:Dejavu Serif;FONT-SIZE:15px;LINE-HEIGHT:25px;\"> \n",
    "Σε αυτή την παράγραφο θα δούμε πως είναι η εσωτερική δομή εκφράσεων στο Sage σε μεγαλύτερο βάθος\n",
    "</p>"
   ]
  },
  {
   "cell_type": "code",
   "execution_count": 115,
   "metadata": {
    "collapsed": false
   },
   "outputs": [
    {
     "name": "stdout",
     "output_type": "stream",
     "text": [
      "add(v_0, v_1)\n"
     ]
    }
   ],
   "source": [
    "from sage.ext.fast_callable import ExpressionTreeBuilder\n",
    "etb = ExpressionTreeBuilder(vars=['x','y'])\n",
    "x = etb.var('x')\n",
    "y = etb.var('y')\n",
    "print x+y"
   ]
  },
  {
   "cell_type": "code",
   "execution_count": 116,
   "metadata": {
    "collapsed": false
   },
   "outputs": [
    {
     "name": "stdout",
     "output_type": "stream",
     "text": [
      "sub(v_0, v_1)\n",
      "mul(v_0, v_1)\n",
      "div(v_0, v_1)\n",
      "pow(v_0, v_1)\n"
     ]
    }
   ],
   "source": [
    "print x-y\n",
    "print x*y\n",
    "print x / y\n",
    "print x^y"
   ]
  },
  {
   "cell_type": "markdown",
   "metadata": {},
   "source": [
    "<p> <font style=\"font-family:Dejavu Serif;FONT-SIZE:15px;LINE-HEIGHT:25px;\"> \n",
    "Επιβάλλαμε στις μεταβλητές x,y να αλλάξουν τύπο και να γίνουν <code>fast_callable</code> \n",
    "</p>"
   ]
  },
  {
   "cell_type": "code",
   "execution_count": 117,
   "metadata": {
    "collapsed": false
   },
   "outputs": [
    {
     "name": "stdout",
     "output_type": "stream",
     "text": [
      "<type 'sage.ext.fast_callable.ExpressionCall'>\n"
     ]
    }
   ],
   "source": [
    "s = x + y; print type(s)"
   ]
  },
  {
   "cell_type": "code",
   "execution_count": 118,
   "metadata": {
    "collapsed": false
   },
   "outputs": [
    {
     "name": "stdout",
     "output_type": "stream",
     "text": [
      "add(sub(add(ipow(v_0, 3), mul(mul(4, v_0), ipow(v_1, 2))), mul(7, v_1)), 2)\n"
     ]
    }
   ],
   "source": [
    "p = x^3 + 4*x*y^2 - 7*y + 2\n",
    "print p"
   ]
  },
  {
   "cell_type": "markdown",
   "metadata": {},
   "source": [
    "<p> <font style=\"font-family:Dejavu Serif;FONT-SIZE:15px;LINE-HEIGHT:25px;\"> \n",
    "Με βάση την προηγούμενη έκφραση του πολυωνύμου p σε δυο μεταβλητές x,y, μπορούμε να φτιάξουμε το παρακάτω δέντρο.   \n",
    "</p>"
   ]
  },
  {
   "cell_type": "markdown",
   "metadata": {},
   "source": [
    "<div class=\"highlight-default\"><div class=\"highlight\"><pre><span></span><span class=\"n\">add</span>\n",
    " <span class=\"o\">|</span>\n",
    " <span class=\"o\">+--</span> <span class=\"n\">sub</span>\n",
    " <span class=\"o\">|</span>    <span class=\"o\">|</span>\n",
    " <span class=\"o\">|</span>    <span class=\"o\">+--</span> <span class=\"n\">add</span>\n",
    " <span class=\"o\">|</span>    <span class=\"o\">|</span>    <span class=\"o\">|</span>\n",
    " <span class=\"o\">|</span>    <span class=\"o\">|</span>    <span class=\"o\">+--</span> <span class=\"n\">ipow</span>\n",
    " <span class=\"o\">|</span>    <span class=\"o\">|</span>    <span class=\"o\">|</span>    <span class=\"o\">|</span>\n",
    " <span class=\"o\">|</span>    <span class=\"o\">|</span>    <span class=\"o\">|</span>    <span class=\"o\">+--</span> <span class=\"n\">v_0</span>\n",
    " <span class=\"o\">|</span>    <span class=\"o\">|</span>    <span class=\"o\">|</span>    <span class=\"o\">|</span>\n",
    " <span class=\"o\">|</span>    <span class=\"o\">|</span>    <span class=\"o\">|</span>    <span class=\"o\">+--</span> <span class=\"mi\">3</span>\n",
    " <span class=\"o\">|</span>    <span class=\"o\">|</span>    <span class=\"o\">|</span>\n",
    " <span class=\"o\">|</span>    <span class=\"o\">|</span>    <span class=\"o\">+--</span> <span class=\"n\">mul</span>\n",
    " <span class=\"o\">|</span>    <span class=\"o\">|</span>         <span class=\"o\">|</span>\n",
    " <span class=\"o\">|</span>    <span class=\"o\">|</span>         <span class=\"o\">+--</span> <span class=\"n\">mul</span>\n",
    " <span class=\"o\">|</span>    <span class=\"o\">|</span>         <span class=\"o\">|</span>    <span class=\"o\">|</span>\n",
    " <span class=\"o\">|</span>    <span class=\"o\">|</span>         <span class=\"o\">|</span>    <span class=\"o\">+--</span> <span class=\"mi\">4</span>\n",
    " <span class=\"o\">|</span>    <span class=\"o\">|</span>         <span class=\"o\">|</span>    <span class=\"o\">|</span>\n",
    " <span class=\"o\">|</span>    <span class=\"o\">|</span>         <span class=\"o\">|</span>    <span class=\"o\">+--</span> <span class=\"n\">v_0</span>\n",
    " <span class=\"o\">|</span>    <span class=\"o\">|</span>         <span class=\"o\">|</span>\n",
    " <span class=\"o\">|</span>    <span class=\"o\">|</span>         <span class=\"o\">+--</span> <span class=\"n\">ipow</span>\n",
    " <span class=\"o\">|</span>    <span class=\"o\">|</span>              <span class=\"o\">|</span>\n",
    " <span class=\"o\">|</span>    <span class=\"o\">|</span>              <span class=\"o\">+--</span> <span class=\"n\">v_1</span>\n",
    " <span class=\"o\">|</span>    <span class=\"o\">|</span>              <span class=\"o\">|</span>\n",
    " <span class=\"o\">|</span>    <span class=\"o\">|</span>              <span class=\"o\">+--</span> <span class=\"mi\">2</span>\n",
    " <span class=\"o\">|</span>    <span class=\"o\">|</span>\n",
    " <span class=\"o\">|</span>    <span class=\"o\">+--</span> <span class=\"n\">mul</span>\n",
    " <span class=\"o\">|</span>         <span class=\"o\">|</span>\n",
    " <span class=\"o\">|</span>         <span class=\"o\">+--</span> <span class=\"mi\">7</span>\n",
    " <span class=\"o\">|</span>         <span class=\"o\">|</span>\n",
    " <span class=\"o\">|</span>         <span class=\"o\">+--</span> <span class=\"n\">v_1</span>\n",
    " <span class=\"o\">|</span>\n",
    " <span class=\"o\">+--</span> <span class=\"mi\">2</span>\n",
    "</pre></div>\n",
    "</div>"
   ]
  },
  {
   "cell_type": "code",
   "execution_count": null,
   "metadata": {
    "collapsed": true
   },
   "outputs": [],
   "source": []
  }
 ],
 "metadata": {
  "kernelspec": {
   "display_name": "SageMath 7.5.1",
   "language": "",
   "name": "sagemath"
  },
  "language_info": {
   "codemirror_mode": {
    "name": "ipython",
    "version": 2
   },
   "file_extension": ".py",
   "mimetype": "text/x-python",
   "name": "python",
   "nbconvert_exporter": "python",
   "pygments_lexer": "ipython2",
   "version": "2.7.13"
  }
 },
 "nbformat": 4,
 "nbformat_minor": 0
}
