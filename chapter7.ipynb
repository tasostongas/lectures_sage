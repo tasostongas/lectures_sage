{
 "cells": [
  {
   "cell_type": "markdown",
   "metadata": {
    "deletable": true,
    "editable": true
   },
   "source": [
    "# Σειρές Fourier"
   ]
  },
  {
   "cell_type": "markdown",
   "metadata": {
    "deletable": true,
    "editable": true
   },
   "source": [
    "![ ](fourier100.png)"
   ]
  },
  {
   "cell_type": "markdown",
   "metadata": {
    "deletable": true,
    "editable": true
   },
   "source": [
    "    \n",
    "Λίγο πριν το 1800, ο Γάλλος μαθηματικός/φυσικός/μηχανικός Jean Baptiste Joseph Fourier έκανε μια εκπληκτική ανακάλυψη. Μέσω των ενδελεχών αναλυτικών ερευνών του στις Μερικές Διαφορικές Εξισώσεις που μοντελοποιούν την διάδοση της θερμότητας σε σώματα, ο Fourier οδηγήθηκε στον ισχυρισμό ότι κάθε συνάρτηση μπορεί να παρασταθεί ώς ένα άπειρο άθροισμα από στοιχειώδεις τριγωνομετρικές συναρτήσεις, ημιτόνων και συνημιτόνων.    \n",
    "\n",
    "Για παράδειγμα,  αναλύοντας τον ήχο που παράγεται από ένα πιάνο, βιολί, τρομπέτα ή ένα τύμπανο στις τριγωνομετρικές συνιστώσες του αποκαλύπτονται οι βασικές συχνότητες οι οποίες συνδυάζονται για να παράγουν το ιδιαίτερο ηχόχρωμα του κάθε μουσικού οργάνου. \n",
    "\n",
    "Η ανακάλυψη αυτή του Fourier συγκαταλέγεται πολύ εύκολα στις δέκα σημαντικότερες μαθηματικές εξελίξεις όλων των εποχών, συμπεριλαμβανομένων της ανάλυσης του Newton, και της διαφορικής γεωμετρίας των Gauss και Riemann. Η ανάλυση Fourier αποτελεί πλέον μια ουσιώδη συνιστώσα πολλών σύγχρονων κλάδων τόσο των εφαρμοσμένων όσο και των θεωρητικών μαθηματικών. Αποτελεί ένα ισχυρότατο αναλυτικό εργαλείο για να επιλύσουμε ένα ευρύ φάσμα γραμμικών διαφορικών εξισώσεων στην φυσική, μηχανική, βιολογία, οικονομικά, ή ακόμα και για να \"ακούσουμε\" την κατανομή των πρώτων αριθμών! Η ανάλυση Fourier βρίσκεται στην καρδιά της επεξεργασίας ήχου, φωνής, εικόνας, σεισμικών δεδομένων και ραδιοφωνικής μετάδοσης. Πολλές σύγχρονες τεχνολογίες όπως η τηλεόραση, μουσικά CD και DVD, κινητά τηλέφωνα, κινηματογραφικές ταινίες, γραφικά υπολογιστών, ανάλυση δακτυλογραφικών αποτυπωμάτων κ.α. έχουν τα θεμέλιά τους στην θεωρία του Fourier. Είναι ένα από τα ισχυρότερα όπλα στην φαρέτρα κάθε μαθηματικού, φυσικού, μηχανικού, όπως ακριβώς η ανάλυση και η γραμμική άλγεβρα.\n",
    " "
   ]
  },
  {
   "cell_type": "markdown",
   "metadata": {
    "deletable": true,
    "editable": true
   },
   "source": [
    "##  Τι είναι μια σειρά Fourier"
   ]
  },
  {
   "cell_type": "markdown",
   "metadata": {
    "deletable": true,
    "editable": true
   },
   "source": [
    "    \n",
    "Ας θεωρήσουμε μια συνεχή συνάρτηση $f(x)$ που ορίζεται στο διάστημα $[-\\pi,\\pi]$. Η σειρά Fourier της $f(x)$ ορίζεται από την σχέση  \n",
    "\n",
    "$\\begin{aligned} f(x) \\sim \\frac{a_0}{2} + \\sum_{k=1}^\\infty \\left[\\,\\, a_k \\, \\cos k\\,x + b_k \\, \\sin k\\,x \\,\\,\\right] \\,, \\end{aligned}$\n",
    "\n",
    "όπου το $\\sim$ δηλώνει ότι η συνάρτηση $f(x)$ έχει την αναπαράσταση με τον άπειρο γραμμικό συνδυασμό των ημιτόνων και συνημιτόνων στο δεξί μέλος της παραπάνω σχέσης. Τα $a_k$, $b_k$ ονομάζονται συντελεστές Fourier."
   ]
  },
  {
   "cell_type": "markdown",
   "metadata": {
    "deletable": true,
    "editable": true
   },
   "source": [
    "Όπως ήδη γνωρίζουμε ένα άπειρο άθροισμα, ή καλύτερα σειρά, είναι πολύ πιο ευαίσθητη από μια πεπερασμένη σειρά και συνεπώς μια τέτοια φορμαλιστική κατασκευή απαιτεί μια πολλή προσεχτική μαθηματική ανάλυση. \n",
    "Τα κύρια ερωτήματα που θα μας επιτρέψουν να ξεκλειδώσουμε το πρόβλημα από μαθηματική σκοπιά είναι:\n",
    "\n",
    "+ Πότε μια άπειρη τριγωνομετρική σειρά συγκλίνει? \n",
    "+ Τι είδους συναρτήσεις $f(x)$ μπορούν να παρασταθούν από μια συγκλίνουσα σειρά Fourier? \n",
    "+ Δοσμένης μια τέτοιας συνάρτησης $f(x)$, πως μπορούμε να καθορίσουμε τους συντελεστές Fourier $a_k$, $b_k$;\n",
    "+ Επιτρέπεται να παραγωγίζουμε και να ολοκληρώνουμε σειρές Fourier όρο προς όρο?"
   ]
  },
  {
   "cell_type": "markdown",
   "metadata": {
    "deletable": true,
    "editable": true
   },
   "source": [
    "Από τα παραπάνω ερωτήματα η πρώτη δουλειά που έχουμε να κάνουμε είναι να δούμε αν μπορούμε να βρούμε τους συντελεστές $a_k$, $b_k$, και μετά οτιδήποτε άλλο όπως θέματα σύγκλισης κτλ.\n",
    "\n",
    "Το κλειδί που ξεκλειδώνει το σεντούκι του θησαυρού Fourier είναι η **ορθογωνιότητα**. Δυο διανύσματα $\\mathbf{v}$, $\\mathbf{w}$ στον $\\mathbb{R}^n$ είναι ορθογώνια αν και μόνο αν το  εσωτερικό τους γινόμενο είναι μηδέν $\\mathbf{v}\\cdot\\mathbf{w}=0$. Όπως έχουμε ήδη διαπιστώσει η ορθογωνιότητα, και ειδικότερα οι ορθοκανονικές βάσεις, έχουν πολύ σημαντικές συνέπειες στην γραμμική άλγεβρα, όπως στη προσέγγιση συνεχών συναρτήσεων σε ένα διάστημα.\n",
    "\n",
    "Η αφετηρία είναι να ορίσουμε ένα κατάλληλο εσωτερικό γινόμενο στον απειροδιάστατο χώρο συναρτήσεων σε ένα διάστημα, το οποίο θα παίζει τον ρόλο του εσωτερικού γινομένου στο πεπερασμένο χώρο των οικείων μας διανυσμάτων. Για τις κλασικές σειρές Fourier, χρησιμοποιούμε το $\\mathbf{L}^2$ εσωτερικό γινόμενο\n",
    "\n",
    "$\\begin{aligned} \\langle f , g \\rangle = \\frac{1}{\\pi} \\int_{-\\pi}^{\\pi} f(x)\\,g(x) \\, {\\mathrm{d}} x\\,,\\qquad\\qquad\\qquad (1)\\end{aligned}$\n",
    "\n",
    "στο χώρο $C_{\\mathbb{R}}[-\\pi,\\pi]$ των συνεχών συναρτήσεων με πεδίο ορισμού στο διάστημα $[-\\pi,\\pi]$. Δεν είναι δύσκολο να δείξει κανείς ότι το παραπάνω εσωτερικό γινόμενο ικανοποιεί όλα τα αξιώματα (διγραμμικότητα, συμμετρία, θετικά ορισμένο) ενός εσωτερικού γινομένου στον (απειροδιάστατο) διανυσματικό χώρο  $C_{\\mathbb{R}}[-\\pi,\\pi]$, των πραγματικών συνεχών συναρτήσεων στο διάστημα $[-\\pi,\\pi]$.\n",
    "\n",
    "Η αντίστοιχη νόρμα είναι \n",
    "\n",
    "$\\begin{aligned} \\left\\lVert f \\right\\rVert = \\sqrt{\\langle f,f \\rangle } = \\sqrt{\\frac{1}{\\pi} \\int_{-\\pi}^{\\pi} f(x)^2 \\, {\\mathrm{d}} x\\,}\\,.\\end{aligned}$"
   ]
  },
  {
   "cell_type": "markdown",
   "metadata": {
    "deletable": true,
    "editable": true
   },
   "source": [
    "**Λήμμα 1.** Με το εσωτερικό γινόμενο (1), οι τριγωνομετρικές συναρτήσεις\n",
    "\n",
    "$\\begin{aligned} 1\\,,\\quad \\cos x\\,,\\quad \\sin x \\,,\\quad \\cos 2\\,x \\,, \\quad \\sin 2\\,x \\,,\\ldots \\end{aligned}$\n",
    "\n",
    "ικανοποιούν τις ακόλουθες σχέσεις ορθογωνιότητας\n",
    "\n",
    "$\\begin{aligned}\n",
    "\\begin{array}{ccc} \\langle \\cos k \\,x , \\cos \\ell\\,x \\rangle \\,=\\, \\langle \\sin k \\,x , \\sin \\ell\\,x \\rangle = 0& \\mbox{για}  & k \\neq \\ell \\,,\\\\ \\\\ \\langle \\cos k \\,x , \\sin \\ell\\,x \\rangle = 0\\,, & \\mbox{για κάθε} & k\\,,\\ell \\,,\n",
    "\\\\  \\\\ \\left\\lVert 1 \\right\\rVert = \\sqrt{2}\\,,\\quad \\left\\lVert \\cos k\\,x \\right\\rVert = \\left\\lVert \\sin k\\,x \\right\\rVert = 1\\,, & \\mbox{για} & k\\neq 0\\,,\n",
    "\\end{array} \\end{aligned}$\n",
    "\n",
    "όπου $k,\\ell$ μη αρνητικοί ακέραιοι.  \n",
    "Η απόδειξη είναι καθαρά θέμα πράξεων, οπότε χρησιμοποιούμε το Sage! \n",
    "\n",
    "**Απόδειξη:**"
   ]
  },
  {
   "cell_type": "code",
   "execution_count": 1,
   "metadata": {
    "collapsed": false,
    "deletable": true,
    "editable": true
   },
   "outputs": [],
   "source": [
    "def inner(f,g):\n",
    "    return 1/pi * integrate(f*g,x,-pi,pi)"
   ]
  },
  {
   "cell_type": "code",
   "execution_count": 2,
   "metadata": {
    "collapsed": false,
    "deletable": true,
    "editable": true
   },
   "outputs": [
    {
     "name": "stdout",
     "output_type": "stream",
     "text": [
      "0\n",
      "0\n",
      "0\n"
     ]
    }
   ],
   "source": [
    "var('k l')\n",
    "assume(k,'integer')\n",
    "assume(k>0)\n",
    "assume(l,'integer')\n",
    "assume(l>0)\n",
    "print inner(cos(k*x),cos(l*x))\n",
    "print inner(sin(k*x),sin(l*x))\n",
    "print inner(cos(k*x),sin(l*x))"
   ]
  },
  {
   "cell_type": "code",
   "execution_count": 3,
   "metadata": {
    "collapsed": false,
    "deletable": true,
    "editable": true
   },
   "outputs": [
    {
     "name": "stdout",
     "output_type": "stream",
     "text": [
      "sqrt(2)\n"
     ]
    }
   ],
   "source": [
    "norm_1 = sqrt(inner(1,1)) ; print norm_1"
   ]
  },
  {
   "cell_type": "code",
   "execution_count": 4,
   "metadata": {
    "collapsed": false,
    "deletable": true,
    "editable": true
   },
   "outputs": [
    {
     "name": "stdout",
     "output_type": "stream",
     "text": [
      "1\n"
     ]
    }
   ],
   "source": [
    "norm_cos = sqrt(inner(cos(k*x),cos(k*x))) ; print norm_cos"
   ]
  },
  {
   "cell_type": "code",
   "execution_count": 5,
   "metadata": {
    "collapsed": false,
    "deletable": true,
    "editable": true
   },
   "outputs": [
    {
     "name": "stdout",
     "output_type": "stream",
     "text": [
      "1\n"
     ]
    }
   ],
   "source": [
    "norm_sin = sqrt(inner(sin(k*x),sin(k*x))) ; print norm_sin"
   ]
  },
  {
   "cell_type": "markdown",
   "metadata": {
    "deletable": true,
    "editable": true
   },
   "source": [
    "για κάθε μη-αρνητικούς ακέραιους $k\\,,\\ell \\geq 0$.    Το προηγούμενο λήμμα συνεπάγεται ότι οι στοιχειώδεις τριγωνομετρικές συναρτήσεις φτιάχνουν ένα **ορθογώνιο σύστημα**, που σημαίνει ότι κάθε ζευγάρι συναρτήσεων είναι ορθογώνιο μεταξύ τους, ως προς το εσωτερικό γινόμενο (1). Αν αντικαθιστούσαμε το $1$ με το $\\frac{1}{\\sqrt{2}}$, τότε θα είχαμε ένα **ορθοκανονικό σύστημα**, που σημαίνει ότι επιπλέον όλα τα στοιχεία θα είχαν νόρμα $1$. Όμως, το επιπλέον $\\sqrt{2}$ είναι  εντελώς ενοχλητικό, και είναι καλύτερα να μην το λαμβάνουμε υπόψη και να χρησιμοποιούμε το $1$."
   ]
  },
  {
   "cell_type": "markdown",
   "metadata": {
    "deletable": true,
    "editable": true
   },
   "source": [
    "<div class=\"alert alert-info\">\n",
    "\n",
    "**Παρατήρηση:**\n",
    "\n",
    "Δεν είναι τυχαίο το γεγονός ότι οι τριγωνομετρικές συναρτήσεις είναι ορθογώνιες μεταξύ τους. Είναι απόρροια του γεγονότος ότι οι τριγωνομετρικές συναρτήσεις είναι οι ιδιοσυναρτήσεις ενός αυτοσυζυγούς προβλήματος συνοριακών τιμών, το οποίο είναι το \"συναρτησιακό\" ανάλογο της ορθογωνιότητας των ιδιοδιανυσμάτων για συμμετρικούς πίνακες στην γραμμική άλγεβρα.\n",
    "</div>\n",
    "\n",
    "\n"
   ]
  },
  {
   "cell_type": "markdown",
   "metadata": {
    "deletable": true,
    "editable": true
   },
   "source": [
    "Αν αφήσουμε προς το παρόν θέματα σύγκλισης τριγωνομετρικών σειρών, τότε οι σχέσεις ορθογωνιότητας χρησιμεύουν στο να καθορίσουμε τους συντελεστές Fourier $a_k$ , $b_k$. παίρνοντας το εσωτερικό γινόμενο στα δυο μέλη της εξίσωσης \n",
    "\n",
    "$\\begin{aligned} f(x) = \\frac{a_0}{2} + \\sum_{k=1}^\\infty \\left[\\,\\, a_k \\, \\cos k\\,x + b_k \\, \\sin k\\,x \\,\\,\\right] \\,,\\end{aligned}$\n",
    "\n",
    "έχουμε \n",
    "\n",
    "$\\begin{aligned}\n",
    "\\begin{array}{rl} \n",
    "\\langle f \\,,\\, \\cos \\ell\\,x \\rangle & = & \\frac{a_0}{2} \\langle 1 \\,,\\, \\cos \\ell\\,x \\rangle \n",
    "+\\sum_{k=1}^\\infty \\left[\\,\\, a_k \\, \\langle \\cos k\\,x \\, ,\\, \\cos \\ell \\, x \\rangle  + \n",
    "b_k \\, \\langle \\sin k\\,x \\, ,\\, \\cos \\ell \\, x \\rangle\\,\\,\\right]  \\\\ \\\\\n",
    "& = & a_\\ell \\langle \\cos \\ell \\,x \\, , \\,  \\cos \\ell \\, x \\rangle = a_\\ell \\,,\\end{array} \n",
    "\\end{aligned}$\n",
    "\n",
    "δηλαδή \n",
    "\n",
    "$\\begin{aligned} a_k \\,=\\, \\, \\langle f \\, , \\, \\cos k\\,x \\rangle \\,,\\end{aligned}$\n",
    "\n",
    "Με παρόμοιο τρόπο παίρνουμε ότι\n",
    "\n",
    "$\\begin{aligned} b_k \\,=\\, \\, \\langle f \\, , \\, \\sin k\\,x \\rangle \\,,\\end{aligned}$\n",
    "\n",
    "και το εσωτερικό γινόμενο της $f(x)$ με την μονάδα δίνει \n",
    "\n",
    "$\\begin{aligned}\\langle f \\, , \\, 1 \\rangle =  \\frac{a_0}{2} \\langle 1 \\,, 1 \\rangle + \n",
    "\\sum_{k=1}^\\infty \\left[\\,\\, a_k \\, \\langle \\cos k\\,x \\, , \\, 1 \\rangle  +  b_k \\, \\langle \\sin k\\,x \\, ,\\, 1 \\rangle \\,\\,\\right]   \n",
    "= a_0 \\,,\\end{aligned}$\n",
    "\n",
    "που εξηγεί τον λόγο που πήραμε ως νόρμα του $1$ το $\\frac{1}{\\sqrt{2}}$. Οπότε καταλήγουμε στο συμπέρασμα ότι αν η σειρά Fourier συγκλίνει στην συνάρτηση $f(x)$ , τότε οι συντελεστές Fourier της σειράς καθορίζονται παίρνοντας τα εσωτερικά γινόμενα της συνάρτησης με τις βασικές τριγωνομετρικές συναρτήσεις."
   ]
  },
  {
   "cell_type": "markdown",
   "metadata": {
    "deletable": true,
    "editable": true
   },
   "source": [
    "**Ορισμός 2.** Η σειρά Fourier μιας συνάρτησης $f(x)$ που ορίζεται στο διάστημα $[-\\pi,\\pi]$ είναι η \n",
    "\n",
    "$\\begin{aligned} f(x) \\sim \\frac{a_0}{2} + \\sum_{k=1}^\\infty \\left[\\,\\, a_k \\, \\cos k\\,x + b_k \\, \\sin k\\,x \\,\\,\\right]\\,, \\qquad\\qquad\\qquad\\qquad\\quad (2.a)\\end{aligned}$\n",
    "\n",
    "της οποίας οι συντελεστές Fourier δίνονται από τις σχέσεις των εσωτερικών γινομένων\n",
    "\n",
    "$\\begin{aligned} \n",
    "a_k \\,=\\, \\, \\langle f \\, , \\, \\cos k\\,x \\rangle = \\frac{1}{\\pi} \\int_{-\\pi}^{\\pi} f(x)\\,\\cos k\\,x \\, {\\mathrm{d}} x\\,,\\qquad k=0,1,2,\\ldots \\qquad (2.b)  \\\\\n",
    "b_k \\,=\\, \\, \\langle f \\, , \\, \\sin k\\,x \\rangle = \\frac{1}{\\pi} \\int_{-\\pi}^{\\pi} f(x)\\,\\sin k\\,x \\, {\\mathrm{d}} x\\,,\\qquad k=1,2,\\ldots \\qquad\\quad (2.c) \n",
    "\\end{aligned}$"
   ]
  },
  {
   "cell_type": "markdown",
   "metadata": {
    "deletable": true,
    "editable": true
   },
   "source": [
    "Η συνάρτηση $f(x)$ δεν μπορεί να είναι τελείως αυθαίρετη, αφού τουλάχιστον τα ολοκληρώματα θα πρέπει να υπάρχουν και να είναι πεπερασμένοι πραγματικοί αριθμοί. Έστω κι αν οι συντελεστές είναι πεπερασμένοι αριθμοί δεν υπάρχει εγγύηση ότι οι σειρές που προκύπτουν θα συγκλίνουν, και έστω κι αν συγκλίνουν δεν υπάρχει εγγύηση ότι θα συγκλίνουν στην συνάρτηση $f(x)$, έστω και κατά σημείο. Γι' αυτούς τους λόγους τείνουμε να χρησιμοποιούμε το σύμβολο $\\sim$ αντί αυτού της ισότητας όταν γράφουμε μια σειρά Fourier.  \n",
    "\n",
    "**Παράδειγμα 3.** Θεωρούμε την συνάρτηση $f(x) = x$. Οι συντελεστές Fourier της $f(x)$ είναι: "
   ]
  },
  {
   "cell_type": "code",
   "execution_count": 6,
   "metadata": {
    "collapsed": false,
    "deletable": true,
    "editable": true
   },
   "outputs": [
    {
     "name": "stdout",
     "output_type": "stream",
     "text": [
      "x |--> x\n"
     ]
    }
   ],
   "source": [
    "f(x)=x ; print f"
   ]
  },
  {
   "cell_type": "code",
   "execution_count": 7,
   "metadata": {
    "collapsed": false,
    "deletable": true,
    "editable": true
   },
   "outputs": [
    {
     "data": {
      "image/png": "[encoded data removed]",
      "text/plain": [
       "Graphics object consisting of 1 graphics primitive"
      ]
     },
     "metadata": {},
     "output_type": "display_data"
    }
   ],
   "source": [
    "pf = plot(f,(x,-pi,pi)); pf.show(figsize=4)"
   ]
  },
  {
   "cell_type": "code",
   "execution_count": 8,
   "metadata": {
    "collapsed": true,
    "deletable": true,
    "editable": true
   },
   "outputs": [],
   "source": [
    "def inner(f,g):\n",
    "    return 1/pi * integrate(f*g,x,-pi,pi)"
   ]
  },
  {
   "cell_type": "code",
   "execution_count": 9,
   "metadata": {
    "collapsed": false,
    "deletable": true,
    "editable": true
   },
   "outputs": [
    {
     "name": "stdout",
     "output_type": "stream",
     "text": [
      "a0 =  0\n",
      "ak =  0\n",
      "bk =  -2*(-1)^k/k\n"
     ]
    }
   ],
   "source": [
    "var('k')\n",
    "assume(k,'integer')\n",
    "a0 = inner(f(x),1); print str('a0 = '), a0; \n",
    "a(k) = inner(f(x),cos(k*x)) ; print str('ak = '), a(k);\n",
    "b(k) = inner(f(x),sin(k*x)); print str('bk = '), b(k);"
   ]
  },
  {
   "cell_type": "code",
   "execution_count": 10,
   "metadata": {
    "collapsed": false,
    "deletable": true,
    "editable": true
   },
   "outputs": [
    {
     "data": {
      "text/html": [
       "<html><script type=\"math/tex; mode=display\">\\newcommand{\\Bold}[1]{\\mathbf{#1}}-\\frac{1}{2} \\, \\sin\\left(4 \\, x\\right) + \\frac{2}{3} \\, \\sin\\left(3 \\, x\\right) - \\sin\\left(2 \\, x\\right) + 2 \\, \\sin\\left(x\\right)</script></html>"
      ],
      "text/plain": [
       "-1/2*sin(4*x) + 2/3*sin(3*x) - sin(2*x) + 2*sin(x)"
      ]
     },
     "metadata": {},
     "output_type": "display_data"
    }
   ],
   "source": [
    "fourier4 = a0/2 + sum( a(k)*cos(k*x) + b(k)*sin(k*x) for k in [1..4]); \n",
    "fourier4.show()"
   ]
  },
  {
   "cell_type": "code",
   "execution_count": 11,
   "metadata": {
    "collapsed": true,
    "deletable": true,
    "editable": true
   },
   "outputs": [],
   "source": [
    "fourier6 = a0/2 + sum( a(k)*cos(k*x) + b(k)*sin(k*x) for k in [1..6]); \n",
    "fourier10 = a0/2 + sum( a(k)*cos(k*x) + b(k)*sin(k*x) for k in [1..10]); "
   ]
  },
  {
   "cell_type": "code",
   "execution_count": 12,
   "metadata": {
    "collapsed": false,
    "deletable": true,
    "editable": true
   },
   "outputs": [
    {
     "data": {
      "image/png": "[encoded data removed]",
      "text/plain": [
       "Graphics Array of size 2 x 2"
      ]
     },
     "metadata": {},
     "output_type": "display_data"
    }
   ],
   "source": [
    "pfr4 = plot(fourier4,(x,-pi,pi),color='brown'); \n",
    "pfr6 = plot(fourier6,(x,-pi,pi),color='green');\n",
    "pfr10 = plot(fourier10,(x,-pi,pi),color='red'); \n",
    "myGraphicsArray = graphics_array([[pf,pf+pfr4],[pf+pfr6,pf+pfr10]])\n",
    "myGraphicsArray.show(figsize=5,ticks=[[],[]])"
   ]
  },
  {
   "cell_type": "markdown",
   "metadata": {
    "deletable": true,
    "editable": true
   },
   "source": [
    "Παρατηρούμε ότι όσο περισσότερους όρους περιλαμβάνουμε στην σειρά Fourier τόσο καλύτερα η τελευταία προσεγγίζει την συνάρτησή μας $f(x)$, όχι όμως σε όλα τα σημεία στο διάστημα $[-\\pi,\\pi]$. Όσους όρους και να πάρουμε στην σειρά, στα άκρα του διαστήματος η σειρά εξακολουθεί να  αστοχεί να βρει την πραγματική τιμή της $f(x)$. Το φαινόμενο αυτό είναι γνωστό ως **φαινόμενο Gibbs**. Για παράδειγμα, αν πάρουμε 50 όρους στην σειρά Fourier, τότε προκύπτει η παρακάτω προσέγγιση"
   ]
  },
  {
   "cell_type": "code",
   "execution_count": 13,
   "metadata": {
    "collapsed": false,
    "deletable": true,
    "editable": true
   },
   "outputs": [
    {
     "data": {
      "image/png": "[encoded data removed]",
      "text/plain": [
       "Graphics object consisting of 2 graphics primitives"
      ]
     },
     "metadata": {},
     "output_type": "display_data"
    }
   ],
   "source": [
    "fourier50 = a0/2 + sum( a(k)*cos(k*x) + b(k)*sin(k*x) for k in [1..50]); \n",
    "pfr50 = plot(fourier50,(x,-pi,pi),color='red',ticks=[pi,pi], tick_formatter=[pi,pi] ); \n",
    "(pf+pfr50).show(figsize=5)"
   ]
  },
  {
   "cell_type": "markdown",
   "metadata": {
    "deletable": true,
    "editable": true
   },
   "source": [
    "Τι γίνεται όμως πέρα από το διάστημα $[-\\pi,\\pi]$ ;"
   ]
  },
  {
   "cell_type": "code",
   "execution_count": 14,
   "metadata": {
    "collapsed": false,
    "deletable": true,
    "editable": true
   },
   "outputs": [
    {
     "data": {
      "image/png": "[encoded data removed]",
      "text/plain": [
       "Graphics object consisting of 2 graphics primitives"
      ]
     },
     "metadata": {},
     "output_type": "display_data"
    }
   ],
   "source": [
    "pfr10 = plot(fourier10,(x,-3*pi,3*pi),color='red' , \\\n",
    "            ticks=[pi,pi], tick_formatter=[pi,pi]); \n",
    "(pf+pfr10).show(figsize=4)"
   ]
  },
  {
   "cell_type": "markdown",
   "metadata": {
    "deletable": true,
    "editable": true
   },
   "source": [
    "Παρατηρούμε ότι η σειρά Fourier πέρα από το διάστημα $[-\\pi,\\pi]$ δεν ακολουθεί πλέον την συνάρτησή μας $f(x)=x$, αλλά τραβάει τον δικό της δρόμο, ο οποίος μάλιστα δείχνει να επαναλαμβάνεται περιοδικά με περίοδο $2\\,\\pi$. "
   ]
  },
  {
   "cell_type": "markdown",
   "metadata": {
    "deletable": true,
    "editable": true
   },
   "source": [
    "##  Περιοδικές επεκτάσεις συναρτήσεων   \n",
    "\n",
    "Η τελευταία παρατήρηση στο προηγούμενο παράδειγμα είναι ένα γεγονός που έπρεπε να το περιμέναμε αφού οι βασικές τριγωνομετρικές συναρτήσεις είναι όλες μαζί περιοδικές συναρτήσεις με περίοδο $2\\,\\pi$. Οπότε αν η σειρά Fourier συγκλίνει, η οριακή συνάρτηση ${\\widetilde{f}}(x)$ οφείλει και η ίδια να είναι περιοδική συνάρτηση, και μάλιστα με την ίδια περίοδο $2\\,\\pi$: \n",
    "\n",
    "   $\\begin{aligned}{\\widetilde{f}}(x +2\\,\\pi) = {\\widetilde{f}}(x) \\qquad \\mbox{για κάθε}\\qquad x\\in\\mathbb{R}\\,. \\end{aligned}$\n",
    "\n",
    "Μια σειρά Fourier μπορεί να συγκλίνει μόνο σε μια $2\\,\\pi$-περιοδική συνάρτηση. Οπότε είναι παράλογο να περιμένουμε η σειρά Fourier να συγκλίνει στην **α**περιοδική συνάρτηση $f(x)=x$, του προηγούμενου παραδείγματος παντού στο $\\mathbb{R}$. Μαλλον θα έπρεπε να συγκλίνει στην $2\\,\\pi$- περιοδική επέκταση της $f(x)$, η οποία ικανοποιεί ${\\widetilde{f}}(x) = f(x)$ για κάθε $-\\pi < x \\leq \\pi$.\n",
    "\n",
    "**Λήμμα 4.** Αν $f(x)$ είναι μια οποιαδήποτε συνάρτηση ορισμένη στο $[-\\pi,\\pi]$, τότε υπάρχει μοναδική $2\\,\\pi$-περιοδική συνάρτηση ${\\widetilde{f}}(x)$, που ονομάζεται η $2\\,\\pi$-περιοδική επέκταση της $f(x)$, η οποία ικανοποιεί ${\\widetilde{f}}(x) = f(x)$ για κάθε $-\\pi < x \\leq \\pi$.\n",
    "\n",
    "**Απόδειξη:** \n",
    "\n",
    "Δοσμένου $x\\in \\mathbb{R}$, υπάρχει μοναδικός ακέραιος $m \\in \\mathbb{Z}$, τέτοιος ώστε \n",
    "$(2\\,m-1)\\,\\pi < x \\leq  (2\\,m+1)\\,\\pi$. Η περιοδικότητα της ${\\widetilde{f}}(x)$ μας οδηγεί στο να ορίσουμε \n",
    "\n",
    "$\\begin{aligned} {\\widetilde{f}}(x)  = {\\widetilde{f}}(x-2\\,m\\,\\pi) = f(x-2\\,m\\,\\pi)\\,. \\end{aligned}$\n",
    "\n",
    "Ειδικότερα, αν $-\\pi < x \\leq \\pi$, τότε $m=0$ και συνεπώς ${\\widetilde{f}}(x) = f(x)$ για ένα τέτοιο $x$. Ο αναγνώστης καλείται να γεμίσει την απόδειξη ότι πραγματικά η συνάρτηση ${\\widetilde{f}}(x)$ που προκύπτει από τον παραπάνω τρόπο είναι $2\\,\\pi$-περιοδική. "
   ]
  },
  {
   "cell_type": "markdown",
   "metadata": {
    "deletable": true,
    "editable": true
   },
   "source": [
    "\n",
    "<div class=\"alert alert-info\">\n",
    "\n",
    "**Παρατήρηση:**\n",
    "\n",
    "Η περιοδική επέκταση ${\\widetilde{f}}(x)$, από την κατασκευή της, χρησιμοποιεί την τιμή ${\\widetilde{f}}(-\\pi) = {\\widetilde{f}}(\\pi)= f(\\pi)$ στο δεξί άκρο της $f$. Εναλλακτικά, θα μπορούσαμε να ορίσουμε  ${\\widetilde{f}}(-\\pi) = {\\widetilde{f}}(\\pi)= f(-\\pi)$, όπου γενικά $f(-\\pi)\\neq f(\\pi)$. Δεν υπάρχει κανένας λόγος να είναι προτιμητέα μια επιλογή από την άλλη. Μάλιστα η σειρά Fourier δεν προτιμά καμιά από τις δύο τιμές, γιατί η σειρά Fourier συγκλίνει στην μέση τιμή των τιμών στα άκρα:  \n",
    "$$ {\\widetilde{f}}(-\\pi) = {\\widetilde{f}}(\\pi) = \\frac{1}{2} \\left(\\, f(\\pi)+f(-\\pi) \\,\\right) \\,, $$ \n",
    "η οποία σταθεροποιεί τις τιμές της ${\\widetilde{f}}(x)$ στα περιττά πολλαπλάσια του $\\pi$.\n",
    "</div>\n"
   ]
  },
  {
   "cell_type": "markdown",
   "metadata": {
    "deletable": true,
    "editable": true
   },
   "source": [
    "**Παράδειγμα 5.** H $2\\,\\pi$-περιοδική επέκταση της $f(x)=x$ είναι η πριονωτή συνάρτηση του παρακάτω σχήματος. Αναλυτικά η $2\\,\\pi$-περιοδική επέκταση ${\\widetilde{f}}(x)$ είναι\n",
    "\n",
    "$\\begin{aligned} {\\widetilde{f}}(x) =  \\left\\lbrace \\begin{array}{lc} \n",
    "x-2\\,\\,m\\,\\pi \\,, & (2\\,m-1)\\,\\pi <  x < (2\\,m+1)\\,\\pi \\,, \\\\  \n",
    "0\\,,  &  x = (2\\,m-1)\\,\\pi\\,. \\end{array} \\right.\\end{aligned}$\n",
    "\n",
    "Στο Sage υλοποιούμε ως εξής:"
   ]
  },
  {
   "cell_type": "code",
   "execution_count": 15,
   "metadata": {
    "collapsed": false,
    "deletable": true,
    "editable": true
   },
   "outputs": [
    {
     "name": "stdout",
     "output_type": "stream",
     "text": [
      "x |--> x\n"
     ]
    }
   ],
   "source": [
    "f(x) = x ; print f"
   ]
  },
  {
   "cell_type": "code",
   "execution_count": 16,
   "metadata": {
    "collapsed": false,
    "deletable": true,
    "editable": true
   },
   "outputs": [],
   "source": [
    "def f_ext(x):\n",
    "    if   x % pi.n() == 0.0 :\n",
    "        y = 0\n",
    "    else:\n",
    "        y = f( ( x ) % (2*pi.n()) )\n",
    "    return y"
   ]
  },
  {
   "cell_type": "code",
   "execution_count": 17,
   "metadata": {
    "collapsed": false,
    "deletable": true,
    "editable": true
   },
   "outputs": [
    {
     "data": {
      "image/png": "[encoded data removed]",
      "text/plain": [
       "Graphics object consisting of 5 graphics primitives"
      ]
     },
     "metadata": {},
     "output_type": "display_data"
    }
   ],
   "source": [
    "set_verbose(-1)\n",
    "pf_ext = plot(f_ext,(x,-5*pi,5*pi),ymin=-4,ymax=4, exclude=[(2*i-1)*pi for i in [-2..3] ], \\\n",
    "            thickness=2 , ticks=[pi,pi], tick_formatter=[pi,pi]) ;  pf_ext.show(figsize=5)"
   ]
  },
  {
   "cell_type": "markdown",
   "metadata": {
    "deletable": true,
    "editable": true
   },
   "source": [
    "Με αυτές τις παραδοχές μπορεί να αποδειχθεί ότι η σειρά Fourier που βρήκαμε παραπάνω συγκλίνει παντού στην  $2\\,\\pi$ - περιοδική επέκταση ${\\widetilde{f}}(x)$. Ειδικότερα, \n",
    "\n",
    "$\\begin{aligned} 2\\, \\sum_{k=1}^\\infty \\frac{(-1)^{k+1}}{k} \\, \\sin k\\,x  = \n",
    "\\left\\lbrace \\begin{array}{lc} \n",
    "x \\,, & -\\pi <  x < \\pi \\,, \\\\  \n",
    "0\\,,  &  x = \\pm \\pi\\,. \\end{array} \\right. \\end{aligned}$\n",
    "\n",
    "Ο τύπος αυτός, όσο απλοϊκός κι αν δείχνει, έχει εκπληκτικές και μη τετριμένες συνέπειες. Αν θέσουμε $x=\\frac{\\pi}{2}$ και διαιρέσουμε με $2$, παίρνουμε την σειρά Gregory \n",
    "\n",
    "$\\begin{aligned} \\frac{\\pi}{4}  = 1 - \\frac{1}{3} +\\frac{1}{5} - \\frac{1}{7} + \\frac{1}{9}- \\cdots \\,.\\end{aligned}$\n",
    "\n",
    "η οποία αν και προϋπήρχε της θεωρίας του Fourier, είναι πολύ δύσκολο να αποδειχθεί άμεσα. "
   ]
  },
  {
   "cell_type": "code",
   "execution_count": 18,
   "metadata": {
    "collapsed": false,
    "deletable": true,
    "editable": true
   },
   "outputs": [
    {
     "name": "stdout",
     "output_type": "stream",
     "text": [
      "1/4*pi\n"
     ]
    }
   ],
   "source": [
    "print sum((-1)^(k+1)/k * sin (k*pi/2),k,1,oo)"
   ]
  },
  {
   "cell_type": "code",
   "execution_count": 19,
   "metadata": {
    "collapsed": false,
    "deletable": true,
    "editable": true
   },
   "outputs": [
    {
     "name": "stdout",
     "output_type": "stream",
     "text": [
      "0.00999600796130951\n"
     ]
    }
   ],
   "source": [
    "print 1/2*fourier50(x=pi/2) - pi.n()/4"
   ]
  },
  {
   "cell_type": "code",
   "execution_count": 20,
   "metadata": {
    "collapsed": false,
    "deletable": true,
    "editable": true
   },
   "outputs": [
    {
     "data": {
      "image/png": "[encoded data removed]",
      "text/plain": [
       "Graphics object consisting of 6 graphics primitives"
      ]
     },
     "metadata": {},
     "output_type": "display_data"
    }
   ],
   "source": [
    "pfr10_b = plot(fourier10,(x,-5*pi,5*pi),color='red');\n",
    "(pf_ext+pfr10_b).show(figsize=4, ticks=[pi,pi], tick_formatter=[pi,pi])"
   ]
  },
  {
   "cell_type": "markdown",
   "metadata": {
    "deletable": true,
    "editable": true
   },
   "source": [
    "##  Τμηματικά συνεχείς συναρτήσεις   \n",
    "\n",
    "**Ορισμός 6.** Μια συνάρτηση $f(x)$ λέγεται τμηματικά συνεχής στο διάστημα $[a,b]$, αν ορίζεται και είναι συνεχής εκτός πιθανά από ένα πεπερασμένο πλήθος σημείων \n",
    "$a \\leq x_1 < x_2 < \\cdots < x_n \\leq b$. Επιπλέον, σε κάθε σημείο ασυνέχειας, θα πρέπει τα πλευρικά όρια \n",
    "\n",
    "$\\begin{aligned} f(x_k^-) = \\lim_{x\\rightarrow x_k^-}\\,f(x)\\,,\\qquad  f(x_k^+) = \\lim_{x\\rightarrow x_k^+}\\,f(x) \\,, \\end{aligned}$\n",
    "\n",
    "να υπάρχουν. Στα άκρα του διαστήματος $[a,b]$ αρκεί να υπάρχει μόνο το από δεξιά όριο $f(a^+)$, και αντίστοιχα μόνο το από αριστερά όριο $f(b^-)$. \n",
    "\n",
    "+ Δεν απαιτείται η $f(x)$ να ορίζεται στα σημεία $x_k$. \n",
    "+ Αν η $f(x)$ ορίζεται στα $x_k$, δεν απαιτείται η τιμή της στα σημεία αυτά να είναι ίση με τα πλευρικά όρια.\n",
    "\n",
    "Παρόμοια ορίζεται και μια τμηματικά διαφορίσιμη συνάρτηση $f(x)$ και και γενικότερα μια τμηματικά $n$-φορές διαφορίσιμη σε ένα διάστημα $[a,b]$."
   ]
  },
  {
   "cell_type": "markdown",
   "metadata": {
    "deletable": true,
    "editable": true
   },
   "source": [
    "Η πιο απλή τμηματικά συνεχής συνάρτηση είναι η αλματική συνάρτηση \n",
    "\n",
    "$\\begin{aligned} \\mathrm{u}(x) = \\left\\lbrace \\begin{array}{cc} 1\\,, & x > 0 \\,, \\\\ 0\\,  &  x < 0\\,. \\end{array} \\right. \\end{aligned}$\n",
    "\n",
    "Η συνάρτηση αυτή στο Sage είναι η `unit_step()`."
   ]
  },
  {
   "cell_type": "code",
   "execution_count": 21,
   "metadata": {
    "collapsed": false,
    "deletable": true,
    "editable": true
   },
   "outputs": [
    {
     "data": {
      "image/png": "[encoded data removed]",
      "text/plain": [
       "Graphics object consisting of 2 graphics primitives"
      ]
     },
     "metadata": {},
     "output_type": "display_data"
    }
   ],
   "source": [
    "p = plot(unit_step, -1, 1,ymin=-0.5,ymax=1.5 , exclude=[0],thickness=2 , ticks=[[],[1]])\n",
    "p.show(figsize=3)"
   ]
  },
  {
   "cell_type": "markdown",
   "metadata": {
    "deletable": true,
    "editable": true
   },
   "source": [
    "## Το θεώρημα σύγκλισης των σειρών Fourier  \n",
    "\n",
    "**Θεώρημα 7.** Έστω ${\\widetilde{f}}(x)$ η $2\\,\\pi$-περιοδική, τμηματικά διαφορίσιμη συνάρτηση, τότε για κάθε $x\\in\\mathbb{R}$, η σειρά Fourier συγκλίνει (κατά σημείο) στα\n",
    "\n",
    "+ $\\qquad{\\widetilde{f}}(x)\\,,\\qquad\\quad\\,\\,$ αν η ${\\widetilde{f}}(x)$ είναι συνεχής στο $x$,\n",
    "\n",
    "+ $\\displaystyle \\frac{1}{2} \\big( {\\widetilde{f}}(x^+) + {\\widetilde{f}}(x^-) \\big)$, αν το $x$ είναι σημείο ασυνέχειας. "
   ]
  },
  {
   "cell_type": "markdown",
   "metadata": {
    "deletable": true,
    "editable": true
   },
   "source": [
    "**Παράδειγμα 8.** Θα βρούμε την σειρά Fourier της συνάρτησης \n",
    "\n",
    "$\\begin{aligned} \\mathrm{u}(x) = \\left\\lbrace \\begin{array}{cc} 1\\,, & x > 0 \\,, \\\\ 0\\,,  &  x < 0\\,. \\end{array} \\right. \\end{aligned}$\n",
    "\n",
    "Η γραφική παράσταση της αλματικής συνάρτησης είναι"
   ]
  },
  {
   "cell_type": "code",
   "execution_count": 22,
   "metadata": {
    "collapsed": false,
    "deletable": true,
    "editable": true
   },
   "outputs": [
    {
     "data": {
      "image/png": "[encoded data removed]",
      "text/plain": [
       "Graphics object consisting of 3 graphics primitives"
      ]
     },
     "metadata": {},
     "output_type": "display_data"
    }
   ],
   "source": [
    "punit = plot(unit_step,-2,2,ymin=-0.5,ymax=1.5,exclude=[0], thickness=2);\n",
    "p0 = point((0,1/2),size=20); (punit+p0).show(figsize=3,ticks=[[],[1]])"
   ]
  },
  {
   "cell_type": "markdown",
   "metadata": {
    "deletable": true,
    "editable": true
   },
   "source": [
    "Η $2\\,\\pi$-περιοδική επέκταση της $\\mathrm{u}(x)$ είναι η συνάρτηση \n",
    "\n",
    "$\\begin{aligned} \\widetilde{\\mathrm{u}}(x) = \\left\\lbrace \\begin{array}{cc} \n",
    "0 \\,,        & (2\\,m-1)\\,\\pi < x < 2\\,m\\,\\pi  \\,, \\\\ \n",
    "1 \\,,        & 2\\,m\\,\\pi < x < (2\\,m\\,+1)\\,\\pi  \\,,  \\\\\n",
    "\\frac{1}{2}\\,,  & x = m\\,\\pi\\,, \\end{array} \\right.\\end{aligned}$\n",
    "\n",
    "για οποιοδήποτε ακέραιο $m$. Με τις επόμενες δυο εντολές υλοποιούμε στο Sage την $2\\,\\pi$-περιοδική επέκταση της $\\mathrm{u}(x)$ και απεικονίζουμε την γραφική της παράσταση."
   ]
  },
  {
   "cell_type": "code",
   "execution_count": 23,
   "metadata": {
    "collapsed": true,
    "deletable": true,
    "editable": true
   },
   "outputs": [],
   "source": [
    "def u_ext(x):\n",
    "    if   x % pi.n() == 0.0 :\n",
    "         y = 0\n",
    "    else:\n",
    "        y = unit_step( ( x ) % (2*pi.n()) )\n",
    "    return y"
   ]
  },
  {
   "cell_type": "code",
   "execution_count": 24,
   "metadata": {
    "collapsed": false,
    "deletable": true,
    "editable": true,
    "scrolled": true
   },
   "outputs": [
    {
     "data": {
      "image/png": "[encoded data removed]",
      "text/plain": [
       "Graphics object consisting of 11 graphics primitives"
      ]
     },
     "metadata": {},
     "output_type": "display_data"
    }
   ],
   "source": [
    "pu_ext = plot(u_ext,-5*pi,5*pi, ymin=-0.3 , ymax=1.3, \\\n",
    "              exclude=[i*pi for i in [-4..5] ],  ticks=[pi,[1]], tick_formatter=[pi,1/2], \\\n",
    "              thickness=2 , aspect_ratio=5 )\n",
    "pu_points = point([(i*pi,1/2) for i in [-5..5]],size=15)\n",
    "(pu_ext+pu_points).show(figsize=8)"
   ]
  },
  {
   "cell_type": "markdown",
   "metadata": {
    "deletable": true,
    "editable": true
   },
   "source": [
    "Οι συντελεστές Fourier της σειράς Fourier της $\\mathrm{u}(x)$ είναι"
   ]
  },
  {
   "cell_type": "code",
   "execution_count": 25,
   "metadata": {
    "collapsed": false,
    "deletable": true,
    "editable": true
   },
   "outputs": [
    {
     "name": "stdout",
     "output_type": "stream",
     "text": [
      "a0 =  1\n",
      "ak =  0\n",
      "bk =  -((-1)^k - 1)/(pi*k)\n"
     ]
    }
   ],
   "source": [
    "var('k')\n",
    "assume(k,'integer')\n",
    "a0 = inner(unit_step(x),1); print str('a0 = '), a0; \n",
    "a(k) = inner(unit_step(x),cos(k*x)) ; print str('ak = '), a(k);\n",
    "b(k) = inner(unit_step(x),sin(k*x)); print str('bk = '), b(k);"
   ]
  },
  {
   "cell_type": "markdown",
   "metadata": {
    "deletable": true,
    "editable": true
   },
   "source": [
    "Παρατηρούμε ότι οι συντελεστές $b_k$ μπορούν να απλοποιηθούν περαιτέρω, ανάλογα αν ο ακέραιος $k$ είναι περιττός ή άρτιος"
   ]
  },
  {
   "cell_type": "code",
   "execution_count": 26,
   "metadata": {
    "collapsed": false,
    "deletable": true,
    "editable": true
   },
   "outputs": [
    {
     "name": "stdout",
     "output_type": "stream",
     "text": [
      "if k is odd : bk =  2/(pi*k)\n",
      "if k is even: bk =  0\n",
      "[k is integer, k > 0, l is integer, l > 0]\n"
     ]
    }
   ],
   "source": [
    "assume(k,'odd')\n",
    "print str('if k is odd : bk = '), b(k).simplify();\n",
    "forget(k,'odd')\n",
    "assume(k,'even')\n",
    "print str('if k is even: bk = '), b(k).simplify();\n",
    "forget(k,'even'); print assumptions()"
   ]
  },
  {
   "cell_type": "markdown",
   "metadata": {
    "deletable": true,
    "editable": true
   },
   "source": [
    "Συνεπώς οι συντελεστές Fourier είναι $a_0=0$, $a_k=0$, και\n",
    "\n",
    "$\\begin{aligned} b_k = \\left\\lbrace \\begin{array}{cc} \n",
    "\\frac{2}{k\\,\\pi} \\,,  & k \\,\\,\\mbox{περιττός}  \\,, \\\\ \n",
    "0  \\,,               & k \\,\\,\\, \\mbox{άρτιος}\\,. \\end{array} \\right.\\end{aligned}$\n",
    "\n",
    "Οι πρώτοι δέκα όροι στη σειρά Fourier της $\\mathrm{u}(x)$ είναι"
   ]
  },
  {
   "cell_type": "code",
   "execution_count": 27,
   "metadata": {
    "collapsed": false,
    "deletable": true,
    "editable": true
   },
   "outputs": [
    {
     "data": {
      "text/html": [
       "<html><script type=\"math/tex; mode=display\">\\newcommand{\\Bold}[1]{\\mathbf{#1}}\\frac{2 \\, \\sin\\left(9 \\, x\\right)}{9 \\, \\pi} + \\frac{2 \\, \\sin\\left(7 \\, x\\right)}{7 \\, \\pi} + \\frac{2 \\, \\sin\\left(5 \\, x\\right)}{5 \\, \\pi} + \\frac{2 \\, \\sin\\left(3 \\, x\\right)}{3 \\, \\pi} + \\frac{2 \\, \\sin\\left(x\\right)}{\\pi} + \\frac{1}{2}</script></html>"
      ],
      "text/plain": [
       "2/9*sin(9*x)/pi + 2/7*sin(7*x)/pi + 2/5*sin(5*x)/pi + 2/3*sin(3*x)/pi + 2*sin(x)/pi + 1/2"
      ]
     },
     "metadata": {},
     "output_type": "display_data"
    }
   ],
   "source": [
    "fourier_u10 = a0/2 + sum( a(k)*cos(k*x) + b(k)*sin(k*x) for k in [1..10]); \n",
    "fourier_u10.show()"
   ]
  },
  {
   "cell_type": "markdown",
   "metadata": {
    "deletable": true,
    "editable": true
   },
   "source": [
    "Στο παρακάτω γραφικό αναπαριστούμε το μερικό άθροισμα των δέκα πρώτων όρων της σειράς Fourier της $\\mathrm{u}(x)$ μαζί με την $2\\,\\pi$-περιοδική επέκταση της $\\mathrm{u}(x)$ στην οποία συγκλίνει η σειρά Fourier."
   ]
  },
  {
   "cell_type": "code",
   "execution_count": 28,
   "metadata": {
    "collapsed": false,
    "deletable": true,
    "editable": true,
    "scrolled": true
   },
   "outputs": [
    {
     "data": {
      "image/png": "[encoded data removed]",
      "text/plain": [
       "Graphics object consisting of 12 graphics primitives"
      ]
     },
     "metadata": {},
     "output_type": "display_data"
    }
   ],
   "source": [
    "pfu10 = plot(fourier_u10,(x,-5*pi,5*pi) , ymin=-0.3 , ymax=1.3,color='red' , aspect_ratio=5); \n",
    "(pu_ext+pu_points+ pfu10).show(figsize=9, ticks=[pi,[1]], tick_formatter=[pi,1/2])"
   ]
  },
  {
   "cell_type": "markdown",
   "metadata": {
    "deletable": true,
    "editable": true
   },
   "source": [
    "##  Άρτιες και περιττές συναρτήσεις \n",
    "\n",
    "**Ορισμός 9.** Μια συνάρτηση λέγεται **άρτια** αν $f(-x)=f(x)$, σε κάθε σημείο του πεδίου ορισμού της. Μια συνάρτηση λέγεται **περιττή** αν $f(-x)=-f(x)$, σε κάθε σημείο του πεδίου ορισμού της. \n",
    "\n",
    "+ Το άθροισμα $f(x)+g(x)$ δυο άρτιων συναρτήσεων είναι μια άρτια συνάρτηση, και ομοίως το άθροισμα $f(x)+g(x)$ δυο περιττών συναρτήσεων είναι μια περιττή συνάρτηση.\n",
    "+ Το γινόμενο δυο άρτιων ή περιττών συναρτήσεων είναι μια άρτια συνάρτηση, ενώ το γινόμενο μιας άρτιας με μια περιττή συνάρτηση είναι περιττή συνάρτηση.\n",
    "+ Όπως έχετε ήδη μάθει στον Απειροστικό Λογισμό αν η $f(x)$ είναι περιττή στο **συμμετρικό** διάστημα $[-a,a]$, τότε το ολοκλήρωμά της στο διάστημα αυτό είναι μηδέν $\\int_{-a}^a f(x)\\,{\\mathrm d} \\,x =0 \\,.$\n",
    "\n",
    "- Αν η $f(x)$ είναι άρτια στο **συμμετρικό** διάστημα $[-a,a]$, τότε το ολοκλήρωμά της στο διάστημα αυτό είναι\n",
    "$\\int_{-a}^a f(x)\\,{\\mathrm d} \\,x = 2\\, \\int_{0}^a f(x)\\,{\\mathrm d} \\,x \\,.$\n"
   ]
  },
  {
   "cell_type": "markdown",
   "metadata": {
    "deletable": true,
    "editable": true
   },
   "source": [
    "**Θεώρημα 10.** \n",
    "+ Αν η $f(x)$ είναι άρτια συνάρτηση τότε οι συντελεστές Fourier των ημιτόνων $b_k$ είναι μηδέν, οπότε η $f(x)$ έχει την αναπαράσταση σε σειρά Fourier \n",
    "\n",
    "$\\begin{aligned}f(x) \\sim \\frac{a_0}{2} + \\sum_{k=1}^\\infty a_k\\,\\cos k\\,x \\,,\n",
    "\\qquad a_k = \\frac{2}{\\pi}\\, \\int_0^\\pi f(x) \\, \\cos k\\,x \\, {\\mathrm d}\\,x\\,,\\qquad k=0,1,2,\\ldots\\,.\\end{aligned}$\n",
    "\n",
    "+ Αν η $f(x)$ είναι περιττή συνάρτηση τότε οι συντελεστές Fourier των συνημιτόνων $a_k$ είναι μηδέν, οπότε η $f(x)$ έχει την αναπαράσταση σε σειρά Fourier \n",
    "\n",
    "$\\begin{aligned}f(x) \\sim \\sum_{k=1}^\\infty a_k\\,\\sin k\\,x \\,,\n",
    "\\qquad b_k = \\frac{2}{\\pi}\\, \\int_0^\\pi f(x) \\, \\sin k\\,x \\, {\\mathrm d}\\,x\\,,\\qquad k=1,2,\\ldots\\,.\\end{aligned}$"
   ]
  },
  {
   "cell_type": "markdown",
   "metadata": {
    "deletable": true,
    "editable": true
   },
   "source": [
    "**Παράδειγμα 11.** Η $f(x)=|x|$ είναι άρτια συνάρτηση, οπότε έχει σειρά Fourier μόνο κατά συνημίτονα. Στο Sage βρίσκουμε"
   ]
  },
  {
   "cell_type": "code",
   "execution_count": 29,
   "metadata": {
    "collapsed": false,
    "deletable": true,
    "editable": true
   },
   "outputs": [],
   "source": [
    "def inner_even_odd(f,g,a,b):\n",
    "    if a>=0:\n",
    "        return 2/pi * integrate(f*g,x,a,b)"
   ]
  },
  {
   "cell_type": "code",
   "execution_count": 30,
   "metadata": {
    "collapsed": false,
    "deletable": true,
    "editable": true
   },
   "outputs": [
    {
     "name": "stdout",
     "output_type": "stream",
     "text": [
      "x |--> abs(x)\n"
     ]
    }
   ],
   "source": [
    "f(x) = abs(x); print f"
   ]
  },
  {
   "cell_type": "code",
   "execution_count": 31,
   "metadata": {
    "collapsed": false,
    "deletable": true,
    "editable": true
   },
   "outputs": [
    {
     "name": "stdout",
     "output_type": "stream",
     "text": [
      "a0 =  pi\n",
      "ak =  2*((-1)^k/k^2 - 1/k^2)/pi\n",
      "bk =  0\n"
     ]
    }
   ],
   "source": [
    "var('k')\n",
    "assume(k,'integer')\n",
    "a0 = inner(f(x),1); print str('a0 = '), a0; \n",
    "a(k) = inner_even_odd(f(x),cos(k*x),0,pi) ; print str('ak = '), a(k);\n",
    "b(k) = inner(f(x),sin(k*x)); print str('bk = '), b(k);"
   ]
  },
  {
   "cell_type": "code",
   "execution_count": 32,
   "metadata": {
    "collapsed": false,
    "deletable": true,
    "editable": true
   },
   "outputs": [
    {
     "name": "stdout",
     "output_type": "stream",
     "text": [
      "if k is odd : ak =  -4/(pi*k^2)\n",
      "if k is even: ak =  0\n",
      "[k is integer, k > 0, l is integer, l > 0]\n"
     ]
    }
   ],
   "source": [
    "assume(k,'odd')\n",
    "print str('if k is odd : ak = '), a(k).simplify();\n",
    "forget(k,'odd')\n",
    "assume(k,'even')\n",
    "a.simplify(); print str('if k is even: ak = '), a(k).simplify();\n",
    "forget(k,'even'); print assumptions()"
   ]
  },
  {
   "cell_type": "markdown",
   "metadata": {
    "deletable": true,
    "editable": true
   },
   "source": [
    "Συνεπώς οι συντελεστές Fourier είναι $b_k=0$, $a_0=\\pi$, και\n",
    "\n",
    "$\\begin{aligned} a_k = \\left\\lbrace \\begin{array}{cc} \n",
    "-\\frac{4}{k^2\\,\\pi} \\,, & k \\,\\, \\mbox{περιττός}  \\,, \\\\ \n",
    "0  \\,,               & k \\neq 0 \\,\\,\\, \\mbox{άρτιος}\\,. \\end{array} \\right.\\end{aligned}$\n",
    "\n",
    "Οι πρώτοι οχτώ όροι στη σειρά Fourier της $f(x)=|x|$ είναι"
   ]
  },
  {
   "cell_type": "code",
   "execution_count": 33,
   "metadata": {
    "collapsed": false,
    "deletable": true,
    "editable": true
   },
   "outputs": [
    {
     "data": {
      "text/html": [
       "<html><script type=\"math/tex; mode=display\">\\newcommand{\\Bold}[1]{\\mathbf{#1}}\\frac{1}{2} \\, \\pi - \\frac{4 \\, \\cos\\left(7 \\, x\\right)}{49 \\, \\pi} - \\frac{4 \\, \\cos\\left(5 \\, x\\right)}{25 \\, \\pi} - \\frac{4 \\, \\cos\\left(3 \\, x\\right)}{9 \\, \\pi} - \\frac{4 \\, \\cos\\left(x\\right)}{\\pi}</script></html>"
      ],
      "text/plain": [
       "1/2*pi - 4/49*cos(7*x)/pi - 4/25*cos(5*x)/pi - 4/9*cos(3*x)/pi - 4*cos(x)/pi"
      ]
     },
     "metadata": {},
     "output_type": "display_data"
    }
   ],
   "source": [
    "fourier_abs = a0/2 + sum( a(k)*cos(k*x) + b(k)*sin(k*x) for k in [1..8]); \n",
    "fourier_abs.show()"
   ]
  },
  {
   "cell_type": "markdown",
   "metadata": {
    "deletable": true,
    "editable": true
   },
   "source": [
    "Αντικαταθιστώντας στην σειρά $x=0$, τότε παίρνουμε το εξής αποτέλεσμα \n",
    "\n",
    "$\\begin{aligned} \\frac{\\pi^2}{8} = 1 +\\frac{1}{9} + \\frac{1}{25} + \\frac{1}{49} +\\cdots = \\sum_{j=0}^\\infty \\frac{1}{(2\\,j+1)^2}\\,, \\end{aligned}$\n",
    "\n",
    "το οποίο το γνωρίζει και το Sage!"
   ]
  },
  {
   "cell_type": "code",
   "execution_count": 34,
   "metadata": {
    "collapsed": false,
    "deletable": true,
    "editable": true
   },
   "outputs": [
    {
     "name": "stdout",
     "output_type": "stream",
     "text": [
      "1/8*pi^2\n"
     ]
    }
   ],
   "source": [
    "var('j')\n",
    "print sum(1/(2*j+1)^2,j,0,oo)"
   ]
  },
  {
   "cell_type": "markdown",
   "metadata": {
    "deletable": true,
    "editable": true
   },
   "source": [
    "Αλλάζοντας μεταβλητή στην άθροιση $k=2\\,j+1$, με $k=1,2,\\ldots$, τότε το Sage μας δίνει"
   ]
  },
  {
   "cell_type": "code",
   "execution_count": 35,
   "metadata": {
    "collapsed": false,
    "deletable": true,
    "editable": true
   },
   "outputs": [
    {
     "data": {
      "text/html": [
       "<html><script type=\"math/tex; mode=display\">\\newcommand{\\Bold}[1]{\\mathbf{#1}}\\frac{1}{6} \\, \\pi^{2}</script></html>"
      ],
      "text/plain": [
       "1/6*pi^2"
      ]
     },
     "metadata": {},
     "output_type": "display_data"
    }
   ],
   "source": [
    "sum(1/k^2,k,1,oo).show()"
   ]
  },
  {
   "cell_type": "markdown",
   "metadata": {
    "deletable": true,
    "editable": true
   },
   "source": [
    "Αν αντί για $2$ θέσουμε στο εκθέτη της σειράς έναν περιττό θετικό ακέραιο, π.χ. 7, το Sage μας δίνει "
   ]
  },
  {
   "cell_type": "code",
   "execution_count": 36,
   "metadata": {
    "collapsed": false,
    "deletable": true,
    "editable": true
   },
   "outputs": [
    {
     "name": "stdout",
     "output_type": "stream",
     "text": [
      "zeta(7)\n"
     ]
    },
    {
     "data": {
      "text/html": [
       "<html><script type=\"math/tex; mode=display\">\\newcommand{\\Bold}[1]{\\mathbf{#1}}\\zeta(7)</script></html>"
      ],
      "text/plain": [
       "zeta(7)"
      ]
     },
     "metadata": {},
     "output_type": "display_data"
    }
   ],
   "source": [
    "z7 = sum(1/k^7,k,1,oo) ; print z7 ; z7.show() "
   ]
  },
  {
   "cell_type": "markdown",
   "metadata": {
    "deletable": true,
    "editable": true
   },
   "source": [
    "Από την βοήθεια που μας δίνει το Sage για την συνάρτηση $\\zeta$, συμπεραίνουμε ότι πρόκειται για την συνάρτηση $\\zeta(s)$ του **Riemann**, η οποία ορίζεται αρχικά από την σχέση\n",
    "\n",
    "$\\begin{aligned} \\zeta(s) = \\sum_{k=1}^\\infty \\frac{1}{k^s} \\,,\\end{aligned}$\n",
    "\n",
    "όπου $s$, είναι μιγαδικός αριθμός με πραγματικό μέρος ${\\mathrm{Re}} (s)>1$, και κατόπιν επεκτείνεται αναλυτικά στο $\\mathbb{C}\\setminus\\{1\\}$. Οπότε με την βοήθεια των σειρών Fourier για την συνάρτηση $f(x)=|x|$, βρήκαμε ότι $\\zeta(2)=\\frac{\\pi^2}{6}$. Γενικότερα, αν $s=2\\,n$ άρτιος θετικός ακέραιος, αποδεικνύεται ότι η τιμή της συνάρτησης $\\zeta(s)$ είναι ένας ρητός πολλαπλασισμένος με $\\pi^{2\\,n}$. Η συνάρτηση $\\zeta(s)$ είναι η πιο διάσημη συνάρτηση στην θεωρία αριθμών, και η πηγή του πιο εξέχοντος (και άλυτου μέχρι στιγμής) προβλήματος στα μαθηματικά, της **υπόθεσης του Riemann**. Η εύρεση όλων των μιγαδικών ριζών της συνάρτησης $\\zeta(s)$ του Riemann, έχουν επικηρυχθεί με $\\mbox{\\$}10^6$.   \n",
    "Στα επόμενα δυο σχήματα απεικονίζουμε την $2\\,\\pi$-περιοδική επέκταση της $f(x)=|x|$, καθώς και τους πρώτους οχτώ όρους στη σειρά Fourier. "
   ]
  },
  {
   "cell_type": "code",
   "execution_count": 37,
   "metadata": {
    "collapsed": false,
    "deletable": true,
    "editable": true
   },
   "outputs": [
    {
     "data": {
      "image/png": "[encoded data removed]",
      "text/plain": [
       "Graphics object consisting of 1 graphics primitive"
      ]
     },
     "metadata": {},
     "output_type": "display_data"
    }
   ],
   "source": [
    "def abs_ext(x):\n",
    "    if   x % pi.n() == 0.0 :\n",
    "         y = 0\n",
    "    else:\n",
    "        y = f( ( x ) % (2*pi.n()) )\n",
    "    return y\n",
    "abs_ext = plot(abs_ext,-4*pi-pi/3 , 4*pi+pi/3, ymin=-0.3 , ymax=3.15, \\\n",
    "              ticks=[pi,[pi]], tick_formatter=[pi,pi], \\\n",
    "              thickness=2 , aspect_ratio=2 )\n",
    "abs_ext.show(figsize=7)"
   ]
  },
  {
   "cell_type": "code",
   "execution_count": 38,
   "metadata": {
    "collapsed": false,
    "deletable": true,
    "editable": true
   },
   "outputs": [
    {
     "data": {
      "image/png": "[encoded data removed]",
      "text/plain": [
       "Graphics object consisting of 1 graphics primitive"
      ]
     },
     "metadata": {},
     "output_type": "display_data"
    }
   ],
   "source": [
    "pfabs8 = plot(fourier_abs,(x,-4*pi-pi/3,4*pi+pi/3) , ymin=-0.3 , ymax=3.15, \\\n",
    "               color='red' , aspect_ratio=2, thickness=1); \n",
    "(pfabs8).show(figsize=7, ticks=[pi,[pi]], tick_formatter=[pi,pi])"
   ]
  },
  {
   "cell_type": "markdown",
   "metadata": {
    "deletable": true,
    "editable": true
   },
   "source": [
    "##  Παραγώγιση και ολοκλήρωση σειρών Fourier"
   ]
  },
  {
   "cell_type": "markdown",
   "metadata": {
    "deletable": true,
    "editable": true
   },
   "source": [
    "###  Ολοκλήρωση"
   ]
  },
  {
   "cell_type": "markdown",
   "metadata": {
    "collapsed": false,
    "deletable": true,
    "editable": true
   },
   "source": [
    "Η ολοκλήρωση είναι μια διαδικασία που το αποτέλεσμά της είναι μια συνάρτηση πιο ομαλή από αυτήν που ολοκληρώνουμε. Σε αντιδιαστολή, η παραγώγιση οξύνει τα προβλήματα που ενδεχομένως έχει η συνάρτηση που παραγωγίζουμε. Για παράδειγμα, το αόριστο ολοκλήρωμα της συνάρτησης ${\\mathrm{u}}(x)$ του παραδείγματος 8., η οποία παρουσιάζει ασυνέχεια στο $x=0$, είναι η $x\\,{\\mathrm{u}}(x) + c$, η οποία είναι συνεχής στο $x=0$. Από την άλλη, η παράγωγος της συνεχούς συνάρτησης $|x|$ είναι η $2\\,{\\mathrm{u}}(x)-1$ η οποία παρουσιάζει ασυνέχεια στο $x=0$. \n",
    "\n",
    "Οπότε για μια συγκλίνουσα σειρά Fourier δεν θα έπρεπε να είχαμε κανένα πρόβλημα να την ολοκληρώσουμε όρο κατά όρο. Όμως υπάρχει ένα λεπτό σημείο που χρειάζεται αν προσέξουμε. Το ολοκλήρωμα μιας περοδικής συνάρτησης δεν είναι αναγκαστικά περιοδική συνάρτηση. Το ζήτημα  είναι ο σταθερός όρος $1$ στη σειρά Fourier. Έστω κι αν η σταθερή συνάρτηση είναι περιοδική συνάρτηση, το ολοκλήρωμά της, δηλαδή η $x$, δεν είναι με κανένα τρόπο περιοδική. Το πρόβλημα αυτό προφανώς δεν υπάρχει για τους όρους με τα ημίτονα και τα συνημίτονα των οποίων τα ολοκληρώματα είναι περιοδικές συναρτήσεις. Οπότε μόνο ο όρος \n",
    "\n",
    "$\\begin{aligned} \\frac{a_0}{2} = \\frac{1}{2\\,\\pi} \\, \\int_{\\pi}^\\pi f(x) \\, {\\mathrm d}\\,x\\,,\\end{aligned}$\n",
    "\n",
    "δηλαδή η μέση τιμή της $f(x)$ στο διάστημα $[-\\pi,\\pi]$ μπορεί να δημιουργήσει κάποια δυσκολία στην ολοκλήρωση. Αν η μέση τιμή της $f(x)$ στο διάστημα $[-\\pi,\\pi]$ είναι μηδέν, τότε ισχύει το ακόλουθο:"
   ]
  },
  {
   "cell_type": "markdown",
   "metadata": {
    "deletable": true,
    "editable": true
   },
   "source": [
    "**Λήμμα 12.** Αν η $f(x)$ είναι $2\\,\\pi$ περιοδική συνάρτηση τότε το ολοκλήμωμά της \n",
    "$g(x) = \\int_{0}^x f(t) \\, {\\mathrm d}\\,t\\,,$ είναι περιοδική συνάρτηση αν και μόνο αν \n",
    "$\\int_{-\\pi}^\\pi f(x) \\, {\\mathrm d}\\,x=0$, δηλαδή η μέση τιμή της $f(x)$ στο $[-\\pi,\\pi]$ είναι μηδέν."
   ]
  },
  {
   "cell_type": "markdown",
   "metadata": {
    "collapsed": true,
    "deletable": true,
    "editable": true
   },
   "source": [
    "**Θεώρημα 13.** Αν η $f(x)$ τμηματικά συνεχής και έχει μηδενική μέση τιμή στο $[-\\pi,\\pi]$, τότε η σειρά Fourier της $f(x)$, μπορεί να ολοκληρωθεί όρο προς όρο και είναι η σειρά Fourier \n",
    "\n",
    "$\\begin{aligned}g(x) = \\int_{0}^x f(t) \\, {\\mathrm d}\\,t \\sim\n",
    "M + \\sum_{k=1}^\\infty \\left( -\\frac{b_k}{k} \\, \\cos k\\,x + \\frac{a_k}{k}\\,\\sin k\\,x \\,\\right)\\,,  \\end{aligned}$\n",
    "\n",
    "όπου $M$ είναι η μέση τιμή της $g(x)$ στο $[-\\pi,\\pi]$, με $M = \\int_{-\\pi}^\\pi g(x) \\, {\\mathrm d}\\,x$.\n",
    "\n",
    "**Γενικότερα**, αν η μέση τιμή της $f(x)$ δεν είναι μηδέν στο $[-\\pi,\\pi]$, τότε η σειρά που προκύπτει από την όρο προς όρο ολοκλήρωση της σειράς Fourier της $f(x)$, θα περιλαμβάνει και την ταυτοτική συνάρτηση $x$, δηλαδή \n",
    "\n",
    "$\\begin{aligned} g(x) = \\int_{0}^x f(t) \\, {\\mathrm d}\\,t \\sim  \n",
    "\\frac{a_0}{2}\\,x + M + \\sum_{k=1}^\\infty \\left( -\\frac{b_k}{k} \\, \\cos k\\,x + \\frac{a_k}{k}\\,\\sin k\\,x \\,\\right)\\,. \\end{aligned}$\n",
    "\n",
    "Υπάρχουν δυο τρόποι για να ερμηνεύσουμε το αποτέλεσμα αυτό.\n",
    "\n",
    "+ Μπορούμε να γράψουμε την σχέση\n",
    "\n",
    "$\\begin{aligned} g(x) - \\frac{a_0}{2}\\,x  \\sim M + \\sum_{k=1}^\\infty \\left( -\\frac{b_k}{k} \\, \\cos k\\,x + \\frac{a_k}{k}\\,\\sin k\\,x \\,\\right)\\,,  \\end{aligned}$\n",
    "\n",
    "στην οποία το αριστερό μέλος είναι μια $2\\,\\pi$- περιοδική συνάρτηση.\n",
    "\n",
    "+ Εναλλακτικά, μπορούμε να αντικαταστήσουμε στην παραπάνω σχέση, την σειρά Fourier της $x$ που βρήκαμε στο παράδειγμα 3. Το αποτέλεσμα θα είναι η $2\\,\\pi$-περιοδική επέκταση του ολοκληρώματος με το οποίο ορίζεται η $g(x)$."
   ]
  },
  {
   "cell_type": "markdown",
   "metadata": {
    "deletable": true,
    "editable": true
   },
   "source": [
    "###  Παραγώγιση"
   ]
  },
  {
   "cell_type": "markdown",
   "metadata": {
    "deletable": true,
    "editable": true
   },
   "source": [
    "Η σειρά που προκύπτει παραγωγίζοντας την σειρά Fourier μιας συνάρτησης $f(x)$, όρο προς όρο, θα πρέπει να παραμένει τμηματικά συνεχής. Οπότε η $f(x)$ θα πρέπει  να είναι δυο φορές τμηματικά διαφορίσιμη για να μπορέσουμε να εφαρμόσουμε το Θεώρημα 7. της σύγκλισης. Πιο συγκεκριμένα"
   ]
  },
  {
   "cell_type": "markdown",
   "metadata": {
    "deletable": true,
    "editable": true
   },
   "source": [
    "**Θεώρημα 14.** Αν η $f(x)$ έχει μια τμηματικά, δυο φορές διαφορίσιμη, τότε η σειρά Fourier της $f(x)$, μπορεί να παραγωγιστεί όρο προς όρο και είναι\n",
    "\n",
    "$\\begin{aligned} f'(x) \\sim\n",
    "\\sum_{k=1}^\\infty \\left( k\\,b_k\\, \\cos k\\,x - k\\,a_k\\,\\sin k\\,x \\,\\right)\\,.  \\end{aligned}$"
   ]
  },
  {
   "cell_type": "markdown",
   "metadata": {
    "deletable": true,
    "editable": true
   },
   "source": [
    "**Παράδειγμα 15.** Η παράγωγος της συνάρτησης $f(x)=|x|$ είναι η συνάρτηση προσήμου:\n",
    "\n",
    "$\\begin{aligned} \\frac{ \\mathrm{d} }{ \\mathrm{d} x} \\, f(x) = {\\mathrm{sign}} \\, (x)\\,  = \\begin{cases}\n",
    "+1 \\,,  & x > 0 \\,, \\\\ \n",
    "-1  \\,, & x < 0 \\,. \\end{cases} \\end{aligned}$\n",
    "\n",
    "Παραγωγίζουμε όρο προς όρο την σειρά Fourier της $|x|$ που βρήκαμε στο Παράδειγμα 11. και έχουμε "
   ]
  },
  {
   "cell_type": "code",
   "execution_count": 39,
   "metadata": {
    "collapsed": false,
    "deletable": true,
    "editable": true
   },
   "outputs": [
    {
     "data": {
      "text/html": [
       "<html><script type=\"math/tex; mode=display\">\\newcommand{\\Bold}[1]{\\mathbf{#1}}\\frac{4 \\, \\sin\\left(7 \\, x\\right)}{7 \\, \\pi} + \\frac{4 \\, \\sin\\left(5 \\, x\\right)}{5 \\, \\pi} + \\frac{4 \\, \\sin\\left(3 \\, x\\right)}{3 \\, \\pi} + \\frac{4 \\, \\sin\\left(x\\right)}{\\pi}</script></html>"
      ],
      "text/plain": [
       "4/7*sin(7*x)/pi + 4/5*sin(5*x)/pi + 4/3*sin(3*x)/pi + 4*sin(x)/pi"
      ]
     },
     "metadata": {},
     "output_type": "display_data"
    }
   ],
   "source": [
    "fourier_abs.diff(x).show()"
   ]
  },
  {
   "cell_type": "markdown",
   "metadata": {
    "deletable": true,
    "editable": true
   },
   "source": [
    "δηλαδή \n",
    "\n",
    "   $\\begin{aligned} {\\mathrm{sign}} \\,x \\sim \\frac{4}{\\pi}\\, \\left( \\sin x + \\frac{\\sin 3\\,x}{3}+\\frac{\\sin 5\\,x}{5} + \\frac{\\sin 7\\,x}{7} + \\cdots   \\right)\\,. \\end{aligned}$"
   ]
  },
  {
   "cell_type": "markdown",
   "metadata": {
    "deletable": true,
    "editable": true
   },
   "source": [
    "##  Αλλαγή κλίμακας \n",
    "\n",
    "Ορίσαμε την σειρά Fourier μιας συνάρτησης $f(x)$ στο διάστημα $[-\\pi,\\pi]$, με μήκος $2\\,\\pi$, που είναι ίσο με την περίοδο της περιοδικής επέκτασης της $f(x)$. Όμως, δεν υπάρχει κάποιος λόγος να θεωρούμε ότι υπάρχει κάτι το ιδιαίτερο με το μήκος του διαστήματος αυτού. Το αντίθετο μάλιστα, στα προβλήματα του πραγματικού κόσμου τα μήκη ράβδων, νημάτων κτλ. δεν έχουν μήκος $2\\,\\pi$.  Γι' αυτό τον λόγο κρίνεται σκόπιμο να ορίσουμε την σειρά Fourier μιας συνάρτησης $f(x)$ σε οποιοδήποτε συμμετρικό διάστημα $[-L,L]$, με $L$ θετικό πραγματικό αριθμό.    \n",
    "Ο τρόπος που θα υλοποιήσουμε την μετατροπή αυτή είναι να τεντώσουμε κατάλληλα την μεταβλητή \n",
    "$y$ που διατρέχει το διάστημα $[-\\pi,\\pi]$, έτσι ώστε τα άκρα του διαστήματος $[-\\pi,\\pi]$ για τo $y$ να συμπέσουν με τα άκρα του διαστήματος $[-L,L]$ που διατρέχει το $x$. Αυτό επιτυγχάνεται με την αλλαγή μεταβλητής \n",
    "\n",
    "$\\begin{aligned} x = \\frac{L}{\\pi} \\, y \\qquad -\\pi\\leq y \\leq \\pi\\,, \\qquad -\\pi \\leq x \\leq \\pi\\,. \\end{aligned}$"
   ]
  },
  {
   "cell_type": "markdown",
   "metadata": {
    "deletable": true,
    "editable": true
   },
   "source": [
    "\n",
    "Με την αλλαγή αυτή μια συνάρτηση $F(y)$ που παριστάνεται με την σειρά Fourier \n",
    "\n",
    "$\\begin{aligned} F(y) \\sim \\frac{a_0}{2} +  \\sum_{k=1}^\\infty \\left( {a_k} \\, \\cos k\\,y + {b_k}\\,\\sin k\\,y \\,\\right)\\,,  \\end{aligned}$\n",
    "\n",
    "στο $[-\\pi,\\pi]$, με \n",
    "\n",
    "$\\begin{aligned}\n",
    "a_k \\,= \\frac{1}{\\pi} \\int_{-\\pi}^{\\pi} f(y)\\,\\cos k\\,y \\, {\\mathrm{d}} y\\,,\\qquad \n",
    "b_k \\,= \\frac{1}{\\pi} \\int_{-\\pi}^{\\pi} f(y)\\,\\sin k\\,y \\, {\\mathrm{d}} y\\,, \n",
    "\\end{aligned}$\n",
    "\n",
    "μετατρέπεται κάτω από την αλλαγή κλίμακας $x=\\frac{L}{\\pi}\\,y$, σε μια συνάρτηση $f(x)$ που έχει την αναπαράσταση σε σειρά Fourier \n",
    "\n",
    "$\\begin{aligned} f(x) \\sim \\frac{a_0}{2} +  \\sum_{k=1}^\\infty \\left( {a_k} \\, \\cos \\frac{k\\,\\pi\\,x}{L} + {b_k}\\,\\sin \\frac{k\\,\\pi\\,x}{L} \\,\\right)\\,,  \\end{aligned}$\n",
    "\n",
    "στο $[-L,L]$, με \n",
    "\n",
    "$\\begin{aligned} \n",
    "a_k \\,= \\frac{1}{L} \\int_{-L}^{L} f(x)\\,\\cos \\frac{k\\,\\pi\\,x}{L} \\, {\\mathrm{d}} x\\,,\\qquad \n",
    "b_k \\,= \\frac{1}{L} \\int_{-L}^{L} f(x)\\,\\sin \\frac{k\\,\\pi\\,x}{L} \\, {\\mathrm{d}} x\\,.\n",
    "\\end{aligned}$"
   ]
  },
  {
   "cell_type": "markdown",
   "metadata": {
    "deletable": true,
    "editable": true
   },
   "source": [
    "**Παράδειγμα 16.** Θα βρούμε την σειρά Fourier της $f(x)=x$ στο διάστημα $[-1,1]$. Επειδή η $x$ είναι περιττή συνάρτηση αναμένουμε στην σειρά Fourier να μην εμφανίζονται συνημίτονα. \n",
    "Τροποποιούμε ανάλογα στο Sage τα ολοκληρώματα τα άκρα της ολοκλήρωσης, τους συντελεστές κτλ. και έχουμε"
   ]
  },
  {
   "cell_type": "code",
   "execution_count": 40,
   "metadata": {
    "collapsed": false,
    "deletable": true,
    "editable": true
   },
   "outputs": [
    {
     "name": "stdout",
     "output_type": "stream",
     "text": [
      "x |--> x\n"
     ]
    }
   ],
   "source": [
    "f(x)=x ; print f"
   ]
  },
  {
   "cell_type": "code",
   "execution_count": 41,
   "metadata": {
    "collapsed": false,
    "deletable": true,
    "editable": true
   },
   "outputs": [
    {
     "data": {
      "image/png": "[encoded data removed]",
      "text/plain": [
       "Graphics object consisting of 1 graphics primitive"
      ]
     },
     "metadata": {},
     "output_type": "display_data"
    }
   ],
   "source": [
    "pf = plot(f,(x,-1,1)); pf.show(figsize=4)"
   ]
  },
  {
   "cell_type": "code",
   "execution_count": 42,
   "metadata": {
    "collapsed": true,
    "deletable": true,
    "editable": true
   },
   "outputs": [],
   "source": [
    "def inner_scaled(f,g,L):\n",
    "    return 1/L * integrate(f*g,x,-L,L)"
   ]
  },
  {
   "cell_type": "code",
   "execution_count": 43,
   "metadata": {
    "collapsed": false,
    "deletable": true,
    "editable": true
   },
   "outputs": [
    {
     "name": "stdout",
     "output_type": "stream",
     "text": [
      "a0 =  0\n",
      "ak =  0\n",
      "bk =  -2*(-1)^k/(pi*k)\n"
     ]
    }
   ],
   "source": [
    "var('k')\n",
    "l = 1\n",
    "assume(k,'integer')\n",
    "a0 = inner_scaled(f(x),1,1); print str('a0 = '), a0; \n",
    "a(k) = inner_scaled(f(x),cos(k*x*pi/l),l) ; print str('ak = '), a(k);\n",
    "b(k) = inner_scaled(f(x),sin(k*x*pi/l),l); print str('bk = '), b(k);"
   ]
  },
  {
   "cell_type": "code",
   "execution_count": 44,
   "metadata": {
    "collapsed": false,
    "deletable": true,
    "editable": true
   },
   "outputs": [
    {
     "data": {
      "text/html": [
       "<html><script type=\"math/tex; mode=display\">\\newcommand{\\Bold}[1]{\\mathbf{#1}}-\\frac{\\sin\\left(6 \\, \\pi x\\right)}{3 \\, \\pi} + \\frac{2 \\, \\sin\\left(5 \\, \\pi x\\right)}{5 \\, \\pi} - \\frac{\\sin\\left(4 \\, \\pi x\\right)}{2 \\, \\pi} + \\frac{2 \\, \\sin\\left(3 \\, \\pi x\\right)}{3 \\, \\pi} - \\frac{\\sin\\left(2 \\, \\pi x\\right)}{\\pi} + \\frac{2 \\, \\sin\\left(\\pi x\\right)}{\\pi}</script></html>"
      ],
      "text/plain": [
       "-1/3*sin(6*pi*x)/pi + 2/5*sin(5*pi*x)/pi - 1/2*sin(4*pi*x)/pi + 2/3*sin(3*pi*x)/pi - sin(2*pi*x)/pi + 2*sin(pi*x)/pi"
      ]
     },
     "metadata": {},
     "output_type": "display_data"
    }
   ],
   "source": [
    "fourier6_x_scaled = a0/2 + sum( a(k)*cos(k*x*pi/l) + b(k)*sin(k*x*pi/l) for k in [1..6]); \n",
    "fourier6_x_scaled.show()"
   ]
  },
  {
   "cell_type": "markdown",
   "metadata": {
    "deletable": true,
    "editable": true
   },
   "source": [
    "Στο παρακάτω γραφικό απεικονίζουμε το μερικό άθροισμα των έξι πρώτων όρων της σειράς Fourier της $f(x)=x$ στο διάστημα $[-1,1]$, μαζί με την $2$-περιοδική επέκταση της $f(x)$ στην οποία συγκλίνει η σειρά Fourier."
   ]
  },
  {
   "cell_type": "code",
   "execution_count": 45,
   "metadata": {
    "collapsed": false,
    "deletable": true,
    "editable": true
   },
   "outputs": [],
   "source": [
    "def fx_ext(x):\n",
    "    y = f( ( x ) % (2.0*l.n() ) )\n",
    "    return y"
   ]
  },
  {
   "cell_type": "code",
   "execution_count": 46,
   "metadata": {
    "collapsed": false,
    "deletable": true,
    "editable": true,
    "scrolled": true
   },
   "outputs": [
    {
     "data": {
      "image/png": "[encoded data removed]",
      "text/plain": [
       "Graphics object consisting of 13 graphics primitives"
      ]
     },
     "metadata": {},
     "output_type": "display_data"
    }
   ],
   "source": [
    "px_ext = plot(fx_ext,-5.,5, ymin=-1.2 , ymax=1.2, \\\n",
    "              exclude=[i for i in [-4..5] ],  ticks=[1,1], tick_formatter=[1,1], \\\n",
    "              thickness=2 , aspect_ratio=1, plot_points=400 )\n",
    "px_points = point([(i,0) for i in [-3,-1,1,3]],size=20)\n",
    "pf_x_6 = plot(fourier6_x_scaled,(x,-5,5) , ymin=-1.2 , ymax=1.2,color='red' , aspect_ratio=1); \n",
    "(px_ext + px_points + pf_x_6 ).show(figsize=8)"
   ]
  },
  {
   "cell_type": "markdown",
   "metadata": {
    "collapsed": true,
    "deletable": true,
    "editable": true
   },
   "source": [
    "##  Το φαινόμενο Gibbs \n",
    "\n",
    "Όπως έχουμε ήδη παρατηρήσει στα σημεία που η $f(x)$ δεν είναι συνεχής, η σειρά Fourier **αστοχεί** να ταυτιστεί με την πραγματική τιμή της $f(x)$. Μάλιστα αυτή η αστοχία αυτή δεν οφείλεται στην αποκοπή των όρων στην σειρά Fourier. Όσους όρους και να συμπεριλάβουμε στη σειρά Fourier, η τελευταία εξακολουθεί να αστοχεί και μάλιστα η αστοχία δείχνει να μην αλλάζει. Το φαινόμενο αυτό ονομάζεται **φαινόμενο Gibbs** και η απόδειξή του είναι αρκετά πονηρή. Αλλά με την βοήθεια του Sage είναι πολύ πιο εύκολο να την κατανοήσει κανείς.    "
   ]
  },
  {
   "cell_type": "markdown",
   "metadata": {
    "deletable": true,
    "editable": true
   },
   "source": [
    "Θεωρούμε την συνάρτηση προσήμου ${\\mathrm{sign}}(x)$ του Παραδείγματος 15. Όπως είδαμε οι οχτώ πρώτοι όροι στη σειρά Fourier της ${\\mathrm{sign}}(x)$ είναι οι "
   ]
  },
  {
   "cell_type": "code",
   "execution_count": 47,
   "metadata": {
    "collapsed": false,
    "deletable": true,
    "editable": true
   },
   "outputs": [
    {
     "data": {
      "text/html": [
       "<html><script type=\"math/tex; mode=display\">\\newcommand{\\Bold}[1]{\\mathbf{#1}}\\frac{4 \\, \\sin\\left(7 \\, x\\right)}{7 \\, \\pi} + \\frac{4 \\, \\sin\\left(5 \\, x\\right)}{5 \\, \\pi} + \\frac{4 \\, \\sin\\left(3 \\, x\\right)}{3 \\, \\pi} + \\frac{4 \\, \\sin\\left(x\\right)}{\\pi}</script></html>"
      ],
      "text/plain": [
       "4/7*sin(7*x)/pi + 4/5*sin(5*x)/pi + 4/3*sin(3*x)/pi + 4*sin(x)/pi"
      ]
     },
     "metadata": {},
     "output_type": "display_data"
    }
   ],
   "source": [
    "f_sign = fourier_abs.diff(x); f_sign.show()"
   ]
  },
  {
   "cell_type": "code",
   "execution_count": 48,
   "metadata": {
    "collapsed": true,
    "deletable": true,
    "editable": true
   },
   "outputs": [],
   "source": [
    "def sign_ext(x):\n",
    "    if   x % pi.n() == 0.0 :\n",
    "         y = 0\n",
    "    else:\n",
    "         y = sign( ( x ) % (2*pi.n() ) )\n",
    "    return y"
   ]
  },
  {
   "cell_type": "code",
   "execution_count": 49,
   "metadata": {
    "collapsed": false,
    "deletable": true,
    "editable": true
   },
   "outputs": [
    {
     "data": {
      "image/png": "[encoded data removed]",
      "text/plain": [
       "Graphics object consisting of 12 graphics primitives"
      ]
     },
     "metadata": {},
     "output_type": "display_data"
    }
   ],
   "source": [
    "psign_ext = plot(sign_ext,-5*pi,5*pi, ymin=-1.2 , ymax=1.2, \\\n",
    "              exclude=[i*pi for i in [-5..5] ], ticks=[pi,1], tick_formatter=[pi,1/2], \\\n",
    "              thickness=2 , aspect_ratio=3 )\n",
    "psign_points = point([(i*pi,0) for i in [-5..5]],color = 'blue' , size=20)\n",
    "pf_sign = plot(f_sign,(x,-5*pi,5*pi) , ymin=-1.2 , ymax=1.2,color='red' , aspect_ratio=1); \n",
    "(psign_ext + pf_sign + psign_points ).show(figsize=8)"
   ]
  },
  {
   "cell_type": "markdown",
   "metadata": {
    "deletable": true,
    "editable": true
   },
   "source": [
    "Από το σχήμα, διαβάζοντας τις διαβαθμίσεις του γραφικού του Sage, παρατηρούμε ότι η τιμή της σειράς Fourier υπερβαίνει την τιμή που έχει η συνάρτηση για $x>0$, περίπου κατά $+0.2$, το μέγιστο. Αντίστοιχες διαπιστώσεις ισχύουν και αριστερά του σημείου $x=0$. Θέλουμε να βρούμε πόση ακριβώς  είναι η μεγαλύτερη αστοχία της σειράς Fourier, όσους όρους (άπειρους) και να συμπεριλάβουμε στην σειρά Fourier."
   ]
  },
  {
   "cell_type": "markdown",
   "metadata": {
    "deletable": true,
    "editable": true
   },
   "source": [
    "Τα πιθανά ακρότατα της σειράς Fourier  (ψάχνουμε για τοπικό μέγιστο στο διάστημα $(0,\\pi)$ ) είναι εκεί που μηδενίζεται η πρώτη παράγωγός της για πρώτη φορά, οπότε"
   ]
  },
  {
   "cell_type": "code",
   "execution_count": 50,
   "metadata": {
    "collapsed": false,
    "deletable": true,
    "editable": true
   },
   "outputs": [
    {
     "data": {
      "text/html": [
       "<html><script type=\"math/tex; mode=display\">\\newcommand{\\Bold}[1]{\\mathbf{#1}}\\frac{4 \\, \\cos\\left(7 \\, x\\right)}{\\pi} + \\frac{4 \\, \\cos\\left(5 \\, x\\right)}{\\pi} + \\frac{4 \\, \\cos\\left(3 \\, x\\right)}{\\pi} + \\frac{4 \\, \\cos\\left(x\\right)}{\\pi}</script></html>"
      ],
      "text/plain": [
       "4*cos(7*x)/pi + 4*cos(5*x)/pi + 4*cos(3*x)/pi + 4*cos(x)/pi"
      ]
     },
     "metadata": {},
     "output_type": "display_data"
    }
   ],
   "source": [
    "f_sign.diff().show()"
   ]
  },
  {
   "cell_type": "markdown",
   "metadata": {
    "deletable": true,
    "editable": true
   },
   "source": [
    "H μερικό άθροισμα της σειράς σειράς Fourier που προκύπτει από την παραγώγιση της σειράς Fourier της ${\\mathrm{sign}}(x)$, όρο προς όρο, είναι\n",
    "\n",
    "$\\begin{aligned} {\\mathrm{sign}}_Ν'(x) \\sim \\frac{4}{\\pi} \\, \\left( \\, \\cos x + \\cos 3\\,x+ \\cdots + \\cos (2\\,N-1)\\,x\\, \\,\\right) \\,.\\end{aligned}$\n",
    "\n",
    "Είναι αξιοσημείωτο γεγονός ότι το άθροισμα αυτό έχει κλειστό τύπο τονοποίο γνωρίζει το Sage!! Πραγματικά"
   ]
  },
  {
   "cell_type": "code",
   "execution_count": 51,
   "metadata": {
    "collapsed": false,
    "deletable": true,
    "editable": true
   },
   "outputs": [
    {
     "data": {
      "text/plain": [
       "(x, k, N)"
      ]
     },
     "execution_count": 51,
     "metadata": {},
     "output_type": "execute_result"
    }
   ],
   "source": [
    "var('x,k,N')"
   ]
  },
  {
   "cell_type": "code",
   "execution_count": 52,
   "metadata": {
    "collapsed": false,
    "deletable": true,
    "editable": true
   },
   "outputs": [
    {
     "data": {
      "text/html": [
       "<html><script type=\"math/tex; mode=display\">\\newcommand{\\Bold}[1]{\\mathbf{#1}}\\frac{2 \\, \\csc\\left(x\\right) \\sin\\left(2 \\, N x\\right)}{\\pi}</script></html>"
      ],
      "text/plain": [
       "2*csc(x)*sin(2*N*x)/pi"
      ]
     },
     "metadata": {},
     "output_type": "display_data"
    }
   ],
   "source": [
    "sum_1 = 4/pi * sum(cos((2*k-1)*x), k, 1, N);\n",
    "sum_2 = sum_1({arctan2(sin(2*x),cos(2*x)) : 2*x}).trig_simplify();\n",
    "sum_3 = sum_2.trig_reduce();  sum_3.show()"
   ]
  },
  {
   "cell_type": "markdown",
   "metadata": {
    "deletable": true,
    "editable": true
   },
   "source": [
    "Δηλαδή  \n",
    "\n",
    "$\\begin{aligned} {\\mathrm{sign}}_Ν'(x) = \\frac{2}{\\pi} \\, \\frac{\\sin 2\\,N\\,x}{\\sin x}\\,.\\end{aligned}$"
   ]
  },
  {
   "cell_type": "markdown",
   "metadata": {
    "deletable": true,
    "editable": true
   },
   "source": [
    "Η ψηλότερη κορυφή στην αστοχία στο διάστημα $(0,\\pi)$ είναι εκεί όπου μηδενίζεται για πρώτη φορά η παραπάνω παράγωγος, δηλαδή για $x=\\frac{\\pi}{2\\,N}$. Θέτοντας την τιμή αυτή για το $x$ στο μερικό άθροισμα της ${\\mathrm{sign}}_N(x)$ βρίσκουμε ότι  \n",
    "\n",
    "$\\begin{aligned} {\\mathrm{sign}}_Ν\\left(\\frac{\\pi}{2\\,N}\\right) = \n",
    " \\frac{2}{\\pi} \\, \\frac{\\pi}{N}\\, \\left( \\, \\frac{\\sin (\\pi/2\\,N)}{\\pi/2\\,N} + \\frac{\\sin (3\\,\\pi/2\\,N)}{3\\,\\pi/2\\,N} + \\cdots + \\frac{\\sin \\big(2\\,N-1)\\,\\pi/2\\,N\\big)}{(2\\,N-1)\\pi/2\\,N} \\right)\\,. \\end{aligned}$\n",
    " \n",
    "Το παραπάνω άθροισμα είναι ένα άθροισμα Riemann, όπου ως ενδιάμεσα σημεία παίρνουμε τα μέσα των διαστημάτων \n",
    "$\\phantom{.}0 = x_0 < x_1 < x_2 < \\cdots < x_{N-1} < x_{N} = \\pi$. Οπότε καθώς το $N$ απειρίζεται, το παραπάνω άθροισμα γίνεται το παρακάτω ορισμένο ολοκλήρωμα Riemann\n",
    "\n",
    "$\\begin{aligned} \\lim_{N\\rightarrow \\infty} {\\mathrm{sign}}_Ν\\left(\\frac{\\pi}{2\\,N}\\right)  = \\frac{2}{\\pi}\\,  \\int_0^\\pi \\frac{\\sin x}{x} \\, {\\mathrm{d}} \\,x \\,, \\qquad \\Delta\\,x = \\frac{\\pi}{N}\\,.\\end{aligned}$\n",
    "\n",
    "Με άλλα λόγια, καθώς το $N$ απειρίζεται, η τιμή της σειρά Fourier της ${\\mathrm{sign}}(x)$ στο σημείο με την μεγαλύτερη αστοχία τείνει στην τιμή του παραπάνω ολοκληρώματος. Το ολοκλήρωμα αυτό υπολογίζεται **μόνο** με αριθμητική προσέγγιση, οπότε με την βοήθεια του Sage (σε ακρίβεια e-13) βρίσκουμε"
   ]
  },
  {
   "cell_type": "code",
   "execution_count": 53,
   "metadata": {
    "collapsed": false,
    "deletable": true,
    "editable": true
   },
   "outputs": [
    {
     "name": "stdout",
     "output_type": "stream",
     "text": [
      "1.17897974447217\n"
     ]
    }
   ],
   "source": [
    "astoxia = 2/pi * integrate(sin(x)/x,(x,0,pi)) ; print astoxia.n()"
   ]
  },
  {
   "cell_type": "markdown",
   "metadata": {
    "deletable": true,
    "editable": true
   },
   "source": [
    "Δηλαδή η τιμή της σειράς Fourier της ${\\mathrm{sign}}(x)$ στο σημείο με την μεγαλύτερη αστοχία \n",
    "είναι 1.17897974447217, που σημαίνει ότι η σειρά Fourier αστοχεί να βρει την σωστή τιμή της $f(x)$ που προσεγγίζει, περίπου κατά 0.18, το οποίο είναι **9% του άλματος** από το -1 στο 1. Το ίδιο συμβαίνει για όλες τις ασυνεχείς συναρτήσεις που παρουσιάζουν άλματα σε σημεία, δηλαδή:\n",
    "\n",
    "<div class=\"alert alert-info\">\n",
    "\n",
    "Στο σημείο ασυνέχειας $x_0$ μιας συνάρτησης $f(x)$, η σειρά Fourier της $f(x)$ αστοχεί να βρει την σωστή τιμή κατά **9% του άλματος** που παρουσιάζει η $f(x)$ στο σημείο $x_0$. Υπενθυμίζεται ότι το άλμα της $f(x)$  στο $x_0$ είναι ο αριθμός $\\,\\,f(x_0^+)-f(x_0^-)$. \n",
    "\n",
    "</div>\n",
    "\n",
    "\n"
   ]
  }
 ],
 "metadata": {
  "kernelspec": {
   "display_name": "SageMath 8.0",
   "language": "",
   "name": "sagemath"
  },
  "language_info": {
   "codemirror_mode": {
    "name": "ipython",
    "version": 2
   },
   "file_extension": ".py",
   "mimetype": "text/x-python",
   "name": "python",
   "nbconvert_exporter": "python",
   "pygments_lexer": "ipython2",
   "version": "2.7.13"
  }
 },
 "nbformat": 4,
 "nbformat_minor": 0
}
