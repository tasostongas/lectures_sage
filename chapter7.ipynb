{
 "cells": [
  {
   "cell_type": "markdown",
   "metadata": {},
   "source": [
    "<p> <br> <p> <br>  <p> <br>  <p>\n",
    "<hr>\n",
    "# Κεφάλαιο 6\n",
    "<hr>\n",
    "<p> <br> <p> <br>  <p> <br>  <p>"
   ]
  },
  {
   "cell_type": "markdown",
   "metadata": {},
   "source": [
    "# 6. Συμβολική κι αριθμητική επίλυση εξισώσεων κι ανισώσεων"
   ]
  },
  {
   "cell_type": "markdown",
   "metadata": {},
   "source": [
    "<p> <font style=\"font-family:Dejavu Serif;FONT-SIZE:15px;LINE-HEIGHT:25px;\"> \n",
    "Πολλά προβλήματα των μαθηματικών ανάγονται στην επίλυση ενός συστήματος εξισώσεων οι οποίες μπορεί να είναι αλγεβρικές, υπερβατικές, διαφορικές, ολοκληρωτικές κτλ. Σε αυτό το κεφάλαιο θα μελετήσουμε την επίλυση συστημάτων μη-γραμμικών αλγεβρικών και υπερβατικών εξισώσεων με την βοήθεια του Sage, τόσο συμβολικά όσο και αριθμητικά.\n",
    "\n",
    "</p>"
   ]
  },
  {
   "cell_type": "markdown",
   "metadata": {
    "collapsed": true
   },
   "source": [
    "## 6.1 Συμβολική επίλυση εξισώσεων"
   ]
  },
  {
   "cell_type": "markdown",
   "metadata": {},
   "source": [
    "<p> <font style=\"font-family:Dejavu Serif;FONT-SIZE:15px;LINE-HEIGHT:25px;\"> \n",
    "Ας θεωρήσουμε μια απλή τριγωνομετρική εξίσωση της μορφής\n",
    "$$ \\sin x= \\cos x$$\n",
    "και ας ζητήσουμε από το Sage να μας λύσει την εξίσωση ως προς $x$\n",
    "</p>"
   ]
  },
  {
   "cell_type": "code",
   "execution_count": 1,
   "metadata": {
    "collapsed": false
   },
   "outputs": [
    {
     "name": "stdout",
     "output_type": "stream",
     "text": [
      "[\n",
      "sin(x) == cos(x)\n",
      "]\n"
     ]
    }
   ],
   "source": [
    "eq = sin(x)-cos(x)==0\n",
    "print solve(eq,x)"
   ]
  },
  {
   "cell_type": "markdown",
   "metadata": {
    "collapsed": true
   },
   "source": [
    "<p> <font style=\"font-family:Dejavu Serif;FONT-SIZE:15px;LINE-HEIGHT:25px;\"> \n",
    "Το αποτέλεσμα δεν είναι και τόσο διαφωτιστικό αφού το Sage μας επέστρεψε την εξίσωση που θέλουμε να επιλύσουμε. Ας δούμε πιo προσεκτικά ποιά συστήματα χρησιμοποιεί το Sage για την επίλυση εξισώσεων \n",
    "</p>"
   ]
  },
  {
   "cell_type": "code",
   "execution_count": 2,
   "metadata": {
    "collapsed": false
   },
   "outputs": [
    {
     "name": "stdout",
     "output_type": "stream",
     "text": [
      "['ginac', 'Maxima']\n"
     ]
    }
   ],
   "source": [
    "from sage.misc.citation import get_systems\n",
    "print get_systems('solve(x^2-x==0,x)')"
   ]
  },
  {
   "cell_type": "markdown",
   "metadata": {
    "collapsed": true
   },
   "source": [
    "<p> <font style=\"font-family:Dejavu Serif;FONT-SIZE:15px;LINE-HEIGHT:25px;\"> \n",
    "Συνεπώς για επίλυση εξισώσεων το Sage χρησιμοποιεί το Maxima. Από την βοήθεια για την εντολή <code>solve</code> παρατηρούμε ότι υπάρχουν διαθέσιμες κάποιες επιλογές όταν θέλουμε να λύσουμε εξισώσεις με πολλές ρίζες, όπως οι τριγωνομετρικές εξισώσεις. Η επιλογή που μας προτρέπει να χρησιμοποιήσουμε το Sage είναι <code>to_poly_solve = 'force'</code> \n",
    "\n",
    "</p>"
   ]
  },
  {
   "cell_type": "code",
   "execution_count": 3,
   "metadata": {
    "collapsed": false
   },
   "outputs": [
    {
     "name": "stdout",
     "output_type": "stream",
     "text": [
      "[x == -3/4*pi + 2*pi*z38, x == 1/4*pi + 2*pi*z40]\n"
     ]
    }
   ],
   "source": [
    "print solve(eq,x,to_poly_solve='force')"
   ]
  },
  {
   "cell_type": "markdown",
   "metadata": {
    "collapsed": true
   },
   "source": [
    "<p> <font style=\"font-family:Dejavu Serif;FONT-SIZE:15px;LINE-HEIGHT:25px;\"> \n",
    "Το αποτέλεσμα εμφανίζει δυο ελεύθερες μεταβλητές οι οποίες προέκυψαν από την διαδικασία επίλυσης που εκτελεί το Maxima. Το όνομά τους αρχίζει με το γράμμα <code>z</code> που σημαίνει ότι πρόκειται για μεταβλητές που διατρέχουν το σύνολο  $\\mathbb{Z}$ των ακεραίων. Οπότε οι λύσεις που μας δίνει το Sage είναι <br><br>\n",
    "$$x=-\\frac{3\\,\\pi}{4} + 2\\,k\\,\\pi \\,, \\qquad x=\\frac{\\pi}{4} + 2\\,k\\,\\pi \\,,\\qquad k\\in \\mathbb{Z}\\,,$$<br>\n",
    "όπου τα πολλαπλάσια του $\\pi$ είναι άρτια. Όμως παρατηρούμε ότι μπορούμε να γράψουμε και τις δυο λύσεις σε μία γιατί <br><br>\n",
    "$$x=-\\frac{3\\,\\pi}{4} + 2\\,k\\,\\pi = \\frac{\\pi}{4} - \\pi +2\\,k\\,\\pi = \\frac{\\pi}{4} +(2\\,k-1)\\,\\pi \\,.$$ <br>\n",
    "Οπότε, ουσιαστικά το αποτέλεσμα που μας δίνει το Sage είναι <br><br>\n",
    "$$ x= \\frac{\\pi}{4} + k\\,\\pi \\,,\\qquad k\\in \\mathbb{Z} \\,, $$\n",
    "όπου αν το $k$ είναι άρτιος έχουμε την δεύτερη λύση, ενώ αν το $k$ είναι περιττός έχουμε την πρώτη λύση. Το αποτέλεσμα μπορούμε να το ελέγξουμε άμεσα δίνοντας\n",
    "</p>"
   ]
  },
  {
   "cell_type": "code",
   "execution_count": 4,
   "metadata": {
    "collapsed": false
   },
   "outputs": [
    {
     "name": "stdout",
     "output_type": "stream",
     "text": [
      "0 == 0\n"
     ]
    }
   ],
   "source": [
    "var('k'); assume(k,'integer');\n",
    "print eq(x = pi/4 + k*pi).trig_expand();\n",
    "forget(k,'integer')"
   ]
  },
  {
   "cell_type": "markdown",
   "metadata": {},
   "source": [
    "<p> <font style=\"font-family:Dejavu Serif;FONT-SIZE:15px;LINE-HEIGHT:25px;\"> \n",
    "Με παρόμοιο τρόπο το Sage επιλύει συμβολικά συστήματα εξισώσεων. Για παράδειγμα\n",
    "</p>"
   ]
  },
  {
   "cell_type": "code",
   "execution_count": 5,
   "metadata": {
    "collapsed": false
   },
   "outputs": [
    {
     "name": "stdout",
     "output_type": "stream",
     "text": [
      "[\n",
      "[x == 1/2*pi + pi*z43, y == -1/2*pi - pi*z43],\n",
      "[x == -pi*z44, y == pi*z44]\n",
      "]\n"
     ]
    }
   ],
   "source": [
    "var('x y')\n",
    "print solve([cos(x)*sin(y) == 0, x + y==0],x,y,to_poly_solve='force')"
   ]
  },
  {
   "cell_type": "markdown",
   "metadata": {},
   "source": [
    "<p> <font style=\"font-family:Dejavu Serif;FONT-SIZE:15px;LINE-HEIGHT:25px;\"> \n",
    "όπου και πάλι οι ελεύθερες μεταβλητές διατρέχουν το σύνολο $\\mathbb{Z}$ των ακεραίων, γιατί το όνομά τους αρχίζει από <code>z</code>. Ας επιλύσουμε το ακόλουθο σύστημα εξισώσεων \n",
    "</p>"
   ]
  },
  {
   "cell_type": "code",
   "execution_count": 6,
   "metadata": {
    "collapsed": false
   },
   "outputs": [
    {
     "name": "stdout",
     "output_type": "stream",
     "text": [
      "[\n",
      "[x == -r3 + 3, y == r3]\n",
      "]\n"
     ]
    }
   ],
   "source": [
    "var('x y')\n",
    "print solve([x+y == 3, 2*x+2*y == 6],x,y)"
   ]
  },
  {
   "cell_type": "markdown",
   "metadata": {},
   "source": [
    "<p> <font style=\"font-family:Dejavu Serif;FONT-SIZE:15px;LINE-HEIGHT:25px;\"> \n",
    "Εδώ η ελεύθερη μεταβλητή διατρέχει το σύνολο $\\mathbb{R}$ των πραγματικών αριθμών, αφού το όνομά της αρχίζει από <code>r</code>. Όταν είναι εφικτό, το Sage επιλύει συμβολικά, δηλαδή ακριβώς, και συστήματα εξισώσεων όπου τις εξισώσεις τις δηλώνουμε σε λίστα. Για παράδειγμα \n",
    "</p>\n"
   ]
  },
  {
   "cell_type": "code",
   "execution_count": 7,
   "metadata": {
    "collapsed": false
   },
   "outputs": [
    {
     "name": "stdout",
     "output_type": "stream",
     "text": [
      "[\n",
      "[x == -5/2*I*sqrt(5) + 5, y == 5/2*I*sqrt(5) + 5],\n",
      "[x == 5/2*I*sqrt(5) + 5, y == -5/2*I*sqrt(5) + 5]\n",
      "]\n"
     ]
    }
   ],
   "source": [
    "var('x y' )\n",
    "print solve([sqrt(x) + sqrt(y) == 5, x + y == 10], x, y)"
   ]
  },
  {
   "cell_type": "markdown",
   "metadata": {},
   "source": [
    "## 6.2 Αριθμητική επίλυση εξισώσεων"
   ]
  },
  {
   "cell_type": "markdown",
   "metadata": {},
   "source": [
    "### 6.2.1 Βαθμωτές υπερβατικές εξισώσεις"
   ]
  },
  {
   "cell_type": "markdown",
   "metadata": {},
   "source": [
    "<p> <font style=\"font-family:Dejavu Serif;FONT-SIZE:15px;LINE-HEIGHT:25px;\"> \n",
    "Ας θεωρήσουμε την εξίσωση <br><br>\n",
    "$$ \\sin x + x\\, \\cos x =0\\,,$$ <br>\n",
    "και ας ζητήσουμε από το Sage να μας λύσει την εξίσωση ως προς $x$\n",
    "</p>"
   ]
  },
  {
   "cell_type": "code",
   "execution_count": 8,
   "metadata": {
    "collapsed": false
   },
   "outputs": [
    {
     "name": "stdout",
     "output_type": "stream",
     "text": [
      "[\n",
      "x == -sin(x)/cos(x)\n",
      "]\n"
     ]
    }
   ],
   "source": [
    "var('x')\n",
    "eq = sin(x) + x*cos(x) == 0\n",
    "print solve(eq,x)"
   ]
  },
  {
   "cell_type": "markdown",
   "metadata": {},
   "source": [
    "<p> <font style=\"font-family:Dejavu Serif;FONT-SIZE:15px;LINE-HEIGHT:25px;\"> \n",
    "Το αποτέλεσμα δεν είναι αυτό που περιμέναμε. Το Sage διαίρεσε(!) με το $\\cos x$ και μας επέστρεψε ουσιαστικά την ίδια εξίσωση της οποίας θέλουμε να βρούμε τις ρίζες. Με μια δεύτερη σκέψη, το αποτέλεσμα δεν πρέπει να μας δημιουργεί και τόσο μεγάλη εντύπωση αφού δεν αναμένουμε να υπάρχει κλειστός τύπος που να μας δίνει τις ρίζες της εξίσωσης.<br>\n",
    "Όμως, το αποτέλεσμα όπως μας το επιστρέφει το Sage μας δίνει την εξής ιδέα. Οι ρίζες της εξίσωσης είναι τα σημεία τομής του γραφήματος της συνάρτησης $y=-\\tan x$ με την ευθεία $y=x$. Προτού κάνουμε μια γραφική παράσταση και των δυο συναρτήσεων ας βεβαιωθούμε ότι τα σημεία που μηδενίζεται η $\\cos x$ δεν είναι ρίζες της εξίσωσής μας.\n",
    "</p>"
   ]
  },
  {
   "cell_type": "code",
   "execution_count": 9,
   "metadata": {
    "collapsed": false
   },
   "outputs": [
    {
     "name": "stdout",
     "output_type": "stream",
     "text": [
      "[x == 1/2*pi + pi*z58]\n"
     ]
    }
   ],
   "source": [
    "r = solve(cos(x)==0,x,to_poly_solve='force'); print r"
   ]
  },
  {
   "cell_type": "code",
   "execution_count": 10,
   "metadata": {
    "collapsed": false
   },
   "outputs": [
    {
     "name": "stdout",
     "output_type": "stream",
     "text": [
      "-1\n",
      "1\n"
     ]
    }
   ],
   "source": [
    "var('k')\n",
    "assume(k,'integer')\n",
    "assume(k,'odd')\n",
    "print eq(x=1/2*pi+k*pi).lhs().trig_expand()\n",
    "forget(k,'odd'); assume(k,'even')\n",
    "print eq(x=1/2*pi+k*pi).lhs().trig_expand()\n",
    "forget(k,'even'); forget(k,'integer');"
   ]
  },
  {
   "cell_type": "markdown",
   "metadata": {},
   "source": [
    "<p> <font style=\"font-family:Dejavu Serif;FONT-SIZE:15px;LINE-HEIGHT:25px;\"> \n",
    "Πράγματι, αν $k$ είναι περιττός το αριστερό μέλος της εξίσωσης είναι -1, ενώ αν $k$ άρτιος το αριστερό μέλος της εξίσωσης είναι 1. Οπότε δεν χάνουμε ρίζες διαιρώντας την εξίσωσή μας με $\\cos x$. Ας δούμε τώρα μαζί τα γραφήματα των συναρτήσεων $y=-\\tan x$, και της ευθείας $y=x$.\n",
    "</p>"
   ]
  },
  {
   "cell_type": "code",
   "execution_count": 11,
   "metadata": {
    "collapsed": false
   },
   "outputs": [
    {
     "data": {
      "image/png": "[encoded data removed]",
      "text/plain": [
       "Graphics object consisting of 7 graphics primitives"
      ]
     },
     "metadata": {},
     "output_type": "display_data"
    }
   ],
   "source": [
    "ef = plot(-tan(x), (x,-3*pi+pi/2, 3*pi-pi/2), ymin=-8, ymax=8, detect_poles = True ,thickness=2); \n",
    "line = plot(x , (x,-3*pi+pi/2, 3*pi-pi/2), ymin=-8, ymax=8, color = 'green' ,thickness=2) \n",
    "(ef+line).show(figsize=4)"
   ]
  },
  {
   "cell_type": "markdown",
   "metadata": {},
   "source": [
    "<p> <font style=\"font-family:Dejavu Serif;FONT-SIZE:15px;LINE-HEIGHT:25px;\"> \n",
    "Από το σχήμα παρατηρούμε ότι σε κάθε υποδιάστημα του πεδίου ορισμού της $y=-\\tan x$, δηλαδή σε κάθε ανοιχτό διάστημα της μορφής $(-\\frac{\\pi}{2}+k\\,\\pi\\,,\\,\\frac{\\pi}{2}+k\\,\\pi)$, το γράφημα της $y=x$ τέμνει το γράφημα της $y=-\\tan x$, σε ένα και μόνο ένα σημείο. Το θέμα είναι τώρα να εντοπίσουμε τα σημεία αυτά, αριθμητικά, αφού συμβολικά αυτό δεν είναι εφικτό. Η εντολή για την αριθμητική επίλυση μιας εξίσωσης στο Sage είναι η <strong><code>find_root</code></strong>. Ας δούμε ποιά συστήματα χρησιμοποιεί το Sage για την αριθμητική επίλυση εξισώσεων.\n",
    "</p> "
   ]
  },
  {
   "cell_type": "code",
   "execution_count": 12,
   "metadata": {
    "collapsed": false
   },
   "outputs": [
    {
     "name": "stdout",
     "output_type": "stream",
     "text": [
      "['numpy', 'ginac', 'scipy']\n"
     ]
    }
   ],
   "source": [
    "from sage.misc.citation import get_systems\n",
    "print get_systems('find_root(x, -1 , 1)')"
   ]
  },
  {
   "cell_type": "markdown",
   "metadata": {},
   "source": [
    "<p> <font style=\"font-family:Dejavu Serif;FONT-SIZE:15px;LINE-HEIGHT:25px;\"> \n",
    "Το Sage για την αριθμητική εύρεση των ριζών μιας συνάρτησης χρησιμοποιεί το <strong><code>ΝumPy</code></strong> και το <strong><code>SciPy</code></strong>. Πράγματι, εκτελώντας την εντολή <strong><code>find_root??</code></strong> (με διπλό ερωτηματικό!) μας εμφανίζεται ο κώδικας της εντολής <strong><code>find_root</code></strong>, ο οποίος στο τέλος καταλήγει να καλεί έναν αλγόριθμο του <strong><code>SciPy</code></strong> <br> <br>\n",
    "<code>import scipy.optimize\n",
    "return scipy.optimize.brentq(f, a, b,\n",
    "                    full_output=full_output, xtol=xtol, rtol=rtol, maxiter=maxiter)</code>\n",
    "</p> "
   ]
  },
  {
   "cell_type": "markdown",
   "metadata": {},
   "source": [
    "<p> <font style=\"font-family:Dejavu Serif;FONT-SIZE:15px;LINE-HEIGHT:25px;\"> \n",
    "Οπότε το συμπέρασμα είναι ότι ο αλγόριθμος που χρησιμοποιείται για την αριθμητική εύρεση των ριζών μιας συνάρτησης στο Sage, είναι η κλασική μέθοδο του Brent. Ο αλγόριθμος αυτός συνδυάζει τις μεθόδους της διχοτόμησης, της παρεμβολής και της τετραγωνικής παρεμβολής για τον υπολογισμό της αντίστροφης συνάρτησης της οποίας αναζητούμε τις ρίζες της. Ο αλγόριθμος του Brent είναι μια πολύ δημοφιλής μέθοδος για την εύρεση των ριζών μιας συνάρτησης επειδή είναι ευσταθής, αξιόπιστος και ταχύτατος. Ας δούμε όμως περισσότερες λεπτομέρειες για τον αλγόριθμο του Brent, καλώντας βοήθεια από το <strong><code>SciPy</code></strong> για τον αλγόριθμο \n",
    "</p>"
   ]
  },
  {
   "cell_type": "code",
   "execution_count": 13,
   "metadata": {
    "collapsed": true
   },
   "outputs": [],
   "source": [
    "from scipy.optimize import brentq"
   ]
  },
  {
   "cell_type": "code",
   "execution_count": null,
   "metadata": {
    "collapsed": true
   },
   "outputs": [],
   "source": [
    "help(brentq)"
   ]
  },
  {
   "cell_type": "markdown",
   "metadata": {},
   "source": [
    "<p>\n",
    "<code>\n",
    "Help on function brentq in module scipy.optimize.zeros:\n",
    "\n",
    "brentq(f, a, b, args=(), xtol=1e-12, rtol=4.4408920985006262e-16, maxiter=100, full_output=False, disp=True)\n",
    "    Find a root of a function in given interval.\n",
    "    .\n",
    "    .\n",
    "    Notes\n",
    "    -----\n",
    "    `f` must be continuous.  f(a) and f(b) must have opposite signs.\n",
    "</code></p>"
   ]
  },
  {
   "cell_type": "markdown",
   "metadata": {},
   "source": [
    "<p> <font style=\"font-family:Dejavu Serif;FONT-SIZE:15px;LINE-HEIGHT:25px;\"> \n",
    "Διαβάζοντας προσεχτικά παρατηρούμε ότι για να χρησιμοποιήσουμε την μέθοδο του Brent με αξιοπιστία θα πρέπει: <br> \n",
    "<ul> \n",
    "<li> α) η συνάρτηση $y=f(x)$ της οποίας αναζητούμε τις ρίζες, να είναι συνεχής στο διάστημα $[a,b]$, και</li> \n",
    "<li> β) οι τιμές $f(a)$, $f(b)$ στα άκρα του διαστήματος, να είναι ετερόσημες.</li>\n",
    "</ul> <br>\n",
    "Οπότε τίθεται το ερώτημα, ποιά $f(x)$ θα πάρουμε για να εξασφαλίσουμε την σύγκλιση της μεθόδου αριθμητικά; Μετά από λίγη σκέψη, θα πάρουμε την αρχική μας συνάρτηση $f(x)=\\sin x + x\\, \\cos x$, η οποία είναι συνεχής σε όλο το πεδίο οριμού της δηλαδή το $\\mathbb{R}$, και ως διαστήματα θα πάρουμε διαστήματα της μορφής $[-\\frac{\\pi}{2}+k\\,\\pi\\,,\\,\\frac{\\pi}{2}+k\\,\\pi]$, στα οποία γνωρίζουμε ότι σε κάθε ένα από αυτά υπάρχει μία και μόνο μία ρίζα της εξίσωσης $f(x)=0$. <br> \n",
    "Είναι όμως ετερόσημες οι τιμές της συνάρτησης  $\\,\\,f(x)=\\sin x+x\\,\\cos x$, στα άκρα των παραπάνω διαστημάτων $[a,b]$;\n",
    "</p> "
   ]
  },
  {
   "cell_type": "code",
   "execution_count": 14,
   "metadata": {
    "collapsed": false
   },
   "outputs": [
    {
     "name": "stdout",
     "output_type": "stream",
     "text": [
      "αν k άρτιος:\n",
      "f(a)= 1 f(b)= -1\n",
      "αν k περιττός:\n",
      "f(a)= -1 f(b)= 1\n"
     ]
    }
   ],
   "source": [
    "f = sin(x)+x*cos(x)\n",
    "var('k')\n",
    "assume(k,'odd'); \n",
    "print str('αν k άρτιος:');\n",
    "print str('f(a)='), f(x=-pi/2 + k*pi).trig_expand() , str('f(b)='), f(x=pi/2 + k*pi).trig_expand()\n",
    "forget(); assume(k,'even');\n",
    "print str('αν k περιττός:');\n",
    "print str('f(a)='), f(x=-pi/2 + k*pi).trig_expand() , str('f(b)='), f(x=pi/2 + k*pi).trig_expand()\n",
    "forget()"
   ]
  },
  {
   "cell_type": "markdown",
   "metadata": {},
   "source": [
    "<p> <font style=\"font-family:Dejavu Serif;FONT-SIZE:15px;LINE-HEIGHT:25px;\"> \n",
    "Οπότε, εξασφαλίζονται όλες οι προϋποθέσεις για την επιτυχή εφαρμογή του αλγόριθμου Brent για να βρούμε τις ρίζες της $f(x)$. Με την παρακάτω εντολή βρίσκουμε τις πέντε ρίζες στα αντίστοιχα πέντε διαστήματα της μορφής $[-\\frac{\\pi}{2}+k\\,\\pi\\,,\\,\\frac{\\pi}{2}+k\\,\\pi]$ με $k=-2,-1,0,1,2$,  και τα τοποθετούμε σε μια λίστα με όνομα <code>w</code>\n",
    "</p>"
   ]
  },
  {
   "cell_type": "code",
   "execution_count": 15,
   "metadata": {
    "collapsed": false
   },
   "outputs": [
    {
     "name": "stdout",
     "output_type": "stream",
     "text": [
      "[-4.913180439434884, -2.028757838110434, 0.0, 2.028757838110434, 4.913180439434884]\n"
     ]
    }
   ],
   "source": [
    "w=[]\n",
    "for k in [-2..2]: \n",
    "    root = find_root(f, -pi/2 + k*pi , pi/2 + k*pi)\n",
    "    w.append(root)\n",
    "print w"
   ]
  },
  {
   "cell_type": "markdown",
   "metadata": {},
   "source": [
    "<p> <font style=\"font-family:Dejavu Serif;FONT-SIZE:15px;LINE-HEIGHT:25px;\"> \n",
    "Προφανώς, με ανάλογο τρόπο μπορούμε να εντοπίσουμε και τις ρίζες που βρίσκονται στα υπόλοιπα διαστήματα. Για παράδειγμα, ας πάμε στο διάστημα $[-\\frac{\\pi}{2}+k\\,\\pi\\,,\\,\\frac{\\pi}{2}+k\\,\\pi]$, με $k=10000$.\n",
    "</p> "
   ]
  },
  {
   "cell_type": "code",
   "execution_count": 16,
   "metadata": {
    "collapsed": false
   },
   "outputs": [
    {
     "name": "stdout",
     "output_type": "stream",
     "text": [
      "(31414.355771403716,       converged: True\n",
      "           flag: 'converged'\n",
      " function_calls: 6\n",
      "     iterations: 5\n",
      "           root: 31414.355771403716)\n"
     ]
    }
   ],
   "source": [
    "j = 10000\n",
    "root = find_root(f, -pi/2 + j*pi , pi/2 + j*pi,full_output=True)\n",
    "print root"
   ]
  },
  {
   "cell_type": "markdown",
   "metadata": {},
   "source": [
    "<p> <font style=\"font-family:Dejavu Serif;FONT-SIZE:15px;LINE-HEIGHT:25px;\"> \n",
    "Tέλος, ας απεικονίσουμε γραφικά τα αποτελέσματά μας στην αρχική γεωμετρική εικόνα των ριζών ως σημεία τομής του γραφήματος της $y=-\\tan x$ με την ευθεία $y=x$.\n",
    "</p>"
   ]
  },
  {
   "cell_type": "code",
   "execution_count": 17,
   "metadata": {
    "collapsed": true
   },
   "outputs": [],
   "source": [
    "pp=list([ ( w[i] , w[i] ) for i in [0..(len(w)-1)]])"
   ]
  },
  {
   "cell_type": "code",
   "execution_count": 18,
   "metadata": {
    "collapsed": false
   },
   "outputs": [],
   "source": [
    "pp_plot=scatter_plot(pp, facecolor='red', marker='o', markersize=30)"
   ]
  },
  {
   "cell_type": "code",
   "execution_count": 19,
   "metadata": {
    "collapsed": false
   },
   "outputs": [
    {
     "data": {
      "image/png": "[encoded data removed]",
      "text/plain": [
       "Graphics object consisting of 8 graphics primitives"
      ]
     },
     "metadata": {},
     "output_type": "display_data"
    }
   ],
   "source": [
    "(ef+line+pp_plot).show(figsize=4)"
   ]
  },
  {
   "cell_type": "markdown",
   "metadata": {
    "collapsed": true
   },
   "source": [
    "<p> <font style=\"font-family:Dejavu Serif;FONT-SIZE:15px;LINE-HEIGHT:25px;\"> \n",
    "Αν εφαρμόζαμε την μέθοδο αριθμητικής εύρεσης των ριζών στην συνάρτηση $g(x)=-\\tan x-x$, ο αλγόριθμος θα αποτύγχανε. Ο λόγος είναι ότι δεν υπάρχουν οι τιμές της $g(x)$ στα άκρα των διαστημάτων $[-\\frac{\\pi}{2}+k\\,\\pi\\,,\\,\\frac{\\pi}{2}+k\\,\\pi]$, αφού η $g(x)$ δεν ορίζεται στα σημεία αυτά. Επιπλέον, δεν μπορούμε να αποφανθούμε ούτε για το πρόσημο της $g(x)$ στα άκρα των διαστημάτων αφού ούτε τα όρια υπάρχουν εκεί. Για παράδειγμα, στο $x=\\frac{\\pi}{2}$ τα πλευρικά όρια της $g(x)$ είναι\n",
    "</p>"
   ]
  },
  {
   "cell_type": "code",
   "execution_count": 20,
   "metadata": {
    "collapsed": false
   },
   "outputs": [
    {
     "name": "stdout",
     "output_type": "stream",
     "text": [
      "+Infinity\n",
      "-Infinity\n"
     ]
    }
   ],
   "source": [
    "g = -tan(x) - x;\n",
    "print g.limit(x=pi/2,dir = '+');\n",
    "print g.limit(x=pi/2,dir = '-');"
   ]
  },
  {
   "cell_type": "code",
   "execution_count": 21,
   "metadata": {
    "collapsed": false,
    "scrolled": true
   },
   "outputs": [
    {
     "name": "stderr",
     "output_type": "stream",
     "text": [
      "/home/tasos/sage-7.5.1/local/lib/python2.7/site-packages/sage/repl/ipython_kernel/__main__.py:1: DeprecationWarning: Substitution using function-call syntax and unnamed arguments is deprecated and will be removed from a future release of Sage; you can use named arguments instead, like EXPR(x=..., y=...)\n",
      "See http://trac.sagemath.org/5930 for details.\n",
      "  from ipykernel.kernelapp import IPKernelApp\n"
     ]
    },
    {
     "ename": "ValueError",
     "evalue": "f(a) and f(b) must have different signs",
     "output_type": "error",
     "traceback": [
      "\u001b[0;31m---------------------------------------------------------------------------\u001b[0m",
      "\u001b[0;31mValueError\u001b[0m                                Traceback (most recent call last)",
      "\u001b[0;32m<ipython-input-21-d4a9b741e8dc>\u001b[0m in \u001b[0;36m<module>\u001b[0;34m()\u001b[0m\n\u001b[0;32m----> 1\u001b[0;31m \u001b[0mbrentq\u001b[0m\u001b[0;34m(\u001b[0m\u001b[0mg\u001b[0m\u001b[0;34m,\u001b[0m \u001b[0mpi\u001b[0m\u001b[0;34m/\u001b[0m\u001b[0mInteger\u001b[0m\u001b[0;34m(\u001b[0m\u001b[0;36m2\u001b[0m\u001b[0;34m)\u001b[0m\u001b[0;34m,\u001b[0m \u001b[0mInteger\u001b[0m\u001b[0;34m(\u001b[0m\u001b[0;36m3\u001b[0m\u001b[0;34m)\u001b[0m\u001b[0;34m*\u001b[0m\u001b[0mpi\u001b[0m\u001b[0;34m/\u001b[0m\u001b[0mInteger\u001b[0m\u001b[0;34m(\u001b[0m\u001b[0;36m2\u001b[0m\u001b[0;34m)\u001b[0m \u001b[0;34m,\u001b[0m \u001b[0mfull_output\u001b[0m\u001b[0;34m=\u001b[0m\u001b[0mtrue\u001b[0m\u001b[0;34m)\u001b[0m\u001b[0;34m\u001b[0m\u001b[0m\n\u001b[0m",
      "\u001b[0;32m/home/tasos/sage-7.5.1/local/lib/python2.7/site-packages/scipy/optimize/zeros.pyc\u001b[0m in \u001b[0;36mbrentq\u001b[0;34m(f, a, b, args, xtol, rtol, maxiter, full_output, disp)\u001b[0m\n\u001b[1;32m    436\u001b[0m     \u001b[0;32mif\u001b[0m \u001b[0mrtol\u001b[0m \u001b[0;34m<\u001b[0m \u001b[0m_rtol\u001b[0m\u001b[0;34m:\u001b[0m\u001b[0;34m\u001b[0m\u001b[0m\n\u001b[1;32m    437\u001b[0m         \u001b[0;32mraise\u001b[0m \u001b[0mValueError\u001b[0m\u001b[0;34m(\u001b[0m\u001b[0;34m\"rtol too small (%g < %g)\"\u001b[0m \u001b[0;34m%\u001b[0m \u001b[0;34m(\u001b[0m\u001b[0mrtol\u001b[0m\u001b[0;34m,\u001b[0m \u001b[0m_rtol\u001b[0m\u001b[0;34m)\u001b[0m\u001b[0;34m)\u001b[0m\u001b[0;34m\u001b[0m\u001b[0m\n\u001b[0;32m--> 438\u001b[0;31m     \u001b[0mr\u001b[0m \u001b[0;34m=\u001b[0m \u001b[0m_zeros\u001b[0m\u001b[0;34m.\u001b[0m\u001b[0m_brentq\u001b[0m\u001b[0;34m(\u001b[0m\u001b[0mf\u001b[0m\u001b[0;34m,\u001b[0m\u001b[0ma\u001b[0m\u001b[0;34m,\u001b[0m\u001b[0mb\u001b[0m\u001b[0;34m,\u001b[0m\u001b[0mxtol\u001b[0m\u001b[0;34m,\u001b[0m\u001b[0mrtol\u001b[0m\u001b[0;34m,\u001b[0m\u001b[0mmaxiter\u001b[0m\u001b[0;34m,\u001b[0m\u001b[0margs\u001b[0m\u001b[0;34m,\u001b[0m\u001b[0mfull_output\u001b[0m\u001b[0;34m,\u001b[0m\u001b[0mdisp\u001b[0m\u001b[0;34m)\u001b[0m\u001b[0;34m\u001b[0m\u001b[0m\n\u001b[0m\u001b[1;32m    439\u001b[0m     \u001b[0;32mreturn\u001b[0m \u001b[0mresults_c\u001b[0m\u001b[0;34m(\u001b[0m\u001b[0mfull_output\u001b[0m\u001b[0;34m,\u001b[0m \u001b[0mr\u001b[0m\u001b[0;34m)\u001b[0m\u001b[0;34m\u001b[0m\u001b[0m\n\u001b[1;32m    440\u001b[0m \u001b[0;34m\u001b[0m\u001b[0m\n",
      "\u001b[0;31mValueError\u001b[0m: f(a) and f(b) must have different signs"
     ]
    }
   ],
   "source": [
    "brentq(g, pi/2, 3*pi/2 , full_output=true)"
   ]
  },
  {
   "cell_type": "markdown",
   "metadata": {},
   "source": [
    "### 6.2.2 Συστήματα υπερβατικών εξισώσεων"
   ]
  },
  {
   "cell_type": "markdown",
   "metadata": {},
   "source": [
    "<p> <font style=\"font-family:Dejavu Serif;FONT-SIZE:15px;LINE-HEIGHT:25px;\"> \n",
    "Προς το παρόν στο Sage δεν έχει υλοποιηθεί ακόμη (version 7.5.1) κάποια εντολή για την αριθμητική επίλυση συστημάτων υπερβατικών εξισώσεων. Όμως,  για τον σκοπό αυτό μπορούμε να χρησιμοποιήσουμε αλγόριθμους που είναι διαθέσιμοι στο <strong><code>SciPy</code></strong> σε συνδυασμό με το <strong><code>NumPy</code></strong>. Ορισμένοι αλγόριθμοι χρησιμοποιούν τον Ιακωβιανό πίνακα των συναρτήσεων που ορίζουν το σύστημα που θέλουμε να επιλύσουμε οπότε πριν καλέσουμε τις εντολές από τα <strong><code>SciPy</code></strong>, <strong><code>NumPy</code></strong> μπορούμε να υπολογίσουμε τον πίνακα αυτό συμβολικά από το Sage και να απεικονίσουμε τουλάχιστον γραφικά την λύση των εξισώσεων.\n",
    "</p>"
   ]
  },
  {
   "cell_type": "markdown",
   "metadata": {},
   "source": [
    "<p> <font style=\"font-family:Dejavu Serif;FONT-SIZE:15px;LINE-HEIGHT:25px;\"> \n",
    "Για παράδειγμα, ας υποθέσουμε ότι θέλουμε να επιλύσουμε το εξής σύστημα εξισώσεων <br> <br>\n",
    "$$ f(x,y) := e^x + y-4=0\\,, \\qquad g(x,y) := e^y - x  =0 \\,, \\qquad x,y\\in \\mathbb{R}\\,. $$ <br>\n",
    "Ας ορίσουμε τις συναρτήσεις αυτές στο Sage\n",
    "</p>"
   ]
  },
  {
   "cell_type": "code",
   "execution_count": 22,
   "metadata": {
    "collapsed": false
   },
   "outputs": [
    {
     "name": "stdout",
     "output_type": "stream",
     "text": [
      "y + e^x - 4\n",
      "-x + e^y\n"
     ]
    }
   ],
   "source": [
    "var('x y')\n",
    "f = exp(x)+y-4; \n",
    "g = exp(y)-x;\n",
    "print f; print g"
   ]
  },
  {
   "cell_type": "markdown",
   "metadata": {},
   "source": [
    "<p> <font style=\"font-family:Dejavu Serif;FONT-SIZE:15px;LINE-HEIGHT:25px;\"> \n",
    "Για να απεικονίσουμε γραφικά το(α) σημείο(α) (αν υπάρχουν) που τέμνονται οι καμπύλες $f(x,y)=0$ και $g(x,y)=0$, χρησιμοποιούμε την εντολή <strong><code>contour_plot</code></strong> και από όλες τις ισοσταθμικές καμπύλες $f(x,y)=c_1$ και $g(x,y)=c_2$ επιλέγουμε εκείνες για τις οποίες ισχύει $c_1=c_2=0$.\n",
    "</p>"
   ]
  },
  {
   "cell_type": "code",
   "execution_count": 23,
   "metadata": {
    "collapsed": false
   },
   "outputs": [
    {
     "data": {
      "image/png": "[encoded data removed]",
      "text/plain": [
       "Graphics object consisting of 2 graphics primitives"
      ]
     },
     "metadata": {},
     "output_type": "display_data"
    }
   ],
   "source": [
    "cf = contour_plot(f, (x,-3,3), (y,-3,3), contours=[0], fill=False, labels=True,cmap='jet', label_inline=True,\n",
    "label_fmt={0:\" f=0 \"}, label_colors='black',linewidths=2)\n",
    "cg = contour_plot(g, (x,-3,3), (y,-3,3), contours=[0], fill=False, labels=True,cmap='autumn', label_inline=True,\n",
    "                  label_fmt={0:\" g=0 \"}, label_colors='black',linewidths=2)\n",
    "(cf+cg).show(figsize=5)"
   ]
  },
  {
   "cell_type": "markdown",
   "metadata": {},
   "source": [
    "<p> <font style=\"font-family:Dejavu Serif;FONT-SIZE:15px;LINE-HEIGHT:25px;\"> \n",
    "Παρατηρούμε ότι στο τετράγωνο $S=[-3,3]\\times[-3,3]$ υπάρχει ένα σημείο τομής των καμπυλών $f(x,y)=0$, $g(x,y)=0$ και μάλιστα το σημείο αυτό είναι μοναδικό στο $S$. Οπότε, αν ο αλγόριθμος που θα χρησιμοποιήσουμε συγκλίνει και πάρουμε αρχική προσέγγιση κοντά στην μοναδική ρίζα, ο αλγόριθμος μάλλον θα συγκλίνει στην μοναδική ρίζα στο $S$. <br>\n",
    "Ορισμένοι αλγόριθμοι του <strong><code>SciPy</code></strong> χρησιμοποιούν τον Ιακωβιανό πίνακα $J(f,g;x,y)$, οπότε το Sage μπορεί να μας βοηθήσει να υπολογίσουμε συμβολικά τον πίνακα $J(f,g;x,y)$ και να τον περάσουμε ακριβώς στους αλγόριθμους αυτούς, αντί ο αντίστοιχος αλγόριθμος του <strong><code>SciPy</code></strong> να τον υπολογίσει προσεγγιστικά. Επίσης, επειδή το <strong><code>SciPy</code></strong> χρησιμοποιεί την Python, πρέπει να μετατρέψουμε τις συναρτήσεις $(f,g)$ και τον πίνακα $J$ σε ανάλογο συμβολισμό. Αυτά υλοποιούνται στις παρακάτω εντολές οι οποίες καταλήγουν στην εύρεση της αριθμητικής τιμής της ρίζας που ψάχνουμε.\n",
    "</p>"
   ]
  },
  {
   "cell_type": "code",
   "execution_count": 24,
   "metadata": {
    "collapsed": false
   },
   "outputs": [
    {
     "name": "stdout",
     "output_type": "stream",
     "text": [
      "[e^x   1]\n",
      "[ -1 e^y]\n"
     ]
    }
   ],
   "source": [
    "F = (f,g)\n",
    "print jacobian(F,(x,y))"
   ]
  },
  {
   "cell_type": "code",
   "execution_count": 25,
   "metadata": {
    "collapsed": true
   },
   "outputs": [],
   "source": [
    "import numpy as np\n",
    "from scipy import optimize"
   ]
  },
  {
   "cell_type": "code",
   "execution_count": 26,
   "metadata": {
    "collapsed": false
   },
   "outputs": [],
   "source": [
    "def fun(x): \n",
    "    return [ exp(x[0]) + x[1] - 4.0, exp(x[1])-x[0] ]"
   ]
  },
  {
   "cell_type": "code",
   "execution_count": 27,
   "metadata": {
    "collapsed": true
   },
   "outputs": [],
   "source": [
    "def jac(x):\n",
    "    return np.array([[ exp(x[0]) ,  1.0], \n",
    "                     [ -1.0      ,  exp(x[1])]])"
   ]
  },
  {
   "cell_type": "code",
   "execution_count": 28,
   "metadata": {
    "collapsed": false
   },
   "outputs": [
    {
     "name": "stdout",
     "output_type": "stream",
     "text": [
      "[ 1.31531486  0.27407607]\n"
     ]
    }
   ],
   "source": [
    "sol = optimize.root(fun, [1, 1] , jac = jac , method='hybr'); print sol.x"
   ]
  },
  {
   "cell_type": "markdown",
   "metadata": {},
   "source": [
    "<p> <font style=\"font-family:Dejavu Serif;FONT-SIZE:15px;LINE-HEIGHT:25px;\"> \n",
    "Η αρχική εκτίμηση της ρίζας που δώσαμε ήταν το σημείο $(1,1)$, και ο αλγόριθμος που χρησιμοποιήσαμε είναι η <code>hybr</code> (μια τροποποιημένη μεθόδος του αλγόριθμου του Powell όπως μας πληροφορεί στην σχετική βοήθεια το <strong><code>SciPy</code></strong>). Την αριθμητική τιμή της λύσης που μας έδωσε το <strong><code>SciPy</code></strong> μπορούμε να την καταχωρίσουμε στο Sage για περαιτέρω μελέτη. Για παράδειγμα \n",
    "</p>"
   ]
  },
  {
   "cell_type": "code",
   "execution_count": 29,
   "metadata": {
    "collapsed": false
   },
   "outputs": [
    {
     "name": "stdout",
     "output_type": "stream",
     "text": [
      "x0= 1.31531485571\n",
      "y0= 0.274076070971\n"
     ]
    }
   ],
   "source": [
    "x0 = sol.x[0]; y0 = sol.x[1]; print str('x0='), x0 ; print str('y0='), y0 ;"
   ]
  },
  {
   "cell_type": "code",
   "execution_count": 30,
   "metadata": {
    "collapsed": false
   },
   "outputs": [
    {
     "name": "stdout",
     "output_type": "stream",
     "text": [
      "-2.2248869413488137e-13\n",
      "-3.028466366572502e-12\n"
     ]
    }
   ],
   "source": [
    "print f(x=x0,y=y0);\n",
    "print g(x=x0,y=y0), "
   ]
  },
  {
   "cell_type": "markdown",
   "metadata": {},
   "source": [
    "<p> <font style=\"font-family:Dejavu Serif;FONT-SIZE:15px;LINE-HEIGHT:25px;\"> \n",
    "από όπου συμπεραίνουμε ότι η λύση που βρήκαμε ικανοποιεί και τις δυο εξισώσεις $f(x,y)=0$, $g(x,y)=0$, σχεδόν στην ακρίβεια δεκαδικών ψηφίων κινητής υποδιαστολής που εκτελεί ο υπολογιστής μας. Για διαφορετικούς αλγόριθμους αριθμητικής επίλυσης συστημάτων εξισώσεων με το <strong><code>SciPy</code></strong> παραπέμπουμε τον αναγνώστη στην σχετική βοήθεια.\n",
    "</p>"
   ]
  },
  {
   "cell_type": "code",
   "execution_count": null,
   "metadata": {
    "collapsed": true
   },
   "outputs": [],
   "source": [
    "help(optimize.root)"
   ]
  },
  {
   "cell_type": "markdown",
   "metadata": {},
   "source": [
    "## 6.3 Συστήματα πολυωνυμικών εξισώσεων <br>\n",
    "### 6.3.1 Βάσεις Gröbner\n",
    "\n",
    "<p> <font style=\"font-family:Dejavu Serif;FONT-SIZE:15px;LINE-HEIGHT:25px;\"> \n",
    "Αν το σύστημα των εξισώσεων που θέλουμε να επιλύσουμε απαρτίζεται από πολυώνυμα τότε το Sage μας δίνει την δυνατότητα να βρούμε μια βάση Gröbner. Η κατασκευή μιας βάσης Gröbner για ένα πολυωνυμικό ιδεώδες είναι το μη-γραμμικό ανάλογο της διαδικασίας να φέρουμε ένα σύστημα γραμμικών εξισώσεων σε ανηγμένη κλιμακωτή μορφή. Η ύπαρξη μιας βάσης Gröbner μπορεί να συναχθεί από το λεγόμενο Θεώρημα βάσης του Hilbert. Όμως η εύρεση με ρητό τρόπο μιας βάσης Gröbner μπορεί να είναι ένα αρκετά δύσκολο κι επίπονο εγχείρημα. Ο λεγόμενος αλγόριθμος του Buchberger δίνει την γενική λύση στην κατασκευή μιας βάσης Gröbner από ένα ιδεώδες πολυωνύμων κι έχει υλοποιηθεί στο Sage μέσω της Singular. <br>\n",
    "Μια συστηματική διαπραγμάτευση των βάσεων Gröbner μας βγάζει πολύ έξω από τους στόχους των σημειώσεων αυτών. Αντί αυτής της διαπραγμάτευσης θα παρουσιάσουμε ένα παράδειγμα από την γεωμετρία που μας δίνει μια εποπτική εικόνα επίλυσης πολυωνυμικών εξισώσεων μέσω της κατασκευής μιας βάσης Gröbner. <br> <br>\n",
    "Το θεώρημα του Descartes (1643) λέει ότι οι ακτίνες οποιωνδήποτε τεσσάρων κύκλων οι οποίοι εφάπτονται αμοιβαία και οι τέσσερις, ικανοποιεί μια συγκεκριμένη δευτεροβάθμια εξίσωση. Δοσμένων τριών αμοιβαία εφαπτόμενων κύκλων, λύνοντας την δευτεροβάθμια εξίσωση μπορούμε να κατασκευάσουμε τον τέταρτο κύκλο. <br> <br>\n",
    "\n",
    "Είναι γνωστό από την Αναλυτική Γεωμετρία ότι δυο κύκλοι $(O_1(x_1,y_1),r_1)$ και $(Ο_2(x_2,y_2),r_2)$ με κέντρα $O_1$, $O_2$ και ακτίνες $r_1,r_2$, αντίστοιχα, που εφάπτονται <strong>εξωτερικά</strong> ικανοποιούν την εξίσωση <br><br>\n",
    "$$ r_1+r_2 = {\\overline{O_1O_2}} \\quad \\Rightarrow \\quad r_1+r_2 = \\sqrt{(x_1-x_2)^2 + (y_1-y_2^2)}\\,.$$\n",
    "<br><br>\n",
    "Επιλέγουμε τρια τυχαία σημεία στο επίπεδο εκ των οποίων τα δύο είναι πάνω στο x-άξονα. Επειδή θέλουμε οι κύκλοι που θα έχουν κέντρα τα σημεία αυτά να εφάπτονται εξωτερικά επιλέγουμε τα σημεία αυτά ανάλογα.\n",
    "</p>"
   ]
  },
  {
   "cell_type": "code",
   "execution_count": 73,
   "metadata": {
    "collapsed": false
   },
   "outputs": [
    {
     "data": {
      "image/png": "[encoded data removed]",
      "text/plain": [
       "Graphics object consisting of 3 graphics primitives"
      ]
     },
     "metadata": {},
     "output_type": "display_data"
    }
   ],
   "source": [
    "(c1x , c1y) = (RR.random_element(0.5, 1).n(digits=2)  , 0)\n",
    "(c2x , c2y) = (RR.random_element(-1, -0.5).n(digits=2) , 0)\n",
    "(c3x , c3y) = (RR.random_element(-1, 1).n(digits=2) , RR.random_element(1, 1.5).n(digits=2))\n",
    "p1 = point((c1x, c1y), size=25, color='blue')\n",
    "p2 = point((c2x, c2y), size=25, color='blue')\n",
    "p3 = point((c3x, c3y), size=25, color='blue')\n",
    "(p1+p2+p3).show(figsize=3,axes=False)"
   ]
  },
  {
   "cell_type": "markdown",
   "metadata": {
    "collapsed": true
   },
   "source": [
    "<p> <font style=\"font-family:Dejavu Serif;FONT-SIZE:15px;LINE-HEIGHT:25px;\"> \n",
    "Στην συνεχεία καταστρώνουμε τις εξισώσεις που μας δίνουν τις ακτίνες $r_1,r_2,r_3$ των τριών κύκλων, υποθέτοντας ότι αυτοί εφάπτονται αμοιβαία. \n",
    "</p>"
   ]
  },
  {
   "cell_type": "code",
   "execution_count": 74,
   "metadata": {
    "collapsed": true
   },
   "outputs": [],
   "source": [
    "var('r1 , r2, r3')\n",
    "eq1 = r1 + r2 == sqrt((c1x-c2x)^2 + (c1y-c2y)^2);\n",
    "eq2 = r1 + r3 == sqrt((c1x-c3x)^2 + (c1y-c3y)^2);\n",
    "eq3 = r2 + r3 == sqrt((c2x-c3x)^2 + (c2y-c3y)^2);\n",
    "sol=solve([eq1,eq2,eq3],[r1,r2,r3],solution_dict=true)"
   ]
  },
  {
   "cell_type": "markdown",
   "metadata": {},
   "source": [
    "<p> <font style=\"font-family:Dejavu Serif;FONT-SIZE:15px;LINE-HEIGHT:25px;\"> \n",
    "Το παραπάνω σύστημα είναι ένα γραμμικό σύστημα για τις ακτίνες το οποίο λύνεται εύκολα και καταχωρούμε τις λύσεις στις μεταβλητές των ακτίνων\n",
    "</p>"
   ]
  },
  {
   "cell_type": "code",
   "execution_count": 75,
   "metadata": {
    "collapsed": true
   },
   "outputs": [],
   "source": [
    "rr1 = sol[0][r1];\n",
    "rr2 = sol[0][r2];\n",
    "rr3 = sol[0][r3];"
   ]
  },
  {
   "cell_type": "markdown",
   "metadata": {},
   "source": [
    "<p> <font style=\"font-family:Dejavu Serif;FONT-SIZE:15px;LINE-HEIGHT:25px;\"> \n",
    "Το αποτέλεσμα είναι οι εξής τρεις αμοιβαία εφαπτόμενοι κύκλοι\n",
    "</p>"
   ]
  },
  {
   "cell_type": "code",
   "execution_count": 76,
   "metadata": {
    "collapsed": false
   },
   "outputs": [
    {
     "data": {
      "image/png": "[encoded data removed]",
      "text/plain": [
       "Graphics object consisting of 6 graphics primitives"
      ]
     },
     "metadata": {},
     "output_type": "display_data"
    }
   ],
   "source": [
    "var('x,y')\n",
    "c1 = implicit_plot((x - c1x)^2 + (y - c1y)^2 - rr1^2, (x, -3, 3), (y, -3, 3), color='green')\n",
    "c2 = implicit_plot((x - c2x)^2 + (y - c2y)^2 - rr2^2, (x, -3, 3), (y, -3, 3), color='green')\n",
    "c3 = implicit_plot((x - c3x)^2 + (y - c3y)^2 - rr3^2, (x, -3, 3), (y, -3, 3), color='green')\n",
    "(p1 + p2 + p3 + c1 + c2 + c3 ).show(figsize=6,frame=False)"
   ]
  },
  {
   "cell_type": "markdown",
   "metadata": {},
   "source": [
    "<p> <font style=\"font-family:Dejavu Serif;FONT-SIZE:15px;LINE-HEIGHT:25px;\"> \n",
    "Το πρόβλημα του Descartes, το οποίο αποτελεί ένα περιορισμένο πρόβλημα του Απολλώνιου από την Πέργαμο, είναι να βρούμε έναν τέταρτο κύκλο ο οποίος είναι εφαπτόμενος και στους τρεις δοσμένους αμοιβαία εφαπτόμενους κύκλους. <br><br> Ας ονομάσουμε με $Ο_4(x,y)$ και $r$, το κέντρο και την ακτίνα, αντίστοιχα, του τέταρτου κύκλου. Τότε είναι προφανές ότι για να εφάπτεται ο τέταρτος κύκλος αμοιβαία και στους τρεις άλλους κύκλους θα πρέπει να ισχύει το σύστημα των εξισώσεων <br><br>"
   ]
  },
  {
   "cell_type": "markdown",
   "metadata": {},
   "source": [
    "<p> <font style=\"font-family:Dejavu Serif;FONT-SIZE:15px;LINE-HEIGHT:25px;\"> \n",
    "$$(x - x_1)^2 + (y - y_1)^2 - (r + r_1)^2 =0 \\,,$$ <br>\n",
    "$$(x - x_2)^2 + (y - y_2)^2 - (r + r_2)^2 =0 \\,,$$ <br>\n",
    "$$(x - x_3)^2 + (y - y_3)^2 - (r + r_3)^2 =0 \\,.$$ <br>\n",
    "</p>"
   ]
  },
  {
   "cell_type": "markdown",
   "metadata": {},
   "source": [
    "<p> <font style=\"font-family:Dejavu Serif;FONT-SIZE:15px;LINE-HEIGHT:25px;\"> \n",
    "Το παραπάνω πρόκειται για ένα σύστημα τριών πολυωνυμικών εξισώσεων δευτέρου βαθμού για τις τρεις άγνωστες ποσότητες, το κέντρο $(x,y)$ και την ακτίνα $r$ του τέταρτου κύκλου $O_4$. Θα επιλύσουμε το σύστημα αυτό στο Sage κατασκευάζοντας μια βάση Gröbner. Πρώτα απ' όλα σχηματίζουμε συμβολικά το σύστημα των εξισώσεων.\n",
    "</p>"
   ]
  },
  {
   "cell_type": "code",
   "execution_count": 77,
   "metadata": {
    "collapsed": true
   },
   "outputs": [],
   "source": [
    "var('r')\n",
    "e1 = (x - c1x)^2 + (y - c1y)^2 - (r + rr1)^2\n",
    "e2 = (x - c2x)^2 + (y - c2y)^2 - (r + rr2)^2\n",
    "e3 = (x - c3x)^2 + (y - c3y)^2 - (r + rr3)^2\n",
    "eqs = [e1, e2, e3]"
   ]
  },
  {
   "cell_type": "markdown",
   "metadata": {},
   "source": [
    "<p> <font style=\"font-family:Dejavu Serif;FONT-SIZE:15px;LINE-HEIGHT:25px;\"> \n",
    "Στην συνέχεια δημιουργούμε έναν δακτύλιο πολυωνύμων τριών μεταβλητών $(x,y,r)$ με συντελεστές στους ρητούς, με λεξικογραφική διάταξη μονονύμων, και μεταγράφουμε στον δακτύλιο αυτό, τα πολυώνυμα που ορίζουν τις εξισώσεις μας.\n",
    "</p>"
   ]
  },
  {
   "cell_type": "code",
   "execution_count": 78,
   "metadata": {
    "collapsed": false
   },
   "outputs": [
    {
     "name": "stdout",
     "output_type": "stream",
     "text": [
      "Multivariate Polynomial Ring in x, y, r over Rational Field\n",
      "x^2 - 13/11*x + y^2 - r^2 - 9629/10000*r + 5681165439/48400000000\n"
     ]
    }
   ],
   "source": [
    "PR.<x,y,r> = PolynomialRing(QQ, order='lex')\n",
    "print PR\n",
    "q1 = PR(e1); q2 = PR(e2); q3 = PR(e3)\n",
    "print q1; "
   ]
  },
  {
   "cell_type": "markdown",
   "metadata": {},
   "source": [
    "<p> <font style=\"font-family:Dejavu Serif;FONT-SIZE:15px;LINE-HEIGHT:25px;\"> \n",
    "Κατόπιν, τα πολυώνυμα $q_1,q_2,q_3$ τα θέτουμε σε μια λίστα και ορίζουμε το ιδεώδες των πολυωνύμων για το οποίο θα κατασκευάσουμε μια βάση Gröbner\n",
    "</p>"
   ]
  },
  {
   "cell_type": "code",
   "execution_count": 79,
   "metadata": {
    "collapsed": false
   },
   "outputs": [
    {
     "name": "stdout",
     "output_type": "stream",
     "text": [
      "Ideal (x^2 - 13/11*x + y^2 - r^2 - 9629/10000*r + 5681165439/48400000000, x^2 + 64/41*x + y^2 - r^2 - 17793/10000*r - 122589217169/672400000000, x^2 - 19/25*x + y^2 - 80/29*y - r^2 - 18261/10000*r + 408132834239/336400000000) of Multivariate Polynomial Ring in x, y, r over Rational Field\n"
     ]
    }
   ],
   "source": [
    "qs = [q1, q2, q3]\n",
    "I = Ideal(qs)\n",
    "print I"
   ]
  },
  {
   "cell_type": "markdown",
   "metadata": {},
   "source": [
    "<p> <font style=\"font-family:Dejavu Serif;FONT-SIZE:15px;LINE-HEIGHT:25px;\"> \n",
    "Με την εντολή <strong><code>groebner_basis()</code></strong> το Sage μας επιστρέφει την βάση Gröbner του $Ι$\n",
    "</p>"
   ]
  },
  {
   "cell_type": "code",
   "execution_count": 80,
   "metadata": {
    "collapsed": false
   },
   "outputs": [
    {
     "name": "stdout",
     "output_type": "stream",
     "text": [
      "[x - 920491/3092500*r - 3047916797551/27894350000000, y + 826922733/3092500000*r - 334864050819951073/808936150000000000, r^2 + 3021278944676744784109101/1725064554532205538410000*r - 112255335432816194070696394554851329/549613226360582807530016540400000000]\n"
     ]
    }
   ],
   "source": [
    "B = I.groebner_basis()\n",
    "print B"
   ]
  },
  {
   "cell_type": "markdown",
   "metadata": {},
   "source": [
    "<p> <font style=\"font-family:Dejavu Serif;FONT-SIZE:15px;LINE-HEIGHT:25px;\"> \n",
    "Παρατηρούμε ότι το τρίτο πολυώνυμο στην λίστα (βάση Gröbner)  που μας έδωσε το Sage είναι δευτέρου βαθμού και αφορά μόνο την μεταβλητή $r$, την ακτίνα του τέταρτου κύκλου. Τα πρώτα δυο πολυώνυμα είναι γραμμικά στις μεταβλητές $x,y,r$. Οπότε λύνοντας την δευτεροβάθμια εξίσωση για το $r$ παίρνουμε δυο λύσεις (ένα εσωτερικό κι έναν εξωτερικό εφαπτόμενο κύκλο) και αντικαταθιστώντας στις δυο πρώτες παίρνουμε τα αντίστοιχα κέντρα των κύκλων. Πραγματικά\n",
    "</p>"
   ]
  },
  {
   "cell_type": "code",
   "execution_count": 81,
   "metadata": {
    "collapsed": true
   },
   "outputs": [],
   "source": [
    "soln = I.variety(RR)"
   ]
  },
  {
   "cell_type": "code",
   "execution_count": 82,
   "metadata": {
    "collapsed": true
   },
   "outputs": [],
   "source": [
    "(x1s , y1s , r1s) = (soln[0][x] , soln[0][y] , soln[0][r])\n",
    "(x2s , y2s , r2s) = (soln[1][x] , soln[1][y] , soln[1][r])"
   ]
  },
  {
   "cell_type": "code",
   "execution_count": 83,
   "metadata": {
    "collapsed": true
   },
   "outputs": [],
   "source": [
    "var('x , y')\n",
    "kyk1=implicit_plot((x-x1s)^2+(y-y1s)^2-r1s^2, (x, -3, 3), (y, -3, 3), color='red')\n",
    "kyk2=implicit_plot((x-x2s)^2+(y-y2s)^2-r2s^2, (x, -3, 3), (y, -3, 3), color='red')"
   ]
  },
  {
   "cell_type": "code",
   "execution_count": 84,
   "metadata": {
    "collapsed": false
   },
   "outputs": [
    {
     "data": {
      "image/png": "[encoded data removed]",
      "text/plain": [
       "Graphics object consisting of 8 graphics primitives"
      ]
     },
     "metadata": {},
     "output_type": "display_data"
    }
   ],
   "source": [
    "(p1 + p2 + p3 + c1 + c2 + c3 + kyk1 + kyk2).show(figsize=7,frame=False)"
   ]
  },
  {
   "cell_type": "markdown",
   "metadata": {},
   "source": [
    "### 6.3.2 Απαλείφουσα\n",
    "\n",
    "<p> <font style=\"font-family:Dejavu Serif;FONT-SIZE:15px;LINE-HEIGHT:25px;\"> \n",
    "Μια εναλλακτική μέθοδος για την επίλυση πολυωνυμικών εξισώσεων είναι να χρησιμοποιήσουμε την απαλείφουσα, η οποία είναι διαθέσιμη στο Sage μέσω της Singular. Η απαλείφουσα είναι μια ορίζουσα και αποτελεί το μη-γραμμικό ανάλογο της γνωστής μας ορίζουσας για γραμμικά συστήματα εξισώσεων. Πιο συγκεκριμένα. <br><br>\n",
    "Η απαλείφουσα δυο πολυωνύμων <br>\n",
    "$$ f = a_m\\, x^m + a_{m-1}\\,x^{m-1} + \\cdots a_0\\,,$$ <br>\n",
    "$$ g = b_n\\, x^n + b_{n-1}\\,x^{n-1} + \\cdots b_0\\,,$$ <br>\n",
    "με $a_m,b_n\\neq 0 $, ορίζεται ως η $(m+n)\\times (m+n)$ ορίζουσα <br><br>\n",
    "\n",
    "$$ {\\mathrm{Res}}(f,g) = \\det \n",
    "   \\left(\\begin{array}{cccccccc} \n",
    "   a_m   & a_{m-1} & \\cdots  & a_0    & 0      & 0       & \\ldots & 0    \\\\\n",
    "   0     & a_{m}   & a_{m-1} & \\cdots & a_0    & 0       & \\ldots & 0    \\\\\n",
    "   0     & 0       & \\ddots  & \\ddots & \\cdots & \\vdots  & \\vdots & 0    \\\\\n",
    "   0     & 0       & \\cdots  & 0      & a_m    & a_{m-1} & \\ldots & a_0  \\\\\n",
    "   b_n   & b_{n-1} & \\cdots  & b_0    & 0      & 0       & \\ldots & 0    \\\\\n",
    "   0     & b_{n}   & b_{n-1} & \\cdots & b_0    & 0       & \\ldots & 0    \\\\\n",
    "   0     & 0       & \\ddots  & \\ddots & \\cdots & \\vdots  & \\vdots & 0    \\\\\n",
    "   0     & 0       & \\cdots  & 0      & b_n    & b_{n-1} & \\cdots & b_0  \\\\\n",
    "\\end{array} \\right)$$<br>\n",
    "Οι πρώτες $n$-γραμμές αφορούν τους συντελεστές $a_i$, και οι τελευταίες $m$-γραμμές αφορούν τα $b_i$. Καλείται ορισμένες φορές και ως απαλείφουσα του Sylvester. <br>\n",
    "Για παράδειγμα, στο Sage η απαλείφουσα των πολυωνύμων <br><br>\n",
    "$$ f(x) = a\\,x^2 + b\\,x+c\\,,\\qquad g(x)=d\\,x+e\\,, $$<br>\n",
    "υπολογίζεται από την ορίζουσα του παραπάνω πίνακα Sylvester, ο οποίος παράγεται χρησιμοποιώντας την Singular για να δηλώσουμε ένα δακτύλιο πολυωνύμων\n",
    "και με την εντολή <code>.sylvester_matrix()</code>. Συγκεκριμένα,\n",
    "</p>"
   ]
  },
  {
   "cell_type": "code",
   "execution_count": 85,
   "metadata": {
    "collapsed": false
   },
   "outputs": [
    {
     "name": "stdout",
     "output_type": "stream",
     "text": [
      "Multivariate Polynomial Ring in x, a, b, c, d, e over Rational Field\n",
      "<type 'sage.rings.polynomial.multi_polynomial_libsingular.MPolynomial_libsingular'> <type 'sage.rings.polynomial.multi_polynomial_libsingular.MPolynomial_libsingular'>\n"
     ]
    }
   ],
   "source": [
    "PR.<x,a,b,c,d,e> = PolynomialRing(QQ)\n",
    "print PR\n",
    "f = a*x^2 + b*x  + c\n",
    "g = d*x + e\n",
    "print type(f), type(g)"
   ]
  },
  {
   "cell_type": "markdown",
   "metadata": {},
   "source": [
    "<p> <font style=\"font-family:Dejavu Serif;FONT-SIZE:15px;LINE-HEIGHT:25px;\"> \n",
    "Παρατηρούμε ότι και τα δυο πολυώνυμα $f$ και $g$ έχουν τύπο <code>MPolynomial_libsingular</code>. \n",
    "</p>"
   ]
  },
  {
   "cell_type": "code",
   "execution_count": 86,
   "metadata": {
    "collapsed": false
   },
   "outputs": [
    {
     "name": "stdout",
     "output_type": "stream",
     "text": [
      "[a b c]\n",
      "[d e 0]\n",
      "[0 d e]\n",
      "c*d^2 - b*d*e + a*e^2\n"
     ]
    }
   ],
   "source": [
    "Res_x = f.sylvester_matrix(g, x)\n",
    "print Res_x\n",
    "print Res_x.det()"
   ]
  },
  {
   "cell_type": "markdown",
   "metadata": {},
   "source": [
    "<p> <font style=\"font-family:Dejavu Serif;FONT-SIZE:15px;LINE-HEIGHT:25px;\"> \n",
    "Τα βασικά θεωρήματα σχετικά για την απαλείφουσα είναι:\n",
    "<ul> \n",
    "<li>\n",
    "Δυο μη-σταθερά πολυώνυμα $f,g$ έχουν έναν κοινό παράγοντα αν και μόνο αν ${\\mathrm{Res}}(f,g)=0$.  </li> <br>\n",
    "<li> Η απαλείφουσα ${\\mathrm{Res}}(f,g)$ είναι ανάγωγο πολυώνυμο στον δακτύλιο $k[a_0,\\ldots,a_m,b_0,\\ldots,b_n]$ των πολυωνυμικών εκφράσεων στα $a_i,b_i$, όταν αυτά θεωρηθούν ως ανεξάρτητες μεταβλητές. <br><br> Για παράδειγμα, όπως διαπιστώσαμε πιο πάνω η απαλείφουσα των πολυωνύμων $ f(x) = a\\,x^2 + b\\,x+c$, και $g(x)=d\\,x+e\\,, $ είναι $a\\,e^2 - b\\,d\\,e + c\\,d^2 $. Το τελευταίο είναι ένα πολυώνυμο πέντε μεταβλητών στον δακτύλιο $k[a,b,c,d,e]$, με συντελεστές σε οποιοδήποτε σώμα $K$. Αυτό που λέει το θεώρημα είναι ότι το πολυώνυμο $a\\,e^2 - b\\,d\\,e + c\\,d^2 $ είναι ανάγωγο στο $Κ$ (επομένως και στο $k[a,b,c,d,e]$).  </li> <br>\n",
    "<li> Αν $I=< f,g >\\subset k[x,a_0,\\ldots,a_m,b_0,\\ldots,b_n]$ είναι το ιδεώδες που παράγεται από τα πολυώνυμα $f,g$ τότε \n",
    "$I\\cap  k[x,a_0,\\ldots,a_m,b_0,\\ldots,b_n] = < {\\mathrm{Res}}(f,g) >.$ ( Ισχύει παρόμοια παρατήρηση όπως πιο πάνω.)\n",
    "</ul> <br>\n",
    "Ας δούμε πως μπορούμε να επιλύσουμε ένα σύστημα πολυωνυμικών εξισώσεων με το Sage στην πράξη. \n",
    "Θεωρούμε τα εξής πολυώνυμα σε δυο μεταβλητές $x,y$: <br><br>\n",
    "$$p(x,y) = x^2 + y^2  - 5 \\,, \\qquad q(x,y) = x^2 - y^2  - 3 \\,.$$ <br>\n",
    "Θέλουμε να βρούμε τις λύσεις του συστήματος πολυωνυμικών εξισώσεων $p(x,y)=0$, $q(x,y)=0$. \n",
    "Θα απαλείψουμε την μεταβλητή $x$ από το πολυώνυμο p, ως προς το πολυώνυμο q, ή ισοδύναμα θα απαλείψουμε την μεταβλητή $x$ από το πολυώνυμο q, ως προς το πολυώνυμο p.\n",
    "</p>"
   ]
  },
  {
   "cell_type": "code",
   "execution_count": 87,
   "metadata": {
    "collapsed": false
   },
   "outputs": [
    {
     "name": "stdout",
     "output_type": "stream",
     "text": [
      "Multivariate Polynomial Ring in x, y, w over Rational Field\n",
      "<type 'sage.rings.polynomial.multi_polynomial_libsingular.MPolynomial_libsingular'> <type 'sage.rings.polynomial.multi_polynomial_libsingular.MPolynomial_libsingular'>\n"
     ]
    }
   ],
   "source": [
    "PR.<x,y,w> = PolynomialRing(QQ)\n",
    "print PR\n",
    "p = x^2 + y^2  - 5\n",
    "q = x^2 - y^2  - 3\n",
    "print type(p), type(q)"
   ]
  },
  {
   "cell_type": "code",
   "execution_count": 88,
   "metadata": {
    "collapsed": false
   },
   "outputs": [
    {
     "name": "stdout",
     "output_type": "stream",
     "text": [
      "4*y^4 - 8*y^2 + 4\n",
      "(4) * (y - 1)^2 * (y + 1)^2\n"
     ]
    }
   ],
   "source": [
    "print p.resultant(q,x)\n",
    "print q.resultant(p,x).factor()"
   ]
  },
  {
   "cell_type": "markdown",
   "metadata": {},
   "source": [
    "<p> <font style=\"font-family:Dejavu Serif;FONT-SIZE:15px;LINE-HEIGHT:25px;\"> \n",
    "Ο μηδενισμός της απαλείφουσας σημαίνει ότι θα πρέπει $y=1$ ή $y=-1$. Θέτουμε τις τιμές αυτές στο $p$ (ή ισοδύναμα στο $q$) και λύνουμε το πολυώνυμο που προκύπτει, πλέον ως προς μία μεταβλητή την $x$.\n",
    "</p>"
   ]
  },
  {
   "cell_type": "code",
   "execution_count": 89,
   "metadata": {
    "collapsed": false
   },
   "outputs": [
    {
     "name": "stdout",
     "output_type": "stream",
     "text": [
      "x^2 - 4\n",
      "[(-2.00000000000000, 1), (2.00000000000000, 1)]\n"
     ]
    }
   ],
   "source": [
    "R = QQ[x]\n",
    "p1 = R(p(y=1)); print p1; \n",
    "print p1.roots(ring=CC)"
   ]
  },
  {
   "cell_type": "code",
   "execution_count": 90,
   "metadata": {
    "collapsed": false
   },
   "outputs": [
    {
     "name": "stdout",
     "output_type": "stream",
     "text": [
      "x^2 - 4\n",
      "[(-2.00000000000000, 1), (2.00000000000000, 1)]\n"
     ]
    }
   ],
   "source": [
    "R = QQ[x]\n",
    "p_red = R(p(y=-1)); print p_red; \n",
    "print p_red.roots(ring=CC)"
   ]
  },
  {
   "cell_type": "markdown",
   "metadata": {},
   "source": [
    "<p> <font style=\"font-family:Dejavu Serif;FONT-SIZE:15px;LINE-HEIGHT:25px;\"> \n",
    "Από τα παραπάνω συμπεραίνουμε ότι οι λύσεις του συστήματος πολυωνυμικών εξισώσεων $p(x,y)=0$, $q(x,y)=0$, είναι οι εξής: \n",
    "$$ (-2,1)\\,,\\quad (2,1)\\,\\quad (-2,-1)\\,,\\quad (2,-1)\\,.$$\n",
    "</p>"
   ]
  },
  {
   "cell_type": "markdown",
   "metadata": {},
   "source": [
    "<p> <font style=\"font-family:Dejavu Serif;FONT-SIZE:15px;LINE-HEIGHT:25px;\"> \n",
    "Χρησιμοποιώντας με παρόμοιο τρόπο την απαλείφουσα σε συστήματα πολυωνυμικών εξισώσεων με περισσότερες μεταβλητές μπορούμε να απαλείφουμε διαδοχικά μεταβλητές, με στόχο να πάρουμε μια εξίσωση μιας μεταβλητής και αφού λύσουμε την τελευταία να επιλύσουμε ως προς τις υπόλοιπες μεταβλητές με την ίδια διαδικασία. \n",
    "</p>"
   ]
  },
  {
   "cell_type": "markdown",
   "metadata": {
    "collapsed": true
   },
   "source": [
    "## 6.4 Επίλυση ανισώσεων - Βελτιστοποίηση"
   ]
  },
  {
   "cell_type": "markdown",
   "metadata": {},
   "source": [
    "### 6.4.1 Συμβολική και αριθμητική επίλυση ανισώσεων - Γραμμικός προγραμματισμός"
   ]
  },
  {
   "cell_type": "markdown",
   "metadata": {},
   "source": [
    "<p> <font style=\"font-family:Dejavu Serif;FONT-SIZE:15px;LINE-HEIGHT:25px;\"> \n",
    "Το Sage μπορεί να λύσει συμβολικά μέσω του Maxima και συστήματα ανισώσεων. Για παράδειγμα\n",
    "</p>"
   ]
  },
  {
   "cell_type": "code",
   "execution_count": 91,
   "metadata": {
    "collapsed": false
   },
   "outputs": [
    {
     "name": "stdout",
     "output_type": "stream",
     "text": [
      "[[x < -1/2*sqrt(21) + 1/2], [x > 1/2*sqrt(21) + 1/2]]\n"
     ]
    }
   ],
   "source": [
    "var('x y')\n",
    "print solve_ineq( x^2 - x > 5)"
   ]
  },
  {
   "cell_type": "code",
   "execution_count": 92,
   "metadata": {
    "collapsed": false
   },
   "outputs": [
    {
     "name": "stdout",
     "output_type": "stream",
     "text": [
      "[[x < y, y < -x + 3, x < (3/2)]]\n"
     ]
    }
   ],
   "source": [
    "print solve_ineq([x-y<0,x+y-3<0],[y,x])"
   ]
  },
  {
   "cell_type": "code",
   "execution_count": 93,
   "metadata": {
    "collapsed": false
   },
   "outputs": [
    {
     "name": "stdout",
     "output_type": "stream",
     "text": [
      "[[x < min(-y + 3, y)]]\n"
     ]
    }
   ],
   "source": [
    "print solve_ineq([x-y<0,x+y-3<0],[x,y])"
   ]
  },
  {
   "cell_type": "markdown",
   "metadata": {},
   "source": [
    "<p> <font style=\"font-family:Dejavu Serif;FONT-SIZE:15px;LINE-HEIGHT:25px;\"> \n",
    "Όταν δεν εφικτό να έχουμε αποτέλεσμα σε συμβολική μορφή, το Sage θα προσπαθήσει να επιλύσει την ανίσωση αριθμητικά.\n",
    "</p>"
   ]
  },
  {
   "cell_type": "code",
   "execution_count": 94,
   "metadata": {
    "collapsed": false
   },
   "outputs": [
    {
     "name": "stdout",
     "output_type": "stream",
     "text": [
      "[[x >= -1.422332282755516]]\n"
     ]
    }
   ],
   "source": [
    "print solve_ineq(-20 * x - 30 <= 4 * x^3 - 7 * x, x)"
   ]
  },
  {
   "cell_type": "markdown",
   "metadata": {},
   "source": [
    "<p> <font style=\"font-family:Dejavu Serif;FONT-SIZE:15px;LINE-HEIGHT:25px;\"> \n",
    "Οι μέθοδοι βελτιστοποίησης μιας συνάρτησης έχουν πολύ ενδιαφέρουσες εφαρμογές σε προβλήματα των μαθηματικών και της μηχανικής όπου χρησιμοποιούνται στην προσαρμογή της συνάρτησης σε δοσμένα σύνολα και στην εύρεση της βέλτιστης (μέγιστης/ελάχιστης) τιμής της ως προς τις σχεδιαστικές παραμέτρους. Γενικά η βελτιστοποίηση μη-γραμμικών προβλημάτων είναι αρκετά δύσκολο πρόβλημα. Ας δούμε πως μπορούμε να επιλύσουμε με την βοήθεια του Sage ένα απλό βαθμωτό γραμμικό πρόβλημα βελτιστοποίησης όπου οι παράμετροι παίρνουν τιμές στους πραγματικούς αριθμούς.<br>\n",
    "Πιο συγκεκριμένα θέλουμε να βρούμε την λύση του ακόλουθου προβλήματος:\n",
    "</p>"
   ]
  },
  {
   "cell_type": "markdown",
   "metadata": {},
   "source": [
    "<p> <font style=\"font-family:Dejavu Serif;FONT-SIZE:15px;LINE-HEIGHT:25px;\"> \n",
    "Να βρεθεί το \n",
    "$$ \\max \\,(x+5\\,y)$$\n",
    "με τον περιορισμό ότι \n",
    "$$  \n",
    "\\begin{cases} x + 0.2 \\, y & \\leq 4 \\,,\\\\\n",
    "                  1.5 \\, x+3\\,y & \\leq 4 \\,.\n",
    " \\end{cases} $$ <br>\n",
    "όπου $x$, $y$ είναι πραγματικοί θετικοί αριθμοί. Στο Sage το πρόβλημα αυτό επιλύεται ως εξής:\n",
    "</p>"
   ]
  },
  {
   "cell_type": "code",
   "execution_count": 95,
   "metadata": {
    "collapsed": false
   },
   "outputs": [
    {
     "name": "stdout",
     "output_type": "stream",
     "text": [
      "6.66666666667\n"
     ]
    }
   ],
   "source": [
    "p = MixedIntegerLinearProgram(maximization=True)\n",
    "x = p.new_variable(nonnegative=True)\n",
    "p.set_objective(x[1] + 5*x[2])\n",
    "p.add_constraint(x[1] + 0.2*x[2], max=4)\n",
    "p.add_constraint(1.5*x[1] + 3*x[2], max=4)\n",
    "print p.solve()"
   ]
  },
  {
   "cell_type": "markdown",
   "metadata": {},
   "source": [
    "<p> <font style=\"font-family:Dejavu Serif;FONT-SIZE:15px;LINE-HEIGHT:25px;\"> \n",
    "από όπου συμπεραίνουμε ότι η μέγιστη τιμή που ψάχνουμε είναι 6.66666666667. Για να δούμε με περισσότερες λεπτομέρειες πως το Sage μπορεί να μας βοηθήσει να επιλύσουμε ένα πρόβλημα γραμμικού προγραμματισμού. Πρώτα απ' όλα μπορεί να μας δώσει μια γραφική αναπαράσταση της λύσης που ψάχνουμε. \n",
    "</p>"
   ]
  },
  {
   "cell_type": "code",
   "execution_count": 96,
   "metadata": {
    "collapsed": false
   },
   "outputs": [
    {
     "data": {
      "image/png": "[encoded data removed]",
      "text/plain": [
       "Graphics object consisting of 16 graphics primitives"
      ]
     },
     "metadata": {},
     "output_type": "display_data"
    }
   ],
   "source": [
    "A = ([1, 0.2], [1.5, 3])\n",
    "b = (4, 4)\n",
    "c = (1, 5)\n",
    "P = InteractiveLPProblem(A, b, c, [\"x1\", \"x2\"], problem_type=\"max\", \\\n",
    "        constraint_type=\"<=\", variable_type=\">=\")\n",
    "pp = P.plot(); pp.show(figsize=6)"
   ]
  },
  {
   "cell_type": "markdown",
   "metadata": {},
   "source": [
    "<p> <font style=\"font-family:Dejavu Serif;FONT-SIZE:15px;LINE-HEIGHT:25px;\"> \n",
    "Το Sage χώρισε το επίπεδο σε περιοχές ανάλογα με τις ανισότητες των περιορισμών του προβλήματος, οι οποίες συναληθεύουν στην τριγωνική περιοχή που συμβολίζει με $F$. Επιπλέον σχεδίασε ευθείες  παράλληλες (διακεκομμένες) με κλίση $-1/5$, όπου πάνω στις ευθείες αυτές η τιμή της συνάρτησης $x+5\\,y$  που θέλουμε να μεγιστοποιήσουμε παραμένουν σταθερές και ίσες με $c$, $x+5\\,y=c$. <br> Όσο απομακρυνόμαστε από την αρχή των αξόνων προς τα πάνω οι τιμές της $c$ μεγαλώνουν, οπότε το  σημείο τομής των ευθειών $x+5\\,y=c$ (ευθεία με έντονο μαύρο) με τις ευθείες $1.5\\,x+3\\,y=4$ (ευθεία με πράσινο), και $x=0$ (ευθεία με τυρκουάζ), είναι το ζητούμενο σημείο στο οποίο η $x+5\\,y$ παίρνει μέγιστη στην περιοχή $F$. Πραγματικά, από το σχήμα που μας έδωσε το Sage μπορούμε αμέσως να βρούμε ακριβώς το σημείο τομής και την μέγιστη τιμή που ψάχνουμε\n",
    "</p>"
   ]
  },
  {
   "cell_type": "code",
   "execution_count": 97,
   "metadata": {
    "collapsed": false
   },
   "outputs": [
    {
     "name": "stdout",
     "output_type": "stream",
     "text": [
      "[{y: 4/3, x: 0, c: 20/3}]\n"
     ]
    }
   ],
   "source": [
    "var('x y c')\n",
    "sol = solve([x+5*y==c,1.5*x+3*y==4,x==0],x,y,c,solution_dict=True); print sol"
   ]
  },
  {
   "cell_type": "code",
   "execution_count": 98,
   "metadata": {
    "collapsed": false
   },
   "outputs": [
    {
     "name": "stdout",
     "output_type": "stream",
     "text": [
      "6.66666666666667\n"
     ]
    }
   ],
   "source": [
    "print sol[0][c].n()"
   ]
  },
  {
   "cell_type": "markdown",
   "metadata": {},
   "source": [
    "<p> <font style=\"font-family:Dejavu Serif;FONT-SIZE:15px;LINE-HEIGHT:25px;\"> \n",
    "Η μέγιστη τιμή της συνάρτησης $x+5\\,y$ είναι $c=20/3$, στο σημείο $(x,y)=(0,4/3)$. Το Sage μπορεί να επιλύσει το πρόβλημα αριθμητικά χρησιμοποιώντας την μέθοδο simplex το οποίο είναι πολύ χρήσιμο όταν έχουμε να αντιμετωπίσουμε γραμμικά προβλήματα πολλών μεταβλητών. Με την παρακάτω εντολή μπορούμε να δούμε το αποτέλεσμα κάθε βήματος της μεθόδου simplex στην μορφή κειμένου και εξισώσεων $\\mathrm{\\LaTeX}$\n",
    "</p>"
   ]
  },
  {
   "cell_type": "code",
   "execution_count": 99,
   "metadata": {
    "collapsed": false
   },
   "outputs": [
    {
     "data": {
      "text/html": [
       "\\begin{equation*}\n",
       "\\renewcommand{\\arraystretch}{1.5} %notruncate\n",
       "\\begin{array}{|rcrcrcr|}\n",
       "\\hline\n",
       "x_{3} \\mspace{-6mu}&\\mspace{-6mu} = \\mspace{-6mu}&\\mspace{-6mu} 4.00000000000000 \\mspace{-6mu}&\\mspace{-6mu} - \\mspace{-6mu}&\\color{green}\\mspace{-6mu} x_{1} \\mspace{-6mu}&\\mspace{-6mu} - \\mspace{-6mu}&\\mspace{-6mu} 0.200000000000000 x_{2}\\\\\n",
       "\\color{red}x_{4} \\mspace{-6mu}&\\color{red}\\mspace{-6mu} = \\mspace{-6mu}&\\color{red}\\mspace{-6mu} 4.00000000000000 \\mspace{-6mu}&\\color{red}\\mspace{-6mu} - \\mspace{-6mu}&\\color{blue}\\mspace{-6mu} 1.50000000000000 x_{1} \\mspace{-6mu}&\\color{red}\\mspace{-6mu} - \\mspace{-6mu}&\\color{red}\\mspace{-6mu} 3.00000000000000 x_{2}\\\\\n",
       "\\hline\n",
       "z \\mspace{-6mu}&\\mspace{-6mu} = \\mspace{-6mu}&\\mspace{-6mu} 0 \\mspace{-6mu}&\\mspace{-6mu} + \\mspace{-6mu}&\\color{green}\\mspace{-6mu} x_{1} \\mspace{-6mu}&\\mspace{-6mu} + \\mspace{-6mu}&\\mspace{-6mu} 5.00000000000000 x_{2}\\\\\n",
       "\\hline\n",
       "\\end{array}\n",
       "\\end{equation*}\n",
       "Entering: $x_{1}$. Leaving: $x_{4}$. \n",
       "\\begin{equation*}\n",
       "\\renewcommand{\\arraystretch}{1.5} %notruncate\n",
       "\\begin{array}{|rcrcrcr|}\n",
       "\\hline\n",
       "x_{3} \\mspace{-6mu}&\\mspace{-6mu} = \\mspace{-6mu}&\\mspace{-6mu} 1.33333333333333 \\mspace{-6mu}&\\mspace{-6mu} + \\mspace{-6mu}&\\mspace{-6mu} 0.666666666666667 x_{4} \\mspace{-6mu}&\\mspace{-6mu} + \\mspace{-6mu}&\\color{green}\\mspace{-6mu} 1.80000000000000 x_{2}\\\\\n",
       "\\color{red}x_{1} \\mspace{-6mu}&\\color{red}\\mspace{-6mu} = \\mspace{-6mu}&\\color{red}\\mspace{-6mu} 2.66666666666667 \\mspace{-6mu}&\\color{red}\\mspace{-6mu} - \\mspace{-6mu}&\\color{red}\\mspace{-6mu} 0.666666666666667 x_{4} \\mspace{-6mu}&\\color{red}\\mspace{-6mu} - \\mspace{-6mu}&\\color{blue}\\mspace{-6mu} 2.00000000000000 x_{2}\\\\\n",
       "\\hline\n",
       "z \\mspace{-6mu}&\\mspace{-6mu} = \\mspace{-6mu}&\\mspace{-6mu} 2.66666666666667 \\mspace{-6mu}&\\mspace{-6mu} - \\mspace{-6mu}&\\mspace{-6mu} 0.666666666666667 x_{4} \\mspace{-6mu}&\\mspace{-6mu} + \\mspace{-6mu}&\\color{green}\\mspace{-6mu} 3.00000000000000 x_{2}\\\\\n",
       "\\hline\n",
       "\\end{array}\n",
       "\\end{equation*}\n",
       "Entering: $x_{2}$. Leaving: $x_{1}$. \n",
       "\\begin{equation*}\n",
       "\\renewcommand{\\arraystretch}{1.5} %notruncate\n",
       "\\begin{array}{|rcrcrcr|}\n",
       "\\hline\n",
       "x_{3} \\mspace{-6mu}&\\mspace{-6mu} = \\mspace{-6mu}&\\mspace{-6mu} 3.73333333333333 \\mspace{-6mu}&\\mspace{-6mu} + \\mspace{-6mu}&\\mspace{-6mu} 0.0666666666666667 x_{4} \\mspace{-6mu}&\\mspace{-6mu} - \\mspace{-6mu}&\\mspace{-6mu} 0.900000000000000 x_{1}\\\\\n",
       "x_{2} \\mspace{-6mu}&\\mspace{-6mu} = \\mspace{-6mu}&\\mspace{-6mu} 1.33333333333333 \\mspace{-6mu}&\\mspace{-6mu} - \\mspace{-6mu}&\\mspace{-6mu} 0.333333333333333 x_{4} \\mspace{-6mu}&\\mspace{-6mu} - \\mspace{-6mu}&\\mspace{-6mu} 0.500000000000000 x_{1}\\\\\n",
       "\\hline\n",
       "z \\mspace{-6mu}&\\mspace{-6mu} = \\mspace{-6mu}&\\mspace{-6mu} 6.66666666666667 \\mspace{-6mu}&\\mspace{-6mu} - \\mspace{-6mu}&\\mspace{-6mu} 1.66666666666667 x_{4} \\mspace{-6mu}&\\mspace{-6mu} - \\mspace{-6mu}&\\mspace{-6mu} 1.50000000000000 x_{1}\\\\\n",
       "\\hline\n",
       "\\end{array}\n",
       "\\end{equation*}\n",
       "The optimal value: $6.66666666666667$. An optimal solution: $\\left(0.000000000000000,\\,1.33333333333333\\right)$."
      ],
      "text/plain": [
       "\\begin{equation*}\n",
       "\\renewcommand{\\arraystretch}{1.5} %notruncate\n",
       "\\begin{array}{|rcrcrcr|}\n",
       "\\hline\n",
       "x_{3} \\mspace{-6mu}&\\mspace{-6mu} = \\mspace{-6mu}&\\mspace{-6mu} 4.00000000000000 \\mspace{-6mu}&\\mspace{-6mu} - \\mspace{-6mu}&\\color{green}\\mspace{-6mu} x_{1} \\mspace{-6mu}&\\mspace{-6mu} - \\mspace{-6mu}&\\mspace{-6mu} 0.200000000000000 x_{2}\\\\\n",
       "\\color{red}x_{4} \\mspace{-6mu}&\\color{red}\\mspace{-6mu} = \\mspace{-6mu}&\\color{red}\\mspace{-6mu} 4.00000000000000 \\mspace{-6mu}&\\color{red}\\mspace{-6mu} - \\mspace{-6mu}&\\color{blue}\\mspace{-6mu} 1.50000000000000 x_{1} \\mspace{-6mu}&\\color{red}\\mspace{-6mu} - \\mspace{-6mu}&\\color{red}\\mspace{-6mu} 3.00000000000000 x_{2}\\\\\n",
       "\\hline\n",
       "z \\mspace{-6mu}&\\mspace{-6mu} = \\mspace{-6mu}&\\mspace{-6mu} 0 \\mspace{-6mu}&\\mspace{-6mu} + \\mspace{-6mu}&\\color{green}\\mspace{-6mu} x_{1} \\mspace{-6mu}&\\mspace{-6mu} + \\mspace{-6mu}&\\mspace{-6mu} 5.00000000000000 x_{2}\\\\\n",
       "\\hline\n",
       "\\end{array}\n",
       "\\end{equation*}\n",
       "Entering: $x_{1}$. Leaving: $x_{4}$. \n",
       "\\begin{equation*}\n",
       "\\renewcommand{\\arraystretch}{1.5} %notruncate\n",
       "\\begin{array}{|rcrcrcr|}\n",
       "\\hline\n",
       "x_{3} \\mspace{-6mu}&\\mspace{-6mu} = \\mspace{-6mu}&\\mspace{-6mu} 1.33333333333333 \\mspace{-6mu}&\\mspace{-6mu} + \\mspace{-6mu}&\\mspace{-6mu} 0.666666666666667 x_{4} \\mspace{-6mu}&\\mspace{-6mu} + \\mspace{-6mu}&\\color{green}\\mspace{-6mu} 1.80000000000000 x_{2}\\\\\n",
       "\\color{red}x_{1} \\mspace{-6mu}&\\color{red}\\mspace{-6mu} = \\mspace{-6mu}&\\color{red}\\mspace{-6mu} 2.66666666666667 \\mspace{-6mu}&\\color{red}\\mspace{-6mu} - \\mspace{-6mu}&\\color{red}\\mspace{-6mu} 0.666666666666667 x_{4} \\mspace{-6mu}&\\color{red}\\mspace{-6mu} - \\mspace{-6mu}&\\color{blue}\\mspace{-6mu} 2.00000000000000 x_{2}\\\\\n",
       "\\hline\n",
       "z \\mspace{-6mu}&\\mspace{-6mu} = \\mspace{-6mu}&\\mspace{-6mu} 2.66666666666667 \\mspace{-6mu}&\\mspace{-6mu} - \\mspace{-6mu}&\\mspace{-6mu} 0.666666666666667 x_{4} \\mspace{-6mu}&\\mspace{-6mu} + \\mspace{-6mu}&\\color{green}\\mspace{-6mu} 3.00000000000000 x_{2}\\\\\n",
       "\\hline\n",
       "\\end{array}\n",
       "\\end{equation*}\n",
       "Entering: $x_{2}$. Leaving: $x_{1}$. \n",
       "\\begin{equation*}\n",
       "\\renewcommand{\\arraystretch}{1.5} %notruncate\n",
       "\\begin{array}{|rcrcrcr|}\n",
       "\\hline\n",
       "x_{3} \\mspace{-6mu}&\\mspace{-6mu} = \\mspace{-6mu}&\\mspace{-6mu} 3.73333333333333 \\mspace{-6mu}&\\mspace{-6mu} + \\mspace{-6mu}&\\mspace{-6mu} 0.0666666666666667 x_{4} \\mspace{-6mu}&\\mspace{-6mu} - \\mspace{-6mu}&\\mspace{-6mu} 0.900000000000000 x_{1}\\\\\n",
       "x_{2} \\mspace{-6mu}&\\mspace{-6mu} = \\mspace{-6mu}&\\mspace{-6mu} 1.33333333333333 \\mspace{-6mu}&\\mspace{-6mu} - \\mspace{-6mu}&\\mspace{-6mu} 0.333333333333333 x_{4} \\mspace{-6mu}&\\mspace{-6mu} - \\mspace{-6mu}&\\mspace{-6mu} 0.500000000000000 x_{1}\\\\\n",
       "\\hline\n",
       "z \\mspace{-6mu}&\\mspace{-6mu} = \\mspace{-6mu}&\\mspace{-6mu} 6.66666666666667 \\mspace{-6mu}&\\mspace{-6mu} - \\mspace{-6mu}&\\mspace{-6mu} 1.66666666666667 x_{4} \\mspace{-6mu}&\\mspace{-6mu} - \\mspace{-6mu}&\\mspace{-6mu} 1.50000000000000 x_{1}\\\\\n",
       "\\hline\n",
       "\\end{array}\n",
       "\\end{equation*}\n",
       "The optimal value: $6.66666666666667$. An optimal solution: $\\left(0.000000000000000,\\,1.33333333333333\\right)$."
      ]
     },
     "execution_count": 99,
     "metadata": {},
     "output_type": "execute_result"
    }
   ],
   "source": [
    "P = P.standard_form()\n",
    "P.run_simplex_method()"
   ]
  },
  {
   "cell_type": "markdown",
   "metadata": {},
   "source": [
    "### 6.4.2 Αδέσμευτα ακρότατα"
   ]
  },
  {
   "cell_type": "markdown",
   "metadata": {},
   "source": [
    "<p> <font style=\"font-family:Dejavu Serif;FONT-SIZE:15px;LINE-HEIGHT:25px;\"> \n",
    "Ολοκληρώνουμε το κεφάλαιο αυτό παρουσιάζοντας την επίλυση ενός προβλήματος εύρεσης των ακροτάτων μιας συνάρτησης δυο μεταβλητών, χρησιμοποιώντας το Sage, τόσο συμβολικά όσο και αριθμητικά. <nr><br>\n",
    "Θεωρούμε την συνάρτηση $f:\\mathbb{R}^2 \\rightarrow \\mathbb{R}$ με τύπο <br>\n",
    "$$ f(x,y) = (3+x-y^2)^2 + (x - 1)^2 + (y - 1)^2 \\,.$$ <br>\n",
    "Στο Sage ορίζουμε την συνάρτηση $f(x,y)$ και κάνουμε μια γραφική παράστασή της\n",
    "</p>"
   ]
  },
  {
   "cell_type": "code",
   "execution_count": 100,
   "metadata": {
    "collapsed": false
   },
   "outputs": [],
   "source": [
    "var('x,y')\n",
    "f(x,y) = (3+x-y^2)^2 + (x - 1)^2 + (y - 1)^2\n",
    "pf = plot3d(f(x,y), (x, -2, 3), (y, -2, 3), adaptive=True, rgbcolor=(1,0.7,0), opacity=0.5)"
   ]
  },
  {
   "cell_type": "markdown",
   "metadata": {},
   "source": [
    "<div class=\"imgContainer\">\n",
    "        <img src=\"Un.png\" height=\"450\" width=\"450\"/>\n",
    "            </div>"
   ]
  },
  {
   "cell_type": "markdown",
   "metadata": {},
   "source": [
    "<p> <font style=\"font-family:Dejavu Serif;FONT-SIZE:15px;LINE-HEIGHT:25px;\"> \n",
    "Για να βρούμε τα υποψήφια τοπικά ακρότατα της $f$ στο $\\mathbb{R}^2$ θα πρέπει να επιλύσουμε το σύστημα των εξισώσεων που προκύπτει από τον μηδενισμό της κλίσης $\\nabla f = (f_x,f_y)$. Έχουμε\n",
    "</p>"
   ]
  },
  {
   "cell_type": "code",
   "execution_count": 101,
   "metadata": {
    "collapsed": false
   },
   "outputs": [],
   "source": [
    "fx=f.diff(x); fy=f.diff(y);"
   ]
  },
  {
   "cell_type": "code",
   "execution_count": 102,
   "metadata": {
    "collapsed": false
   },
   "outputs": [
    {
     "name": "stdout",
     "output_type": "stream",
     "text": [
      "(x, y) |--> -2*y^2 + 4*x + 4\n",
      "(x, y) |--> 4*(y^2 - x - 3)*y + 2*y - 2\n"
     ]
    }
   ],
   "source": [
    "eq1 = fx==0;\n",
    "eq2 = fy==0;\n",
    "print fx; print fy"
   ]
  },
  {
   "cell_type": "code",
   "execution_count": 103,
   "metadata": {
    "collapsed": false
   },
   "outputs": [
    {
     "name": "stdout",
     "output_type": "stream",
     "text": [
      "[{y: -0.3472963564632165, x: -0.9396925502562081}, {y: -1.532088888888889, x: 0.1736481782316083}, {y: 1.879385232208487, x: 0.7660444444444444}]\n"
     ]
    }
   ],
   "source": [
    "akro = solve([eq1, eq2],x,y,solution_dict=true) ; print akro"
   ]
  },
  {
   "cell_type": "markdown",
   "metadata": {},
   "source": [
    "<p> <font style=\"font-family:Dejavu Serif;FONT-SIZE:15px;LINE-HEIGHT:25px;\"> \n",
    "Υπάρχουν τρία υποψήφια τοπικά ακρότατα. Για το πρώτο σημείο στην λίστα akro έχουμε ότι η Hessian στο σημείο είναι αρνητική\n",
    "</p>"
   ]
  },
  {
   "cell_type": "code",
   "execution_count": 104,
   "metadata": {
    "collapsed": false
   },
   "outputs": [],
   "source": [
    "D = det(f.diff().diff())"
   ]
  },
  {
   "cell_type": "code",
   "execution_count": 105,
   "metadata": {
    "collapsed": false
   },
   "outputs": [
    {
     "name": "stdout",
     "output_type": "stream",
     "text": [
      "-21.105246901096653\n"
     ]
    }
   ],
   "source": [
    "print D(x=akro[0][x],y=akro[0][y])"
   ]
  },
  {
   "cell_type": "markdown",
   "metadata": {},
   "source": [
    "<p> <font style=\"font-family:Dejavu Serif;FONT-SIZE:15px;LINE-HEIGHT:25px;\"> \n",
    "Άρα από γνωστό μας κριτήριο το σημείο αυτό δεν είναι ούτε μέγιστο ούτε ελάχιστο, είναι σαγματικό. Για το δεύτερο και τρίτο σημείο έχουμε ότι οι αντίστοιχες τιμές της Hessian και η δεύτερη παράγωγος $f_{xx}$ στα σημεία αυτά είναι\n",
    "</p>"
   ]
  },
  {
   "cell_type": "code",
   "execution_count": 106,
   "metadata": {
    "collapsed": false
   },
   "outputs": [
    {
     "name": "stdout",
     "output_type": "stream",
     "text": [
      "32.335112778911565\n"
     ]
    }
   ],
   "source": [
    "print D(x=akro[1][x],y=akro[1][y])"
   ]
  },
  {
   "cell_type": "code",
   "execution_count": 107,
   "metadata": {
    "collapsed": false
   },
   "outputs": [
    {
     "name": "stdout",
     "output_type": "stream",
     "text": [
      "4\n"
     ]
    }
   ],
   "source": [
    "print f.diff(x,2)(x=akro[1][x],y=akro[1][y])"
   ]
  },
  {
   "cell_type": "code",
   "execution_count": 108,
   "metadata": {
    "collapsed": false
   },
   "outputs": [
    {
     "name": "stdout",
     "output_type": "stream",
     "text": [
      "60.770132122276046\n"
     ]
    }
   ],
   "source": [
    "print D(x=akro[2][x],y=akro[2][y])"
   ]
  },
  {
   "cell_type": "code",
   "execution_count": 109,
   "metadata": {
    "collapsed": false
   },
   "outputs": [
    {
     "name": "stdout",
     "output_type": "stream",
     "text": [
      "4\n"
     ]
    }
   ],
   "source": [
    "print f.diff(x,2)(x=akro[2][x],y=akro[2][y])"
   ]
  },
  {
   "cell_type": "markdown",
   "metadata": {},
   "source": [
    "<p> <font style=\"font-family:Dejavu Serif;FONT-SIZE:15px;LINE-HEIGHT:25px;\"> \n",
    "Οπότε από το κριτήριο χαρακτηρισμού τοπικών ακροτάτων τα σημεία αυτά είναι τοπικά ελάχιστα. Απεικονίζουμε και τα τρία σημεία πάνω στην επιφάνεια για να έχουμε μια καλύτερη εποπτεία που ακριβώς βρίσκονται. Με κόκκινο χρώμα απεικονίζουμε το σαγματικό σημείο ενώ με μαύρο τα τοπικά ελάχιστα.\n",
    "</p>"
   ]
  },
  {
   "cell_type": "markdown",
   "metadata": {
    "collapsed": true
   },
   "source": [
    "<div class=\"imgContainer\">\n",
    "        <img src=\"minimy.png\" height=\"400\" width=\"400\"/>\n",
    "            </div>"
   ]
  },
  {
   "cell_type": "markdown",
   "metadata": {},
   "source": [
    "<p> <font style=\"font-family:Dejavu Serif;FONT-SIZE:15px;LINE-HEIGHT:25px;\"> \n",
    "Εναλλακτικά, μπορούμε να λύσουμε το σύστημα των εξισώσεων κατασκευάζοντας μια βάση <strong>Gröbner</strong>, ως εξής\n",
    "</p>"
   ]
  },
  {
   "cell_type": "code",
   "execution_count": 110,
   "metadata": {
    "collapsed": false
   },
   "outputs": [
    {
     "name": "stdout",
     "output_type": "stream",
     "text": [
      "Multivariate Polynomial Ring in x, y over Rational Field\n",
      "4*x - 2*y^2 + 4\n",
      "-4*x*y + 4*y^3 - 10*y - 2\n"
     ]
    }
   ],
   "source": [
    "PR.<x,y> = PolynomialRing(QQ, order='lex')\n",
    "print PR\n",
    "q1 = PR(eq1); q2 = PR(eq2);\n",
    "print q1; print q2;"
   ]
  },
  {
   "cell_type": "code",
   "execution_count": 111,
   "metadata": {
    "collapsed": false
   },
   "outputs": [
    {
     "name": "stdout",
     "output_type": "stream",
     "text": [
      "Ideal (4*x - 2*y^2 + 4, -4*x*y + 4*y^3 - 10*y - 2) of Multivariate Polynomial Ring in x, y over Rational Field\n"
     ]
    }
   ],
   "source": [
    "qs = [q1, q2]\n",
    "I = Ideal(qs)\n",
    "print I"
   ]
  },
  {
   "cell_type": "code",
   "execution_count": 112,
   "metadata": {
    "collapsed": false
   },
   "outputs": [
    {
     "name": "stdout",
     "output_type": "stream",
     "text": [
      "[x - 1/2*y^2 + 1, y^3 - 3*y - 1]\n"
     ]
    }
   ],
   "source": [
    "B = I.groebner_basis()\n",
    "print B"
   ]
  },
  {
   "cell_type": "code",
   "execution_count": 113,
   "metadata": {
    "collapsed": true
   },
   "outputs": [],
   "source": [
    "R = RealField(30*log(10,2))"
   ]
  },
  {
   "cell_type": "code",
   "execution_count": 114,
   "metadata": {
    "collapsed": false
   },
   "outputs": [
    {
     "name": "stdout",
     "output_type": "stream",
     "text": [
      "[{y: -1.5320888862379560704047853011, x: 0.17364817766693034885171662677}, {y: -0.34729635533386069770343325354, x: -0.93969262078590838405410927732}, {y: 1.8793852415718167681082185546, x: 0.76604444311897803520239265056}]\n"
     ]
    }
   ],
   "source": [
    "akroGroebner = I.variety(R); print akroGroebner"
   ]
  },
  {
   "cell_type": "markdown",
   "metadata": {},
   "source": [
    "<p> <font style=\"font-family:Dejavu Serif;FONT-SIZE:15px;LINE-HEIGHT:25px;\"> \n",
    "όπου χρησιμοποιήσαμε ένα σώμα πραγματικών με μεγάλη ακρίβεια. <br><br> Ας υποθέσουμε τώρα ότι δεν ήταν εφικτή η συμβολική επίλυση του συστήματος των εξισώσεων, όμως θέλαμε να έχουμε μια αριθμητική εκτίμηση των τοπικών ελαχίστων. Για τέτοιες περιπτώσεις το Sage μας παρέχει μέσω της εντολής <code>minimize</code> έναν αλγόριθμο που εκτελεί αριθμητική εύρεση των ελαχίστων της $f(x,y)$, όπου όμως θα πρέπει να το τροφοδοτήσουμε με μια αρχική εκτίμηση. Για το συγκεκριμένο παράδειγμα έχουμε\n",
    "</p>"
   ]
  },
  {
   "cell_type": "code",
   "execution_count": 115,
   "metadata": {
    "collapsed": false
   },
   "outputs": [
    {
     "name": "stdout",
     "output_type": "stream",
     "text": [
      "Optimization terminated successfully.\n",
      "         Current function value: 7.777189\n",
      "         Iterations: 8\n",
      "         Function evaluations: 10\n",
      "         Gradient evaluations: 10\n",
      "minimum at (0.17364806791014437, -1.5320886803733234) with value 7.777188796356398\n"
     ]
    }
   ],
   "source": [
    "p = minimize(f, x0=[-1, -1])\n",
    "print 'minimum at', p, 'with value', f(p[0], p[1])"
   ]
  },
  {
   "cell_type": "code",
   "execution_count": 116,
   "metadata": {
    "collapsed": false
   },
   "outputs": [
    {
     "name": "stdout",
     "output_type": "stream",
     "text": [
      "Optimization terminated successfully.\n",
      "         Current function value: 0.882789\n",
      "         Iterations: 6\n",
      "         Function evaluations: 10\n",
      "         Gradient evaluations: 10\n",
      "minimum at (0.7660444433518, 1.87938524199908) with value 0.8827888082853408\n"
     ]
    }
   ],
   "source": [
    "p = minimize(f, x0=[1, 1])\n",
    "print 'minimum at', p, 'with value', f(p[0], p[1])"
   ]
  },
  {
   "cell_type": "markdown",
   "metadata": {},
   "source": [
    "<p> <font style=\"font-family:Dejavu Serif;FONT-SIZE:15px;LINE-HEIGHT:25px;\"> \n",
    "Παρατηρούμε ότι οι αριθμητικές προσεγγίσεις των ελαχίστων συμφωνούν με τα ακριβή αποτελέσματα που πήραμε με την μέθοδο των βάσεων Gröbner στα πρώτα 6 έως 8 δεκαδικά ψηφία.\n",
    "</p>"
   ]
  }
 ],
 "metadata": {
  "kernelspec": {
   "display_name": "SageMath 7.5.1",
   "language": "",
   "name": "sagemath"
  },
  "language_info": {
   "codemirror_mode": {
    "name": "ipython",
    "version": 2
   },
   "file_extension": ".py",
   "mimetype": "text/x-python",
   "name": "python",
   "nbconvert_exporter": "python",
   "pygments_lexer": "ipython2",
   "version": "2.7.13"
  }
 },
 "nbformat": 4,
 "nbformat_minor": 0
}
